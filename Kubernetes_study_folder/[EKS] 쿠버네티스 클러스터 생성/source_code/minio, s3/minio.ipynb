{
 "cells": [
  {
   "cell_type": "code",
   "execution_count": null,
   "id": "1d99279f-90bf-4191-83d5-7e4b5ca15d06",
   "metadata": {},
   "outputs": [],
   "source": []
  },
  {
   "cell_type": "code",
   "execution_count": null,
   "id": "c08308cd-506a-42b0-a96b-8683f81bde04",
   "metadata": {},
   "outputs": [],
   "source": [
    "#!pip install minio"
   ]
  },
  {
   "cell_type": "code",
   "execution_count": null,
   "id": "7a4692a8-f5ba-432f-af7a-881416e3a588",
   "metadata": {},
   "outputs": [],
   "source": []
  },
  {
   "cell_type": "code",
   "execution_count": 6,
   "id": "7bae6ce6-e768-4776-bea5-ed4ef128c2b2",
   "metadata": {},
   "outputs": [],
   "source": [
    "from minio import Minio"
   ]
  },
  {
   "cell_type": "code",
   "execution_count": null,
   "id": "ecd82550-6d37-4b3f-8c9f-970cb485e52c",
   "metadata": {},
   "outputs": [],
   "source": []
  },
  {
   "cell_type": "code",
   "execution_count": null,
   "id": "84ad748e-8337-46e2-9d1e-9e262d30e6c6",
   "metadata": {},
   "outputs": [],
   "source": [
    "#https://www.bearpooh.com/133"
   ]
  },
  {
   "cell_type": "code",
   "execution_count": null,
   "id": "c0feeb4f-d5b1-4aa8-95d5-7a5bbaffe581",
   "metadata": {},
   "outputs": [],
   "source": []
  },
  {
   "cell_type": "code",
   "execution_count": null,
   "id": "135dab07-0ebc-4de5-b4dc-67cfe7237ee7",
   "metadata": {},
   "outputs": [],
   "source": []
  },
  {
   "cell_type": "code",
   "execution_count": 12,
   "id": "afc1c1e1-af1b-44dd-8455-04c3d07c30a0",
   "metadata": {},
   "outputs": [],
   "source": [
    "#그냥 스토리지 쓰는 법"
   ]
  },
  {
   "cell_type": "code",
   "execution_count": 7,
   "id": "025a5efe-0a70-41a6-a125-46d11b12e469",
   "metadata": {},
   "outputs": [],
   "source": [
    "from minio import Minio\n",
    "\n",
    "client = Minio(\n",
    "    \"10.1.1.59:9000\",\n",
    "    access_key=\"minioadmin\",\n",
    "    secret_key=\"minioadmin\",\n",
    "    secure=False\n",
    ")"
   ]
  },
  {
   "cell_type": "code",
   "execution_count": null,
   "id": "91721a88-31ca-40b9-b009-b5abac09b284",
   "metadata": {},
   "outputs": [],
   "source": []
  },
  {
   "cell_type": "code",
   "execution_count": 8,
   "id": "67382b84-1a1b-4d4a-9b0f-666cc2d49b1d",
   "metadata": {},
   "outputs": [],
   "source": [
    "client.make_bucket(\"minio-test-bucket\", object_lock=False)"
   ]
  },
  {
   "cell_type": "code",
   "execution_count": null,
   "id": "d55f3191-86a5-4b08-9de0-bb859943f66f",
   "metadata": {},
   "outputs": [],
   "source": []
  },
  {
   "cell_type": "code",
   "execution_count": 10,
   "id": "bc38f6a6-1e71-49ef-a838-b255a68f6289",
   "metadata": {},
   "outputs": [
    {
     "data": {
      "text/plain": [
       "<minio.helpers.ObjectWriteResult at 0x7f05bc343f40>"
      ]
     },
     "execution_count": 10,
     "metadata": {},
     "output_type": "execute_result"
    }
   ],
   "source": [
    "client.fput_object('minio-test-bucket', 'name_to_file_in_bucket.txt', './test.txt')"
   ]
  },
  {
   "cell_type": "code",
   "execution_count": 11,
   "id": "0db4e89c-15dd-40ab-b905-cc1d920af42f",
   "metadata": {},
   "outputs": [
    {
     "data": {
      "text/plain": [
       "<minio.datatypes.Object at 0x7f05bc60fa60>"
      ]
     },
     "execution_count": 11,
     "metadata": {},
     "output_type": "execute_result"
    }
   ],
   "source": [
    "client.fget_object('minio-test-bucket', 'name_to_file_in_bucket.txt', 'downloaded_file.txt')"
   ]
  },
  {
   "cell_type": "code",
   "execution_count": null,
   "id": "2c7f196b-5555-4826-9bab-c9f7baa63069",
   "metadata": {},
   "outputs": [],
   "source": []
  },
  {
   "cell_type": "code",
   "execution_count": null,
   "id": "353fa83b-6fb7-461d-8fb3-6fc8309beacc",
   "metadata": {},
   "outputs": [],
   "source": []
  },
  {
   "cell_type": "code",
   "execution_count": 1,
   "id": "102e31b6-c72d-46df-8d00-92476f2ad581",
   "metadata": {},
   "outputs": [],
   "source": [
    "from minio import Minio"
   ]
  },
  {
   "cell_type": "code",
   "execution_count": 2,
   "id": "b12f4c47-9d90-40e1-8522-bb4495d9a75e",
   "metadata": {},
   "outputs": [],
   "source": [
    "#계정정보가 없이(키) play.min.io 이런거만 대충 적혀있으면 익명접근(이건 설정 따로 해줘야 가능)\n",
    "#minio 클러스터에 데이터 저장할때는 ip,port가 적혀 있어야 한다 (쿠버네티스같은데에서는)\n",
    "client = Minio(\n",
    "    \"s3.amazonaws.com\",\n",
    "    access_key=\"ㅇㅎㄱㅎㅇㄱㅎㅇㄹ\",\n",
    "    secret_key=\"ㄹ23ㄹ435ㅠ\",\n",
    "    region=\"us-east-1\"\n",
    ")"
   ]
  },
  {
   "cell_type": "code",
   "execution_count": null,
   "id": "c3a21f47-b597-4320-acc0-446c5b017c4d",
   "metadata": {},
   "outputs": [],
   "source": []
  },
  {
   "cell_type": "code",
   "execution_count": 4,
   "id": "65d82762-a6c5-4807-a3ee-7bb859126eb9",
   "metadata": {
    "tags": []
   },
   "outputs": [],
   "source": [
    "#minio 안에 export AWS_ACCESS_KEY_ID, AWS_SECRET_ACCESS_KEY를 해줘야 하는듯?\n",
    "client.make_bucket(\"minio-test-bucket-2\", location='us-east-1', object_lock=False)"
   ]
  },
  {
   "cell_type": "code",
   "execution_count": null,
   "id": "b60b1c4a-05a4-48ea-9381-dd18906e5fc3",
   "metadata": {},
   "outputs": [],
   "source": []
  },
  {
   "cell_type": "code",
   "execution_count": null,
   "id": "1d0ba8f0-fff8-4e3b-b9f0-deaea23dbf74",
   "metadata": {},
   "outputs": [],
   "source": [
    "#이거 이렇게 쓰는건데, 그니까 pipeline에서는 env에다가 access key랑 secret key를 넣어두고\n",
    "\n",
    "#코드에서는 os.get_env를 써서 key, secret key를 가져와서 쓰게 끔 한다는 거야."
   ]
  },
  {
   "cell_type": "code",
   "execution_count": null,
   "id": "e7f6f8a6-7c95-4656-9d76-0076b0e618eb",
   "metadata": {},
   "outputs": [],
   "source": []
  },
  {
   "cell_type": "code",
   "execution_count": null,
   "id": "61e5f397-90a8-458c-a43b-8218e0ad7580",
   "metadata": {},
   "outputs": [],
   "source": []
  },
  {
   "cell_type": "code",
   "execution_count": null,
   "id": "e9ffe95d-fb58-4da1-b870-254dd9363e22",
   "metadata": {},
   "outputs": [],
   "source": []
  },
  {
   "cell_type": "code",
   "execution_count": null,
   "id": "4547736e-8874-4bb5-8355-9dbb8e786560",
   "metadata": {},
   "outputs": [],
   "source": []
  },
  {
   "cell_type": "code",
   "execution_count": null,
   "id": "a8046daf-4e08-42b3-a540-bc3ebae1fdc5",
   "metadata": {},
   "outputs": [],
   "source": []
  }
 ],
 "metadata": {
  "kernelspec": {
   "display_name": "Python 3 (ipykernel)",
   "language": "python",
   "name": "python3"
  },
  "language_info": {
   "codemirror_mode": {
    "name": "ipython",
    "version": 3
   },
   "file_extension": ".py",
   "mimetype": "text/x-python",
   "name": "python",
   "nbconvert_exporter": "python",
   "pygments_lexer": "ipython3",
   "version": "3.10.11"
  }
 },
 "nbformat": 4,
 "nbformat_minor": 5
}
