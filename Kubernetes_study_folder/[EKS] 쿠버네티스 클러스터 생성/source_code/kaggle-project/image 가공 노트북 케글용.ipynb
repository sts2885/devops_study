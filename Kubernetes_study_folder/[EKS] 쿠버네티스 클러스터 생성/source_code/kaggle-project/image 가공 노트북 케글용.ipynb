{
 "cells": [
  {
   "cell_type": "code",
   "execution_count": null,
   "id": "bf562720-1e00-48bd-b6c2-ac02a4f008b8",
   "metadata": {},
   "outputs": [],
   "source": []
  },
  {
   "cell_type": "code",
   "execution_count": null,
   "id": "7c118031-05a5-4d44-a70f-971a00d105ea",
   "metadata": {},
   "outputs": [],
   "source": []
  },
  {
   "cell_type": "markdown",
   "id": "abb750d5-4577-4614-b602-4022b1d20522",
   "metadata": {},
   "source": [
    "누가 설명한거 있나 code의 노트북들을 한번 보는게 좋겠어"
   ]
  },
  {
   "cell_type": "code",
   "execution_count": null,
   "id": "74bdce75-0026-4e1d-9e34-c7e68ca7e29c",
   "metadata": {},
   "outputs": [],
   "source": []
  },
  {
   "cell_type": "markdown",
   "id": "8ed74397-cb16-4d0a-a72f-cb240463e971",
   "metadata": {},
   "source": [
    "Educational Purpose\n",
    "- competition에서 model summit까지 마치신 분들이라면 다 아는 내용이겠지만,\n",
    "- 전에 Discussion에서 Large data를 어떻게 쓸 수 있나요? 라는 질문을 발견했기에,\n",
    "- This competition에 newbie 분들을 위한 education purpose의 내용을 담았습니다."
   ]
  },
  {
   "cell_type": "code",
   "execution_count": null,
   "id": "2cf5401a-7be3-4d9f-8fad-bd4b375f9462",
   "metadata": {},
   "outputs": [],
   "source": []
  },
  {
   "cell_type": "markdown",
   "id": "b4f4cbf8-1ddd-4696-931d-2f47bd7b3201",
   "metadata": {},
   "source": [
    "https://towardsdatascience.com/why-you-should-start-using-npy-file-more-often-df2a13cc0161\n",
    "\n",
    "와... 근데 npy read 스피드 미쳤네 이정도면 메모리랑 비슷한 속도 되는거 아니냐? ㄸ\n"
   ]
  },
  {
   "cell_type": "code",
   "execution_count": null,
   "id": "6701b0ae-d94e-435e-847f-261f1596575c",
   "metadata": {},
   "outputs": [],
   "source": [
    "제목 : Make 450GB dataset to nGB (for starter)"
   ]
  },
  {
   "cell_type": "code",
   "execution_count": null,
   "id": "0a305803-5ebd-4d58-ba41-a4e916216663",
   "metadata": {},
   "outputs": [],
   "source": []
  },
  {
   "cell_type": "code",
   "execution_count": null,
   "id": "4163e612-7cb1-4988-9b0e-1b49ef884bbd",
   "metadata": {},
   "outputs": [],
   "source": []
  },
  {
   "cell_type": "markdown",
   "id": "82483a04-43f7-4a57-9ecf-f748b5a89450",
   "metadata": {},
   "source": [
    "270 기가 한번에 받아야 됨...\n",
    "\n",
    "그래서 competition 취지 라고 적은건 날려 버리고 \n",
    "=> 그냥 내가 받아서 s3 올려서 가공하자\n",
    "\n",
    "그리고 공유한다고 올리면 되지 뭐\n",
    "\n",
    "전에 discussion에서 너무 큰 데이터셋을 어떻게 다뤄야 할지 고민하는 글을 보았습니다.\n",
    "\n",
    "npy => read 속도가 매우 빠름\n",
    "하지만 data size가 부담스러우신 분들은 차라리 jpg 파일이 더 좋으실 수 도 있을거라는 생각이 들어\n",
    "데이터를 image로 굳이 다시 변환해 공유하게 되었습니다.\n",
    "(여러 차례 학습을 하시고 많은 종류의 모델을 만들어보실 분들은 disk 사이즈를 많이 차지해도 npy를 쓰시는것을 추천드립니다.\n",
    "\n",
    "label이 달려있는 데이터만 모아 놓은 케이스 <= 간단한 supervised learning test를 위해\n",
    "\n",
    "데이터 가공 방식  \n",
    "cloud 상에서 kubeflow를 사용해 spark로 데이터 재가공"
   ]
  },
  {
   "cell_type": "code",
   "execution_count": null,
   "id": "51ab14e7-bd9e-421f-8282-e97a3889ac69",
   "metadata": {},
   "outputs": [],
   "source": []
  },
  {
   "cell_type": "markdown",
   "id": "20e86544-e94d-4989-aae1-a8d37124f43d",
   "metadata": {},
   "source": [
    "제목어그로 450GB 데이터를 XX달러로 XX시간 안에 가공하기  \n",
    "아키텍처 부터 클러스터링, 단위 데이터 테스트, performance monitoring까지"
   ]
  },
  {
   "cell_type": "code",
   "execution_count": null,
   "id": "4a2fad12-c848-40cc-aada-e8c96128e20b",
   "metadata": {},
   "outputs": [],
   "source": []
  },
  {
   "cell_type": "code",
   "execution_count": null,
   "id": "6b951c67-dea1-42c7-ba14-cd12cf4b09f6",
   "metadata": {},
   "outputs": [],
   "source": []
  },
  {
   "cell_type": "markdown",
   "id": "f9db7889-7284-40a2-b67a-a7cf49be9575",
   "metadata": {},
   "source": [
    "### 들어간 비용 xx달러\n",
    "- 이게 클라우드의 매력이라고 생각함.\n",
    "- 몇몇의 discussion에 High - perfomance Computer가 있어야만 competition에 참여할 수 있었냐는 질문들이 있었음.\n",
    "\n",
    "- 이 질문에 내가 생각하는 답은 아이디어를 충분히 잘 활용하면, 수백만원 어치의 CPU + memory + disk + GPU가 없어도, competition에 참여하는것이 불가능한 것은 아니라고 생각함.\n",
    "\n",
    "- 여기에 있어서 'at least' data preprocessing에서 만큼은, 클라우드의 scale out이 추가비용없는 high performance를 낼 수 있다는것임.\n",
    "\n",
    "- 왜냐하면 \"클라우드 위에서, 교환법칙이 성립하는 모든 연산에 대해, one computer를 1000시간 동작하는 것과 1000computer를 1시간 동작하는 것의 비용이 동일하기 때문에\"\n",
    "- 오로지 Data의 size만이 cost에 영향을 미치기 때문이다."
   ]
  },
  {
   "cell_type": "code",
   "execution_count": null,
   "id": "7c7919d4-3249-4828-8468-d2b1a8282c73",
   "metadata": {},
   "outputs": [],
   "source": []
  },
  {
   "cell_type": "code",
   "execution_count": null,
   "id": "31bed374-6ffa-4f3f-9361-ee3cb2726db7",
   "metadata": {},
   "outputs": [],
   "source": []
  },
  {
   "cell_type": "markdown",
   "id": "1ca37f70-220a-4a88-90c0-c2559676431a",
   "metadata": {},
   "source": [
    "\n",
    "\n",
    "케글에 올릴때,\n",
    "\n",
    "\n",
    "0. 가장 중요한 것을 가장 위에 올립니다.\n",
    "데이터를 최대 ~~GB까지 줄임. 데이터를 공유함.\n",
    "(어떤 형태인지, 어떻게 줄였는지는 아래 기술)\n",
    "\n",
    "1. competition의 취지로 보여지는 것\n",
    "=> 데이터를 살펴보면\n",
    "일반적인 사진 데이터는\n",
    "png, jpg등의 압축된 파일로 저장 됨.\n",
    "\n",
    "근데 데이터셋에는 numpy array를 저장한, npy포맷의 파일들로 구성이 되어 있음.\n",
    "\n",
    "이는 사진 보다 훨씬 스토리지 용량을 많이 차지하는 방식임. \n",
    "\n",
    "또한 npy파일은 (256,256) 사이즈의 사진이 8장 겹쳐 있는 형태로 (256,256,8)의 포맷을 형성하고 있음.\n",
    "\n",
    "그래서 아마도 처음부터 어떻게 하면 데이터를 효율적으로 가공해, 저장해서 쓸 것인가를 평가하기위해 일부러 정한 포맷인가 싶기도 함.\n",
    "\n",
    "2. 1의 전제를 두고 생각해봤을때, 데이터를 줄일수 있다고 한다면,\n",
    "1) 450GB 중 50GB를 다운로드\n",
    "2) 50GB를 충분히 작게 (예를 들어 5GB) 줄일 수 있다면\n",
    "3) 1)->2)를 반복하면 디스크 용량을 거의 사용하지 않고 데이터를 전부 저장할 수 있음.\n",
    "\n",
    "3. 그럼 데이터를 어떻게 가공해야 하는가? 2의 방법이 가능한가?\n",
    "competition을 몇 종류 참여해 본 사람은 당연히 알겠지만, 이미지는 jpg등의 이미지 파일로 저장하면 크기가 기하급수적으로 줄어들음 (image 파일은 압축을 거치기 때문)\n",
    "\n",
    "그러면 image 파일로 변경했을때 450GB 가 어느정도 사이즈로 줄어들지 한장의 이미지를 가지고 대략적인 계산을 할 수가 있습니다.\n",
    "(아래 계산)\n",
    "\n",
    "\n",
    "여기에서 멈추지 않습니다.\n",
    "cnn base의 image model을 만들어 본 적 있는 분들이라면 아시겠지만 256,256은 cnn에 넣기에 작은 사이즈의 이미지는 아닙니다. 더 질 좋은 데이터를 위해 computing resource를 사용할 의향이 있다면 몰라도 그게 아니라고 한다면 모델 성능의 일부를 trade off로 희생하고, 이미지 사이즈를 줄이는 것도 하나의 방법이 될 수 있습니다.\n",
    "\n",
    "아래는 각각\n",
    "256,256\n",
    "128,128\n",
    "64,64\n",
    "32,32\n",
    "의 규격으로 npy 파일로 저장했을때, image 파일로 저장했을때의 용량을 각각 표기해 보았습니다.\n",
    "\n",
    "4. 그래서 이 competition에서의 가장 이상적인 형태의 데이터 저장 방법은,\n",
    "\n",
    "450GB 이미지 중 일부를 나누어 받아 원하는 규격으로 데이터를 줄인후,\n",
    "나머지를 계속해서 다운로드 받는 것 이라고 할 수 있겠습니다.\n",
    "\n",
    "\n",
    "5. 그럼에도 불구하고,\n",
    "=> 처음부터 고성능 컴퓨팅 장비를 요구한게 아니라\n",
    "=> 데이터를 나눠서 가공하면서 동시에 저장하라는 의미로 낸 competition이겠지만,\n",
    "\n",
    "오히려 나는 그렇게 하지 않고 한번에 처리 했음.\n",
    "\n",
    "=> 왜냐면, \"교환법칙이 존재하는 모든 연산에 대해서 클라우드는, 데이터 양 == 시간일뿐, 리소스 == 비용이 아니라는 점을 보이기 위해서\" 클라우드 인스턴스의 scale out으로 \"합리적인 비용 안에서\" 최단시간에 가공이 되는 모습을 보이려고 함.\n",
    "\n",
    "\n",
    "동시에 여러 인스턴스가 돌아가면서 데이터를 처리한 것과,\n",
    "인스턴스 한개가 돌아가면서 처리한 결과의 \"클라우드 비용\"이 거의 동일하는 것을 보여\n",
    "\n",
    "\"같은 비용\"으로 몇 배 이상의 시간을 내는 클라우드의 모습을 보이는 것으로 이 설명을 마무리 하고자 합니다.\n",
    "(물론 사원의 입장에서 공짜로 쓸 수 있는 회사나 연구소의 온프레미스 장비와는 가격경쟁이 안되겠지만...)\n",
    "\n",
    "pipeline 올리고, 과정 올리고,\n",
    "\n",
    "실행영상정도 올리면 깔끔할듯\n",
    "\n"
   ]
  },
  {
   "cell_type": "code",
   "execution_count": null,
   "id": "d95f587d-8347-4ed2-b5b0-08ec1a3c4199",
   "metadata": {},
   "outputs": [],
   "source": []
  },
  {
   "cell_type": "code",
   "execution_count": 1,
   "id": "ae3a226e-86dd-4a23-bc76-023d846a42a1",
   "metadata": {},
   "outputs": [],
   "source": [
    "import numpy as np"
   ]
  },
  {
   "cell_type": "code",
   "execution_count": 2,
   "id": "e2c9a7f3-8513-4f12-99e9-5f2756cbef90",
   "metadata": {},
   "outputs": [],
   "source": [
    "data = np.load(\"band_09.npy\")"
   ]
  },
  {
   "cell_type": "code",
   "execution_count": 3,
   "id": "99b4eed0-14b2-4a9a-89b2-79550ca625b2",
   "metadata": {},
   "outputs": [
    {
     "data": {
      "text/plain": [
       "(256, 256, 8)"
      ]
     },
     "execution_count": 3,
     "metadata": {},
     "output_type": "execute_result"
    }
   ],
   "source": [
    "data.shape"
   ]
  },
  {
   "cell_type": "code",
   "execution_count": 4,
   "id": "0de5e94f-1086-4458-b0c9-e027eb4406f2",
   "metadata": {},
   "outputs": [
    {
     "data": {
      "text/plain": [
       "numpy.ndarray"
      ]
     },
     "execution_count": 4,
     "metadata": {},
     "output_type": "execute_result"
    }
   ],
   "source": [
    "type(data)"
   ]
  },
  {
   "cell_type": "code",
   "execution_count": 5,
   "id": "45302f21-d678-4171-8535-d60b6decb124",
   "metadata": {},
   "outputs": [
    {
     "data": {
      "text/plain": [
       "(256, 256)"
      ]
     },
     "execution_count": 5,
     "metadata": {},
     "output_type": "execute_result"
    }
   ],
   "source": [
    "data[:,:,0].shape"
   ]
  },
  {
   "cell_type": "code",
   "execution_count": null,
   "id": "6a1de148-bf36-43c0-b16f-90d07289e5cd",
   "metadata": {},
   "outputs": [],
   "source": []
  },
  {
   "cell_type": "code",
   "execution_count": 6,
   "id": "a1149e78-0ca0-4289-895c-b416413914da",
   "metadata": {},
   "outputs": [],
   "source": [
    "#!pip install opencv-python"
   ]
  },
  {
   "cell_type": "code",
   "execution_count": null,
   "id": "5d02612f-d7fd-43da-83b6-35ba7d53c455",
   "metadata": {},
   "outputs": [],
   "source": []
  },
  {
   "cell_type": "code",
   "execution_count": 7,
   "id": "6cb9edb1-ae41-44df-b0f8-8716266e1c18",
   "metadata": {},
   "outputs": [],
   "source": [
    "import cv2"
   ]
  },
  {
   "cell_type": "code",
   "execution_count": 8,
   "id": "37f11681-fab8-455d-9049-4241f87af1b5",
   "metadata": {},
   "outputs": [],
   "source": [
    "resized = cv2.resize(data, dsize=(32,32))"
   ]
  },
  {
   "cell_type": "code",
   "execution_count": 9,
   "id": "5c9a8930-0f51-4f37-958f-6540e40e5978",
   "metadata": {},
   "outputs": [
    {
     "data": {
      "text/plain": [
       "(32, 32, 8)"
      ]
     },
     "execution_count": 9,
     "metadata": {},
     "output_type": "execute_result"
    }
   ],
   "source": [
    "resized.shape"
   ]
  },
  {
   "cell_type": "code",
   "execution_count": null,
   "id": "2f361862-05e1-437a-9116-415a6e54d181",
   "metadata": {},
   "outputs": [],
   "source": []
  },
  {
   "cell_type": "code",
   "execution_count": 10,
   "id": "79ac7cdd-900a-43d7-b238-20086ced996a",
   "metadata": {},
   "outputs": [
    {
     "data": {
      "text/plain": [
       "7.03125"
      ]
     },
     "execution_count": 10,
     "metadata": {},
     "output_type": "execute_result"
    }
   ],
   "source": [
    "#7GB 로 데이터를 줄일 수가 있음 => good for education\n",
    "450 / (256 * 256 / 32 / 32)"
   ]
  },
  {
   "cell_type": "code",
   "execution_count": null,
   "id": "d048d987-901e-4d0e-8ad9-3f5e0f391f9e",
   "metadata": {},
   "outputs": [],
   "source": []
  },
  {
   "cell_type": "code",
   "execution_count": 11,
   "id": "767ea668-5a27-468d-86ef-19ccc7326bd5",
   "metadata": {},
   "outputs": [],
   "source": [
    "import matplotlib.pyplot as plt"
   ]
  },
  {
   "cell_type": "code",
   "execution_count": null,
   "id": "6b11db64-43cb-4b1c-bebf-78d563b9218e",
   "metadata": {},
   "outputs": [],
   "source": []
  },
  {
   "cell_type": "code",
   "execution_count": 12,
   "id": "cdd2a52f-a5a3-43cd-b017-aa814c55d44c",
   "metadata": {},
   "outputs": [
    {
     "data": {
      "text/plain": [
       "<matplotlib.image.AxesImage at 0x7f45f17b8a90>"
      ]
     },
     "execution_count": 12,
     "metadata": {},
     "output_type": "execute_result"
    },
    {
     "data": {
      "image/png": "[encoded data removed]",
      "text/plain": [
       "<Figure size 640x480 with 1 Axes>"
      ]
     },
     "metadata": {},
     "output_type": "display_data"
    }
   ],
   "source": [
    "plt.imshow(data[:,:,0])"
   ]
  },
  {
   "cell_type": "code",
   "execution_count": null,
   "id": "ec18f113-3fc9-4ca9-a5a6-abc2b9b3cb58",
   "metadata": {},
   "outputs": [],
   "source": []
  },
  {
   "cell_type": "code",
   "execution_count": 13,
   "id": "c96c04bd-b6d3-434c-9bbe-05e498b2fc7b",
   "metadata": {},
   "outputs": [
    {
     "data": {
      "text/plain": [
       "<matplotlib.image.AxesImage at 0x7f45e9653d60>"
      ]
     },
     "execution_count": 13,
     "metadata": {},
     "output_type": "execute_result"
    },
    {
     "data": {
      "image/png": "[encoded data removed]",
      "text/plain": [
       "<Figure size 640x480 with 1 Axes>"
      ]
     },
     "metadata": {},
     "output_type": "display_data"
    }
   ],
   "source": [
    "plt.imshow(resized[:,:,0])"
   ]
  },
  {
   "cell_type": "code",
   "execution_count": null,
   "id": "704d5359-18b0-47b6-8c18-32b662b63b93",
   "metadata": {},
   "outputs": [],
   "source": []
  },
  {
   "cell_type": "code",
   "execution_count": 14,
   "id": "022c399b-0e7f-48cc-bfe2-7982dfa16d86",
   "metadata": {},
   "outputs": [],
   "source": [
    "np.save(\"band_09_3232\",resized)"
   ]
  },
  {
   "cell_type": "code",
   "execution_count": 15,
   "id": "ac96cea5-9b20-49da-95ff-f8303a974792",
   "metadata": {},
   "outputs": [],
   "source": [
    "for i in range(8):\n",
    "    cv2.imwrite('band_09_3232_'+str(i)+'.jpg', resized[:,:,i])"
   ]
  },
  {
   "cell_type": "code",
   "execution_count": null,
   "id": "7915fbc1-4fd5-4e9d-b506-2d0a1329c958",
   "metadata": {},
   "outputs": [],
   "source": []
  },
  {
   "cell_type": "code",
   "execution_count": 23,
   "id": "8009a9e8-bd13-4f39-849c-e50706f5950c",
   "metadata": {},
   "outputs": [
    {
     "data": {
      "text/plain": [
       "64.0"
      ]
     },
     "execution_count": 23,
     "metadata": {},
     "output_type": "execute_result"
    }
   ],
   "source": [
    "256*256 / 32 / 32"
   ]
  },
  {
   "cell_type": "code",
   "execution_count": null,
   "id": "1b9d7a2c-d8b0-413b-ba1a-9551e637593c",
   "metadata": {},
   "outputs": [],
   "source": [
    "실행전 가설 => 32,32로 줄이면 1/64가 될것이다."
   ]
  },
  {
   "cell_type": "code",
   "execution_count": null,
   "id": "048be5b9-0fd5-4929-bed2-0acbad392867",
   "metadata": {},
   "outputs": [],
   "source": []
  },
  {
   "cell_type": "markdown",
   "id": "cf41564e-0c7a-4a36-a29f-518986fcf6b1",
   "metadata": {},
   "source": [
    "### 정리\n",
    "\n",
    "## 기존 band_09.npy 용량 : 2.00MB\n",
    "\n",
    "## 32,32로 줄인 후 band_09_3232_npy 용량 : 32.1KB\n",
    "\n",
    "## 32,32로 줄인 후 8개 각각 사진파일로 저장\n",
    "## 이미지는 압축률이 높기 때문에 그냥 저장보다 용량이 더 많이 줄어들음. 근데 읽는 속도가 npy가 더빠르려나?\n",
    "total : 3550 byte 3.466796875 KB  \n",
    "0 : 438 byte  \n",
    "1 : 443  \n",
    "2 : 444  \n",
    "3 : 440  \n",
    "4 : 447  \n",
    "5 : 447  \n",
    "6 : 443  \n",
    "7 : 448  \n"
   ]
  },
  {
   "cell_type": "code",
   "execution_count": 25,
   "id": "5717bbc7-09c5-48f1-a876-a99fd6447849",
   "metadata": {},
   "outputs": [
    {
     "data": {
      "text/plain": [
       "63.8006230529595"
      ]
     },
     "execution_count": 25,
     "metadata": {},
     "output_type": "execute_result"
    }
   ],
   "source": [
    "(2*1024) / 32.1"
   ]
  },
  {
   "cell_type": "code",
   "execution_count": 26,
   "id": "ded0530a-b26c-4aea-8ff4-823e64a00d3e",
   "metadata": {},
   "outputs": [
    {
     "data": {
      "text/plain": [
       "590.2017291066282"
      ]
     },
     "execution_count": 26,
     "metadata": {},
     "output_type": "execute_result"
    }
   ],
   "source": [
    "(2*1024) / 3.47"
   ]
  },
  {
   "cell_type": "markdown",
   "id": "16d40d5d-5d26-4003-94a3-4bc21f2d66bd",
   "metadata": {},
   "source": [
    "# 단순계산으로 1/63 사이즈가 되어 버림 => 가설이 거의 맞았고, 그나마도 이미지로 저장하면 1/590 사이즈가 됨."
   ]
  },
  {
   "cell_type": "code",
   "execution_count": null,
   "id": "1369fffa-cdb9-4ad2-8c38-7fe825ffbab4",
   "metadata": {},
   "outputs": [],
   "source": []
  },
  {
   "cell_type": "code",
   "execution_count": 27,
   "id": "915c0917-75a2-4127-b8a5-1ba3f9c2377e",
   "metadata": {},
   "outputs": [
    {
     "data": {
      "text/plain": [
       "9.250720461095101"
      ]
     },
     "execution_count": 27,
     "metadata": {},
     "output_type": "execute_result"
    }
   ],
   "source": [
    "32.1 / 3.47"
   ]
  },
  {
   "cell_type": "code",
   "execution_count": null,
   "id": "f4190a0c-22b5-45cb-9d85-18c039e5ac02",
   "metadata": {},
   "outputs": [],
   "source": []
  },
  {
   "cell_type": "code",
   "execution_count": null,
   "id": "1a525d9d-313f-4761-adec-a54ba3f04da5",
   "metadata": {},
   "outputs": [],
   "source": [
    "256,256 => img == 2 / 9.2"
   ]
  },
  {
   "cell_type": "code",
   "execution_count": 28,
   "id": "a54a129e-6ca0-4606-b52d-a0d9598308ef",
   "metadata": {},
   "outputs": [
    {
     "data": {
      "text/plain": [
       "0.2173913043478261"
      ]
     },
     "execution_count": 28,
     "metadata": {},
     "output_type": "execute_result"
    }
   ],
   "source": [
    "2 / 9.2"
   ]
  },
  {
   "cell_type": "code",
   "execution_count": null,
   "id": "22524052-c7ba-4bdd-8cd1-dfaa55179272",
   "metadata": {},
   "outputs": [],
   "source": [
    "200kb... => 450 / 9.2"
   ]
  },
  {
   "cell_type": "code",
   "execution_count": 29,
   "id": "25e67e8b-f690-4dc3-aaa2-9ada88a2a407",
   "metadata": {},
   "outputs": [
    {
     "data": {
      "text/plain": [
       "48.913043478260875"
      ]
     },
     "execution_count": 29,
     "metadata": {},
     "output_type": "execute_result"
    }
   ],
   "source": [
    "450 / 9.2"
   ]
  },
  {
   "cell_type": "code",
   "execution_count": null,
   "id": "a229782e-0c65-46e4-bb52-e3bb29185381",
   "metadata": {},
   "outputs": [],
   "source": [
    "48기가가 됨. 와 사이즈가 크긴 크구나."
   ]
  },
  {
   "cell_type": "code",
   "execution_count": null,
   "id": "0b6cde60-148e-41e8-962b-a22e9176009d",
   "metadata": {},
   "outputs": [],
   "source": [
    "가설이 거의 맞았기 때문에 128 , 64도 마찬가지로 계산 가능할듯"
   ]
  },
  {
   "cell_type": "code",
   "execution_count": null,
   "id": "fe6dba8b-ff85-4a29-8579-631b1e837638",
   "metadata": {},
   "outputs": [],
   "source": []
  },
  {
   "cell_type": "code",
   "execution_count": 33,
   "id": "5b07a140-5a44-4b40-84b8-10ff522c9b39",
   "metadata": {},
   "outputs": [
    {
     "name": "stdout",
     "output_type": "stream",
     "text": [
      "450 GB Dataset\n",
      "if it is img 48.913043478260875\n",
      "128 th turn\n",
      "npy_size :  112.5 GB\n",
      "img_size :  12.228260869565219 GB\n",
      "64 th turn\n",
      "npy_size :  28.125 GB\n",
      "img_size :  3.0570652173913047 GB\n",
      "32 th turn\n",
      "npy_size :  7.03125 GB\n",
      "img_size :  0.7642663043478262 GB\n"
     ]
    }
   ],
   "source": [
    "data_size = 450\n",
    "npy_to_img_rate = 9.2\n",
    "after_img = data_size/npy_to_img_rate\n",
    "\n",
    "data_area = 256*256\n",
    "resize_list = [128, 64, 32]\n",
    "\n",
    "print(data_size, \"GB Dataset\")\n",
    "print(\"if it is img\", data_size/npy_to_img_rate)\n",
    "for i in range(3):\n",
    "    after_resize_npy = data_size / (data_area / (resize_list[i] * resize_list[i]))\n",
    "    after_resize_jpg = after_resize_npy / npy_to_img_rate\n",
    "    \n",
    "    print(resize_list[i], \"th turn\")\n",
    "    print(\"npy_size : \", after_resize_npy, 'GB')\n",
    "    print(\"img_size : \", after_resize_jpg, 'GB')"
   ]
  },
  {
   "cell_type": "code",
   "execution_count": null,
   "id": "c63784dd-23c9-41c2-87ad-74dd89068428",
   "metadata": {},
   "outputs": [],
   "source": [
    "유일한 걱정은 resize 하면서 구름 픽셀이 사라지나 하는 건데\n",
    "무조건 값을 남기라고 하면 되려나? interpolation을 잘 하면 되려나?"
   ]
  },
  {
   "cell_type": "code",
   "execution_count": null,
   "id": "4ec8623e-d7e0-4ba6-9f7b-bc41fe142708",
   "metadata": {},
   "outputs": [],
   "source": [
    "위 데이터 들을 종류별로 다 준비해서 올리면 어그로로 좋을거 같은데?\n",
    "=> 근데 112 gb 28gb는 좀 그렇고, img로 만들어서 npy로 바꾸는 코드랑 같이 올려주면 될듯?\n",
    "\n",
    "그럼 다 합쳐도 15GB가 안될테니까"
   ]
  },
  {
   "cell_type": "code",
   "execution_count": null,
   "id": "1ba3e377-51ab-409e-832f-e1125dee42fc",
   "metadata": {},
   "outputs": [],
   "source": []
  },
  {
   "cell_type": "code",
   "execution_count": null,
   "id": "6bdfdec0-0ffa-4851-b0ed-c4f75fb94546",
   "metadata": {},
   "outputs": [],
   "source": []
  },
  {
   "cell_type": "code",
   "execution_count": null,
   "id": "e1e5e7b3-2b68-490b-bcdb-b6e5d1fdc3d5",
   "metadata": {},
   "outputs": [],
   "source": []
  },
  {
   "cell_type": "code",
   "execution_count": null,
   "id": "81505bcd-edc2-490b-9eab-cde67631dc15",
   "metadata": {},
   "outputs": [],
   "source": []
  },
  {
   "cell_type": "code",
   "execution_count": 15,
   "id": "5a25f526-bca9-455c-b6c1-d64f786e2c1b",
   "metadata": {},
   "outputs": [],
   "source": [
    "a=[438,\n",
    "443,\n",
    "444,\n",
    "440,\n",
    "447,\n",
    "447,\n",
    "443,\n",
    "448]"
   ]
  },
  {
   "cell_type": "code",
   "execution_count": 16,
   "id": "ce3952ee-56dc-4c9c-af8d-a698c80fdb02",
   "metadata": {},
   "outputs": [
    {
     "data": {
      "text/plain": [
       "3550"
      ]
     },
     "execution_count": 16,
     "metadata": {},
     "output_type": "execute_result"
    }
   ],
   "source": [
    "np.sum(a)"
   ]
  },
  {
   "cell_type": "code",
   "execution_count": 17,
   "id": "09c458e6-7080-4b5f-9b84-a822507f2d3e",
   "metadata": {},
   "outputs": [
    {
     "data": {
      "text/plain": [
       "3.466796875"
      ]
     },
     "execution_count": 17,
     "metadata": {},
     "output_type": "execute_result"
    }
   ],
   "source": [
    "np.sum(a)/1024"
   ]
  },
  {
   "cell_type": "code",
   "execution_count": null,
   "id": "448a7b03-9d82-467a-aef4-5f40b53dcf8b",
   "metadata": {},
   "outputs": [],
   "source": []
  },
  {
   "cell_type": "code",
   "execution_count": null,
   "id": "3a9b6700-3836-44c8-b267-1df193f6977c",
   "metadata": {},
   "outputs": [],
   "source": [
    "중복제거 => 완전히 동일한 용량의 이미지끼리 모아서\n",
    "=> 이들끼리 RGB가 완전히 같은지 비교하면 되지 않을까?"
   ]
  },
  {
   "cell_type": "code",
   "execution_count": null,
   "id": "f500f551-1f68-497c-92a4-44005308ae3d",
   "metadata": {},
   "outputs": [],
   "source": []
  },
  {
   "cell_type": "code",
   "execution_count": null,
   "id": "9bd05f65-e127-45ee-a5d8-bef6c4cf34cf",
   "metadata": {},
   "outputs": [],
   "source": []
  },
  {
   "cell_type": "code",
   "execution_count": null,
   "id": "66314d19-20df-4882-97c5-579f9e6499e1",
   "metadata": {},
   "outputs": [],
   "source": []
  },
  {
   "cell_type": "code",
   "execution_count": null,
   "id": "096ce287-301e-440b-a99f-53bfa479ad20",
   "metadata": {},
   "outputs": [],
   "source": []
  },
  {
   "cell_type": "code",
   "execution_count": null,
   "id": "58e7edd7-4670-45af-afe9-37aff7ad1b9c",
   "metadata": {},
   "outputs": [],
   "source": []
  },
  {
   "cell_type": "code",
   "execution_count": null,
   "id": "c367eeb8-7e00-479e-ae46-9cd6cdd67864",
   "metadata": {},
   "outputs": [],
   "source": []
  },
  {
   "cell_type": "code",
   "execution_count": null,
   "id": "06afb247-70d4-44f4-8b9b-e03fa824c0ea",
   "metadata": {},
   "outputs": [],
   "source": []
  },
  {
   "cell_type": "code",
   "execution_count": null,
   "id": "91c4f872-0243-48b4-a453-550b42e172dc",
   "metadata": {},
   "outputs": [],
   "source": []
  }
 ],
 "metadata": {
  "kernelspec": {
   "display_name": "Python 3 (ipykernel)",
   "language": "python",
   "name": "python3"
  },
  "language_info": {
   "codemirror_mode": {
    "name": "ipython",
    "version": 3
   },
   "file_extension": ".py",
   "mimetype": "text/x-python",
   "name": "python",
   "nbconvert_exporter": "python",
   "pygments_lexer": "ipython3",
   "version": "3.10.11"
  }
 },
 "nbformat": 4,
 "nbformat_minor": 5
}
