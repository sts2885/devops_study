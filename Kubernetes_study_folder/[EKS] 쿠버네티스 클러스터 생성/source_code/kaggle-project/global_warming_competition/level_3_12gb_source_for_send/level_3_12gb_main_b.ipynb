{
 "cells": [
  {
   "cell_type": "code",
   "execution_count": null,
   "id": "b4b9fb08-370c-43d0-b051-50baab5852a1",
   "metadata": {},
   "outputs": [],
   "source": []
  },
  {
   "cell_type": "code",
   "execution_count": null,
   "id": "9741ba3b-de9a-4891-8631-54bf23656901",
   "metadata": {},
   "outputs": [],
   "source": []
  },
  {
   "cell_type": "code",
   "execution_count": null,
   "id": "c9f87a74-2294-485c-be09-8a7cfc3db654",
   "metadata": {},
   "outputs": [],
   "source": []
  },
  {
   "cell_type": "code",
   "execution_count": 1,
   "id": "079eaddc-2f86-4cc1-845c-c03cdc3a92ea",
   "metadata": {},
   "outputs": [
    {
     "name": "stdout",
     "output_type": "stream",
     "text": [
      "start\n"
     ]
    }
   ],
   "source": [
    "import time\n",
    "start_time = time.time()  # 시작 시간 저장\n",
    "print(\"start\")"
   ]
  },
  {
   "cell_type": "markdown",
   "id": "d7791271-60a6-4c5c-b1f8-ad34278b8465",
   "metadata": {},
   "source": [
    "# STAGE 2  \n",
    "일단은 container 1개당 pv 1개 씩이 가도록 설계함."
   ]
  },
  {
   "cell_type": "code",
   "execution_count": null,
   "id": "6cd6d240-ed75-4a66-9413-042f9658a8b3",
   "metadata": {},
   "outputs": [],
   "source": []
  },
  {
   "cell_type": "code",
   "execution_count": 4,
   "id": "93c93009-0de5-41ba-9ebe-213e215424e7",
   "metadata": {},
   "outputs": [],
   "source": [
    "import os\n",
    "\n",
    "minio_url = os.environ[\"minio_url\"]\n",
    "minio_access_key = os.environ['minio_access_key']\n",
    "minio_secret_key = os.environ['minio_secret_key']\n",
    "minio_region = os.environ['minio_region']\n",
    "minio_bucket_name = os.environ['minio_bucket_name']\n",
    "competition_name = os.environ['competition_name']\n",
    "\n",
    "pv_mount_name = os.environ['pv_mount_name']\n",
    "pv_count = os.environ['pv_count']\n",
    "download_from = os.environ['download_from']"
   ]
  },
  {
   "cell_type": "code",
   "execution_count": null,
   "id": "5e18a56c-f42a-4da8-a4e2-9c5cd07716ce",
   "metadata": {},
   "outputs": [],
   "source": []
  },
  {
   "cell_type": "code",
   "execution_count": 5,
   "id": "c0edbe69-d099-4bbe-9a0d-11221ea1f11b",
   "metadata": {},
   "outputs": [],
   "source": [
    "from minio import Minio"
   ]
  },
  {
   "cell_type": "code",
   "execution_count": 6,
   "id": "c5af0558-68a3-4c23-908b-13a976312e90",
   "metadata": {},
   "outputs": [],
   "source": [
    "#아마 minio 글로벌 변수 선언해야 될거 같은데...\n",
    "#global minio_client\n",
    "minio_client = Minio(\n",
    "    minio_url,\n",
    "    access_key = minio_access_key,\n",
    "    secret_key = minio_secret_key,\n",
    "    region = minio_region\n",
    ")"
   ]
  },
  {
   "cell_type": "code",
   "execution_count": null,
   "id": "e0493aae-8164-42ff-a754-c7256d01304b",
   "metadata": {},
   "outputs": [],
   "source": [
    "print(\"minio connected\")"
   ]
  },
  {
   "cell_type": "markdown",
   "id": "d0dbe67b-64ee-4c56-ad41-26d960be3d5a",
   "metadata": {},
   "source": [
    "Data preprocessing : not recommended. Ad-hoc pipeline like this don't have any fault tolerance logic (like hadoop map reduce or spark). One fault can hurt all data integrity  \n",
    "But i will run this pipeline for fun!  "
   ]
  },
  {
   "cell_type": "code",
   "execution_count": null,
   "id": "01d3a2e5-5e75-4020-8ab5-19ec256ee182",
   "metadata": {},
   "outputs": [],
   "source": []
  },
  {
   "cell_type": "code",
   "execution_count": null,
   "id": "774f83fd-c76f-4dc0-924a-bf9fa298a6ef",
   "metadata": {},
   "outputs": [],
   "source": [
    "print(\"get file list start : \")"
   ]
  },
  {
   "cell_type": "markdown",
   "id": "fb81ba93-9490-45e6-afa7-9f396525ee60",
   "metadata": {},
   "source": [
    "make df for current files (use this instead of csv file)  \n",
    "(files contain extracted .npy files and json files from kaggle)"
   ]
  },
  {
   "cell_type": "code",
   "execution_count": 7,
   "id": "b25f1a39-e824-4d95-9603-77e810c86bda",
   "metadata": {},
   "outputs": [],
   "source": [
    "import pandas as pd"
   ]
  },
  {
   "cell_type": "code",
   "execution_count": 8,
   "id": "333c47ab-321d-4562-bbd3-fe2454d3e98a",
   "metadata": {},
   "outputs": [],
   "source": [
    "import os\n",
    "\n",
    "folder_path = pv_mount_name + pv_count\n",
    "\n",
    "file_list = []\n",
    " \n",
    "for path, subdirs, files in os.walk(folder_path):\n",
    "    for name in files:\n",
    "        file_list.append(os.path.join(path, name))"
   ]
  },
  {
   "cell_type": "code",
   "execution_count": 2,
   "id": "00a5fe8a-9089-4923-866a-fa1ccd50d6d0",
   "metadata": {},
   "outputs": [],
   "source": [
    "get_file_list_time = time.time()"
   ]
  },
  {
   "cell_type": "code",
   "execution_count": 3,
   "id": "b4f52391-57d8-44c5-95d1-6146be6ee769",
   "metadata": {},
   "outputs": [
    {
     "name": "stdout",
     "output_type": "stream",
     "text": [
      "get_file_list_time takes :  5.9725658893585205\n"
     ]
    }
   ],
   "source": [
    "print(\"get_file_list_time takes : \", get_file_list_time - start_time)"
   ]
  },
  {
   "cell_type": "code",
   "execution_count": null,
   "id": "d55146e4-d3a8-4591-b1e1-9fdbe730aa8c",
   "metadata": {},
   "outputs": [],
   "source": []
  },
  {
   "cell_type": "code",
   "execution_count": null,
   "id": "c7968ed7-3a02-48b7-a4f6-f1ecb2bb9c02",
   "metadata": {},
   "outputs": [],
   "source": []
  },
  {
   "cell_type": "code",
   "execution_count": 9,
   "id": "8bfd66e0-e443-488d-b231-9098c752f953",
   "metadata": {},
   "outputs": [],
   "source": [
    "files_df = pd.DataFrame(data=file_list, columns=['files_path'])"
   ]
  },
  {
   "cell_type": "code",
   "execution_count": 10,
   "id": "ccf9ceee-b5ac-40bb-a0e5-df5d9e35914c",
   "metadata": {},
   "outputs": [
    {
     "data": {
      "text/html": [
       "<div>\n",
       "<style scoped>\n",
       "    .dataframe tbody tr th:only-of-type {\n",
       "        vertical-align: middle;\n",
       "    }\n",
       "\n",
       "    .dataframe tbody tr th {\n",
       "        vertical-align: top;\n",
       "    }\n",
       "\n",
       "    .dataframe thead th {\n",
       "        text-align: right;\n",
       "    }\n",
       "</style>\n",
       "<table border=\"1\" class=\"dataframe\">\n",
       "  <thead>\n",
       "    <tr style=\"text-align: right;\">\n",
       "      <th></th>\n",
       "      <th>files_path</th>\n",
       "    </tr>\n",
       "  </thead>\n",
       "  <tbody>\n",
       "    <tr>\n",
       "      <th>0</th>\n",
       "      <td>./global_warming_1/[(256,256),npy]/sample_subm...</td>\n",
       "    </tr>\n",
       "    <tr>\n",
       "      <th>1</th>\n",
       "      <td>./global_warming_1/[(256,256),npy]/test/100083...</td>\n",
       "    </tr>\n",
       "    <tr>\n",
       "      <th>2</th>\n",
       "      <td>./global_warming_1/[(256,256),npy]/test/100083...</td>\n",
       "    </tr>\n",
       "    <tr>\n",
       "      <th>3</th>\n",
       "      <td>./global_warming_1/[(256,256),npy]/test/100083...</td>\n",
       "    </tr>\n",
       "  </tbody>\n",
       "</table>\n",
       "</div>"
      ],
      "text/plain": [
       "                                          files_path\n",
       "0  ./global_warming_1/[(256,256),npy]/sample_subm...\n",
       "1  ./global_warming_1/[(256,256),npy]/test/100083...\n",
       "2  ./global_warming_1/[(256,256),npy]/test/100083...\n",
       "3  ./global_warming_1/[(256,256),npy]/test/100083..."
      ]
     },
     "execution_count": 10,
     "metadata": {},
     "output_type": "execute_result"
    }
   ],
   "source": [
    "files_df.head()"
   ]
  },
  {
   "cell_type": "code",
   "execution_count": null,
   "id": "86e5e7ea-e729-4190-bb8a-e96da22a91c4",
   "metadata": {},
   "outputs": [],
   "source": [
    "print(\"extracted file_list uploaded\")"
   ]
  },
  {
   "cell_type": "code",
   "execution_count": null,
   "id": "de348af3-99a5-450b-a9ea-46dc0dd935ec",
   "metadata": {},
   "outputs": [],
   "source": []
  },
  {
   "cell_type": "markdown",
   "id": "46a4e1c3-3efd-46f1-a5be-f985aed95d57",
   "metadata": {},
   "source": [
    ".csv파일 등이 남아 있음"
   ]
  },
  {
   "cell_type": "code",
   "execution_count": 11,
   "id": "bbb3480e-e99e-412e-92bd-5bd29ec38b69",
   "metadata": {},
   "outputs": [
    {
     "data": {
      "text/plain": [
       "array(['./global_warming_1/[(256,256),npy]/sample_submission.csv',\n",
       "       './global_warming_1/[(256,256),npy]/test/1000834164244036115/band_08.npy',\n",
       "       './global_warming_1/[(256,256),npy]/test/1000834164244036115/band_09.npy',\n",
       "       './global_warming_1/[(256,256),npy]/test/1000834164244036115/band_10.npy'],\n",
       "      dtype=object)"
      ]
     },
     "execution_count": 11,
     "metadata": {},
     "output_type": "execute_result"
    }
   ],
   "source": [
    "if len(files_df) != 0:\n",
    "    print(files_df['files_path'].head(5).values)"
   ]
  },
  {
   "cell_type": "code",
   "execution_count": null,
   "id": "5b4be388-d563-46ae-819f-4633ededc98e",
   "metadata": {},
   "outputs": [],
   "source": []
  },
  {
   "cell_type": "code",
   "execution_count": null,
   "id": "206bfafa-c927-4007-8758-65b88a40c669",
   "metadata": {},
   "outputs": [],
   "source": [
    "print(\"get df with only named .npy, not metadata(json, csv, etc)\")"
   ]
  },
  {
   "cell_type": "code",
   "execution_count": 12,
   "id": "4cbb20c1-c08f-4f10-a828-68be96f379df",
   "metadata": {},
   "outputs": [],
   "source": [
    "#파일명이 npy 인것만 남김\n",
    "if len(files_df) != 0:\n",
    "    files_df = files_df[files_df['files_path'].map(lambda name : name.split('.')[-1] == \"npy\")]"
   ]
  },
  {
   "cell_type": "code",
   "execution_count": 4,
   "id": "1f3df7b9-f1ef-4300-b48f-4cf29747d0b1",
   "metadata": {},
   "outputs": [],
   "source": [
    "get_file_df_time = time.time()"
   ]
  },
  {
   "cell_type": "code",
   "execution_count": 5,
   "id": "3ab96043-cdc7-418e-8ac4-8fb0a2ac36d8",
   "metadata": {},
   "outputs": [
    {
     "name": "stdout",
     "output_type": "stream",
     "text": [
      "get_file_df_time takes :  4.019770860671997\n"
     ]
    }
   ],
   "source": [
    "print(\"get_file_df_time takes : \", get_file_df_time - get_file_list_time)"
   ]
  },
  {
   "cell_type": "code",
   "execution_count": null,
   "id": "b69ce6fa-2c7d-4685-93be-8f2b24732bfd",
   "metadata": {},
   "outputs": [],
   "source": []
  },
  {
   "cell_type": "code",
   "execution_count": 13,
   "id": "215e2604-9144-43e3-b6d4-8183a4c1976a",
   "metadata": {},
   "outputs": [
    {
     "data": {
      "text/plain": [
       "array(['./global_warming_1/[(256,256),npy]/test/1000834164244036115/band_08.npy',\n",
       "       './global_warming_1/[(256,256),npy]/test/1000834164244036115/band_09.npy',\n",
       "       './global_warming_1/[(256,256),npy]/test/1000834164244036115/band_10.npy'],\n",
       "      dtype=object)"
      ]
     },
     "execution_count": 13,
     "metadata": {},
     "output_type": "execute_result"
    }
   ],
   "source": [
    "if len(files_df) != 0:\n",
    "    print(files_df['files_path'].head(5).values)"
   ]
  },
  {
   "cell_type": "code",
   "execution_count": null,
   "id": "a876b468-8b20-42c0-b234-009c16dca5f8",
   "metadata": {},
   "outputs": [],
   "source": []
  },
  {
   "cell_type": "code",
   "execution_count": 14,
   "id": "3ce12307-3e8f-4b22-b93a-151e804c4dd0",
   "metadata": {},
   "outputs": [],
   "source": [
    "#train_df = pd.read_csv('train.csv')\n",
    "#valid_df = pd.read_csv('valid.csv')\n",
    "#test_df = pd.read_csv('test.csv')"
   ]
  },
  {
   "cell_type": "code",
   "execution_count": null,
   "id": "885234dc-c7c6-4313-8f85-c96e2e9d513a",
   "metadata": {},
   "outputs": [],
   "source": []
  },
  {
   "cell_type": "code",
   "execution_count": 15,
   "id": "6654628d-03ad-4910-8dc9-41af2cca3e61",
   "metadata": {},
   "outputs": [],
   "source": [
    "from data_preprocessor import Npy_resize_preprocessor as NRP"
   ]
  },
  {
   "cell_type": "code",
   "execution_count": null,
   "id": "3a7c207c-7cea-4788-bd1c-62028e720320",
   "metadata": {},
   "outputs": [],
   "source": [
    "print(\"get df with only name start with band\")"
   ]
  },
  {
   "cell_type": "code",
   "execution_count": 16,
   "id": "a2a670d4-6604-44c1-ab02-adcf72d25a0b",
   "metadata": {},
   "outputs": [],
   "source": [
    "if len(files_df) != 0:\n",
    "    files_df = files_df[ files_df['files_path'].map(lambda name : name.split('/')[-1][:4] == 'band') ]"
   ]
  },
  {
   "cell_type": "code",
   "execution_count": 6,
   "id": "556952b6-c546-4075-976a-598eb3a09c9b",
   "metadata": {},
   "outputs": [],
   "source": [
    "get_file_df_with_band_time = time.time()"
   ]
  },
  {
   "cell_type": "code",
   "execution_count": 7,
   "id": "eea4f2b5-52bb-4098-a8a0-93b86a93f40a",
   "metadata": {},
   "outputs": [
    {
     "name": "stdout",
     "output_type": "stream",
     "text": [
      "get_file_df_with_band_time takes :  5.075438499450684\n"
     ]
    }
   ],
   "source": [
    "print(\"get_file_df_with_band_time takes : \", get_file_df_with_band_time- get_file_df_time)"
   ]
  },
  {
   "cell_type": "code",
   "execution_count": null,
   "id": "4c787f5d-943b-4480-b04b-9e1f5ced01dc",
   "metadata": {},
   "outputs": [],
   "source": []
  },
  {
   "cell_type": "code",
   "execution_count": 17,
   "id": "0342c444-cf0c-4638-9231-2e17757e5366",
   "metadata": {},
   "outputs": [
    {
     "name": "stdout",
     "output_type": "stream",
     "text": [
      "['./global_warming_1/[(256,256),npy]/test/1000834164244036115/band_08.npy'\n",
      " './global_warming_1/[(256,256),npy]/test/1000834164244036115/band_09.npy'\n",
      " './global_warming_1/[(256,256),npy]/test/1000834164244036115/band_10.npy']\n"
     ]
    }
   ],
   "source": [
    "if len(files_df) != 0:\n",
    "    print(files_df['files_path'].head(5).values)"
   ]
  },
  {
   "cell_type": "code",
   "execution_count": null,
   "id": "61237f98-997a-4de8-bda8-577e66ff8ae7",
   "metadata": {},
   "outputs": [],
   "source": []
  },
  {
   "cell_type": "code",
   "execution_count": null,
   "id": "fb55df62-062f-4f46-9307-4949b2e232da",
   "metadata": {},
   "outputs": [],
   "source": [
    "print(\"get df with only 8,9,10 band\")"
   ]
  },
  {
   "cell_type": "code",
   "execution_count": 18,
   "id": "e23a4219-e09b-4b33-84fc-0fa7178cce56",
   "metadata": {},
   "outputs": [],
   "source": [
    "# use band 8,9,10\n",
    "files_df_to_change = [] #files_df len이 0이면 이게 생성이 안되어 버려서 에러 뜸\n",
    "if len(files_df) != 0:\n",
    "    files_df_to_change = files_df[ files_df['files_path'].map(lambda name : int(name.split('/')[-1][5:7]) < 11) ]"
   ]
  },
  {
   "cell_type": "code",
   "execution_count": 19,
   "id": "7bb665fe-e2f5-4a07-acb9-51f45cf20b7e",
   "metadata": {},
   "outputs": [
    {
     "name": "stdout",
     "output_type": "stream",
     "text": [
      "['./global_warming_1/[(256,256),npy]/test/1000834164244036115/band_08.npy'\n",
      " './global_warming_1/[(256,256),npy]/test/1000834164244036115/band_09.npy'\n",
      " './global_warming_1/[(256,256),npy]/test/1000834164244036115/band_10.npy']\n"
     ]
    }
   ],
   "source": [
    "if len(files_df_to_change) != 0:\n",
    "    print(files_df_to_change['files_path'].head(5).values)"
   ]
  },
  {
   "cell_type": "code",
   "execution_count": 8,
   "id": "61b105b5-578a-4ddb-ab41-a29565970f83",
   "metadata": {},
   "outputs": [],
   "source": [
    "get_file_df_to_change = time.time()"
   ]
  },
  {
   "cell_type": "code",
   "execution_count": 9,
   "id": "fa25fcc2-e3e6-4eb1-b26f-c3c69ee253b7",
   "metadata": {},
   "outputs": [
    {
     "name": "stdout",
     "output_type": "stream",
     "text": [
      "get file to change_time takes :  3.2996737957000732\n"
     ]
    }
   ],
   "source": [
    "print(\"get file to change_time takes : \", get_file_df_to_change - get_file_df_with_band_time)"
   ]
  },
  {
   "cell_type": "code",
   "execution_count": null,
   "id": "642e87b5-af09-4cbb-b6de-bf9f3fa2a9ce",
   "metadata": {},
   "outputs": [],
   "source": []
  },
  {
   "cell_type": "code",
   "execution_count": null,
   "id": "f8e684b1-7094-40c2-8255-a155f54f78ad",
   "metadata": {},
   "outputs": [],
   "source": [
    "print(\"get df with band 11~16 to remove\")"
   ]
  },
  {
   "cell_type": "code",
   "execution_count": 20,
   "id": "4d9181ee-b0e0-4ce9-a489-cdb04fef09da",
   "metadata": {},
   "outputs": [],
   "source": [
    "# remove band 11~16\n",
    "files_df_to_remove = [] #files_df len이 0이면 이게 생성이 안되어 버려서 에러 뜸\n",
    "if len(files_df) != 0:\n",
    "    files_df_to_remove = files_df[ files_df['files_path'].map(lambda name : int(name.split('/')[-1][5:7]) >= 11) ]"
   ]
  },
  {
   "cell_type": "code",
   "execution_count": 10,
   "id": "37d63dc4-e876-4de9-83be-8aeb5fd77df7",
   "metadata": {},
   "outputs": [],
   "source": [
    "get_file_df_to_remove = time.time()"
   ]
  },
  {
   "cell_type": "code",
   "execution_count": 11,
   "id": "9eb61f8e-390a-4764-a7e5-08c7a7c4a6ab",
   "metadata": {},
   "outputs": [
    {
     "name": "stdout",
     "output_type": "stream",
     "text": [
      "get file to remove_time takes :  3.8517839908599854\n"
     ]
    }
   ],
   "source": [
    "print(\"get file to remove_time takes : \", get_file_df_to_remove - get_file_df_to_change)"
   ]
  },
  {
   "cell_type": "code",
   "execution_count": null,
   "id": "7c7632ad-678a-4a9a-830a-05f7ca335e44",
   "metadata": {},
   "outputs": [],
   "source": []
  },
  {
   "cell_type": "code",
   "execution_count": 21,
   "id": "60f4012c-5b9b-4c45-bd88-1758867109af",
   "metadata": {},
   "outputs": [
    {
     "name": "stdout",
     "output_type": "stream",
     "text": [
      "[]\n"
     ]
    }
   ],
   "source": [
    "if len(files_df_to_remove) != 0:\n",
    "    print(files_df_to_remove['files_path'].head(10).values)"
   ]
  },
  {
   "cell_type": "code",
   "execution_count": null,
   "id": "8248ccfb-11f9-4148-8fef-03c2960e39c0",
   "metadata": {},
   "outputs": [],
   "source": [
    "print(\"remove 11~16 band\")"
   ]
  },
  {
   "cell_type": "code",
   "execution_count": 25,
   "id": "fa3ca7c3-bac8-4a1c-8cf8-5de70728f007",
   "metadata": {},
   "outputs": [
    {
     "name": "stdout",
     "output_type": "stream",
     "text": [
      "files_df_to_remove len is 0 0\n"
     ]
    }
   ],
   "source": [
    "if len(files_df_to_remove) != 0:\n",
    "    files_df_to_remove['files_path'].map(lambda name : os.remove(name))\n",
    "else:\n",
    "    print(\"files_df_to_remove len is 0\", len(files_df_to_remove))"
   ]
  },
  {
   "cell_type": "code",
   "execution_count": null,
   "id": "78964c2c-448e-4db1-9406-cb3c2fd1cb83",
   "metadata": {},
   "outputs": [],
   "source": []
  },
  {
   "cell_type": "code",
   "execution_count": null,
   "id": "6656130b-d899-4411-a594-56ed89908a77",
   "metadata": {},
   "outputs": [],
   "source": []
  },
  {
   "cell_type": "code",
   "execution_count": null,
   "id": "6879b852-115a-472b-b17a-6baa879ac08b",
   "metadata": {},
   "outputs": [],
   "source": []
  },
  {
   "cell_type": "code",
   "execution_count": 26,
   "id": "0818a02d-8f4c-46ed-8388-b4e9cc00163c",
   "metadata": {},
   "outputs": [],
   "source": [
    "def read_change_save(file_path):\n",
    "    \n",
    "    arr = NRP.read_npy(file_path)\n",
    "    frame_5 = arr[5]\n",
    "    \n",
    "    frame_5 = frame_5.astype('float16')\n",
    "    \n",
    "    #제자리에 원본 날리고 넣어두면 됨.\n",
    "    NRP.write_with_format(frame_5, name_to_save=file_path,file_format='.npy')"
   ]
  },
  {
   "cell_type": "code",
   "execution_count": null,
   "id": "fb3d0837-f217-45da-bb82-2f893ac3e7af",
   "metadata": {},
   "outputs": [],
   "source": []
  },
  {
   "cell_type": "code",
   "execution_count": 12,
   "id": "72bca4fa-8bfe-4eb5-878d-d65e41f43e4a",
   "metadata": {},
   "outputs": [
    {
     "name": "stdout",
     "output_type": "stream",
     "text": [
      "change data with 8,9,10 band\n"
     ]
    }
   ],
   "source": [
    "print(\"change data with 8,9,10 band\")"
   ]
  },
  {
   "cell_type": "code",
   "execution_count": null,
   "id": "e7d8c41f-0cef-4aa5-b6fc-7a37ab614042",
   "metadata": {},
   "outputs": [],
   "source": [
    "if len(files_df_to_change) != 0:\n",
    "    files_df_to_change['files_path'].map(read_change_save)\n",
    "else:\n",
    "    print(\"files_df_to_change len is 0\", len(files_df_to_change))"
   ]
  },
  {
   "cell_type": "code",
   "execution_count": null,
   "id": "c04b638c-ee8e-4d5a-8839-99d67813ac09",
   "metadata": {},
   "outputs": [],
   "source": []
  },
  {
   "cell_type": "code",
   "execution_count": 28,
   "id": "be0f58cf-62f4-47dd-90dd-0ddfddbd5d1a",
   "metadata": {
    "scrolled": true
   },
   "outputs": [],
   "source": [
    "#train_df['files_path'].map(read_change_save)\n",
    "#valid_df['files_path'].map(read_change_save)\n",
    "#test_df['files_path'].map(read_change_save)"
   ]
  },
  {
   "cell_type": "code",
   "execution_count": null,
   "id": "a4d1c56f-d528-4bc2-98ba-a2b9708f5e92",
   "metadata": {},
   "outputs": [],
   "source": []
  },
  {
   "cell_type": "markdown",
   "id": "5bb21fa8-8edc-4b47-a8c7-6e6b4f57099c",
   "metadata": {},
   "source": [
    "# upload -> Zip 만들어서 올릴 계획이니까."
   ]
  },
  {
   "cell_type": "code",
   "execution_count": null,
   "id": "12a07466-f14d-44b2-a5b7-51aa2334300e",
   "metadata": {},
   "outputs": [],
   "source": [
    "#No need to get left files list. If you want to make list of data with csv, It can help,"
   ]
  },
  {
   "cell_type": "code",
   "execution_count": 29,
   "id": "66a38975-9c1f-4dbc-9477-ef9b6c060ab6",
   "metadata": {},
   "outputs": [],
   "source": [
    "\"\"\"\n",
    "import os\n",
    "\n",
    "#folder_path = 'global_warming'\n",
    "\n",
    "file_list = []\n",
    " \n",
    "for path, subdirs, files in os.walk(folder_path):\n",
    "    for name in files:\n",
    "        file_list.append(os.path.join(path, name))\n",
    "\"\"\""
   ]
  },
  {
   "cell_type": "code",
   "execution_count": null,
   "id": "3cb5eac3-5b39-4e23-b52e-adbf9a143b0e",
   "metadata": {},
   "outputs": [],
   "source": []
  },
  {
   "cell_type": "code",
   "execution_count": 30,
   "id": "b3cedb48-f71e-4847-98dd-5715327f54e6",
   "metadata": {},
   "outputs": [],
   "source": [
    "#tmp_df = pd.DataFrame(data=file_list, columns=['files_path'])"
   ]
  },
  {
   "cell_type": "code",
   "execution_count": 31,
   "id": "a73e30c5-de69-493f-a2eb-34ffe4edac8e",
   "metadata": {},
   "outputs": [
    {
     "data": {
      "text/html": [
       "<div>\n",
       "<style scoped>\n",
       "    .dataframe tbody tr th:only-of-type {\n",
       "        vertical-align: middle;\n",
       "    }\n",
       "\n",
       "    .dataframe tbody tr th {\n",
       "        vertical-align: top;\n",
       "    }\n",
       "\n",
       "    .dataframe thead th {\n",
       "        text-align: right;\n",
       "    }\n",
       "</style>\n",
       "<table border=\"1\" class=\"dataframe\">\n",
       "  <thead>\n",
       "    <tr style=\"text-align: right;\">\n",
       "      <th></th>\n",
       "      <th>files_path</th>\n",
       "    </tr>\n",
       "  </thead>\n",
       "  <tbody>\n",
       "    <tr>\n",
       "      <th>0</th>\n",
       "      <td>./global_warming_1/[(256,256),npy]/sample_subm...</td>\n",
       "    </tr>\n",
       "    <tr>\n",
       "      <th>1</th>\n",
       "      <td>./global_warming_1/[(256,256),npy]/test/100083...</td>\n",
       "    </tr>\n",
       "    <tr>\n",
       "      <th>2</th>\n",
       "      <td>./global_warming_1/[(256,256),npy]/test/100083...</td>\n",
       "    </tr>\n",
       "    <tr>\n",
       "      <th>3</th>\n",
       "      <td>./global_warming_1/[(256,256),npy]/test/100083...</td>\n",
       "    </tr>\n",
       "  </tbody>\n",
       "</table>\n",
       "</div>"
      ],
      "text/plain": [
       "                                          files_path\n",
       "0  ./global_warming_1/[(256,256),npy]/sample_subm...\n",
       "1  ./global_warming_1/[(256,256),npy]/test/100083...\n",
       "2  ./global_warming_1/[(256,256),npy]/test/100083...\n",
       "3  ./global_warming_1/[(256,256),npy]/test/100083..."
      ]
     },
     "execution_count": 31,
     "metadata": {},
     "output_type": "execute_result"
    }
   ],
   "source": [
    "#tmp_df.head()"
   ]
  },
  {
   "cell_type": "code",
   "execution_count": null,
   "id": "25a82f31-54cc-498b-a2be-89f1b772c09e",
   "metadata": {},
   "outputs": [],
   "source": []
  },
  {
   "cell_type": "code",
   "execution_count": 32,
   "id": "79dd2dab-5262-469c-9e84-8108109836a2",
   "metadata": {},
   "outputs": [],
   "source": [
    "'''\n",
    "def upload_file(file):\n",
    "    #여기 업로드 하는 작업\n",
    "    minio_client.fput_object(\n",
    "        bucket_name = minio_bucket_name,\n",
    "        object_name = file,\n",
    "        file_path = file\n",
    "    )\n",
    "    return file\n",
    "'''"
   ]
  },
  {
   "cell_type": "code",
   "execution_count": null,
   "id": "dcaa7c49-d249-4d39-8c36-bbb8d4db4a82",
   "metadata": {},
   "outputs": [],
   "source": []
  },
  {
   "cell_type": "code",
   "execution_count": 25,
   "id": "69f5f27a-02ca-4167-b93b-f5ef269f0fd3",
   "metadata": {},
   "outputs": [],
   "source": [
    "#tmp_df['files_path'].map(upload_file)"
   ]
  },
  {
   "cell_type": "code",
   "execution_count": null,
   "id": "c564d6b9-c5e6-4593-9f9a-9b33c17d455f",
   "metadata": {},
   "outputs": [],
   "source": []
  },
  {
   "cell_type": "code",
   "execution_count": null,
   "id": "0a06a559-56dc-4eae-8e3e-1eee7769ff36",
   "metadata": {},
   "outputs": [],
   "source": []
  },
  {
   "cell_type": "markdown",
   "id": "3d744a09-6e39-46de-832d-dbc54fac85a3",
   "metadata": {},
   "source": [
    "# PV dir에 있는 값들 압축"
   ]
  },
  {
   "cell_type": "code",
   "execution_count": null,
   "id": "5be468a0-7389-4970-9327-ed6a5ff7b570",
   "metadata": {},
   "outputs": [],
   "source": []
  },
  {
   "cell_type": "markdown",
   "id": "47c039cb-d148-4b7b-9d9d-99c5d24b34e9",
   "metadata": {},
   "source": [
    "원한다면 pv를 퍼뜨린 것처럼  \n",
    "pv를 다시 모아서 압축 할 수 도 있겠지만  \n",
    "여기서는 4조각으로 나누면 3GB 씩 해서 훨씬 쓰기 좋을테니까 그냥 두겠다.  \n",
    "=> 반드시 하나의 zip으로 두고 싶다면 파이프 라인을 하나 늘려서 pv를 합치면 된다."
   ]
  },
  {
   "cell_type": "code",
   "execution_count": null,
   "id": "b2baa347-a500-44d2-9b6b-ea64504fcdb9",
   "metadata": {},
   "outputs": [],
   "source": []
  },
  {
   "cell_type": "markdown",
   "id": "549aaa21-3ba4-413c-8965-1e27c02f3b83",
   "metadata": {},
   "source": [
    "1 container 1pv 설계이기 때문에 여러 pv에 있을거라는 가정은 그냥 날리겠음."
   ]
  },
  {
   "cell_type": "code",
   "execution_count": 33,
   "id": "fceae08a-f3b0-4ec4-adc5-5570d525773b",
   "metadata": {},
   "outputs": [],
   "source": [
    "from unzip_to_pv_manager import Unzip_to_pv_manager"
   ]
  },
  {
   "cell_type": "code",
   "execution_count": null,
   "id": "7a684b69-422e-46e8-a85c-51017c017950",
   "metadata": {},
   "outputs": [],
   "source": []
  },
  {
   "cell_type": "code",
   "execution_count": 34,
   "id": "2e2c6123-e242-450a-944a-5717d01208be",
   "metadata": {},
   "outputs": [],
   "source": [
    "pv_mount_name = os.environ['pv_mount_name']\n",
    "pv_count = os.environ['pv_count']"
   ]
  },
  {
   "cell_type": "code",
   "execution_count": null,
   "id": "713cc2bb-39cd-42e4-bb75-3acf0c56ae48",
   "metadata": {},
   "outputs": [],
   "source": []
  },
  {
   "cell_type": "code",
   "execution_count": 35,
   "id": "c7165557-26e9-4ffd-9c94-0fcac5976e36",
   "metadata": {},
   "outputs": [],
   "source": [
    "unzip = Unzip_to_pv_manager()"
   ]
  },
  {
   "cell_type": "code",
   "execution_count": null,
   "id": "1f2c8388-7bce-4d10-adf0-671fbcc62002",
   "metadata": {},
   "outputs": [],
   "source": []
  },
  {
   "cell_type": "code",
   "execution_count": 36,
   "id": "27a1e184-56a9-4318-bb58-09e20956338c",
   "metadata": {},
   "outputs": [],
   "source": [
    "name_to_save= pv_count+'.zip'"
   ]
  },
  {
   "cell_type": "code",
   "execution_count": null,
   "id": "ce58cbef-7c3a-487c-b73b-19f0e92c86c5",
   "metadata": {},
   "outputs": [],
   "source": []
  },
  {
   "cell_type": "code",
   "execution_count": null,
   "id": "b0e1f407-2a12-47a5-9b88-b914f852e681",
   "metadata": {},
   "outputs": [],
   "source": [
    "print(\"compress folder\")"
   ]
  },
  {
   "cell_type": "code",
   "execution_count": 37,
   "id": "91bbd120-9ca9-4030-83e8-11de02824d26",
   "metadata": {},
   "outputs": [],
   "source": [
    "unzip.write_zip(files_base_dir = pv_mount_name+pv_count, name_to_save= name_to_save)\n",
    "#unzip.write_zip(files_base_dir = pv_mount_name+pv_count, name_to_save=pv_count+'.zip')"
   ]
  },
  {
   "cell_type": "code",
   "execution_count": 14,
   "id": "e8e0be5a-8747-4d34-ace6-ec24f74fa27a",
   "metadata": {},
   "outputs": [],
   "source": [
    "compress_time = time.time()"
   ]
  },
  {
   "cell_type": "code",
   "execution_count": 16,
   "id": "512f193a-5861-413b-8c00-47432e1d19e0",
   "metadata": {},
   "outputs": [
    {
     "name": "stdout",
     "output_type": "stream",
     "text": [
      "compress_time takes :  19.22214651107788\n"
     ]
    }
   ],
   "source": [
    "print(\"compress_time takes : \", compress_time - get_file_df_to_remove)"
   ]
  },
  {
   "cell_type": "code",
   "execution_count": null,
   "id": "f056df1a-3e13-49c1-85d7-fb53ca2b1f4d",
   "metadata": {},
   "outputs": [],
   "source": []
  },
  {
   "cell_type": "code",
   "execution_count": 38,
   "id": "06935ea6-2824-4f31-9c80-347e18642bcb",
   "metadata": {},
   "outputs": [],
   "source": [
    "name_to_upload = 'global_warming/'+ pv_count+'.zip'"
   ]
  },
  {
   "cell_type": "code",
   "execution_count": 39,
   "id": "651b63f6-3e4e-4934-a597-c080a45b7d58",
   "metadata": {},
   "outputs": [
    {
     "name": "stdout",
     "output_type": "stream",
     "text": [
      "name_of_file :  1.zip\n",
      "name_to_upload :  global_warming/1.zip\n"
     ]
    }
   ],
   "source": [
    "print(\"name_of_file : \", name_to_save)\n",
    "print(\"name_to_upload : \", name_to_upload)"
   ]
  },
  {
   "cell_type": "code",
   "execution_count": null,
   "id": "abf1af60-5681-4cb4-a54c-c81cbdaaafc3",
   "metadata": {},
   "outputs": [],
   "source": [
    "print(\"upload start\")"
   ]
  },
  {
   "cell_type": "code",
   "execution_count": 40,
   "id": "f12986bd-b836-423d-9c0d-ee58714aa6f2",
   "metadata": {},
   "outputs": [],
   "source": [
    "def upload_from_to(from_file, to_file):\n",
    "    #여기 업로드 하는 작업\n",
    "    minio_client.fput_object(\n",
    "        bucket_name = minio_bucket_name,\n",
    "        object_name = to_file,\n",
    "        file_path = from_file\n",
    "    )\n",
    "    return from_file"
   ]
  },
  {
   "cell_type": "code",
   "execution_count": null,
   "id": "043daf31-1c45-46b8-85b3-bf17f85a5d3c",
   "metadata": {},
   "outputs": [],
   "source": []
  },
  {
   "cell_type": "code",
   "execution_count": null,
   "id": "61c8aae5-ae7b-4533-881a-d3c7c0504b5a",
   "metadata": {},
   "outputs": [],
   "source": []
  },
  {
   "cell_type": "code",
   "execution_count": 41,
   "id": "9e018626-ef41-4dd9-90ea-a5b87c653a5d",
   "metadata": {},
   "outputs": [
    {
     "data": {
      "text/plain": [
       "'8.zip'"
      ]
     },
     "execution_count": 41,
     "metadata": {},
     "output_type": "execute_result"
    }
   ],
   "source": [
    "upload_from_to(name_to_save, name_to_upload)"
   ]
  },
  {
   "cell_type": "code",
   "execution_count": 17,
   "id": "82e013d9-36b2-48b1-a842-24ee545f7ee3",
   "metadata": {},
   "outputs": [],
   "source": [
    "upload_time = time.time()"
   ]
  },
  {
   "cell_type": "code",
   "execution_count": null,
   "id": "e6eeca1e-cc70-4071-85ee-a06be21acf09",
   "metadata": {},
   "outputs": [],
   "source": []
  },
  {
   "cell_type": "code",
   "execution_count": 18,
   "id": "f1fa898b-cdd5-4f2a-80c8-fa5da3ec46d4",
   "metadata": {},
   "outputs": [
    {
     "name": "stdout",
     "output_type": "stream",
     "text": [
      "upload_time takes :  14.254436016082764\n"
     ]
    }
   ],
   "source": [
    "print(\"upload_time takes : \", upload_time - compress_time)"
   ]
  },
  {
   "cell_type": "code",
   "execution_count": null,
   "id": "cfdfa6c2-85c5-4c73-82f6-c83e71db04bc",
   "metadata": {},
   "outputs": [],
   "source": []
  },
  {
   "cell_type": "code",
   "execution_count": 19,
   "id": "6ac801e6-245a-441f-ad95-14f65cb877ec",
   "metadata": {},
   "outputs": [
    {
     "name": "stdout",
     "output_type": "stream",
     "text": [
      "finish_time :  55.695815563201904\n"
     ]
    }
   ],
   "source": [
    "print(\"finish_time : \", upload_time - start_time)"
   ]
  },
  {
   "cell_type": "code",
   "execution_count": null,
   "id": "075098de-07ea-4b52-b5f3-9a2369fd19e6",
   "metadata": {},
   "outputs": [],
   "source": []
  }
 ],
 "metadata": {
  "kernelspec": {
   "display_name": "Python 3 (ipykernel)",
   "language": "python",
   "name": "python3"
  },
  "language_info": {
   "codemirror_mode": {
    "name": "ipython",
    "version": 3
   },
   "file_extension": ".py",
   "mimetype": "text/x-python",
   "name": "python",
   "nbconvert_exporter": "python",
   "pygments_lexer": "ipython3",
   "version": "3.10.11"
  }
 },
 "nbformat": 4,
 "nbformat_minor": 5
}
