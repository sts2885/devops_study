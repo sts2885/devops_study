{
 "cells": [
  {
   "cell_type": "code",
   "execution_count": null,
   "id": "7d76ebc7-4fb0-4ffa-a9ae-84bd31540392",
   "metadata": {},
   "outputs": [],
   "source": []
  },
  {
   "cell_type": "code",
   "execution_count": null,
   "id": "3640e913-8a4d-4c9a-ab17-2d20132ce2b2",
   "metadata": {},
   "outputs": [],
   "source": []
  },
  {
   "cell_type": "markdown",
   "id": "9774c995-ebd9-4515-b506-03811f388cd8",
   "metadata": {},
   "source": [
    "# Add environment variable to here"
   ]
  },
  {
   "cell_type": "code",
   "execution_count": null,
   "id": "95a96e44-d3dd-4ea6-b2db-965eb77366d4",
   "metadata": {},
   "outputs": [],
   "source": []
  },
  {
   "cell_type": "code",
   "execution_count": 1,
   "id": "34fefa4d-9406-42ed-a8a5-25327f95569a",
   "metadata": {},
   "outputs": [],
   "source": [
    "from my_os_variables import *"
   ]
  },
  {
   "cell_type": "code",
   "execution_count": null,
   "id": "52c61ad6-019e-4b92-ac89-c4d18189e80e",
   "metadata": {},
   "outputs": [],
   "source": []
  },
  {
   "cell_type": "code",
   "execution_count": 2,
   "id": "1fb90595-3cfc-4df0-a466-2859e3592e8e",
   "metadata": {},
   "outputs": [],
   "source": [
    "import os\n",
    "\n",
    "minio_url = os.environ[\"minio_url\"]\n",
    "minio_access_key = os.environ['minio_access_key']\n",
    "minio_secret_key = os.environ['minio_secret_key']\n",
    "minio_region = os.environ['minio_region']\n",
    "minio_bucket_name = os.environ['minio_bucket_name']\n",
    "\n",
    "competition_name = os.environ['competition_name']\n",
    "\n",
    "kaggle_access_key = os.environ[\"kaggle_access_key\"]\n",
    "kaggle_secret_key = os.environ[\"kaggle_secret_key\"]\n",
    "\n",
    "pv_mount_name = os.environ['pv_mount_name']\n",
    "pv_count = os.environ['pv_count']\n",
    "\n",
    "download_from = os.environ['download_from']"
   ]
  },
  {
   "cell_type": "code",
   "execution_count": null,
   "id": "066a2292-4831-4d32-a091-49cb491f7aa6",
   "metadata": {},
   "outputs": [],
   "source": []
  },
  {
   "cell_type": "code",
   "execution_count": null,
   "id": "c92798a6-ecce-4c78-9859-9e4073a633b1",
   "metadata": {},
   "outputs": [],
   "source": []
  },
  {
   "cell_type": "code",
   "execution_count": null,
   "id": "154f6556-1794-47a0-8e08-61a3e089295f",
   "metadata": {},
   "outputs": [],
   "source": []
  },
  {
   "cell_type": "code",
   "execution_count": null,
   "id": "a88e236f-e3c8-48d1-8e99-9d21e96e722b",
   "metadata": {},
   "outputs": [],
   "source": []
  },
  {
   "cell_type": "code",
   "execution_count": 5,
   "id": "4e09865a-76d7-43a4-b045-09e678aa1cbb",
   "metadata": {},
   "outputs": [
    {
     "name": "stdout",
     "output_type": "stream",
     "text": [
      "{'experiments': [{'created_at': datetime.datetime(2023, 9, 9, 4, 10, 57, tzinfo=tzlocal()),\n",
      "                  'description': None,\n",
      "                  'id': 'c6b640f2-b998-45ed-b856-65af8139c0fc',\n",
      "                  'name': 'global_warming_level_3',\n",
      "                  'resource_references': [{'key': {'id': 'kubeflow-user-example-com',\n",
      "                                                   'type': 'NAMESPACE'},\n",
      "                                           'name': None,\n",
      "                                           'relationship': 'OWNER'}],\n",
      "                  'storage_state': 'STORAGESTATE_AVAILABLE'}],\n",
      " 'next_page_token': None,\n",
      " 'total_size': 1}\n"
     ]
    }
   ],
   "source": [
    "import kfp\n",
    "import kfp.dsl as dsl\n",
    "\n",
    "from kubernetes import client as k8s_client\n",
    "\n",
    "from istio_auth_with_client import kfp_client"
   ]
  },
  {
   "cell_type": "code",
   "execution_count": null,
   "id": "54fb20f3-b5ae-430c-b805-3462d1c9380a",
   "metadata": {},
   "outputs": [],
   "source": []
  },
  {
   "cell_type": "markdown",
   "id": "4a31a746-aab0-46b1-a0f5-4eb00e9c0297",
   "metadata": {},
   "source": [
    "## pv 문제인지 pipeline 문제인지 모르겠으나 같은 이름이 들어가 있는 상태로 run이 되면 pvc가 생성이 되지 않는 버그를 발견했다.(이전pipeline을 terminate 시켜도)\n",
    "## 따라서 이름 앞에 랜덤 문자열을 붙였다."
   ]
  },
  {
   "cell_type": "code",
   "execution_count": 6,
   "id": "b7d7585c-e664-46e7-a99d-461a54dc8234",
   "metadata": {},
   "outputs": [
    {
     "name": "stdout",
     "output_type": "stream",
     "text": [
      "ojjnjlny\n"
     ]
    }
   ],
   "source": [
    "import string\n",
    "import random\n",
    "\n",
    "_LENGTH = 8 # 몇자리?\n",
    "string_pool = string.ascii_lowercase\n",
    "tmp_hash = \"\" # 결과 값\n",
    "for i in range(_LENGTH) :\n",
    "    # 랜덤한 하나의 숫자를 뽑아서, 문자열 결합을 한다.\n",
    "    tmp_hash += random.choice(string_pool)\n",
    "print(tmp_hash)"
   ]
  },
  {
   "cell_type": "code",
   "execution_count": null,
   "id": "576592f0-02a1-4695-bbe3-9a02c1d06b69",
   "metadata": {},
   "outputs": [],
   "source": []
  },
  {
   "cell_type": "code",
   "execution_count": null,
   "id": "c8450333-403b-4431-8996-e010d89e9dc3",
   "metadata": {},
   "outputs": [],
   "source": []
  },
  {
   "cell_type": "code",
   "execution_count": null,
   "id": "12d9f0f0-a7d5-44ec-9fbc-b5b438d22ada",
   "metadata": {},
   "outputs": [],
   "source": []
  },
  {
   "cell_type": "code",
   "execution_count": null,
   "id": "fc988f39-3127-4131-a21e-421b8c21e70c",
   "metadata": {},
   "outputs": [],
   "source": []
  },
  {
   "cell_type": "code",
   "execution_count": 7,
   "id": "9c5a6ee1-475d-4e44-ae95-9c72174f51ad",
   "metadata": {},
   "outputs": [],
   "source": [
    "#타입 명시 안해주면 이상한 값이 들어오는듯?\n",
    "def sleep_for_a_while(sleep_time : int):\n",
    "    import time\n",
    "    print(\"sleep for \", sleep_time, 'seconds')\n",
    "    time.sleep(sleep_time)"
   ]
  },
  {
   "cell_type": "code",
   "execution_count": null,
   "id": "768490d8-8185-4375-87ea-afa222edb7c7",
   "metadata": {},
   "outputs": [],
   "source": []
  },
  {
   "cell_type": "code",
   "execution_count": 8,
   "id": "f203b5b0-36ca-43fd-bc3e-f702f74cb389",
   "metadata": {},
   "outputs": [],
   "source": [
    "#sleep_for_a_while(5)\n",
    "#print(\"good\")"
   ]
  },
  {
   "cell_type": "code",
   "execution_count": null,
   "id": "3a212739-179c-4894-b959-4c5b908dc9a2",
   "metadata": {},
   "outputs": [],
   "source": []
  },
  {
   "cell_type": "code",
   "execution_count": 9,
   "id": "6cd9beb2-2a0a-4f2c-afcf-9e9841fd1a04",
   "metadata": {},
   "outputs": [],
   "source": [
    "\n",
    "@dsl.pipeline(\n",
    "    name=tmp_hash+\"level3\",\n",
    "    description=tmp_hash+\"level3\"\n",
    ")\n",
    "def global_warming_level_3_pipeline():\n",
    "    \n",
    "    \n",
    "    #list 보다 dict가 낫나?\n",
    "    volume_list = []\n",
    "    volume_dict = dict()\n",
    "    \n",
    "    for pv_num in range(1, int(pv_count)+1):\n",
    "        \n",
    "        mount_path = \"/var/source/\" + pv_mount_name + str(pv_num)\n",
    "        \n",
    "        vop = dsl.VolumeOp(name=tmp_hash+\"create_pvc_\"+str(pv_num),\n",
    "                   resource_name=tmp_hash+'my-pvc-'+str(pv_num),\n",
    "                   size='1Gi',#실전에서는 크게 잡아야됨.\n",
    "                   modes=dsl.VOLUME_MODE_RWO, #RWO : read write once\n",
    "                   set_owner_reference = True # https://github.com/kubeflow/pipelines/issues/6649#issuecomment-938509228\n",
    "                  )\n",
    "        volume_list.append(mount_path)\n",
    "        volume_dict[mount_path] = vop.volume\n",
    "    \n",
    "    #print(\"volume_list\", volume_list)\n",
    "    #print(\"volume_dict\", volume_dict)\n",
    "    \n",
    "    \n",
    "    mount_path = \"/var/source/global_warming\"\n",
    "    download_pv = dsl.VolumeOp(name=tmp_hash+\"create_pvc_0\",\n",
    "                       resource_name=tmp_hash+'my-pvc-0',\n",
    "                       size='400Gi',\n",
    "                       modes=dsl.VOLUME_MODE_RWO, #RWO : read write once\n",
    "                       set_owner_reference = True # https://github.com/kubeflow/pipelines/issues/6649#issuecomment-938509228\n",
    "                       )\n",
    "    volume_list.append(mount_path)\n",
    "    volume_dict[mount_path] = download_pv.volume\n",
    "    \n",
    "    \n",
    "    step_1 = kfp.dsl.ContainerOp(\n",
    "        name=\"download_and_extract\",\n",
    "        image=\"escs34/global_warming:level_3_12gb_v17\", #command를 넣을 수 있음.. argument랑\n",
    "        command=[\"python3\"],\n",
    "        arguments=[\n",
    "            \"/var/source/level_3_12gb_main_a.py\"\n",
    "        ],\n",
    "        #여기서 한번에 넣으려고 했는데 그랬더니 마지막 pv만 딱 연결됨. add_pvolume으로 되나 봐야 겠음\n",
    "        #=> pv_num이 아니라 pv_count로 넣어서 마지막 값만 들어감... dict에 마지막 값밖에 없었음\n",
    "        pvolumes=volume_dict\n",
    "        #pvolumes={'/var/source/global_warming': vop.volume}\n",
    "    )\n",
    "    \n",
    "    \n",
    "    #for key, value in volume_dict.items():\n",
    "    #    print(\"key, value : \", key)#,value)\n",
    "    #    step_1.add_pvolumes({key:value})\n",
    "    \n",
    "\n",
    "    #이거 썼더니 2번 돌리면 \"어머 이전 값이 캐시에 있네요^^? 하면서 스킵해버림\n",
    "    #sleep_for_a_while_op = kfp.components.func_to_container_op(sleep_for_a_while)\n",
    "    #sleep_time = 10\n",
    "    #sleep_for_a_while_task = sleep_for_a_while_op(sleep_time)\n",
    "    \n",
    "    sleep_for_scale_out = kfp.dsl.ContainerOp(\n",
    "        name=\"download_and_extract\",\n",
    "        image=\"escs34/global_warming:level_2_v5\", #command를 넣을 수 있음.. argument랑\n",
    "        command=[\"sleep\"],\n",
    "        arguments=[\n",
    "            \"300\"\n",
    "        ],\n",
    "        #여기서 한번에 넣으려고 했는데 그랬더니 마지막 pv만 딱 연결됨. add_pvolume으로 되나 봐야 겠음\n",
    "        #=> pv_num이 아니라 pv_count로 넣어서 마지막 값만 들어감... dict에 마지막 값밖에 없었음\n",
    "        pvolumes=volume_dict\n",
    "        #pvolumes={'/var/source/global_warming': vop.volume}\n",
    "    )\n",
    "    \n",
    "    \n",
    "    \n",
    "    #step_2 는 pv 숫자 만큼 만들어 져야 함.\n",
    "    step_2_list = []\n",
    "    for pv_num in range(1,int(pv_count)+1):\n",
    "        mount_path = \"/var/source/\" + pv_mount_name + str(pv_num)\n",
    "        step_2 = kfp.dsl.ContainerOp(\n",
    "            name = \"resize_reformat_zip_data_and_upload\",\n",
    "            image=\"escs34/global_warming:level_3_12gb_v17\",\n",
    "            command=[\"python3\"],\n",
    "            arguments=[\n",
    "                \"/var/source/level_3_12gb_main_b.py\"\n",
    "            ],\n",
    "            #pvolumes=volume_dict\n",
    "            pvolumes={'/var/source/'+pv_mount_name+str(pv_num): volume_dict[mount_path]}\n",
    "        )\n",
    "        step_2_list.append(step_2)\n",
    "        \n",
    "    #print(\"step_2_list : \", step_2_list)\n",
    "    \n",
    "    steps = [step_1] + step_2_list\n",
    "    pv_count_list = [pv_count] + [str(pv_num) for pv_num in range(1, int(pv_count)+1)]\n",
    "    print(\"pv_count_list : \",pv_count_list)\n",
    "    \n",
    "    for i in range(len(steps)):\n",
    "        steps[i].add_env_variable(k8s_client.V1EnvVar(name='minio_url', value=minio_url)) \\\n",
    "            .add_env_variable(k8s_client.V1EnvVar(name='minio_access_key', value=minio_access_key)) \\\n",
    "            .add_env_variable(k8s_client.V1EnvVar(name='minio_secret_key', value=minio_secret_key)) \\\n",
    "            .add_env_variable(k8s_client.V1EnvVar(name='minio_region', value=minio_region)) \\\n",
    "            .add_env_variable(k8s_client.V1EnvVar(name='minio_bucket_name', value=minio_bucket_name)) \\\n",
    "            .add_env_variable(k8s_client.V1EnvVar(name='competition_name', value=competition_name)) \\\n",
    "            .add_env_variable(k8s_client.V1EnvVar(name='kaggle_access_key', value=kaggle_access_key)) \\\n",
    "            .add_env_variable(k8s_client.V1EnvVar(name='kaggle_secret_key', value=kaggle_secret_key)) \\\n",
    "            .add_env_variable(k8s_client.V1EnvVar(name='pv_mount_name', value=pv_mount_name)) \\\n",
    "            .add_env_variable(k8s_client.V1EnvVar(name='pv_count', value=pv_count_list[i])) \\\n",
    "            .add_env_variable(k8s_client.V1EnvVar(name='download_from', value=download_from))\n",
    "\n",
    "        \n",
    "        \n",
    "        \n",
    "    #build the pipelien with definded container\n",
    "    \n",
    "    sleep_for_scale_out.after(step_1)#\n",
    "    \n",
    "    #for pv_num in range(int(pv_count)):\n",
    "    #    step_2_list[pv_num].after(step_1)\n",
    "    \n",
    "    for pv_num in range(int(pv_count)):\n",
    "        step_2_list[pv_num].after(sleep_for_scale_out)\n",
    "    \n",
    "    #pod를 compelete 후 300초 뒤에 삭제 (삭제해야 pv도 삭제돼서 사용.)\n",
    "    dsl.get_pipeline_conf().set_ttl_seconds_after_finished(300)\n",
    "\n",
    "    "
   ]
  },
  {
   "cell_type": "code",
   "execution_count": null,
   "id": "c1e1c193-4486-478f-aabd-b0b9ea4bf9e7",
   "metadata": {},
   "outputs": [],
   "source": []
  },
  {
   "cell_type": "code",
   "execution_count": null,
   "id": "ae28e835-9ee4-48e9-9937-5290e9edd9cd",
   "metadata": {},
   "outputs": [],
   "source": []
  },
  {
   "cell_type": "code",
   "execution_count": null,
   "id": "87ee0f92-636f-4f59-ae64-a2e6e4511cd3",
   "metadata": {},
   "outputs": [],
   "source": []
  },
  {
   "cell_type": "code",
   "execution_count": 10,
   "id": "e8ebcc07-960a-4aad-bf96-d78bb2b33587",
   "metadata": {},
   "outputs": [],
   "source": [
    "from kfp import compiler"
   ]
  },
  {
   "cell_type": "code",
   "execution_count": 11,
   "id": "c0891acc-84ea-498a-bf86-d3ab8fe81e9f",
   "metadata": {},
   "outputs": [
    {
     "data": {
      "text/html": [
       "<a href=\"http://34.228.236.0:8080//pipeline/#/experiments/details/c6b640f2-b998-45ed-b856-65af8139c0fc\" target=\"_blank\" >Experiment details</a>."
      ],
      "text/plain": [
       "<IPython.core.display.HTML object>"
      ]
     },
     "metadata": {},
     "output_type": "display_data"
    }
   ],
   "source": [
    "exp = kfp_client.create_experiment(name=\"global_warming_level_3\")\n",
    "exp = kfp_client.get_experiment(experiment_name=\"global_warming_level_3\")"
   ]
  },
  {
   "cell_type": "code",
   "execution_count": null,
   "id": "d8e2c0d8-4185-41b6-8c21-e4d645ec1656",
   "metadata": {},
   "outputs": [],
   "source": []
  },
  {
   "cell_type": "code",
   "execution_count": 12,
   "id": "eb455cb9-f7ee-492f-97e2-93c9655fd6a8",
   "metadata": {
    "tags": []
   },
   "outputs": [
    {
     "name": "stderr",
     "output_type": "stream",
     "text": [
      "/opt/conda/lib/python3.8/site-packages/kfp/dsl/_container_op.py:1261: FutureWarning: Please create reusable components instead of constructing ContainerOp instances directly. Reusable components are shareable, portable and have compatibility and support guarantees. Please see the documentation: https://www.kubeflow.org/docs/pipelines/sdk/component-development/#writing-your-component-definition-file The components can be created manually (or, in case of python, using kfp.components.create_component_from_func or func_to_container_op) and then loaded using kfp.components.load_component_from_file, load_component_from_uri or load_component_from_text: https://kubeflow-pipelines.readthedocs.io/en/stable/source/kfp.components.html#kfp.components.load_component_from_file\n",
      "  warnings.warn(\n"
     ]
    },
    {
     "name": "stdout",
     "output_type": "stream",
     "text": [
      "pv_count_list :  ['3', '1', '2', '3']\n"
     ]
    }
   ],
   "source": [
    "compiler.Compiler().compile(global_warming_level_3_pipeline, \"level_3.yaml\")"
   ]
  },
  {
   "cell_type": "code",
   "execution_count": null,
   "id": "8cc48058-8e17-4f6e-b732-843d337bd29e",
   "metadata": {},
   "outputs": [],
   "source": []
  },
  {
   "cell_type": "code",
   "execution_count": 13,
   "id": "d9184cd3-db67-4a3d-bbe3-cdad5d295e72",
   "metadata": {},
   "outputs": [
    {
     "data": {
      "text/html": [
       "<a href=\"http://34.228.236.0:8080//pipeline/#/runs/details/90bdfa04-d5b4-4b8c-8442-c8459d18e62c\" target=\"_blank\" >Run details</a>."
      ],
      "text/plain": [
       "<IPython.core.display.HTML object>"
      ]
     },
     "metadata": {},
     "output_type": "display_data"
    }
   ],
   "source": [
    "run = kfp_client.run_pipeline(exp.id, \"level_3\", \"level_3.yaml\")"
   ]
  },
  {
   "cell_type": "code",
   "execution_count": null,
   "id": "5e1da4ea-b217-4e0b-9eb5-99b80fe1d662",
   "metadata": {},
   "outputs": [],
   "source": []
  },
  {
   "cell_type": "code",
   "execution_count": null,
   "id": "ca1f98d7-fa70-404c-ab8c-edcd66c7bbad",
   "metadata": {},
   "outputs": [],
   "source": []
  },
  {
   "cell_type": "code",
   "execution_count": null,
   "id": "6f110748-4b3a-46ba-bd83-f567fcf6be94",
   "metadata": {},
   "outputs": [],
   "source": []
  },
  {
   "cell_type": "code",
   "execution_count": null,
   "id": "b42de163-299e-4dc2-a203-37c79f16261d",
   "metadata": {},
   "outputs": [],
   "source": []
  },
  {
   "cell_type": "code",
   "execution_count": null,
   "id": "3087db5e-f44c-4f38-a42c-c87e4031082e",
   "metadata": {},
   "outputs": [],
   "source": []
  }
 ],
 "metadata": {
  "kernelspec": {
   "display_name": "Python 3 (ipykernel)",
   "language": "python",
   "name": "python3"
  },
  "language_info": {
   "codemirror_mode": {
    "name": "ipython",
    "version": 3
   },
   "file_extension": ".py",
   "mimetype": "text/x-python",
   "name": "python",
   "nbconvert_exporter": "python",
   "pygments_lexer": "ipython3",
   "version": "3.10.11"
  }
 },
 "nbformat": 4,
 "nbformat_minor": 5
}
