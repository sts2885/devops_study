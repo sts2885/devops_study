{
 "cells": [
  {
   "cell_type": "code",
   "execution_count": null,
   "id": "7d76ebc7-4fb0-4ffa-a9ae-84bd31540392",
   "metadata": {},
   "outputs": [],
   "source": []
  },
  {
   "cell_type": "code",
   "execution_count": null,
   "id": "52c61ad6-019e-4b92-ac89-c4d18189e80e",
   "metadata": {},
   "outputs": [],
   "source": []
  },
  {
   "cell_type": "code",
   "execution_count": 9,
   "id": "1fb90595-3cfc-4df0-a466-2859e3592e8e",
   "metadata": {},
   "outputs": [],
   "source": [
    "minio_url = os.environ[\"minio_url\"]\n",
    "minio_access_key = os.environ['minio_access_key']\n",
    "minio_secret_key = os.environ['minio_secret_key']\n",
    "minio_region = os.environ['minio_region']\n",
    "minio_bucket_name = os.environ['minio_bucket_name']\n",
    "\n",
    "competition_name = os.environ['competition_name']\n",
    "\n",
    "kaggle_access_key = os.environ[\"kaggle_access_key\"]\n",
    "kaggle_secret_key = os.environ[\"kaggle_secret_key\"]\n",
    "\n",
    "pv_mount_name = os.environ['pv_mount_name']\n",
    "pv_count = os.environ['pv_count']\n",
    "\n",
    "download_from = os.environ['download_from']"
   ]
  },
  {
   "cell_type": "code",
   "execution_count": null,
   "id": "a88e236f-e3c8-48d1-8e99-9d21e96e722b",
   "metadata": {},
   "outputs": [],
   "source": []
  },
  {
   "cell_type": "code",
   "execution_count": 10,
   "id": "4e09865a-76d7-43a4-b045-09e678aa1cbb",
   "metadata": {},
   "outputs": [],
   "source": [
    "import kfp\n",
    "import kfp.dsl as dsl\n",
    "\n",
    "from kubernetes import client as k8s_client\n",
    "\n",
    "from istio_auth_with_client import kfp_client"
   ]
  },
  {
   "cell_type": "code",
   "execution_count": null,
   "id": "3a212739-179c-4894-b959-4c5b908dc9a2",
   "metadata": {},
   "outputs": [],
   "source": []
  },
  {
   "cell_type": "code",
   "execution_count": 11,
   "id": "6cd9beb2-2a0a-4f2c-afcf-9e9841fd1a04",
   "metadata": {},
   "outputs": [],
   "source": [
    "\n",
    "@dsl.pipeline(\n",
    "    name=\"mount_test\",\n",
    "    description=\"mount_test\"\n",
    ")\n",
    "def global_warming_level_3_pipeline():\n",
    "    \n",
    "    \n",
    "    #list 보다 dict가 낫나?\n",
    "    volume_list = []\n",
    "    volume_dict = dict()\n",
    "    \n",
    "    for pv_num in range(1, int(pv_count)+1):\n",
    "        \n",
    "        mount_path = \"/var/source/\" + pv_mount_name + str(pv_num)\n",
    "        \n",
    "        vop = dsl.VolumeOp(name=\"create_pvc_\"+str(pv_num),\n",
    "                   resource_name='my-pvc-'+str(pv_num),\n",
    "                   size='35Gi',#실전에서는 크게 잡아야됨.\n",
    "                   modes=dsl.VOLUME_MODE_RWO, #RWO : read write once\n",
    "                   set_owner_reference = True # https://github.com/kubeflow/pipelines/issues/6649#issuecomment-938509228\n",
    "                  )\n",
    "        volume_list.append(mount_path)\n",
    "        volume_dict[mount_path] = vop.volume\n",
    "    \n",
    "    #print(\"volume_list\", volume_list)\n",
    "    #print(\"volume_dict\", volume_dict)\n",
    "    \n",
    "    step_1 = kfp.dsl.ContainerOp(\n",
    "        name=\"download_and_extract\",\n",
    "        image=\"escs34/global_warming:level_3_12gb_v10\", #command를 넣을 수 있음.. argument랑\n",
    "        command=[\"python3\"],\n",
    "        arguments=[\n",
    "            \"/var/source/level_3_12gb_main_a.py\"\n",
    "        ],\n",
    "        #여기서 한번에 넣으려고 했는데 그랬더니 마지막 pv만 딱 연결됨. add_pvolume으로 되나 봐야 겠음\n",
    "        #=> pv_num이 아니라 pv_count로 넣어서 마지막 값만 들어감... dict에 마지막 값밖에 없었음\n",
    "        pvolumes=volume_dict\n",
    "        #pvolumes={'/var/source/global_warming': vop.volume}\n",
    "    )\n",
    "    \n",
    "    \n",
    "    #for key, value in volume_dict.items():\n",
    "    #    print(\"key, value : \", key)#,value)\n",
    "    #    step_1.add_pvolumes({key:value})\n",
    "    \n",
    "    \n",
    "    #step_2 는 pv 숫자 만큼 만들어 져야 함.\n",
    "    step_2_list = []\n",
    "    for pv_num in range(1,int(pv_count)+1):\n",
    "        mount_path = \"/var/source/\" + pv_mount_name + str(pv_num)\n",
    "        step_2 = kfp.dsl.ContainerOp(\n",
    "            name = \"resize_reformat_zip_data_and_upload\",\n",
    "            image=\"escs34/global_warming:level_3_12gb_v10\",\n",
    "            command=[\"python3\"],\n",
    "            arguments=[\n",
    "                \"/var/source/level_3_12gb_main_b.py\"\n",
    "            ],\n",
    "            #pvolumes=volume_dict\n",
    "            pvolumes={'/var/source/'+pv_mount_name+str(pv_num): volume_dict[mount_path]}\n",
    "        )\n",
    "        step_2_list.append(step_2)\n",
    "        \n",
    "    #print(\"step_2_list : \", step_2_list)\n",
    "    \n",
    "    steps = [step_1] + step_2_list\n",
    "    pv_count_list = [pv_count] + [str(pv_num) for pv_num in range(1, int(pv_count)+1)]\n",
    "    print(\"pv_count_list : \",pv_count_list)\n",
    "    \n",
    "    for i in range(len(steps)):\n",
    "        steps[i].add_env_variable(k8s_client.V1EnvVar(name='minio_url', value=minio_url)) \\\n",
    "            .add_env_variable(k8s_client.V1EnvVar(name='minio_access_key', value=minio_access_key)) \\\n",
    "            .add_env_variable(k8s_client.V1EnvVar(name='minio_secret_key', value=minio_secret_key)) \\\n",
    "            .add_env_variable(k8s_client.V1EnvVar(name='minio_region', value=minio_region)) \\\n",
    "            .add_env_variable(k8s_client.V1EnvVar(name='minio_bucket_name', value=minio_bucket_name)) \\\n",
    "            .add_env_variable(k8s_client.V1EnvVar(name='competition_name', value=competition_name)) \\\n",
    "            .add_env_variable(k8s_client.V1EnvVar(name='kaggle_access_key', value=kaggle_access_key)) \\\n",
    "            .add_env_variable(k8s_client.V1EnvVar(name='kaggle_secret_key', value=kaggle_secret_key)) \\\n",
    "            .add_env_variable(k8s_client.V1EnvVar(name='pv_mount_name', value=pv_mount_name)) \\\n",
    "            .add_env_variable(k8s_client.V1EnvVar(name='pv_count', value=pv_count_list[i])) \\\n",
    "            .add_env_variable(k8s_client.V1EnvVar(name='download_from', value=download_from))\n",
    "\n",
    "    for pv_num in range(int(pv_count)):\n",
    "        step_2_list[pv_num].after(step_1)\n",
    "        \n",
    "    #pod를 compelete 후 20초 뒤에 삭제 (삭제해야 pv도 삭제돼서 사용.)\n",
    "    #pod 삭제되도 pv가 남아 있는데?\n",
    "    dsl.get_pipeline_conf().set_ttl_seconds_after_finished(20)\n",
    "\n",
    "    "
   ]
  },
  {
   "cell_type": "code",
   "execution_count": null,
   "id": "e1419c21-4da0-4527-afac-ca13d8957949",
   "metadata": {},
   "outputs": [],
   "source": []
  },
  {
   "cell_type": "code",
   "execution_count": null,
   "id": "048296b1-5223-459d-92b9-c3eca131083d",
   "metadata": {},
   "outputs": [],
   "source": []
  },
  {
   "cell_type": "code",
   "execution_count": 12,
   "id": "e8ebcc07-960a-4aad-bf96-d78bb2b33587",
   "metadata": {},
   "outputs": [],
   "source": [
    "from kfp import compiler"
   ]
  },
  {
   "cell_type": "code",
   "execution_count": 13,
   "id": "c0891acc-84ea-498a-bf86-d3ab8fe81e9f",
   "metadata": {},
   "outputs": [
    {
     "data": {
      "text/html": [
       "<a href=\"http://3.86.49.127:8080//pipeline/#/experiments/details/cee6fbe1-b000-4044-9314-f6f5782f71b0\" target=\"_blank\" >Experiment details</a>."
      ],
      "text/plain": [
       "<IPython.core.display.HTML object>"
      ]
     },
     "metadata": {},
     "output_type": "display_data"
    }
   ],
   "source": [
    "exp = kfp_client.create_experiment(name=\"global_warming_level_3\")\n",
    "exp = kfp_client.get_experiment(experiment_name=\"global_warming_level_3\")"
   ]
  },
  {
   "cell_type": "code",
   "execution_count": null,
   "id": "d8e2c0d8-4185-41b6-8c21-e4d645ec1656",
   "metadata": {},
   "outputs": [],
   "source": []
  },
  {
   "cell_type": "code",
   "execution_count": 14,
   "id": "eb455cb9-f7ee-492f-97e2-93c9655fd6a8",
   "metadata": {
    "tags": []
   },
   "outputs": [
    {
     "name": "stdout",
     "output_type": "stream",
     "text": [
      "pv_count_list :  ['8', '1', '2', '3', '4', '5', '6', '7', '8']\n"
     ]
    }
   ],
   "source": [
    "compiler.Compiler().compile(global_warming_level_3_pipeline, \"level_3.yaml\")"
   ]
  },
  {
   "cell_type": "code",
   "execution_count": null,
   "id": "8cc48058-8e17-4f6e-b732-843d337bd29e",
   "metadata": {},
   "outputs": [],
   "source": []
  },
  {
   "cell_type": "code",
   "execution_count": 15,
   "id": "d9184cd3-db67-4a3d-bbe3-cdad5d295e72",
   "metadata": {},
   "outputs": [
    {
     "data": {
      "text/html": [
       "<a href=\"http://3.86.49.127:8080//pipeline/#/runs/details/1a7f5ca3-941c-4016-9575-3a552442d8f3\" target=\"_blank\" >Run details</a>."
      ],
      "text/plain": [
       "<IPython.core.display.HTML object>"
      ]
     },
     "metadata": {},
     "output_type": "display_data"
    }
   ],
   "source": [
    "run = kfp_client.run_pipeline(exp.id, \"level_3\", \"level_3.yaml\")"
   ]
  },
  {
   "cell_type": "code",
   "execution_count": null,
   "id": "5e1da4ea-b217-4e0b-9eb5-99b80fe1d662",
   "metadata": {},
   "outputs": [],
   "source": []
  },
  {
   "cell_type": "code",
   "execution_count": null,
   "id": "82cb1ee4-5551-4c28-82db-655ec58b890f",
   "metadata": {},
   "outputs": [],
   "source": []
  },
  {
   "cell_type": "code",
   "execution_count": null,
   "id": "ca1f98d7-fa70-404c-ab8c-edcd66c7bbad",
   "metadata": {},
   "outputs": [],
   "source": []
  }
 ],
 "metadata": {
  "kernelspec": {
   "display_name": "Python 3 (ipykernel)",
   "language": "python",
   "name": "python3"
  },
  "language_info": {
   "codemirror_mode": {
    "name": "ipython",
    "version": 3
   },
   "file_extension": ".py",
   "mimetype": "text/x-python",
   "name": "python",
   "nbconvert_exporter": "python",
   "pygments_lexer": "ipython3",
   "version": "3.10.11"
  }
 },
 "nbformat": 4,
 "nbformat_minor": 5
}
