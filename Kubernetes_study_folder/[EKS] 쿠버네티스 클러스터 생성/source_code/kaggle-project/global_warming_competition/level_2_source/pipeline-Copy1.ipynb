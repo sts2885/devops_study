{
 "cells": [
  {
   "cell_type": "code",
   "execution_count": null,
   "id": "d6cd70f4-99b8-4c1d-9c76-ae1c8619b34a",
   "metadata": {},
   "outputs": [],
   "source": []
  },
  {
   "cell_type": "code",
   "execution_count": null,
   "id": "fa813a29-0a3b-4465-a420-28763ee34301",
   "metadata": {},
   "outputs": [],
   "source": []
  },
  {
   "cell_type": "code",
   "execution_count": null,
   "id": "addb0c8b-7c88-4a8d-bb14-c3fdfd71a9de",
   "metadata": {},
   "outputs": [],
   "source": []
  },
  {
   "cell_type": "code",
   "execution_count": null,
   "id": "7d76ebc7-4fb0-4ffa-a9ae-84bd31540392",
   "metadata": {},
   "outputs": [],
   "source": []
  },
  {
   "cell_type": "code",
   "execution_count": null,
   "id": "52c61ad6-019e-4b92-ac89-c4d18189e80e",
   "metadata": {},
   "outputs": [],
   "source": []
  },
  {
   "cell_type": "code",
   "execution_count": 2,
   "id": "1fb90595-3cfc-4df0-a466-2859e3592e8e",
   "metadata": {},
   "outputs": [],
   "source": [
    "minio_url = os.environ[\"minio_url\"]\n",
    "minio_access_key = os.environ['minio_access_key']\n",
    "minio_secret_key = os.environ['minio_secret_key']\n",
    "minio_region = os.environ['minio_region']\n",
    "minio_bucket_name = os.environ['minio_bucket_name']\n",
    "\n",
    "competition_name = os.environ['competition_name']\n",
    "\n",
    "kaggle_access_key = os.environ[\"kaggle_access_key\"]\n",
    "kaggle_secret_key = os.environ[\"kaggle_secret_key\"]\n",
    "\n",
    "pv_mount_name = os.environ['pv_mount_name']\n",
    "pv_count = os.environ['pv_count']"
   ]
  },
  {
   "cell_type": "code",
   "execution_count": null,
   "id": "a88e236f-e3c8-48d1-8e99-9d21e96e722b",
   "metadata": {},
   "outputs": [],
   "source": []
  },
  {
   "cell_type": "code",
   "execution_count": 3,
   "id": "4e09865a-76d7-43a4-b045-09e678aa1cbb",
   "metadata": {},
   "outputs": [
    {
     "name": "stdout",
     "output_type": "stream",
     "text": [
      "{'experiments': [{'created_at': datetime.datetime(2023, 8, 27, 14, 24, 16, tzinfo=tzlocal()),\n",
      "                  'description': None,\n",
      "                  'id': '31d5afc8-e53c-4c9e-a6e4-7f4b2f1df2e2',\n",
      "                  'name': 'global_warming_level_1',\n",
      "                  'resource_references': [{'key': {'id': 'kubeflow-user-example-com',\n",
      "                                                   'type': 'NAMESPACE'},\n",
      "                                           'name': None,\n",
      "                                           'relationship': 'OWNER'}],\n",
      "                  'storage_state': 'STORAGESTATE_AVAILABLE'},\n",
      "                 {'created_at': datetime.datetime(2023, 8, 27, 16, 38, 6, tzinfo=tzlocal()),\n",
      "                  'description': None,\n",
      "                  'id': 'c2975afa-77bb-4d98-9412-bbeaf5ab1a6a',\n",
      "                  'name': 'global_warming_level_2',\n",
      "                  'resource_references': [{'key': {'id': 'kubeflow-user-example-com',\n",
      "                                                   'type': 'NAMESPACE'},\n",
      "                                           'name': None,\n",
      "                                           'relationship': 'OWNER'}],\n",
      "                  'storage_state': 'STORAGESTATE_AVAILABLE'}],\n",
      " 'next_page_token': None,\n",
      " 'total_size': 2}\n"
     ]
    }
   ],
   "source": [
    "import kfp\n",
    "import kfp.dsl as dsl\n",
    "\n",
    "from kubernetes import client as k8s_client\n",
    "\n",
    "from istio_auth_with_client import kfp_client"
   ]
  },
  {
   "cell_type": "code",
   "execution_count": null,
   "id": "3a212739-179c-4894-b959-4c5b908dc9a2",
   "metadata": {},
   "outputs": [],
   "source": []
  },
  {
   "cell_type": "code",
   "execution_count": 4,
   "id": "6cd9beb2-2a0a-4f2c-afcf-9e9841fd1a04",
   "metadata": {},
   "outputs": [],
   "source": [
    "\n",
    "@dsl.pipeline(\n",
    "    name=\"mount_test\",\n",
    "    description=\"mount_test\"\n",
    ")\n",
    "def global_warming_level_2_pipeline():\n",
    "    \n",
    "    \n",
    "    #list 보다 dict가 낫나?\n",
    "    volume_list = []\n",
    "    volume_dict = dict()\n",
    "    \n",
    "    for pv_num in range(1, int(pv_count)+1):\n",
    "        \n",
    "        mount_path = \"/var/source/\" + pv_mount_name + str(pv_num)\n",
    "        \n",
    "        vop = dsl.VolumeOp(name=\"create_pvc_\"+str(pv_num),\n",
    "                   resource_name='my-pvc-'+str(pv_num),\n",
    "                   size='5Gi',#실전에서는 크게 잡아야됨.\n",
    "                   modes=dsl.VOLUME_MODE_RWO\n",
    "                  )\n",
    "        volume_list.append(mount_path)\n",
    "        volume_dict[mount_path] = vop.volume\n",
    "    \n",
    "    #print(\"volume_list\", volume_list)\n",
    "    #print(\"volume_dict\", volume_dict)\n",
    "    \n",
    "    step_1 = kfp.dsl.ContainerOp(\n",
    "        name=\"download_and_extract\",\n",
    "        image=\"escs34/global_warming:level_2_v4\", #command를 넣을 수 있음.. argument랑\n",
    "        command=[\"python3\"],\n",
    "        arguments=[\n",
    "            \"/var/source/level_2_main_a.py\"\n",
    "        ],\n",
    "        #여기서 한번에 넣으려고 했는데 그랬더니 마지막 pv만 딱 연결됨. add_pvolume으로 되나 봐야 겠음\n",
    "        #=> pv_num이 아니라 pv_count로 넣어서 마지막 값만 들어감... dict에 마지막 값밖에 없었음\n",
    "        pvolumes=volume_dict\n",
    "        #pvolumes={'/var/source/global_warming': vop.volume}\n",
    "    )\n",
    "    \n",
    "    \n",
    "    #for key, value in volume_dict.items():\n",
    "    #    print(\"key, value : \", key)#,value)\n",
    "    #    step_1.add_pvolumes({key:value})\n",
    "    \n",
    "    \n",
    "    #step_2 는 pv 숫자 만큼 만들어 져야 함.\n",
    "    step_2_list = []\n",
    "    for pv_num in range(1,int(pv_count)+1):\n",
    "        mount_path = \"/var/source/\" + pv_mount_name + str(pv_num)\n",
    "        step_2 = kfp.dsl.ContainerOp(\n",
    "            name = \"resize_reformat_zip_data_and_upload\",\n",
    "            image=\"escs34/global_warming:level_2_v4\",\n",
    "            command=[\"python3\"],\n",
    "            arguments=[\n",
    "                \"/var/source/level_2_main_b.py\"\n",
    "            ],\n",
    "            #pvolumes=volume_dict\n",
    "            pvolumes={'/var/source/'+pv_mount_name+str(pv_num): volume_dict[mount_path]}\n",
    "        )\n",
    "        step_2_list.append(step_2)\n",
    "        \n",
    "    #print(\"step_2_list : \", step_2_list)\n",
    "    \n",
    "    steps = [step_1] + step_2_list\n",
    "    pv_count_list = [pv_count] + [str(pv_num) for pv_num in range(1, int(pv_count)+1)]\n",
    "    print(\"pv_count_list : \",pv_count_list)\n",
    "    \n",
    "    for i in range(len(steps)):\n",
    "        steps[i].add_env_variable(k8s_client.V1EnvVar(name='minio_url', value=minio_url)) \\\n",
    "            .add_env_variable(k8s_client.V1EnvVar(name='minio_access_key', value=minio_access_key)) \\\n",
    "            .add_env_variable(k8s_client.V1EnvVar(name='minio_secret_key', value=minio_secret_key)) \\\n",
    "            .add_env_variable(k8s_client.V1EnvVar(name='minio_region', value=minio_region)) \\\n",
    "            .add_env_variable(k8s_client.V1EnvVar(name='minio_bucket_name', value=minio_bucket_name)) \\\n",
    "            .add_env_variable(k8s_client.V1EnvVar(name='competition_name', value=competition_name)) \\\n",
    "            .add_env_variable(k8s_client.V1EnvVar(name='kaggle_access_key', value=kaggle_access_key)) \\\n",
    "            .add_env_variable(k8s_client.V1EnvVar(name='kaggle_secret_key', value=kaggle_secret_key)) \\\n",
    "            .add_env_variable(k8s_client.V1EnvVar(name='pv_mount_name', value=pv_mount_name)) \\\n",
    "            .add_env_variable(k8s_client.V1EnvVar(name='pv_count', value=pv_count_list[i]))#value=pv_count)) #not use yet\n",
    "\n",
    "    for pv_num in range(int(pv_count)):\n",
    "        step_2_list[pv_num].after(step_1)\n",
    "        \n",
    "\n",
    "    "
   ]
  },
  {
   "cell_type": "code",
   "execution_count": null,
   "id": "e1419c21-4da0-4527-afac-ca13d8957949",
   "metadata": {},
   "outputs": [],
   "source": []
  },
  {
   "cell_type": "code",
   "execution_count": null,
   "id": "048296b1-5223-459d-92b9-c3eca131083d",
   "metadata": {},
   "outputs": [],
   "source": []
  },
  {
   "cell_type": "code",
   "execution_count": 5,
   "id": "e8ebcc07-960a-4aad-bf96-d78bb2b33587",
   "metadata": {},
   "outputs": [],
   "source": [
    "from kfp import compiler"
   ]
  },
  {
   "cell_type": "code",
   "execution_count": 6,
   "id": "c0891acc-84ea-498a-bf86-d3ab8fe81e9f",
   "metadata": {},
   "outputs": [
    {
     "data": {
      "text/html": [
       "<a href=\"http://54.81.20.251:8080//pipeline/#/experiments/details/e00b8823-821e-4758-b12d-085663985c79\" target=\"_blank\" >Experiment details</a>."
      ],
      "text/plain": [
       "<IPython.core.display.HTML object>"
      ]
     },
     "metadata": {},
     "output_type": "display_data"
    }
   ],
   "source": [
    "exp = kfp_client.create_experiment(name=\"global_warming_level_2_v2\")\n",
    "exp = kfp_client.get_experiment(experiment_name=\"global_warming_level_2_v2\")"
   ]
  },
  {
   "cell_type": "code",
   "execution_count": null,
   "id": "d8e2c0d8-4185-41b6-8c21-e4d645ec1656",
   "metadata": {},
   "outputs": [],
   "source": []
  },
  {
   "cell_type": "code",
   "execution_count": 7,
   "id": "eb455cb9-f7ee-492f-97e2-93c9655fd6a8",
   "metadata": {
    "tags": []
   },
   "outputs": [
    {
     "name": "stderr",
     "output_type": "stream",
     "text": [
      "/opt/conda/lib/python3.8/site-packages/kfp/dsl/_container_op.py:1261: FutureWarning: Please create reusable components instead of constructing ContainerOp instances directly. Reusable components are shareable, portable and have compatibility and support guarantees. Please see the documentation: https://www.kubeflow.org/docs/pipelines/sdk/component-development/#writing-your-component-definition-file The components can be created manually (or, in case of python, using kfp.components.create_component_from_func or func_to_container_op) and then loaded using kfp.components.load_component_from_file, load_component_from_uri or load_component_from_text: https://kubeflow-pipelines.readthedocs.io/en/stable/source/kfp.components.html#kfp.components.load_component_from_file\n",
      "  warnings.warn(\n"
     ]
    },
    {
     "name": "stdout",
     "output_type": "stream",
     "text": [
      "pv_count_list :  ['8', '1', '2', '3', '4', '5', '6', '7', '8']\n"
     ]
    }
   ],
   "source": [
    "compiler.Compiler().compile(global_warming_level_2_pipeline, \"level_2.yaml\")"
   ]
  },
  {
   "cell_type": "code",
   "execution_count": null,
   "id": "8cc48058-8e17-4f6e-b732-843d337bd29e",
   "metadata": {},
   "outputs": [],
   "source": []
  },
  {
   "cell_type": "code",
   "execution_count": 8,
   "id": "d9184cd3-db67-4a3d-bbe3-cdad5d295e72",
   "metadata": {},
   "outputs": [
    {
     "data": {
      "text/html": [
       "<a href=\"http://54.81.20.251:8080//pipeline/#/runs/details/b21b8089-ef5f-4e29-9875-3660dd9d7ae5\" target=\"_blank\" >Run details</a>."
      ],
      "text/plain": [
       "<IPython.core.display.HTML object>"
      ]
     },
     "metadata": {},
     "output_type": "display_data"
    }
   ],
   "source": [
    "run = kfp_client.run_pipeline(exp.id, \"level_2\", \"level_2.yaml\")"
   ]
  },
  {
   "cell_type": "code",
   "execution_count": null,
   "id": "649462e1-cfa0-4b23-a105-ffd4627620d5",
   "metadata": {},
   "outputs": [],
   "source": []
  },
  {
   "cell_type": "code",
   "execution_count": null,
   "id": "82cb1ee4-5551-4c28-82db-655ec58b890f",
   "metadata": {},
   "outputs": [],
   "source": []
  },
  {
   "cell_type": "code",
   "execution_count": null,
   "id": "ca1f98d7-fa70-404c-ab8c-edcd66c7bbad",
   "metadata": {},
   "outputs": [],
   "source": []
  }
 ],
 "metadata": {
  "kernelspec": {
   "display_name": "Python 3 (ipykernel)",
   "language": "python",
   "name": "python3"
  },
  "language_info": {
   "codemirror_mode": {
    "name": "ipython",
    "version": 3
   },
   "file_extension": ".py",
   "mimetype": "text/x-python",
   "name": "python",
   "nbconvert_exporter": "python",
   "pygments_lexer": "ipython3",
   "version": "3.10.11"
  }
 },
 "nbformat": 4,
 "nbformat_minor": 5
}
