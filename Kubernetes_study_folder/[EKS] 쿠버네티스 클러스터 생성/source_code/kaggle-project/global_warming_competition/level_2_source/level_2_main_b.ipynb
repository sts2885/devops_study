{
 "cells": [
  {
   "cell_type": "code",
   "execution_count": null,
   "id": "b4b9fb08-370c-43d0-b051-50baab5852a1",
   "metadata": {},
   "outputs": [],
   "source": []
  },
  {
   "cell_type": "code",
   "execution_count": null,
   "id": "9741ba3b-de9a-4891-8631-54bf23656901",
   "metadata": {},
   "outputs": [],
   "source": []
  },
  {
   "cell_type": "code",
   "execution_count": null,
   "id": "e2239a7b-fd87-44f1-a36e-41b0d5b64c5c",
   "metadata": {},
   "outputs": [],
   "source": []
  },
  {
   "cell_type": "code",
   "execution_count": null,
   "id": "cc7eb17e-2f08-4c9f-ac30-5835b8d7f33c",
   "metadata": {},
   "outputs": [],
   "source": [
    "import time\n",
    "start_time = time.time()  # 시작 시간 저장\n",
    "print(\"start\")"
   ]
  },
  {
   "cell_type": "code",
   "execution_count": null,
   "id": "079eaddc-2f86-4cc1-845c-c03cdc3a92ea",
   "metadata": {},
   "outputs": [],
   "source": []
  },
  {
   "cell_type": "markdown",
   "id": "d7791271-60a6-4c5c-b1f8-ad34278b8465",
   "metadata": {},
   "source": [
    "# STAGE 2  \n",
    "일단은 container 1개당 pv 1개 씩이 가도록 설계함."
   ]
  },
  {
   "cell_type": "code",
   "execution_count": null,
   "id": "6cd6d240-ed75-4a66-9413-042f9658a8b3",
   "metadata": {},
   "outputs": [],
   "source": []
  },
  {
   "cell_type": "code",
   "execution_count": 4,
   "id": "93c93009-0de5-41ba-9ebe-213e215424e7",
   "metadata": {},
   "outputs": [],
   "source": [
    "import os\n",
    "\n",
    "minio_url = os.environ[\"minio_url\"]\n",
    "minio_access_key = os.environ['minio_access_key']\n",
    "minio_secret_key = os.environ['minio_secret_key']\n",
    "minio_region = os.environ['minio_region']\n",
    "minio_bucket_name = os.environ['minio_bucket_name']\n",
    "competition_name = os.environ['competition_name']\n",
    "\n",
    "pv_mount_name = os.environ['pv_mount_name']\n",
    "pv_count = os.environ['pv_count']\n",
    "download_from = os.environ['download_from']"
   ]
  },
  {
   "cell_type": "code",
   "execution_count": null,
   "id": "5e18a56c-f42a-4da8-a4e2-9c5cd07716ce",
   "metadata": {},
   "outputs": [],
   "source": []
  },
  {
   "cell_type": "code",
   "execution_count": 5,
   "id": "c0edbe69-d099-4bbe-9a0d-11221ea1f11b",
   "metadata": {},
   "outputs": [],
   "source": [
    "from minio import Minio"
   ]
  },
  {
   "cell_type": "code",
   "execution_count": 6,
   "id": "c5af0558-68a3-4c23-908b-13a976312e90",
   "metadata": {},
   "outputs": [],
   "source": [
    "#아마 minio 글로벌 변수 선언해야 될거 같은데...\n",
    "#global minio_client\n",
    "minio_client = Minio(\n",
    "    minio_url,\n",
    "    access_key = minio_access_key,\n",
    "    secret_key = minio_secret_key,\n",
    "    region = minio_region\n",
    ")"
   ]
  },
  {
   "cell_type": "code",
   "execution_count": null,
   "id": "e0493aae-8164-42ff-a754-c7256d01304b",
   "metadata": {},
   "outputs": [],
   "source": [
    "print(\"minio connected\")"
   ]
  },
  {
   "cell_type": "markdown",
   "id": "d0dbe67b-64ee-4c56-ad41-26d960be3d5a",
   "metadata": {},
   "source": [
    "Data preprocessing : not recommended. Ad-hoc pipeline like this don't have any fault tolerance logic (like hadoop map reduce or spark). One fault can hurt all data integrity  \n",
    "But i will run this pipeline for fun!  "
   ]
  },
  {
   "cell_type": "code",
   "execution_count": null,
   "id": "01d3a2e5-5e75-4020-8ab5-19ec256ee182",
   "metadata": {},
   "outputs": [],
   "source": []
  },
  {
   "cell_type": "code",
   "execution_count": 7,
   "id": "b25f1a39-e824-4d95-9603-77e810c86bda",
   "metadata": {},
   "outputs": [],
   "source": [
    "import pandas as pd"
   ]
  },
  {
   "cell_type": "code",
   "execution_count": null,
   "id": "fe03830d-ea38-4020-8e48-e9753fa2930e",
   "metadata": {},
   "outputs": [],
   "source": []
  },
  {
   "cell_type": "markdown",
   "id": "ac285f29-4ade-4aa4-acaa-fe941f1b5b7b",
   "metadata": {},
   "source": [
    "쉽게 가기 위해서 이부분을 csv 가 아니라 리스트를 그냥 한번 읽게 하자."
   ]
  },
  {
   "cell_type": "markdown",
   "id": "c69f1dc8-9132-4a9f-80a4-a6eec5bb46b2",
   "metadata": {},
   "source": [
    "잠깐... 테스트 할땐 그냥 전체를 다 읽게 하면 되잖아?"
   ]
  },
  {
   "cell_type": "code",
   "execution_count": 8,
   "id": "333c47ab-321d-4562-bbd3-fe2454d3e98a",
   "metadata": {},
   "outputs": [],
   "source": [
    "import os\n",
    "\n",
    "folder_path = pv_mount_name + pv_count\n",
    "\n",
    "file_list = []\n",
    " \n",
    "for path, subdirs, files in os.walk(folder_path):\n",
    "    for name in files:\n",
    "        file_list.append(os.path.join(path, name))"
   ]
  },
  {
   "cell_type": "code",
   "execution_count": null,
   "id": "af786f47-4d0d-4887-865d-7f6e67055b12",
   "metadata": {},
   "outputs": [],
   "source": []
  },
  {
   "cell_type": "markdown",
   "id": "fb97b3fc-fa86-4c48-bde0-20c1b3fb1f28",
   "metadata": {},
   "source": [
    "잠깐... 이러면 train test valid 구분은 어떻게 함?;;;  \n",
    "잘생각해보니까... 구분할 필요가 있나? 다 map으로 돌릴껀데? 그러네?"
   ]
  },
  {
   "cell_type": "code",
   "execution_count": null,
   "id": "00a5fe8a-9089-4923-866a-fa1ccd50d6d0",
   "metadata": {},
   "outputs": [],
   "source": []
  },
  {
   "cell_type": "code",
   "execution_count": 9,
   "id": "8bfd66e0-e443-488d-b231-9098c752f953",
   "metadata": {},
   "outputs": [],
   "source": [
    "files_df = pd.DataFrame(data=file_list, columns=['files_path'])"
   ]
  },
  {
   "cell_type": "code",
   "execution_count": null,
   "id": "de348af3-99a5-450b-a9ea-46dc0dd935ec",
   "metadata": {},
   "outputs": [],
   "source": []
  },
  {
   "cell_type": "markdown",
   "id": "46a4e1c3-3efd-46f1-a5be-f985aed95d57",
   "metadata": {},
   "source": [
    ".csv파일 등이 남아 있음"
   ]
  },
  {
   "cell_type": "code",
   "execution_count": 11,
   "id": "bbb3480e-e99e-412e-92bd-5bd29ec38b69",
   "metadata": {},
   "outputs": [
    {
     "data": {
      "text/plain": [
       "array(['./global_warming_8/[(256,256),npy]/validation_metadata.json',\n",
       "       './global_warming_8/[(256,256),npy]/validation/1000834164244036115/band_15.npy',\n",
       "       './global_warming_8/[(256,256),npy]/validation/1000834164244036115/band_14.npy',\n",
       "       './global_warming_8/[(256,256),npy]/validation/1000834164244036115/band_13.npy',\n",
       "       './global_warming_8/[(256,256),npy]/validation/1000834164244036115/human_pixel_masks.npy',\n",
       "       './global_warming_8/[(256,256),npy]/validation/1000834164244036115/band_12.npy',\n",
       "       './global_warming_8/[(256,256),npy]/validation/1000834164244036115/band_16.npy'],\n",
       "      dtype=object)"
      ]
     },
     "execution_count": 11,
     "metadata": {},
     "output_type": "execute_result"
    }
   ],
   "source": [
    "if len(files_df) != 0:\n",
    "    print(files_df['files_path'].head(5).values)"
   ]
  },
  {
   "cell_type": "code",
   "execution_count": null,
   "id": "206bfafa-c927-4007-8758-65b88a40c669",
   "metadata": {},
   "outputs": [],
   "source": []
  },
  {
   "cell_type": "code",
   "execution_count": null,
   "id": "d61eb90e-1623-4021-8e45-b8d25ea510aa",
   "metadata": {},
   "outputs": [],
   "source": []
  },
  {
   "cell_type": "code",
   "execution_count": null,
   "id": "53f1e4d8-fbf6-4c5c-885e-db7b05d24227",
   "metadata": {},
   "outputs": [],
   "source": [
    "print(\"get df with only named .npy, not metadata(json, csv, etc)\")"
   ]
  },
  {
   "cell_type": "code",
   "execution_count": 12,
   "id": "4cbb20c1-c08f-4f10-a828-68be96f379df",
   "metadata": {},
   "outputs": [],
   "source": [
    "#파일명이 npy 인것만 남김\n",
    "if len(files_df) != 0:\n",
    "    files_df = files_df[files_df['files_path'].map(lambda name : name.split('.')[-1] == \"npy\")]"
   ]
  },
  {
   "cell_type": "code",
   "execution_count": 13,
   "id": "215e2604-9144-43e3-b6d4-8183a4c1976a",
   "metadata": {},
   "outputs": [
    {
     "data": {
      "text/plain": [
       "array(['./global_warming_8/[(256,256),npy]/validation/1000834164244036115/band_15.npy',\n",
       "       './global_warming_8/[(256,256),npy]/validation/1000834164244036115/band_14.npy',\n",
       "       './global_warming_8/[(256,256),npy]/validation/1000834164244036115/band_13.npy',\n",
       "       './global_warming_8/[(256,256),npy]/validation/1000834164244036115/human_pixel_masks.npy',\n",
       "       './global_warming_8/[(256,256),npy]/validation/1000834164244036115/band_12.npy',\n",
       "       './global_warming_8/[(256,256),npy]/validation/1000834164244036115/band_16.npy'],\n",
       "      dtype=object)"
      ]
     },
     "execution_count": 13,
     "metadata": {},
     "output_type": "execute_result"
    }
   ],
   "source": [
    "if len(files_df) != 0:\n",
    "    print(files_df['files_path'].head(5).values)"
   ]
  },
  {
   "cell_type": "code",
   "execution_count": null,
   "id": "5453a0ea-a2c3-4e67-8195-0bd7c036ac8f",
   "metadata": {},
   "outputs": [],
   "source": []
  },
  {
   "cell_type": "code",
   "execution_count": null,
   "id": "a876b468-8b20-42c0-b234-009c16dca5f8",
   "metadata": {},
   "outputs": [],
   "source": []
  },
  {
   "cell_type": "code",
   "execution_count": 14,
   "id": "3ce12307-3e8f-4b22-b93a-151e804c4dd0",
   "metadata": {},
   "outputs": [],
   "source": [
    "#train_df = pd.read_csv('train.csv')\n",
    "#valid_df = pd.read_csv('valid.csv')\n",
    "#test_df = pd.read_csv('test.csv')"
   ]
  },
  {
   "cell_type": "code",
   "execution_count": null,
   "id": "885234dc-c7c6-4313-8f85-c96e2e9d513a",
   "metadata": {},
   "outputs": [],
   "source": []
  },
  {
   "cell_type": "code",
   "execution_count": 15,
   "id": "6654628d-03ad-4910-8dc9-41af2cca3e61",
   "metadata": {},
   "outputs": [],
   "source": [
    "from data_preprocessor import Npy_resize_preprocessor as NRP"
   ]
  },
  {
   "cell_type": "code",
   "execution_count": null,
   "id": "3a7c207c-7cea-4788-bd1c-62028e720320",
   "metadata": {},
   "outputs": [],
   "source": []
  },
  {
   "cell_type": "markdown",
   "id": "d161bafe-4679-4d0d-b748-4ab482099113",
   "metadata": {},
   "source": [
    "원본 데이터 (256,256)\r\n",
    "npy_size : 450 GB Dataset\r\n",
    "img_size : 48.91GB\r\n",
    "\r\n",
    "(128,128)\r\n",
    "npy_size :  112.5 GB\r\n",
    "img_size :  12.228260869565219 GB\r\n",
    "\r\n",
    "(64,64)\r\n",
    "npy_size :  28.125 GB\r\n",
    "img_size :  3.0570652173913047 GB\r\n",
    "\r\n",
    "(32,32)\r\n",
    "npy_size :  7.03125 GB\r\n",
    "img_size :  0.7642663043478262 GB"
   ]
  },
  {
   "cell_type": "code",
   "execution_count": null,
   "id": "7026de74-3d92-41ab-b85e-9e5600c60963",
   "metadata": {},
   "outputs": [],
   "source": []
  },
  {
   "cell_type": "code",
   "execution_count": 16,
   "id": "1d5841f7-51ea-4438-a241-b482df3d03ad",
   "metadata": {},
   "outputs": [],
   "source": [
    "def change_dir_by_setting(file_path, shape_format, file_format):\n",
    "    dirs = file_path.split('/')\n",
    "    dirs[2] = dirs[2].replace('[(256,256),npy]', shape_format)\n",
    "    dirs[-1] = dirs[-1].replace('.npy', file_format)\n",
    "    return '/'.join(dirs)"
   ]
  },
  {
   "cell_type": "code",
   "execution_count": null,
   "id": "e0d28e77-c14b-4bfc-8fcf-bd2b6f2222cd",
   "metadata": {},
   "outputs": [],
   "source": []
  },
  {
   "cell_type": "code",
   "execution_count": 17,
   "id": "4039cac5-7ad9-4f7b-9a62-49d7ef21853d",
   "metadata": {},
   "outputs": [],
   "source": [
    "#ex\n",
    "\n",
    "shape_list = [(256,256),(128,128),\n",
    "              (64,64),(64,64),\n",
    "              (32,32),(32,32)]\n",
    "\n",
    "dir_list = ['[(256,256),jpg]',\n",
    "            '[(128,128),jpg]',\n",
    "            '[(64,64),npy]',\n",
    "            '[(64,64),jpg]',\n",
    "            '[(32,32),npy]',\n",
    "            '[(32,32),jpg]'\n",
    "           ]\n",
    "\n",
    "format_list = [\n",
    "    '.jpg',\n",
    "    '.jpg',\n",
    "    \n",
    "    '.npy',\n",
    "    '.jpg',\n",
    "    \n",
    "    '.npy',\n",
    "    '.jpg',\n",
    "]\n",
    "\n",
    "\n",
    "#결국 짜긴 짰는데 복잡도가 끔찍하기 그지 없음...\n",
    "\n",
    "def split_npy(file_name, arr):\n",
    "    splitted_arr = []\n",
    "    if file_name == 'human_pixel_masks.npy': #(256, 256, 1)\n",
    "        splitted_arr = [arr[:,:,0]]\n",
    "        #print(\"shape pixel:\",splitted_arr[0].shape)\n",
    "    elif file_name == 'human_individual_masks.npy' : #(256, 256, 1, 4)\n",
    "        splitted_arr = [arr[:,:,0,i] for i in range(4)]\n",
    "        #print(\"shape individual:\",splitted_arr[0].shape)\n",
    "    else: # (256,256,8)\n",
    "        splitted_arr = [arr[:,:,i] for i in range(8)]\n",
    "        #print(\"shape band:\",splitted_arr[0].shape)\n",
    "    return splitted_arr\n",
    "\n",
    "def add_number_to_name(file_path, number):\n",
    "    dirs = file_path.split('/')\n",
    "    tmp = dirs[-1].split('.')\n",
    "    tmp[0] += '_' + str(number)\n",
    "    dirs[-1] = '.'.join(tmp)\n",
    "    return '/'.join(dirs)\n",
    "    \n",
    "#file name이랑 \n",
    "def read_change_save(file_path):\n",
    "    #file_path = file_path[0]\n",
    "    #print(file_path)\n",
    "    arr = NRP.read_npy(file_path)#['files_path'])\n",
    "    file_name = file_path.split(\"/\")[-1]\n",
    "\n",
    "    splitted_arr = split_npy(file_name, arr)\n",
    "\n",
    "    for i in range(len(shape_list)):\n",
    "        for j in range(len(splitted_arr)):\n",
    "            reshaped_arr = NRP.resize(splitted_arr[j], shape_list[i])\n",
    "            path_with_numbered = add_number_to_name(file_path, j)\n",
    "            name_to_save = change_dir_by_setting(path_with_numbered, dir_list[i], format_list[i])\n",
    "            NRP.write_with_format(reshaped_arr, name_to_save, format_list[i])\n"
   ]
  },
  {
   "cell_type": "code",
   "execution_count": null,
   "id": "72bca4fa-8bfe-4eb5-878d-d65e41f43e4a",
   "metadata": {},
   "outputs": [],
   "source": []
  },
  {
   "cell_type": "code",
   "execution_count": 18,
   "id": "4422596b-75be-406c-bac2-b106a48fa4d6",
   "metadata": {},
   "outputs": [
    {
     "data": {
      "text/plain": [
       "1    None\n",
       "2    None\n",
       "3    None\n",
       "4    None\n",
       "5    None\n",
       "6    None\n",
       "Name: files_path, dtype: object"
      ]
     },
     "execution_count": 18,
     "metadata": {},
     "output_type": "execute_result"
    }
   ],
   "source": [
    "if len(files_df) != 0:\n",
    "    files_df['files_path'].map(read_change_save)"
   ]
  },
  {
   "cell_type": "code",
   "execution_count": null,
   "id": "c04b638c-ee8e-4d5a-8839-99d67813ac09",
   "metadata": {},
   "outputs": [],
   "source": []
  },
  {
   "cell_type": "code",
   "execution_count": 19,
   "id": "be0f58cf-62f4-47dd-90dd-0ddfddbd5d1a",
   "metadata": {
    "scrolled": true
   },
   "outputs": [],
   "source": [
    "#train_df['files_path'].map(read_change_save)\n",
    "#valid_df['files_path'].map(read_change_save)\n",
    "#test_df['files_path'].map(read_change_save)"
   ]
  },
  {
   "cell_type": "code",
   "execution_count": null,
   "id": "7cb06a80-0807-4c3d-beed-c78a9cbfca8d",
   "metadata": {},
   "outputs": [],
   "source": []
  },
  {
   "cell_type": "code",
   "execution_count": null,
   "id": "f315cf77-e390-4d8d-a409-f14a3eeac7a0",
   "metadata": {},
   "outputs": [],
   "source": []
  },
  {
   "cell_type": "code",
   "execution_count": null,
   "id": "f7153b44-7a59-4c51-a99d-07aaff6a438f",
   "metadata": {},
   "outputs": [],
   "source": [
    "preprocessing_finish_time = time.time()\n",
    "print(\"time for preprocess the task : \", preprocessing_finish_time - start_time)"
   ]
  },
  {
   "cell_type": "code",
   "execution_count": null,
   "id": "8f7d9273-8440-4b33-8524-4df182b0aec5",
   "metadata": {},
   "outputs": [],
   "source": []
  },
  {
   "cell_type": "code",
   "execution_count": null,
   "id": "a4d1c56f-d528-4bc2-98ba-a2b9708f5e92",
   "metadata": {},
   "outputs": [],
   "source": []
  },
  {
   "cell_type": "markdown",
   "id": "5bb21fa8-8edc-4b47-a8c7-6e6b4f57099c",
   "metadata": {},
   "source": [
    "# upload -> Zip 만들어서 올릴 계획이니까."
   ]
  },
  {
   "cell_type": "code",
   "execution_count": null,
   "id": "12a07466-f14d-44b2-a5b7-51aa2334300e",
   "metadata": {},
   "outputs": [],
   "source": []
  },
  {
   "cell_type": "code",
   "execution_count": 20,
   "id": "6c00bb38-9f97-4c46-b925-d80557a37d20",
   "metadata": {},
   "outputs": [],
   "source": [
    "import shutil\n",
    "\n",
    "#그러네 이건 삭제 어떻게 하냐?\n",
    "shutil.rmtree(folder_path+'/[(256,256),npy]')\n",
    "\n",
    "import os\n",
    "\n",
    "#level2에서는 애초에 pv에 담지도 않음.\n",
    "rm_file = 'global_warming/google-research-identify-contrails-reduce-global-warming.zip'\n",
    "if os.path.isfile(rm_file):\n",
    "    os.remove(rm_file)"
   ]
  },
  {
   "cell_type": "code",
   "execution_count": null,
   "id": "745a1fc7-4841-41a1-b6ef-62569f531682",
   "metadata": {},
   "outputs": [],
   "source": []
  },
  {
   "cell_type": "code",
   "execution_count": 21,
   "id": "66a38975-9c1f-4dbc-9477-ef9b6c060ab6",
   "metadata": {},
   "outputs": [],
   "source": [
    "import os\n",
    "\n",
    "#folder_path = 'global_warming'\n",
    "\n",
    "file_list = []\n",
    " \n",
    "for path, subdirs, files in os.walk(folder_path):\n",
    "    for name in files:\n",
    "        file_list.append(os.path.join(path, name))"
   ]
  },
  {
   "cell_type": "code",
   "execution_count": null,
   "id": "3cb5eac3-5b39-4e23-b52e-adbf9a143b0e",
   "metadata": {},
   "outputs": [],
   "source": []
  },
  {
   "cell_type": "code",
   "execution_count": 22,
   "id": "b3cedb48-f71e-4847-98dd-5715327f54e6",
   "metadata": {},
   "outputs": [],
   "source": [
    "tmp_df = pd.DataFrame(data=file_list, columns=['files_path'])"
   ]
  },
  {
   "cell_type": "code",
   "execution_count": 23,
   "id": "a73e30c5-de69-493f-a2eb-34ffe4edac8e",
   "metadata": {},
   "outputs": [
    {
     "data": {
      "text/html": [
       "<div>\n",
       "<style scoped>\n",
       "    .dataframe tbody tr th:only-of-type {\n",
       "        vertical-align: middle;\n",
       "    }\n",
       "\n",
       "    .dataframe tbody tr th {\n",
       "        vertical-align: top;\n",
       "    }\n",
       "\n",
       "    .dataframe thead th {\n",
       "        text-align: right;\n",
       "    }\n",
       "</style>\n",
       "<table border=\"1\" class=\"dataframe\">\n",
       "  <thead>\n",
       "    <tr style=\"text-align: right;\">\n",
       "      <th></th>\n",
       "      <th>files_path</th>\n",
       "    </tr>\n",
       "  </thead>\n",
       "  <tbody>\n",
       "    <tr>\n",
       "      <th>0</th>\n",
       "      <td>./global_warming_8/[(256,256),jpg]/validation/...</td>\n",
       "    </tr>\n",
       "    <tr>\n",
       "      <th>1</th>\n",
       "      <td>./global_warming_8/[(256,256),jpg]/validation/...</td>\n",
       "    </tr>\n",
       "    <tr>\n",
       "      <th>2</th>\n",
       "      <td>./global_warming_8/[(256,256),jpg]/validation/...</td>\n",
       "    </tr>\n",
       "    <tr>\n",
       "      <th>3</th>\n",
       "      <td>./global_warming_8/[(256,256),jpg]/validation/...</td>\n",
       "    </tr>\n",
       "    <tr>\n",
       "      <th>4</th>\n",
       "      <td>./global_warming_8/[(256,256),jpg]/validation/...</td>\n",
       "    </tr>\n",
       "  </tbody>\n",
       "</table>\n",
       "</div>"
      ],
      "text/plain": [
       "                                          files_path\n",
       "0  ./global_warming_8/[(256,256),jpg]/validation/...\n",
       "1  ./global_warming_8/[(256,256),jpg]/validation/...\n",
       "2  ./global_warming_8/[(256,256),jpg]/validation/...\n",
       "3  ./global_warming_8/[(256,256),jpg]/validation/...\n",
       "4  ./global_warming_8/[(256,256),jpg]/validation/..."
      ]
     },
     "execution_count": 23,
     "metadata": {},
     "output_type": "execute_result"
    }
   ],
   "source": [
    "tmp_df.head(5)"
   ]
  },
  {
   "cell_type": "code",
   "execution_count": null,
   "id": "25a82f31-54cc-498b-a2be-89f1b772c09e",
   "metadata": {},
   "outputs": [],
   "source": []
  },
  {
   "cell_type": "markdown",
   "id": "3d744a09-6e39-46de-832d-dbc54fac85a3",
   "metadata": {},
   "source": [
    "# PV dir에 있는 값들 압축"
   ]
  },
  {
   "cell_type": "code",
   "execution_count": null,
   "id": "5be468a0-7389-4970-9327-ed6a5ff7b570",
   "metadata": {},
   "outputs": [],
   "source": []
  },
  {
   "cell_type": "markdown",
   "id": "47c039cb-d148-4b7b-9d9d-99c5d24b34e9",
   "metadata": {},
   "source": [
    "원한다면 pv를 퍼뜨린 것처럼  \n",
    "pv를 다시 모아서 압축 할 수 도 있겠지만  \n",
    "여기서는 4조각으로 나누면 3GB 씩 해서 훨씬 쓰기 좋을테니까 그냥 두겠다.  \n",
    "=> 반드시 하나의 zip으로 두고 싶다면 파이프 라인을 하나 늘려서 pv를 합치면 된다."
   ]
  },
  {
   "cell_type": "code",
   "execution_count": null,
   "id": "b2baa347-a500-44d2-9b6b-ea64504fcdb9",
   "metadata": {},
   "outputs": [],
   "source": []
  },
  {
   "cell_type": "markdown",
   "id": "549aaa21-3ba4-413c-8965-1e27c02f3b83",
   "metadata": {},
   "source": [
    "1 container 1pv 설계이기 때문에 여러 pv에 있을거라는 가정은 그냥 날리겠음."
   ]
  },
  {
   "cell_type": "code",
   "execution_count": 26,
   "id": "fceae08a-f3b0-4ec4-adc5-5570d525773b",
   "metadata": {},
   "outputs": [],
   "source": [
    "from unzip_to_pv_manager import Unzip_to_pv_manager"
   ]
  },
  {
   "cell_type": "code",
   "execution_count": null,
   "id": "7a684b69-422e-46e8-a85c-51017c017950",
   "metadata": {},
   "outputs": [],
   "source": []
  },
  {
   "cell_type": "code",
   "execution_count": 27,
   "id": "2e2c6123-e242-450a-944a-5717d01208be",
   "metadata": {},
   "outputs": [],
   "source": [
    "pv_mount_name = os.environ['pv_mount_name']\n",
    "pv_count = os.environ['pv_count']"
   ]
  },
  {
   "cell_type": "code",
   "execution_count": null,
   "id": "713cc2bb-39cd-42e4-bb75-3acf0c56ae48",
   "metadata": {},
   "outputs": [],
   "source": []
  },
  {
   "cell_type": "code",
   "execution_count": 28,
   "id": "c7165557-26e9-4ffd-9c94-0fcac5976e36",
   "metadata": {},
   "outputs": [],
   "source": [
    "unzip = Unzip_to_pv_manager()"
   ]
  },
  {
   "cell_type": "code",
   "execution_count": null,
   "id": "1f2c8388-7bce-4d10-adf0-671fbcc62002",
   "metadata": {},
   "outputs": [],
   "source": []
  },
  {
   "cell_type": "code",
   "execution_count": 35,
   "id": "27a1e184-56a9-4318-bb58-09e20956338c",
   "metadata": {},
   "outputs": [],
   "source": [
    "name_to_save= pv_count+'.zip'"
   ]
  },
  {
   "cell_type": "code",
   "execution_count": 36,
   "id": "91bbd120-9ca9-4030-83e8-11de02824d26",
   "metadata": {},
   "outputs": [],
   "source": [
    "unzip.write_zip(files_base_dir = pv_mount_name+pv_count, name_to_save= name_to_save)\n",
    "#unzip.write_zip(files_base_dir = pv_mount_name+pv_count, name_to_save=pv_count+'.zip')"
   ]
  },
  {
   "cell_type": "code",
   "execution_count": null,
   "id": "27bbb8d8-8ec2-427b-a000-0a934e850546",
   "metadata": {},
   "outputs": [],
   "source": []
  },
  {
   "cell_type": "code",
   "execution_count": null,
   "id": "f0d563eb-31db-4d60-b9ed-5e429910d879",
   "metadata": {},
   "outputs": [],
   "source": [
    "compressing_finish_time = time.time()\n",
    "print(\"time for compress the folder : \", compressing_finish_time - preprocessing_finish_time)"
   ]
  },
  {
   "cell_type": "code",
   "execution_count": null,
   "id": "cdc5061e-3fd0-420c-9e8f-3ab967baf962",
   "metadata": {},
   "outputs": [],
   "source": []
  },
  {
   "cell_type": "code",
   "execution_count": null,
   "id": "f056df1a-3e13-49c1-85d7-fb53ca2b1f4d",
   "metadata": {},
   "outputs": [],
   "source": []
  },
  {
   "cell_type": "code",
   "execution_count": 37,
   "id": "06935ea6-2824-4f31-9c80-347e18642bcb",
   "metadata": {},
   "outputs": [],
   "source": [
    "name_to_upload = 'global_warming/'+ pv_count+'.zip'"
   ]
  },
  {
   "cell_type": "code",
   "execution_count": 39,
   "id": "651b63f6-3e4e-4934-a597-c080a45b7d58",
   "metadata": {},
   "outputs": [
    {
     "name": "stdout",
     "output_type": "stream",
     "text": [
      "name_of_file :  8.zip\n",
      "name_to_upload :  global_warming/8.zip\n"
     ]
    }
   ],
   "source": [
    "print(\"name_of_file : \", name_to_save)\n",
    "print(\"name_to_upload : \", name_to_upload)"
   ]
  },
  {
   "cell_type": "code",
   "execution_count": null,
   "id": "abf1af60-5681-4cb4-a54c-c81cbdaaafc3",
   "metadata": {},
   "outputs": [],
   "source": []
  },
  {
   "cell_type": "code",
   "execution_count": null,
   "id": "305124ec-7071-42fb-9f8d-711e4d67a30a",
   "metadata": {},
   "outputs": [],
   "source": []
  },
  {
   "cell_type": "code",
   "execution_count": 40,
   "id": "f12986bd-b836-423d-9c0d-ee58714aa6f2",
   "metadata": {},
   "outputs": [],
   "source": [
    "def upload_from_to(from_file, to_file):\n",
    "    #여기 업로드 하는 작업\n",
    "    minio_client.fput_object(\n",
    "        bucket_name = minio_bucket_name,\n",
    "        object_name = to_file,\n",
    "        file_path = from_file\n",
    "    )\n",
    "    return from_file"
   ]
  },
  {
   "cell_type": "code",
   "execution_count": null,
   "id": "61c8aae5-ae7b-4533-881a-d3c7c0504b5a",
   "metadata": {},
   "outputs": [],
   "source": []
  },
  {
   "cell_type": "code",
   "execution_count": 41,
   "id": "9e018626-ef41-4dd9-90ea-a5b87c653a5d",
   "metadata": {},
   "outputs": [
    {
     "data": {
      "text/plain": [
       "'8.zip'"
      ]
     },
     "execution_count": 41,
     "metadata": {},
     "output_type": "execute_result"
    }
   ],
   "source": [
    "upload_from_to(name_to_save, name_to_upload)"
   ]
  },
  {
   "cell_type": "code",
   "execution_count": null,
   "id": "075098de-07ea-4b52-b5f3-9a2369fd19e6",
   "metadata": {},
   "outputs": [],
   "source": [
    "upload_finish_time = time.time()\n",
    "print(\"time for uploading : \", upload_finish_time - compressing_finish_time)"
   ]
  },
  {
   "cell_type": "code",
   "execution_count": null,
   "id": "24de48ab-7746-43e0-84d1-b9a43af123f2",
   "metadata": {},
   "outputs": [],
   "source": []
  },
  {
   "cell_type": "code",
   "execution_count": null,
   "id": "e5938722-eaa0-4674-abf9-9b8fe1db8ee4",
   "metadata": {},
   "outputs": [],
   "source": [
    "print(\"time for all process : \", start_time - upload_finish_time)"
   ]
  },
  {
   "cell_type": "code",
   "execution_count": null,
   "id": "d0c96b1e-2772-4b7f-8bd9-deeb6a57d160",
   "metadata": {},
   "outputs": [],
   "source": []
  },
  {
   "cell_type": "code",
   "execution_count": null,
   "id": "4879874b-ac3a-4e1d-aa97-facc28afc235",
   "metadata": {},
   "outputs": [],
   "source": []
  }
 ],
 "metadata": {
  "kernelspec": {
   "display_name": "Python 3 (ipykernel)",
   "language": "python",
   "name": "python3"
  },
  "language_info": {
   "codemirror_mode": {
    "name": "ipython",
    "version": 3
   },
   "file_extension": ".py",
   "mimetype": "text/x-python",
   "name": "python",
   "nbconvert_exporter": "python",
   "pygments_lexer": "ipython3",
   "version": "3.10.11"
  }
 },
 "nbformat": 4,
 "nbformat_minor": 5
}
