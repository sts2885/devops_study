{
 "cells": [
  {
   "cell_type": "code",
   "execution_count": null,
   "id": "74b27400-4457-4d63-ad06-1bcdfb6f4fb3",
   "metadata": {},
   "outputs": [],
   "source": []
  },
  {
   "cell_type": "code",
   "execution_count": null,
   "id": "06aae048-36c6-43f3-8d0c-794ddb61d2bf",
   "metadata": {},
   "outputs": [],
   "source": []
  },
  {
   "cell_type": "code",
   "execution_count": null,
   "id": "052c99ee-f416-44bc-a120-7c928a38e12e",
   "metadata": {},
   "outputs": [],
   "source": []
  },
  {
   "cell_type": "markdown",
   "id": "78b75d25-b21d-46fa-b850-8a0bf61c9518",
   "metadata": {},
   "source": [
    "# single node용 학습"
   ]
  },
  {
   "cell_type": "code",
   "execution_count": null,
   "id": "c87118f1-d2b8-4afc-b52e-21f6aaf93b1a",
   "metadata": {},
   "outputs": [],
   "source": []
  },
  {
   "cell_type": "markdown",
   "id": "12183a21-16f5-411d-8c20-f1320bdbf9f9",
   "metadata": {},
   "source": [
    "ipynb to py 변환툴 설치"
   ]
  },
  {
   "cell_type": "code",
   "execution_count": 1,
   "id": "b9b63327-df98-4e48-95f3-8ab8eb0d28cd",
   "metadata": {
    "collapsed": true,
    "jupyter": {
     "outputs_hidden": true
    },
    "tags": []
   },
   "outputs": [
    {
     "name": "stdout",
     "output_type": "stream",
     "text": [
      "Requirement already satisfied: nbconvert in /usr/local/lib/python3.10/site-packages (7.3.0)\n",
      "Requirement already satisfied: nbclient>=0.5.0 in /usr/local/lib/python3.10/site-packages (from nbconvert) (0.7.3)\n",
      "Requirement already satisfied: jupyterlab-pygments in /usr/local/lib/python3.10/site-packages (from nbconvert) (0.2.2)\n",
      "Requirement already satisfied: markupsafe>=2.0 in /usr/local/lib/python3.10/site-packages (from nbconvert) (2.1.2)\n",
      "Requirement already satisfied: jinja2>=3.0 in /usr/local/lib/python3.10/site-packages (from nbconvert) (3.1.2)\n",
      "Requirement already satisfied: tinycss2 in /usr/local/lib/python3.10/site-packages (from nbconvert) (1.2.1)\n",
      "Requirement already satisfied: defusedxml in /usr/local/lib/python3.10/site-packages (from nbconvert) (0.7.1)\n",
      "Requirement already satisfied: bleach in /usr/local/lib/python3.10/site-packages (from nbconvert) (6.0.0)\n",
      "Requirement already satisfied: jupyter-core>=4.7 in /usr/local/lib/python3.10/site-packages (from nbconvert) (5.3.0)\n",
      "Requirement already satisfied: nbformat>=5.1 in /usr/local/lib/python3.10/site-packages (from nbconvert) (5.8.0)\n",
      "Requirement already satisfied: packaging in /usr/local/lib/python3.10/site-packages (from nbconvert) (23.0)\n",
      "Requirement already satisfied: pygments>=2.4.1 in /usr/local/lib/python3.10/site-packages (from nbconvert) (2.14.0)\n",
      "Requirement already satisfied: pandocfilters>=1.4.1 in /usr/local/lib/python3.10/site-packages (from nbconvert) (1.5.0)\n",
      "Requirement already satisfied: mistune<3,>=2.0.3 in /usr/local/lib/python3.10/site-packages (from nbconvert) (2.0.5)\n",
      "Requirement already satisfied: beautifulsoup4 in /usr/local/lib/python3.10/site-packages (from nbconvert) (4.12.0)\n",
      "Requirement already satisfied: traitlets>=5.0 in /usr/local/lib/python3.10/site-packages (from nbconvert) (5.9.0)\n",
      "Requirement already satisfied: platformdirs>=2.5 in /usr/local/lib/python3.10/site-packages (from jupyter-core>=4.7->nbconvert) (3.2.0)\n",
      "Requirement already satisfied: jupyter-client>=6.1.12 in /usr/local/lib/python3.10/site-packages (from nbclient>=0.5.0->nbconvert) (8.1.0)\n",
      "Requirement already satisfied: jsonschema>=2.6 in /usr/local/lib/python3.10/site-packages (from nbformat>=5.1->nbconvert) (4.17.3)\n",
      "Requirement already satisfied: fastjsonschema in /usr/local/lib/python3.10/site-packages (from nbformat>=5.1->nbconvert) (2.16.3)\n",
      "Requirement already satisfied: soupsieve>1.2 in /usr/local/lib/python3.10/site-packages (from beautifulsoup4->nbconvert) (2.4)\n",
      "Requirement already satisfied: webencodings in /usr/local/lib/python3.10/site-packages (from bleach->nbconvert) (0.5.1)\n",
      "Requirement already satisfied: six>=1.9.0 in /usr/local/lib/python3.10/site-packages (from bleach->nbconvert) (1.16.0)\n",
      "Requirement already satisfied: attrs>=17.4.0 in /usr/local/lib/python3.10/site-packages (from jsonschema>=2.6->nbformat>=5.1->nbconvert) (22.2.0)\n",
      "Requirement already satisfied: pyrsistent!=0.17.0,!=0.17.1,!=0.17.2,>=0.14.0 in /usr/local/lib/python3.10/site-packages (from jsonschema>=2.6->nbformat>=5.1->nbconvert) (0.19.3)\n",
      "Requirement already satisfied: tornado>=6.2 in /usr/local/lib/python3.10/site-packages (from jupyter-client>=6.1.12->nbclient>=0.5.0->nbconvert) (6.2)\n",
      "Requirement already satisfied: python-dateutil>=2.8.2 in /usr/local/lib/python3.10/site-packages (from jupyter-client>=6.1.12->nbclient>=0.5.0->nbconvert) (2.8.2)\n",
      "Requirement already satisfied: pyzmq>=23.0 in /usr/local/lib/python3.10/site-packages (from jupyter-client>=6.1.12->nbclient>=0.5.0->nbconvert) (25.0.2)\n",
      "\n",
      "\u001b[1m[\u001b[0m\u001b[34;49mnotice\u001b[0m\u001b[1;39;49m]\u001b[0m\u001b[39;49m A new release of pip is available: \u001b[0m\u001b[31;49m23.0.1\u001b[0m\u001b[39;49m -> \u001b[0m\u001b[32;49m23.2\u001b[0m\n",
      "\u001b[1m[\u001b[0m\u001b[34;49mnotice\u001b[0m\u001b[1;39;49m]\u001b[0m\u001b[39;49m To update, run: \u001b[0m\u001b[32;49mpip install --upgrade pip\u001b[0m\n"
     ]
    }
   ],
   "source": [
    "!pip install nbconvert"
   ]
  },
  {
   "cell_type": "code",
   "execution_count": null,
   "id": "a84222d3-9e71-45af-bec6-9a00b91b9e7a",
   "metadata": {},
   "outputs": [],
   "source": []
  },
  {
   "cell_type": "code",
   "execution_count": 2,
   "id": "1ad37ff9-ee53-43dd-bf2a-0f3f73f90d2d",
   "metadata": {},
   "outputs": [
    {
     "name": "stdout",
     "output_type": "stream",
     "text": [
      "[NbConvertApp] Converting notebook mnist_jupyter_test.ipynb to script\n",
      "[NbConvertApp] Writing 1623 bytes to mnist_jupyter_test.py\n"
     ]
    }
   ],
   "source": [
    "!jupyter nbconvert --to script mnist_jupyter_test.ipynb"
   ]
  },
  {
   "cell_type": "code",
   "execution_count": null,
   "id": "e24c6edc-53f1-4099-952f-15f6fb25d155",
   "metadata": {},
   "outputs": [],
   "source": []
  },
  {
   "cell_type": "markdown",
   "id": "f81c5e53-da6a-4761-88d5-1bc5455f266f",
   "metadata": {},
   "source": [
    "현재 jupyter의 tensorflow버전이 2.12.0 버전이기 때문에 \n",
    "tensorflow/tensorflow docker hub에 있는 2.12.0 버전을 쓰자\n",
    "gpu가 필요하면 2.12.0-gpu를 쓰면 된다."
   ]
  },
  {
   "cell_type": "code",
   "execution_count": null,
   "id": "b4a7b590-0153-4f2a-9d71-1c877187db53",
   "metadata": {},
   "outputs": [],
   "source": []
  },
  {
   "cell_type": "code",
   "execution_count": null,
   "id": "992f1655-7646-4f5f-b94c-c8ee6b746ca8",
   "metadata": {},
   "outputs": [],
   "source": []
  },
  {
   "cell_type": "markdown",
   "id": "3a1b3afb-4dce-4db4-9449-d62c29c4b2df",
   "metadata": {},
   "source": [
    "Docker file은 여길 참고함  \n",
    "https://github.com/kubeflow/training-operator/tree/master/examples/tensorflow/mnist_with_summaries"
   ]
  },
  {
   "cell_type": "code",
   "execution_count": null,
   "id": "4c829616-1d97-4aae-b2bd-0710f58fe6a3",
   "metadata": {},
   "outputs": [],
   "source": []
  },
  {
   "cell_type": "code",
   "execution_count": 14,
   "id": "48ea12e4-4867-4068-9f8a-65bfce0f596a",
   "metadata": {},
   "outputs": [],
   "source": [
    "#dockerize\n",
    "\n",
    "dockerfile = \"\"\"\n",
    "#escs34/mnist에 push해뒀습니다.\n",
    "From tensorflow/tensorflow:2.12.0\n",
    "\n",
    "ADD mnist_jupyter_test.py /var/source/mnist_jupyter_test.py\n",
    "\n",
    "#코드 실행은 yaml파일에서 지정할거라 안해도 됨 (여기서 지정하거나, yaml 파일에서 지정하거나 한번만.)\n",
    "#예제코드 보니까 single은 yaml에서 distributed는 여기서 지정하길래 따라해봄\n",
    "\n",
    "#ENTRYPOINT [\"python\", \"/var/source/mnist_jupyter_test.py\"]\n",
    "\n",
    "\"\"\"\n",
    "\n",
    "with open(\"Dockerfile\", 'w') as f:\n",
    "    f.write(dockerfile)"
   ]
  },
  {
   "cell_type": "code",
   "execution_count": null,
   "id": "ed602a6c-d64a-4b78-9406-cf85a623e788",
   "metadata": {},
   "outputs": [],
   "source": []
  },
  {
   "cell_type": "code",
   "execution_count": null,
   "id": "1fac3061-d68b-49c2-8195-c5a006e59d1f",
   "metadata": {},
   "outputs": [],
   "source": [
    "#도커 로그인 정보 획득\n",
    "#!aws ecr get-login --no-include-email --region us-east-1"
   ]
  },
  {
   "cell_type": "code",
   "execution_count": null,
   "id": "3fe41038-6032-40c8-aa7f-8b9196419843",
   "metadata": {},
   "outputs": [],
   "source": []
  },
  {
   "cell_type": "code",
   "execution_count": null,
   "id": "d19e1b92-d750-4c24-abf7-bfae3b11b06f",
   "metadata": {},
   "outputs": [],
   "source": [
    "#!docker build -t <ecr 주소>/mnist_job ."
   ]
  },
  {
   "cell_type": "code",
   "execution_count": null,
   "id": "e1b9170a-eff0-4265-97c2-f525e8f9cabe",
   "metadata": {},
   "outputs": [],
   "source": []
  },
  {
   "cell_type": "code",
   "execution_count": null,
   "id": "e5a5f27f-a072-479a-acb0-ad7fba978daa",
   "metadata": {},
   "outputs": [],
   "source": [
    "#https://ryeon9445.com/develop/1-AWS-ECR-%EC%82%AC%EC%9A%A9%ED%95%98%EA%B8%B0/"
   ]
  },
  {
   "cell_type": "code",
   "execution_count": null,
   "id": "cd8d03df-af25-4bac-bfc0-d54e26ae19c1",
   "metadata": {},
   "outputs": [],
   "source": []
  },
  {
   "cell_type": "code",
   "execution_count": null,
   "id": "c14124fe-1f17-4374-9eda-f203f42eaad5",
   "metadata": {},
   "outputs": [],
   "source": [
    "#kubectl apply -f single_tf_job.yaml --validate=false"
   ]
  },
  {
   "cell_type": "code",
   "execution_count": null,
   "id": "80b42d06-a68c-4a49-a48e-954e8df4087a",
   "metadata": {},
   "outputs": [],
   "source": []
  },
  {
   "cell_type": "markdown",
   "id": "9295fc37-866b-4026-a20a-2d7752b7cc30",
   "metadata": {},
   "source": [
    "# 분산 학습"
   ]
  },
  {
   "cell_type": "code",
   "execution_count": null,
   "id": "759416ca-7a9a-43cd-b99c-d08b1548e2cc",
   "metadata": {},
   "outputs": [],
   "source": []
  },
  {
   "cell_type": "code",
   "execution_count": 12,
   "id": "6b21a2d1-c973-4ed4-b297-06ce495b4f12",
   "metadata": {},
   "outputs": [
    {
     "name": "stdout",
     "output_type": "stream",
     "text": [
      "[NbConvertApp] Converting notebook distributed_mnist_jupyter.ipynb to script\n",
      "[NbConvertApp] Writing 2271 bytes to distributed_mnist_jupyter.py\n"
     ]
    }
   ],
   "source": [
    "!jupyter nbconvert --to script distributed_mnist_jupyter.ipynb"
   ]
  },
  {
   "cell_type": "code",
   "execution_count": null,
   "id": "a224b423-6fe6-4aae-be40-f5538a28ddae",
   "metadata": {},
   "outputs": [],
   "source": []
  },
  {
   "cell_type": "code",
   "execution_count": 18,
   "id": "139a2150-640f-424d-8ba1-c0b2c1223cc2",
   "metadata": {},
   "outputs": [],
   "source": [
    "#dockerize\n",
    "#https://github.com/kubeflow/training-operator/blob/master/examples/tensorflow/distribution_strategy/keras-API/Dockerfile\n",
    "dockerfile = \"\"\"\n",
    "#escs34/mnist에 push해뒀습니다.\n",
    "From tensorflow/tensorflow:2.12.0\n",
    "\n",
    "ADD distributed_mnist_jupyter.py /var/source/distributed_mnist_jupyter.py\n",
    "\n",
    "#코드 실행은 yaml파일에서 지정할거라 안해도 됨 (여기서 지정하거나, yaml 파일에서 지정하거나 한번만.)\n",
    "#예제코드 보니까 single은 yaml에서 distributed는 여기서 지정하길래 따라해봄\n",
    "\n",
    "ENTRYPOINT [\"python\", \"/var/source/distributed_mnist_jupyter.py\"]\n",
    "\n",
    "\"\"\"\n",
    "\n",
    "with open(\"Dockerfile\", 'w') as f:\n",
    "    f.write(dockerfile)"
   ]
  },
  {
   "cell_type": "code",
   "execution_count": null,
   "id": "43dc3f25-e213-446c-ae2e-0d8aa044790f",
   "metadata": {},
   "outputs": [],
   "source": []
  },
  {
   "cell_type": "code",
   "execution_count": null,
   "id": "8d476c62-d586-408c-b6cf-36b29fa8b329",
   "metadata": {},
   "outputs": [],
   "source": []
  }
 ],
 "metadata": {
  "kernelspec": {
   "display_name": "Python 3 (ipykernel)",
   "language": "python",
   "name": "python3"
  },
  "language_info": {
   "codemirror_mode": {
    "name": "ipython",
    "version": 3
   },
   "file_extension": ".py",
   "mimetype": "text/x-python",
   "name": "python",
   "nbconvert_exporter": "python",
   "pygments_lexer": "ipython3",
   "version": "3.10.11"
  }
 },
 "nbformat": 4,
 "nbformat_minor": 5
}
