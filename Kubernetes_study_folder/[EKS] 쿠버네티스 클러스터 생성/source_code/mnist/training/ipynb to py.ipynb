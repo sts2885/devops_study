{
 "cells": [
  {
   "cell_type": "code",
   "execution_count": null,
   "id": "74b27400-4457-4d63-ad06-1bcdfb6f4fb3",
   "metadata": {},
   "outputs": [],
   "source": []
  },
  {
   "cell_type": "code",
   "execution_count": null,
   "id": "06aae048-36c6-43f3-8d0c-794ddb61d2bf",
   "metadata": {},
   "outputs": [],
   "source": []
  },
  {
   "cell_type": "markdown",
   "id": "12183a21-16f5-411d-8c20-f1320bdbf9f9",
   "metadata": {},
   "source": [
    "ipynb to py 변환툴 설치"
   ]
  },
  {
   "cell_type": "code",
   "execution_count": 1,
   "id": "b9b63327-df98-4e48-95f3-8ab8eb0d28cd",
   "metadata": {
    "collapsed": true,
    "jupyter": {
     "outputs_hidden": true
    },
    "tags": []
   },
   "outputs": [
    {
     "name": "stdout",
     "output_type": "stream",
     "text": [
      "Requirement already satisfied: nbconvert in /usr/local/lib/python3.10/site-packages (7.3.0)\n",
      "Requirement already satisfied: nbclient>=0.5.0 in /usr/local/lib/python3.10/site-packages (from nbconvert) (0.7.3)\n",
      "Requirement already satisfied: jupyterlab-pygments in /usr/local/lib/python3.10/site-packages (from nbconvert) (0.2.2)\n",
      "Requirement already satisfied: markupsafe>=2.0 in /usr/local/lib/python3.10/site-packages (from nbconvert) (2.1.2)\n",
      "Requirement already satisfied: jinja2>=3.0 in /usr/local/lib/python3.10/site-packages (from nbconvert) (3.1.2)\n",
      "Requirement already satisfied: tinycss2 in /usr/local/lib/python3.10/site-packages (from nbconvert) (1.2.1)\n",
      "Requirement already satisfied: defusedxml in /usr/local/lib/python3.10/site-packages (from nbconvert) (0.7.1)\n",
      "Requirement already satisfied: bleach in /usr/local/lib/python3.10/site-packages (from nbconvert) (6.0.0)\n",
      "Requirement already satisfied: jupyter-core>=4.7 in /usr/local/lib/python3.10/site-packages (from nbconvert) (5.3.0)\n",
      "Requirement already satisfied: nbformat>=5.1 in /usr/local/lib/python3.10/site-packages (from nbconvert) (5.8.0)\n",
      "Requirement already satisfied: packaging in /usr/local/lib/python3.10/site-packages (from nbconvert) (23.0)\n",
      "Requirement already satisfied: pygments>=2.4.1 in /usr/local/lib/python3.10/site-packages (from nbconvert) (2.14.0)\n",
      "Requirement already satisfied: pandocfilters>=1.4.1 in /usr/local/lib/python3.10/site-packages (from nbconvert) (1.5.0)\n",
      "Requirement already satisfied: mistune<3,>=2.0.3 in /usr/local/lib/python3.10/site-packages (from nbconvert) (2.0.5)\n",
      "Requirement already satisfied: beautifulsoup4 in /usr/local/lib/python3.10/site-packages (from nbconvert) (4.12.0)\n",
      "Requirement already satisfied: traitlets>=5.0 in /usr/local/lib/python3.10/site-packages (from nbconvert) (5.9.0)\n",
      "Requirement already satisfied: platformdirs>=2.5 in /usr/local/lib/python3.10/site-packages (from jupyter-core>=4.7->nbconvert) (3.2.0)\n",
      "Requirement already satisfied: jupyter-client>=6.1.12 in /usr/local/lib/python3.10/site-packages (from nbclient>=0.5.0->nbconvert) (8.1.0)\n",
      "Requirement already satisfied: jsonschema>=2.6 in /usr/local/lib/python3.10/site-packages (from nbformat>=5.1->nbconvert) (4.17.3)\n",
      "Requirement already satisfied: fastjsonschema in /usr/local/lib/python3.10/site-packages (from nbformat>=5.1->nbconvert) (2.16.3)\n",
      "Requirement already satisfied: soupsieve>1.2 in /usr/local/lib/python3.10/site-packages (from beautifulsoup4->nbconvert) (2.4)\n",
      "Requirement already satisfied: webencodings in /usr/local/lib/python3.10/site-packages (from bleach->nbconvert) (0.5.1)\n",
      "Requirement already satisfied: six>=1.9.0 in /usr/local/lib/python3.10/site-packages (from bleach->nbconvert) (1.16.0)\n",
      "Requirement already satisfied: attrs>=17.4.0 in /usr/local/lib/python3.10/site-packages (from jsonschema>=2.6->nbformat>=5.1->nbconvert) (22.2.0)\n",
      "Requirement already satisfied: pyrsistent!=0.17.0,!=0.17.1,!=0.17.2,>=0.14.0 in /usr/local/lib/python3.10/site-packages (from jsonschema>=2.6->nbformat>=5.1->nbconvert) (0.19.3)\n",
      "Requirement already satisfied: tornado>=6.2 in /usr/local/lib/python3.10/site-packages (from jupyter-client>=6.1.12->nbclient>=0.5.0->nbconvert) (6.2)\n",
      "Requirement already satisfied: python-dateutil>=2.8.2 in /usr/local/lib/python3.10/site-packages (from jupyter-client>=6.1.12->nbclient>=0.5.0->nbconvert) (2.8.2)\n",
      "Requirement already satisfied: pyzmq>=23.0 in /usr/local/lib/python3.10/site-packages (from jupyter-client>=6.1.12->nbclient>=0.5.0->nbconvert) (25.0.2)\n",
      "\n",
      "\u001b[1m[\u001b[0m\u001b[34;49mnotice\u001b[0m\u001b[1;39;49m]\u001b[0m\u001b[39;49m A new release of pip is available: \u001b[0m\u001b[31;49m23.0.1\u001b[0m\u001b[39;49m -> \u001b[0m\u001b[32;49m23.2\u001b[0m\n",
      "\u001b[1m[\u001b[0m\u001b[34;49mnotice\u001b[0m\u001b[1;39;49m]\u001b[0m\u001b[39;49m To update, run: \u001b[0m\u001b[32;49mpip install --upgrade pip\u001b[0m\n"
     ]
    }
   ],
   "source": [
    "!pip install nbconvert"
   ]
  },
  {
   "cell_type": "code",
   "execution_count": null,
   "id": "a84222d3-9e71-45af-bec6-9a00b91b9e7a",
   "metadata": {},
   "outputs": [],
   "source": []
  },
  {
   "cell_type": "code",
   "execution_count": 2,
   "id": "1ad37ff9-ee53-43dd-bf2a-0f3f73f90d2d",
   "metadata": {},
   "outputs": [
    {
     "name": "stdout",
     "output_type": "stream",
     "text": [
      "[NbConvertApp] Converting notebook mnist_jupyter_test.ipynb to script\n",
      "[NbConvertApp] Writing 1623 bytes to mnist_jupyter_test.py\n"
     ]
    }
   ],
   "source": [
    "!jupyter nbconvert --to script mnist_jupyter_test.ipynb"
   ]
  },
  {
   "cell_type": "code",
   "execution_count": null,
   "id": "e24c6edc-53f1-4099-952f-15f6fb25d155",
   "metadata": {},
   "outputs": [],
   "source": []
  },
  {
   "cell_type": "markdown",
   "id": "f81c5e53-da6a-4761-88d5-1bc5455f266f",
   "metadata": {},
   "source": [
    "현재 jupyter의 tensorflow버전이 2.12.0 버전이기 때문에 \n",
    "tensorflow/tensorflow docker hub에 있는 2.12.0 버전을 쓰자\n",
    "gpu가 필요하면 2.12.0-gpu를 쓰면 된다."
   ]
  },
  {
   "cell_type": "code",
   "execution_count": null,
   "id": "b4a7b590-0153-4f2a-9d71-1c877187db53",
   "metadata": {},
   "outputs": [],
   "source": []
  },
  {
   "cell_type": "code",
   "execution_count": null,
   "id": "992f1655-7646-4f5f-b94c-c8ee6b746ca8",
   "metadata": {},
   "outputs": [],
   "source": []
  },
  {
   "cell_type": "markdown",
   "id": "3a1b3afb-4dce-4db4-9449-d62c29c4b2df",
   "metadata": {},
   "source": [
    "Docker file은 여길 참고함  \n",
    "https://github.com/kubeflow/training-operator/tree/master/examples/tensorflow/mnist_with_summaries"
   ]
  },
  {
   "cell_type": "code",
   "execution_count": null,
   "id": "4c829616-1d97-4aae-b2bd-0710f58fe6a3",
   "metadata": {},
   "outputs": [],
   "source": []
  },
  {
   "cell_type": "code",
   "execution_count": 7,
   "id": "48ea12e4-4867-4068-9f8a-65bfce0f596a",
   "metadata": {},
   "outputs": [],
   "source": [
    "#dockerize\n",
    "\n",
    "dockerfile = \"\"\"\n",
    "From tensorflow/tensorflow:2.12.0\n",
    "\n",
    "ADD mnist_jupyter_test.py /var/source/mnist_jupyter_test.py\n",
    "\n",
    "ENTRYPOINT [\"python\", \"/var/tf_mnist/mnist_with_summaries.py\"]\n",
    "\"\"\"\n",
    "\n",
    "with open(\"Dockerfile\", 'w') as f:\n",
    "    f.write(dockerfile)"
   ]
  },
  {
   "cell_type": "code",
   "execution_count": null,
   "id": "ed602a6c-d64a-4b78-9406-cf85a623e788",
   "metadata": {},
   "outputs": [],
   "source": []
  },
  {
   "cell_type": "code",
   "execution_count": null,
   "id": "d19e1b92-d750-4c24-abf7-bfae3b11b06f",
   "metadata": {},
   "outputs": [],
   "source": [
    "#!docker build -t my/mnist_job ."
   ]
  },
  {
   "cell_type": "code",
   "execution_count": null,
   "id": "51e6d518-6cd2-4c6c-9a24-e047229fc5e1",
   "metadata": {},
   "outputs": [],
   "source": []
  }
 ],
 "metadata": {
  "kernelspec": {
   "display_name": "Python 3 (ipykernel)",
   "language": "python",
   "name": "python3"
  },
  "language_info": {
   "codemirror_mode": {
    "name": "ipython",
    "version": 3
   },
   "file_extension": ".py",
   "mimetype": "text/x-python",
   "name": "python",
   "nbconvert_exporter": "python",
   "pygments_lexer": "ipython3",
   "version": "3.10.10"
  }
 },
 "nbformat": 4,
 "nbformat_minor": 5
}
