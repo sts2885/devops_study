{
 "cells": [
  {
   "cell_type": "code",
   "execution_count": null,
   "id": "e36f7979-a33a-491f-ae07-b2d5e73e025c",
   "metadata": {},
   "outputs": [],
   "source": []
  },
  {
   "cell_type": "markdown",
   "id": "54221b51-6ee9-49b9-9169-96956d359370",
   "metadata": {},
   "source": [
    "http://www.gisdeveloper.co.kr/?p=8534"
   ]
  },
  {
   "cell_type": "code",
   "execution_count": null,
   "id": "0007fea1-2929-4d00-aebc-4c9b43644d3b",
   "metadata": {},
   "outputs": [],
   "source": []
  },
  {
   "cell_type": "code",
   "execution_count": null,
   "id": "5e6aaee4-398d-4d3d-b180-397651c3b4f7",
   "metadata": {},
   "outputs": [],
   "source": []
  },
  {
   "cell_type": "markdown",
   "id": "7b387aef-5568-40f1-80ef-b425d3f370e9",
   "metadata": {},
   "source": [
    "\n",
    "\n",
    "tfjob 만드는 과정\n",
    "\n",
    "1. jupyter에서 단순 학습 테스트 (이 jupyter 파일)\n",
    "\n",
    "2. .py 코드로 만듦\n",
    "\n",
    "3. dockerize 시킴 => container가 실행될때 파이썬 코드 실행시키게 만듦\n",
    "\n",
    "4. 이미지를 registry에 띄움\n",
    "\n",
    "5. tfjob yaml 파일 작성함\n",
    "\n",
    "6. kubectl apply -f 로실행함.\n",
    "\n",
    "7. yaml파일을 jupyter에서 읽어서 pipeline으로 만듦\n"
   ]
  },
  {
   "cell_type": "code",
   "execution_count": null,
   "id": "9e207ad0-c98b-41e4-93ac-0241b8e769d5",
   "metadata": {},
   "outputs": [],
   "source": []
  },
  {
   "cell_type": "code",
   "execution_count": null,
   "id": "25e6ea1b-9361-487a-8b58-b73dfed463e9",
   "metadata": {},
   "outputs": [],
   "source": []
  },
  {
   "cell_type": "code",
   "execution_count": 24,
   "id": "f8d1befc-8f0e-4b00-a43b-727b1ff7d528",
   "metadata": {},
   "outputs": [],
   "source": [
    "import tensorflow as tf\n",
    "import tensorflow.keras as keras\n",
    "\n",
    "from tensorflow.keras.layers import Flatten\n",
    "from tensorflow.keras.layers import Dense\n",
    "from tensorflow.keras.layers import Dropout\n",
    "\n",
    "from tensorflow.keras.models import Model"
   ]
  },
  {
   "cell_type": "code",
   "execution_count": null,
   "id": "1e137e98-5bd2-4a98-bea2-06d6263b78bd",
   "metadata": {},
   "outputs": [],
   "source": []
  },
  {
   "cell_type": "code",
   "execution_count": 23,
   "id": "5b2f1115-62f2-4f2f-9e62-e408a421b605",
   "metadata": {},
   "outputs": [
    {
     "name": "stdout",
     "output_type": "stream",
     "text": [
      "2.12.0\n",
      "2.12.0\n"
     ]
    }
   ],
   "source": [
    "print(tf.__version__)\n",
    "print(keras.__version__)"
   ]
  },
  {
   "cell_type": "code",
   "execution_count": null,
   "id": "e920103a-aa45-4066-9f09-f279fbc3d49b",
   "metadata": {},
   "outputs": [],
   "source": []
  },
  {
   "cell_type": "code",
   "execution_count": null,
   "id": "d070005e-fd4b-40f6-88fd-02a2d01ea682",
   "metadata": {},
   "outputs": [],
   "source": []
  },
  {
   "cell_type": "code",
   "execution_count": 5,
   "id": "9662e600-1ec0-4743-b6d4-af95c515d398",
   "metadata": {},
   "outputs": [
    {
     "name": "stdout",
     "output_type": "stream",
     "text": [
      "Downloading data from https://storage.googleapis.com/tensorflow/tf-keras-datasets/mnist.npz\n",
      "11490434/11490434 [==============================] - 0s 0us/step\n"
     ]
    }
   ],
   "source": [
    "(x_train, y_train) , (x_test, y_test) = keras.datasets.mnist.load_data()\n",
    "x_train, x_test = x_train / 255.0, x_test / 255.0"
   ]
  },
  {
   "cell_type": "code",
   "execution_count": null,
   "id": "9a7370f4-63f0-4a2b-83e0-f6472abca386",
   "metadata": {},
   "outputs": [],
   "source": []
  },
  {
   "cell_type": "code",
   "execution_count": null,
   "id": "9490a765-154b-472e-a3c7-6ec9a2c37e09",
   "metadata": {},
   "outputs": [],
   "source": [
    "#model = keras.models.Sequential([\n",
    "#]"
   ]
  },
  {
   "cell_type": "code",
   "execution_count": 32,
   "id": "2b96c7aa-52a2-489a-89e7-a53d9ad716bb",
   "metadata": {},
   "outputs": [],
   "source": [
    "input_x = keras.layers.Input(shape=(28,28))\n",
    "\n",
    "x = Flatten()(input_x)\n",
    "x = Dense(128, activation='relu')(x)\n",
    "x = Dropout(0.2)(x)\n",
    "output_y = Dense(10, activation='softmax')(x)\n",
    "\n",
    "model = Model(inputs = input_x, outputs = output_y)\n"
   ]
  },
  {
   "cell_type": "code",
   "execution_count": null,
   "id": "a7a10ddf-5966-4b0a-a846-a6195dda16fe",
   "metadata": {},
   "outputs": [],
   "source": []
  },
  {
   "cell_type": "code",
   "execution_count": 34,
   "id": "d048bfb3-0ba2-459c-b0a9-82adf287e08b",
   "metadata": {},
   "outputs": [
    {
     "name": "stdout",
     "output_type": "stream",
     "text": [
      "Model: \"model\"\n",
      "_________________________________________________________________\n",
      " Layer (type)                Output Shape              Param #   \n",
      "=================================================================\n",
      " input_8 (InputLayer)        [(None, 28, 28)]          0         \n",
      "                                                                 \n",
      " flatten_6 (Flatten)         (None, 784)               0         \n",
      "                                                                 \n",
      " dense (Dense)               (None, 128)               100480    \n",
      "                                                                 \n",
      " dropout (Dropout)           (None, 128)               0         \n",
      "                                                                 \n",
      " dense_1 (Dense)             (None, 10)                1290      \n",
      "                                                                 \n",
      "=================================================================\n",
      "Total params: 101,770\n",
      "Trainable params: 101,770\n",
      "Non-trainable params: 0\n",
      "_________________________________________________________________\n"
     ]
    }
   ],
   "source": [
    "model.summary()"
   ]
  },
  {
   "cell_type": "code",
   "execution_count": null,
   "id": "75e8734a-58e6-43da-aab0-0c130454efd2",
   "metadata": {},
   "outputs": [],
   "source": []
  },
  {
   "cell_type": "code",
   "execution_count": 36,
   "id": "e57ef880-0262-4f9b-8c11-aaa1b0683104",
   "metadata": {},
   "outputs": [],
   "source": [
    "model.compile(optimizer='adam', loss='sparse_categorical_crossentropy', metrics=['accuracy'])"
   ]
  },
  {
   "cell_type": "code",
   "execution_count": null,
   "id": "bf2714e5-b4ea-40f9-a222-e73f549af55d",
   "metadata": {},
   "outputs": [],
   "source": []
  },
  {
   "cell_type": "code",
   "execution_count": 37,
   "id": "c854fdda-4684-4c3d-87fa-2da8b64d008b",
   "metadata": {},
   "outputs": [
    {
     "name": "stdout",
     "output_type": "stream",
     "text": [
      "Epoch 1/5\n",
      "1875/1875 [==============================] - 39s 20ms/step - loss: 0.2930 - accuracy: 0.9148\n",
      "Epoch 2/5\n",
      "1875/1875 [==============================] - 37s 19ms/step - loss: 0.1409 - accuracy: 0.9584\n",
      "Epoch 3/5\n",
      "1875/1875 [==============================] - 37s 20ms/step - loss: 0.1054 - accuracy: 0.9677\n",
      "Epoch 4/5\n",
      "1875/1875 [==============================] - 38s 20ms/step - loss: 0.0858 - accuracy: 0.9736\n",
      "Epoch 5/5\n",
      "1875/1875 [==============================] - 38s 20ms/step - loss: 0.0733 - accuracy: 0.9768\n"
     ]
    },
    {
     "data": {
      "text/plain": [
       "<keras.callbacks.History at 0x7f21b4953700>"
      ]
     },
     "execution_count": 37,
     "metadata": {},
     "output_type": "execute_result"
    }
   ],
   "source": [
    "#0.5코어 주피터라 느리긴 하네\n",
    "#짜놓고 보니까 valid set을 안넣었네?\n",
    "model.fit(x_train, y_train, epochs=5)"
   ]
  },
  {
   "cell_type": "code",
   "execution_count": null,
   "id": "5629da63-df75-4ca1-b80e-c59ad5a3cacf",
   "metadata": {},
   "outputs": [],
   "source": []
  },
  {
   "cell_type": "code",
   "execution_count": 38,
   "id": "80a892ed-b8ab-4f3b-91e4-0c10f891d325",
   "metadata": {},
   "outputs": [
    {
     "name": "stdout",
     "output_type": "stream",
     "text": [
      "313/313 - 4s - loss: 0.0762 - accuracy: 0.9783 - 4s/epoch - 13ms/step\n"
     ]
    },
    {
     "data": {
      "text/plain": [
       "[0.0761503353714943, 0.9782999753952026]"
      ]
     },
     "execution_count": 38,
     "metadata": {},
     "output_type": "execute_result"
    }
   ],
   "source": [
    "model.evaluate(x_test, y_test, verbose=2)"
   ]
  },
  {
   "cell_type": "code",
   "execution_count": null,
   "id": "bfb06031-ae59-4553-84e2-7fe90478f13b",
   "metadata": {},
   "outputs": [],
   "source": []
  },
  {
   "cell_type": "code",
   "execution_count": null,
   "id": "8016e444-064a-4919-8769-4932c017055e",
   "metadata": {},
   "outputs": [],
   "source": []
  },
  {
   "cell_type": "code",
   "execution_count": null,
   "id": "ec78ba6e-9bcf-4300-8df0-36bf7a77bf7d",
   "metadata": {},
   "outputs": [],
   "source": []
  },
  {
   "cell_type": "code",
   "execution_count": null,
   "id": "0b4abd15-d37f-4d34-9b77-322528c94d00",
   "metadata": {},
   "outputs": [],
   "source": []
  },
  {
   "cell_type": "code",
   "execution_count": null,
   "id": "1a1c99ce-9a75-42c0-9c20-d6450e4b826c",
   "metadata": {},
   "outputs": [],
   "source": []
  }
 ],
 "metadata": {
  "kernelspec": {
   "display_name": "Python 3 (ipykernel)",
   "language": "python",
   "name": "python3"
  },
  "language_info": {
   "codemirror_mode": {
    "name": "ipython",
    "version": 3
   },
   "file_extension": ".py",
   "mimetype": "text/x-python",
   "name": "python",
   "nbconvert_exporter": "python",
   "pygments_lexer": "ipython3",
   "version": "3.10.10"
  }
 },
 "nbformat": 4,
 "nbformat_minor": 5
}
