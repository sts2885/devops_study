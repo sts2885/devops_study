{
 "cells": [
  {
   "cell_type": "code",
   "execution_count": null,
   "id": "8b9103f2",
   "metadata": {},
   "outputs": [],
   "source": []
  },
  {
   "cell_type": "code",
   "execution_count": null,
   "id": "61f6336c",
   "metadata": {},
   "outputs": [],
   "source": []
  },
  {
   "attachments": {},
   "cell_type": "markdown",
   "id": "0939548e",
   "metadata": {},
   "source": [
    "# 클러스터 구성 과정\n",
    "# 1. node 0개로 클러스터 생성 (secondary cidr 설정을 위해)\n",
    "# 2. bootstrap (secondary cidr, aws load balancer controller)\n",
    "# 3. 노드 갯수 원하는 양으로 조절\n",
    "## 의 과정을 거쳐야 한다. (aws는 k8s에 최적화가 덜되서...)"
   ]
  },
  {
   "cell_type": "code",
   "execution_count": null,
   "id": "426953ac",
   "metadata": {},
   "outputs": [],
   "source": []
  },
  {
   "attachments": {},
   "cell_type": "markdown",
   "id": "04ed1a99",
   "metadata": {},
   "source": [
    "Deprecated (이전 절차)\n",
    "절차\n",
    "\n",
    "1. node_size.yml => 0\n",
    "2. terraform apply => output으로 eniconfig.yaml 파일 작성\n",
    "3. aws eks --region us-east-1 update-kubeconfig --name test-eks-cluster\n",
    "4. kubectl create -f ./k8s-manifests/eni-configs/.\n",
    "5. kubectl set env daemonset aws-node -n kube-system AWS_VPC_K8S_CNI_CUSTOM_NETWORK_CFG=true\n",
    "6. kubectl set env daemonset aws-node -n kube-system ENI_CONFIG_LABEL_DEF=failure-domain.beta.kubernetes.io/zone\n",
    "7. node_size.yml => 0\n",
    "8. terraform apply\n",
    "9. node_size.yml => cluster size you want\n",
    "10. terraform apply"
   ]
  },
  {
   "cell_type": "code",
   "execution_count": null,
   "id": "c101e7ce",
   "metadata": {},
   "outputs": [],
   "source": []
  },
  {
   "attachments": {},
   "cell_type": "markdown",
   "id": "a079e07f",
   "metadata": {},
   "source": [
    "절차\n",
    "\n",
    "1. node_size.yml => 0\n",
    "2. terraform apply => output으로 eniconfig.yaml 파일 작성\n",
    "3. boot strap 과정에 개편을 거쳐서 이젠 boot strap 데이터를 terraform 으로 전송해서, null_resource를 통해 실행시킨다.\n",
    "4. node_size.yml => cluster size you want\n",
    "5. terraform apply --auto-approve\n",
    "6. node_size.yml => 원하는 사이즈\n",
    "7. terraform apply --auto-approve"
   ]
  },
  {
   "cell_type": "code",
   "execution_count": null,
   "id": "39573d7e-12b2-4688-b58c-777ae614adc6",
   "metadata": {},
   "outputs": [],
   "source": []
  },
  {
   "cell_type": "markdown",
   "id": "c92f3632-2f10-4427-b935-cb3d5503dfad",
   "metadata": {},
   "source": [
    "여기다가 초기 정보 (cluster name, region) 등 몰아서 설정하게 해야 되는데..."
   ]
  },
  {
   "cell_type": "code",
   "execution_count": null,
   "id": "63a99ebe-7849-4967-a17f-12760760eb38",
   "metadata": {},
   "outputs": [],
   "source": []
  },
  {
   "cell_type": "code",
   "execution_count": null,
   "id": "c0fe75c6",
   "metadata": {},
   "outputs": [],
   "source": [
    "    "
   ]
  },
  {
   "cell_type": "code",
   "execution_count": 1,
   "id": "7dea4b04",
   "metadata": {
    "scrolled": true
   },
   "outputs": [],
   "source": [
    "#!terraform destroy --auto-approve"
   ]
  },
  {
   "attachments": {},
   "cell_type": "markdown",
   "id": "46957958",
   "metadata": {},
   "source": [
    "# 1. 초기 클러스터 크기"
   ]
  },
  {
   "cell_type": "code",
   "execution_count": 2,
   "id": "8124b445",
   "metadata": {},
   "outputs": [],
   "source": [
    "import yaml\n",
    "def change_node_size_yml(desired_size, max_size, min_size):\n",
    "    with open('node_size.yml') as f:\n",
    "        node_size = yaml.load(f, Loader=yaml.FullLoader)\n",
    "        print('current_state',node_size)\n",
    "        \n",
    "    node_size['desired_size'] = desired_size\n",
    "    node_size['min_size'] = min_size\n",
    "    node_size['max_size'] = max_size\n",
    "    \n",
    "    print('after change', node_size)\n",
    "    \n",
    "    with open('node_size.yml', 'w') as f:\n",
    "        yaml.dump(node_size,f)"
   ]
  },
  {
   "cell_type": "code",
   "execution_count": null,
   "id": "3f49c6aa",
   "metadata": {},
   "outputs": [],
   "source": []
  },
  {
   "cell_type": "code",
   "execution_count": null,
   "id": "2b357499",
   "metadata": {},
   "outputs": [],
   "source": []
  },
  {
   "cell_type": "code",
   "execution_count": 3,
   "id": "c1d24eb0",
   "metadata": {},
   "outputs": [],
   "source": [
    "desired_size = 0\n",
    "max_size = 1 #maxsize는 0이 될 수 없다.\n",
    "min_size = 0"
   ]
  },
  {
   "cell_type": "code",
   "execution_count": 4,
   "id": "69548f5f",
   "metadata": {},
   "outputs": [
    {
     "name": "stdout",
     "output_type": "stream",
     "text": [
      "current_state {'desired_size': 1, 'max_size': 1, 'min_size': 1}\n",
      "after change {'desired_size': 0, 'max_size': 1, 'min_size': 0}\n"
     ]
    }
   ],
   "source": [
    "change_node_size_yml(desired_size, max_size, min_size)"
   ]
  },
  {
   "cell_type": "code",
   "execution_count": null,
   "id": "e8005cdb",
   "metadata": {},
   "outputs": [],
   "source": []
  },
  {
   "attachments": {},
   "cell_type": "markdown",
   "id": "c85e3d50",
   "metadata": {},
   "source": [
    "# 2. Terraform 실행"
   ]
  },
  {
   "cell_type": "code",
   "execution_count": null,
   "id": "b8139436-721d-4058-9e2c-94c3a3dc6276",
   "metadata": {},
   "outputs": [],
   "source": []
  },
  {
   "cell_type": "markdown",
   "id": "29fa952d-d2d1-4e4d-8f54-946fa37fb6ee",
   "metadata": {},
   "source": [
    "#테라폼 설치 법 2023-06-25 현재 최신버전  1.5.1    \n",
    "https://askubuntu.com/questions/983351/how-to-install-terraform-in-ubuntu"
   ]
  },
  {
   "cell_type": "code",
   "execution_count": 5,
   "id": "d2d834f5",
   "metadata": {},
   "outputs": [],
   "source": [
    "#mv terraform /usr/local/bin #컨테이너 안에서 실행했음"
   ]
  },
  {
   "cell_type": "code",
   "execution_count": 6,
   "id": "1d9b3aa0-7f53-433b-b8a3-468157ad70ed",
   "metadata": {},
   "outputs": [],
   "source": [
    "#!terraform --version"
   ]
  },
  {
   "cell_type": "code",
   "execution_count": null,
   "id": "1ec7509f-b117-4592-b86a-20ad67d57f4a",
   "metadata": {},
   "outputs": [],
   "source": []
  },
  {
   "cell_type": "code",
   "execution_count": 7,
   "id": "56909ebf",
   "metadata": {},
   "outputs": [],
   "source": [
    "#!terraform init"
   ]
  },
  {
   "cell_type": "code",
   "execution_count": null,
   "id": "dd295791",
   "metadata": {},
   "outputs": [],
   "source": []
  },
  {
   "cell_type": "code",
   "execution_count": 8,
   "id": "5e1e32bf",
   "metadata": {
    "scrolled": true
   },
   "outputs": [],
   "source": [
    "#!terraform plan"
   ]
  },
  {
   "cell_type": "code",
   "execution_count": null,
   "id": "b0fe676c",
   "metadata": {},
   "outputs": [],
   "source": []
  },
  {
   "cell_type": "code",
   "execution_count": 17,
   "id": "899b9edf",
   "metadata": {
    "scrolled": true
   },
   "outputs": [],
   "source": [
    "#!terraform apply --auto-approve"
   ]
  },
  {
   "cell_type": "code",
   "execution_count": null,
   "id": "d69c83f9-949b-4fa9-b21d-3a8d95ee38f0",
   "metadata": {},
   "outputs": [],
   "source": []
  },
  {
   "cell_type": "code",
   "execution_count": 10,
   "id": "abb9e20d-692e-4055-afbe-92ed8694c898",
   "metadata": {
    "scrolled": true
   },
   "outputs": [],
   "source": [
    "#테라폼 버그? 인지 secondary cidr subnet이 한번에 생성이 안됨\n",
    "#secondary cidr, subnet에 depends on을 붙이고 나서부터 한번에 만들어짐\n",
    "#!terraform apply --auto-approve"
   ]
  },
  {
   "cell_type": "code",
   "execution_count": null,
   "id": "a09e45e1-226c-475a-94c5-479a9c1c673e",
   "metadata": {},
   "outputs": [],
   "source": []
  },
  {
   "cell_type": "code",
   "execution_count": null,
   "id": "a5409995-c7f3-4b28-9863-b534f6023b66",
   "metadata": {},
   "outputs": [],
   "source": []
  },
  {
   "cell_type": "code",
   "execution_count": null,
   "id": "64521fb1",
   "metadata": {},
   "outputs": [],
   "source": []
  },
  {
   "attachments": {},
   "cell_type": "markdown",
   "id": "f687797c",
   "metadata": {},
   "source": [
    "# 3. bastion server에서 bootstrap 실행\n",
    "# => 테라폼 null_resource로 대체"
   ]
  },
  {
   "cell_type": "code",
   "execution_count": null,
   "id": "69818006",
   "metadata": {},
   "outputs": [],
   "source": []
  },
  {
   "cell_type": "code",
   "execution_count": 11,
   "id": "72c54827",
   "metadata": {},
   "outputs": [],
   "source": [
    "#혹시 bootstrap 이후 필요하면 sleep\n",
    "#import time\n",
    "\n",
    "#time.sleep(120)"
   ]
  },
  {
   "cell_type": "code",
   "execution_count": null,
   "id": "b7b6e86c",
   "metadata": {},
   "outputs": [],
   "source": []
  },
  {
   "attachments": {},
   "cell_type": "markdown",
   "id": "56da0f85",
   "metadata": {},
   "source": [
    "# 4 node size -> 다시 늘리기"
   ]
  },
  {
   "cell_type": "code",
   "execution_count": 12,
   "id": "26bf25e5",
   "metadata": {},
   "outputs": [],
   "source": [
    "#node_size.yml => cluster size you want"
   ]
  },
  {
   "cell_type": "code",
   "execution_count": 13,
   "id": "61dc327f",
   "metadata": {},
   "outputs": [
    {
     "name": "stdout",
     "output_type": "stream",
     "text": [
      "current_state {'desired_size': 0, 'max_size': 1, 'min_size': 0}\n",
      "after change {'desired_size': 1, 'max_size': 1, 'min_size': 1}\n"
     ]
    }
   ],
   "source": [
    "#노드 그룹당 1개 , 노드그룹은 terraform에 2개로 설정되어 있음\n",
    "#리소스 때문에 kubeflow 설치 못하는거 같아서 2배로 늘려봄\n",
    "desired_size = 1\n",
    "max_size = 1\n",
    "min_size = 1\n",
    "\n",
    "change_node_size_yml(desired_size, max_size, min_size)"
   ]
  },
  {
   "cell_type": "code",
   "execution_count": null,
   "id": "98a87526",
   "metadata": {},
   "outputs": [],
   "source": []
  },
  {
   "cell_type": "code",
   "execution_count": 18,
   "id": "4f5022bf",
   "metadata": {
    "scrolled": true
   },
   "outputs": [],
   "source": [
    "#!terraform apply --auto-approve"
   ]
  },
  {
   "cell_type": "code",
   "execution_count": null,
   "id": "f1eda25a",
   "metadata": {},
   "outputs": [],
   "source": []
  },
  {
   "cell_type": "code",
   "execution_count": 15,
   "id": "496ea824-bddb-40df-bbd5-60cc5629e11a",
   "metadata": {
    "scrolled": true
   },
   "outputs": [],
   "source": [
    "#잠깐 쉴때는 노드 사이즈만 줄여도 괜찮네\n",
    "#!terraform apply --auto-approve"
   ]
  },
  {
   "cell_type": "code",
   "execution_count": null,
   "id": "60fe46e3-f221-4b29-a39f-8d513d428434",
   "metadata": {},
   "outputs": [],
   "source": []
  },
  {
   "cell_type": "code",
   "execution_count": null,
   "id": "6a69e678-bb7a-4834-95bc-227bf59ce11f",
   "metadata": {},
   "outputs": [],
   "source": []
  },
  {
   "cell_type": "code",
   "execution_count": null,
   "id": "2499384d-89f7-4a69-8e95-8fc9471334af",
   "metadata": {},
   "outputs": [],
   "source": []
  },
  {
   "cell_type": "code",
   "execution_count": 16,
   "id": "95ae3d10-5c84-4745-a031-110caba2e390",
   "metadata": {
    "scrolled": true
   },
   "outputs": [],
   "source": [
    "#!terraform destroy --auto-approve"
   ]
  },
  {
   "cell_type": "code",
   "execution_count": null,
   "id": "7af2c657",
   "metadata": {},
   "outputs": [],
   "source": []
  },
  {
   "cell_type": "code",
   "execution_count": null,
   "id": "cdb29b7d-9b7f-49c1-a08c-dab8ed9e3138",
   "metadata": {},
   "outputs": [],
   "source": []
  },
  {
   "cell_type": "code",
   "execution_count": null,
   "id": "ecd832d0-2431-4163-ab83-e69d162b6043",
   "metadata": {},
   "outputs": [],
   "source": []
  },
  {
   "cell_type": "code",
   "execution_count": null,
   "id": "56b1e3b2-772c-4515-ba75-790252ed0b21",
   "metadata": {},
   "outputs": [],
   "source": []
  },
  {
   "cell_type": "code",
   "execution_count": null,
   "id": "3d90ef3d-89fe-4b03-b457-6594eb7c70e5",
   "metadata": {},
   "outputs": [],
   "source": []
  },
  {
   "cell_type": "code",
   "execution_count": null,
   "id": "6f075e35-789d-4b3d-b066-c7dd8f74b676",
   "metadata": {
    "scrolled": true
   },
   "outputs": [],
   "source": []
  },
  {
   "cell_type": "code",
   "execution_count": null,
   "id": "9b5f3f8c-f2a2-460a-90bd-78b246a40162",
   "metadata": {},
   "outputs": [],
   "source": []
  },
  {
   "cell_type": "code",
   "execution_count": null,
   "id": "f4a73d3c-31e7-4971-8a79-66e9cbf61493",
   "metadata": {},
   "outputs": [],
   "source": []
  }
 ],
 "metadata": {
  "kernelspec": {
   "display_name": "Python 3 (ipykernel)",
   "language": "python",
   "name": "python3"
  },
  "language_info": {
   "codemirror_mode": {
    "name": "ipython",
    "version": 3
   },
   "file_extension": ".py",
   "mimetype": "text/x-python",
   "name": "python",
   "nbconvert_exporter": "python",
   "pygments_lexer": "ipython3",
   "version": "3.10.11"
  }
 },
 "nbformat": 4,
 "nbformat_minor": 5
}
