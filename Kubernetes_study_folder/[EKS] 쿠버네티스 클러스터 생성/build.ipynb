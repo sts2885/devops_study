{
 "cells": [
  {
   "cell_type": "code",
   "execution_count": null,
   "id": "8b9103f2",
   "metadata": {},
   "outputs": [],
   "source": []
  },
  {
   "cell_type": "code",
   "execution_count": null,
   "id": "61f6336c",
   "metadata": {},
   "outputs": [],
   "source": []
  },
  {
   "cell_type": "markdown",
   "id": "0939548e",
   "metadata": {},
   "source": [
    "# 클러스터 구성 과정상\n",
    "# 1. 소규모로 클러스터 생성\n",
    "# 2. 설정\n",
    "# 3. 노드 다시 켜기\n",
    "## 의 과정을 거쳐야 한다. (aws는 k8s에 최적화가 덜되서...)"
   ]
  },
  {
   "cell_type": "code",
   "execution_count": null,
   "id": "426953ac",
   "metadata": {},
   "outputs": [],
   "source": []
  },
  {
   "cell_type": "markdown",
   "id": "996a46bb",
   "metadata": {},
   "source": [
    "jupyter가 싫으면 .py로 해도 상관 없을듯 아마?"
   ]
  },
  {
   "cell_type": "code",
   "execution_count": null,
   "id": "2afeed87",
   "metadata": {},
   "outputs": [],
   "source": []
  },
  {
   "cell_type": "code",
   "execution_count": null,
   "id": "6a02616e",
   "metadata": {},
   "outputs": [],
   "source": []
  },
  {
   "cell_type": "markdown",
   "id": "04ed1a99",
   "metadata": {},
   "source": [
    "절차\n",
    "\n",
    "1. node_size.yml => 1\n",
    "2. terraform apply => output으로 eniconfig.yaml 파일 작성\n",
    "3. aws eks --region us-east-1 update-kubeconfig --name test-eks-cluster\n",
    "4. kubectl create -f ./k8s-manifests/eni-configs/.\n",
    "5. kubectl set env daemonset aws-node -n kube-system AWS_VPC_K8S_CNI_CUSTOM_NETWORK_CFG=true\n",
    "6. kubectl set env daemonset aws-node -n kube-system ENI_CONFIG_LABEL_DEF=failure-domain.beta.kubernetes.io/zone\n",
    "7. node_size.yml => 0\n",
    "8. terraform apply\n",
    "9. node_size.yml => cluster size you want\n",
    "10. terraform apply"
   ]
  },
  {
   "cell_type": "code",
   "execution_count": null,
   "id": "c0fe75c6",
   "metadata": {},
   "outputs": [],
   "source": []
  },
  {
   "cell_type": "code",
   "execution_count": null,
   "id": "7dea4b04",
   "metadata": {},
   "outputs": [],
   "source": []
  },
  {
   "cell_type": "markdown",
   "id": "46957958",
   "metadata": {},
   "source": [
    "# 1. 초기 클러스터 크기"
   ]
  },
  {
   "cell_type": "code",
   "execution_count": 4,
   "id": "8124b445",
   "metadata": {},
   "outputs": [],
   "source": [
    "import yaml\n",
    "def change_node_size_yml(desired_size, max_size, min_size):\n",
    "    with open('node_size.yml') as f:\n",
    "        node_size = yaml.load(f, Loader=yaml.FullLoader)\n",
    "        print('current_state',node_size)\n",
    "        \n",
    "    node_size['desired_size'] = desired_size\n",
    "    node_size['min_size'] = max_size\n",
    "    node_size['max_size'] = min_size\n",
    "    \n",
    "    print('after change', node_size)\n",
    "    \n",
    "    with open('node_size.yml', 'w') as f:\n",
    "        yaml.dump(node_size,f)"
   ]
  },
  {
   "cell_type": "code",
   "execution_count": null,
   "id": "3f49c6aa",
   "metadata": {},
   "outputs": [],
   "source": []
  },
  {
   "cell_type": "code",
   "execution_count": null,
   "id": "2b357499",
   "metadata": {},
   "outputs": [],
   "source": []
  },
  {
   "cell_type": "code",
   "execution_count": 5,
   "id": "c1d24eb0",
   "metadata": {},
   "outputs": [],
   "source": [
    "desired_size = 0\n",
    "max_size = 0\n",
    "min_size = 1"
   ]
  },
  {
   "cell_type": "code",
   "execution_count": 6,
   "id": "69548f5f",
   "metadata": {},
   "outputs": [
    {
     "name": "stdout",
     "output_type": "stream",
     "text": [
      "current_state {'desired_size': 0, 'max_size': 1, 'min_size': 0}\n",
      "after change {'desired_size': 0, 'max_size': 1, 'min_size': 0}\n"
     ]
    }
   ],
   "source": [
    "change_node_size_yml(desired_size, max_size, min_size)"
   ]
  },
  {
   "cell_type": "code",
   "execution_count": null,
   "id": "e8005cdb",
   "metadata": {},
   "outputs": [],
   "source": []
  },
  {
   "cell_type": "markdown",
   "id": "c85e3d50",
   "metadata": {},
   "source": [
    "# 2. Terraform 실행\n",
    "=> 여기서만 딱 안되네... 일단 테라폼 은 따로 돌리고 로직 자체는 되나 한번 보자"
   ]
  },
  {
   "cell_type": "code",
   "execution_count": null,
   "id": "d2d834f5",
   "metadata": {},
   "outputs": [],
   "source": []
  },
  {
   "cell_type": "code",
   "execution_count": 3,
   "id": "56909ebf",
   "metadata": {},
   "outputs": [],
   "source": [
    "#!terraform init"
   ]
  },
  {
   "cell_type": "code",
   "execution_count": null,
   "id": "dd295791",
   "metadata": {},
   "outputs": [],
   "source": []
  },
  {
   "cell_type": "code",
   "execution_count": 1,
   "id": "5e1e32bf",
   "metadata": {},
   "outputs": [],
   "source": [
    "#!terraform plan"
   ]
  },
  {
   "cell_type": "code",
   "execution_count": null,
   "id": "b0fe676c",
   "metadata": {},
   "outputs": [],
   "source": []
  },
  {
   "cell_type": "code",
   "execution_count": 2,
   "id": "899b9edf",
   "metadata": {},
   "outputs": [],
   "source": [
    "#여기서 키 얻는데 실패해서 자꾸 dead lock 걸림\n",
    "#!terraform apply --auto-approve"
   ]
  },
  {
   "cell_type": "code",
   "execution_count": null,
   "id": "82f6bae7",
   "metadata": {},
   "outputs": [],
   "source": []
  },
  {
   "cell_type": "code",
   "execution_count": null,
   "id": "0c93c7f2",
   "metadata": {},
   "outputs": [],
   "source": [
    "#!terraform destroy --auto-approve"
   ]
  },
  {
   "cell_type": "code",
   "execution_count": null,
   "id": "64521fb1",
   "metadata": {},
   "outputs": [],
   "source": []
  },
  {
   "cell_type": "markdown",
   "id": "a1f5245f",
   "metadata": {},
   "source": [
    "# 3. k8s 마스터 - pc 연결\n",
    "=> aws cli도 안되네?;;;"
   ]
  },
  {
   "cell_type": "code",
   "execution_count": null,
   "id": "e746a393",
   "metadata": {},
   "outputs": [],
   "source": [
    "#!aws eks --region us-east-1 update-kubeconfig --name test-eks-cluster"
   ]
  },
  {
   "cell_type": "code",
   "execution_count": null,
   "id": "eeac6b1d",
   "metadata": {},
   "outputs": [],
   "source": []
  },
  {
   "cell_type": "markdown",
   "id": "a27c8f79",
   "metadata": {},
   "source": [
    "# 4,5,6 기본 셋팅"
   ]
  },
  {
   "cell_type": "code",
   "execution_count": null,
   "id": "3242f436",
   "metadata": {},
   "outputs": [],
   "source": [
    "\n",
    "kubectl create -f ./k8s-manifests/eni-configs/.\n",
    "kubectl set env daemonset aws-node -n kube-system AWS_VPC_K8S_CNI_CUSTOM_NETWORK_CFG=true\n",
    "kubectl set env daemonset aws-node -n kube-system ENI_CONFIG_LABEL_DEF=failure-domain.beta.kubernetes.io/zone\n"
   ]
  },
  {
   "cell_type": "code",
   "execution_count": null,
   "id": "f687797c",
   "metadata": {},
   "outputs": [],
   "source": []
  },
  {
   "cell_type": "code",
   "execution_count": null,
   "id": "69818006",
   "metadata": {},
   "outputs": [],
   "source": []
  },
  {
   "cell_type": "markdown",
   "id": "15561e84",
   "metadata": {},
   "source": [
    "# 7,8 node size -> 0"
   ]
  },
  {
   "cell_type": "code",
   "execution_count": 14,
   "id": "70d74a2b",
   "metadata": {},
   "outputs": [],
   "source": [
    "#node_size.yml => 0"
   ]
  },
  {
   "cell_type": "code",
   "execution_count": 16,
   "id": "274d6509",
   "metadata": {},
   "outputs": [
    {
     "name": "stdout",
     "output_type": "stream",
     "text": [
      "current_state {'desired_size': 0, 'max_size': 0, 'min_size': 0}\n",
      "after change {'desired_size': 0, 'max_size': 1, 'min_size': 0}\n"
     ]
    }
   ],
   "source": [
    "desired_size = 0\n",
    "max_size = 0\n",
    "min_size = 1 #max는 최소 1은 되어야 함.\n",
    "\n",
    "change_node_size_yml(desired_size, max_size, min_size)"
   ]
  },
  {
   "cell_type": "code",
   "execution_count": null,
   "id": "6871e50b",
   "metadata": {},
   "outputs": [],
   "source": []
  },
  {
   "cell_type": "code",
   "execution_count": 12,
   "id": "a0995612",
   "metadata": {},
   "outputs": [],
   "source": [
    "#!terraform apply --auto-approve"
   ]
  },
  {
   "cell_type": "code",
   "execution_count": null,
   "id": "72c54827",
   "metadata": {},
   "outputs": [],
   "source": [
    "#인스턴스 종료 들어갈때 까지 시간이 좀 들어감\n",
    "#terraform은 instance에 직접 명령내리는게 아니라 - node group한테 명령한거고\n",
    "#node group - autoscaling group - instance 순서를 거쳐서 종료되기 떄문에\n",
    "import time\n",
    "\n",
    "time.sleep(120)"
   ]
  },
  {
   "cell_type": "code",
   "execution_count": null,
   "id": "b7b6e86c",
   "metadata": {},
   "outputs": [],
   "source": []
  },
  {
   "cell_type": "markdown",
   "id": "56da0f85",
   "metadata": {},
   "source": [
    "# 9,10 node size -> 다시 늘리기"
   ]
  },
  {
   "cell_type": "code",
   "execution_count": null,
   "id": "26bf25e5",
   "metadata": {},
   "outputs": [],
   "source": [
    "#node_size.yml => cluster size you want"
   ]
  },
  {
   "cell_type": "code",
   "execution_count": 7,
   "id": "61dc327f",
   "metadata": {},
   "outputs": [
    {
     "name": "stdout",
     "output_type": "stream",
     "text": [
      "current_state {'desired_size': 0, 'max_size': 1, 'min_size': 0}\n",
      "after change {'desired_size': 1, 'max_size': 1, 'min_size': 1}\n"
     ]
    }
   ],
   "source": [
    "desired_size = 1\n",
    "max_size = 1\n",
    "min_size = 1\n",
    "\n",
    "change_node_size_yml(desired_size, max_size, min_size)"
   ]
  },
  {
   "cell_type": "code",
   "execution_count": null,
   "id": "7facfe5d",
   "metadata": {},
   "outputs": [],
   "source": []
  },
  {
   "cell_type": "code",
   "execution_count": null,
   "id": "98a87526",
   "metadata": {},
   "outputs": [],
   "source": []
  },
  {
   "cell_type": "code",
   "execution_count": 13,
   "id": "4f5022bf",
   "metadata": {},
   "outputs": [],
   "source": [
    "#!terraform apply --auto-approve"
   ]
  },
  {
   "cell_type": "code",
   "execution_count": null,
   "id": "f1eda25a",
   "metadata": {},
   "outputs": [],
   "source": []
  },
  {
   "cell_type": "code",
   "execution_count": null,
   "id": "3f7fec61",
   "metadata": {},
   "outputs": [],
   "source": []
  },
  {
   "cell_type": "code",
   "execution_count": null,
   "id": "7af2c657",
   "metadata": {},
   "outputs": [],
   "source": []
  }
 ],
 "metadata": {
  "kernelspec": {
   "display_name": "Python 3 (ipykernel)",
   "language": "python",
   "name": "python3"
  },
  "language_info": {
   "codemirror_mode": {
    "name": "ipython",
    "version": 3
   },
   "file_extension": ".py",
   "mimetype": "text/x-python",
   "name": "python",
   "nbconvert_exporter": "python",
   "pygments_lexer": "ipython3",
   "version": "3.9.12"
  }
 },
 "nbformat": 4,
 "nbformat_minor": 5
}
