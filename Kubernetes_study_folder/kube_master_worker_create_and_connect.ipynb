{
 "cells": [
  {
   "cell_type": "code",
   "execution_count": null,
   "id": "52bd9108",
   "metadata": {},
   "outputs": [],
   "source": []
  },
  {
   "cell_type": "code",
   "execution_count": null,
   "metadata": {},
   "outputs": [],
   "source": []
  },
  {
   "cell_type": "markdown",
   "metadata": {},
   "source": [
    "# ###주의 이 파일은 worker, master를 연결만 하는 스크립트 입니다.\n",
    "# worker, master에 대한 변경이 필요하면 terraform, userdata를 고쳐야 합니다."
   ]
  },
  {
   "cell_type": "code",
   "execution_count": null,
   "metadata": {},
   "outputs": [],
   "source": []
  },
  {
   "cell_type": "code",
   "execution_count": null,
   "metadata": {},
   "outputs": [],
   "source": []
  },
  {
   "cell_type": "markdown",
   "id": "5ba86ffa",
   "metadata": {},
   "source": [
    "# 순서!\n",
    "\n",
    "## 1. terraform으로 클러스터 생성\n",
    "## 2. user data로 들어가는 스크립트 파일로 kubernetes 설치\n",
    "## 3. 설치 후 ending text 를 echo함\n",
    "## 4. kube_join.txt 파일의 값을 읽어서 worker에 뿌림\n",
    "## 5. 다 작성하면 쉘스크립트에 테라폼 apply 까지 묶어서 한번에 가자"
   ]
  },
  {
   "cell_type": "code",
   "execution_count": null,
   "metadata": {},
   "outputs": [],
   "source": []
  },
  {
   "cell_type": "markdown",
   "metadata": {},
   "source": [
    "# 정말 마지막 테스트 worker 3개.\n",
    "## 아... 그냥 fully managed service 써도 되는 개발자들 부럽다..."
   ]
  },
  {
   "cell_type": "code",
   "execution_count": null,
   "metadata": {},
   "outputs": [],
   "source": []
  },
  {
   "cell_type": "markdown",
   "metadata": {},
   "source": [
    "# 근데 테라폼 한번 배워서 진짜 요긴하게 잘 써먹네.\n",
    "## 솔직히 테라폼 없었으면 에러 한두번 발생했을때 인스턴스 다시 키는거 너무 힘들어서 좌절했을듯"
   ]
  },
  {
   "cell_type": "code",
   "execution_count": null,
   "metadata": {},
   "outputs": [],
   "source": []
  },
  {
   "cell_type": "code",
   "execution_count": null,
   "metadata": {},
   "outputs": [],
   "source": []
  },
  {
   "cell_type": "markdown",
   "metadata": {},
   "source": [
    "https://askubuntu.com/questions/983351/how-to-install-terraform-in-ubuntu"
   ]
  },
  {
   "cell_type": "markdown",
   "metadata": {},
   "source": [
    "!apt install -y wget\n",
    "!wget https://releases.hashicorp.com/terraform/1.0.7/terraform_1.0.7_linux_amd64.zip\n",
    "!unzip terraform_1.0.7_linux_amd64.zip\n",
    "!mv terraform /usr/local/bin/\n",
    "!terraform --version "
   ]
  },
  {
   "cell_type": "markdown",
   "metadata": {},
   "source": [
    "!rm terraform_1.0.7_linux_amd64.zip"
   ]
  },
  {
   "cell_type": "code",
   "execution_count": null,
   "metadata": {},
   "outputs": [],
   "source": []
  },
  {
   "cell_type": "code",
   "execution_count": 1,
   "metadata": {},
   "outputs": [],
   "source": [
    "#!terraform init"
   ]
  },
  {
   "cell_type": "code",
   "execution_count": null,
   "metadata": {},
   "outputs": [],
   "source": []
  },
  {
   "cell_type": "code",
   "execution_count": 2,
   "metadata": {},
   "outputs": [],
   "source": [
    "#!terraform destroy -auto-approve"
   ]
  },
  {
   "cell_type": "code",
   "execution_count": null,
   "metadata": {},
   "outputs": [],
   "source": []
  },
  {
   "cell_type": "code",
   "execution_count": 3,
   "metadata": {},
   "outputs": [],
   "source": [
    "#!terraform plan"
   ]
  },
  {
   "cell_type": "code",
   "execution_count": null,
   "metadata": {},
   "outputs": [],
   "source": []
  },
  {
   "cell_type": "code",
   "execution_count": 4,
   "metadata": {},
   "outputs": [
    {
     "name": "stdout",
     "output_type": "stream",
     "text": [
      "\u001b[0m\u001b[1maws_launch_configuration.kube_worker_lc (deposed object 39f8ade0): Refreshing state... [id=terraform-20230520144800625800000001]\u001b[0m\n",
      "\u001b[0m\u001b[1maws_vpc.kube_vpc: Refreshing state... [id=vpc-0b4d57440f292db0e]\u001b[0m\n",
      "\u001b[0m\u001b[1maws_launch_configuration.kube_worker_lc (deposed object 443eae75): Refreshing state... [id=terraform-20230520144516615300000001]\u001b[0m\n",
      "\u001b[0m\u001b[1maws_route_table.public_rt: Refreshing state... [id=rtb-0cc163def2f01f7db]\u001b[0m\n",
      "\u001b[0m\u001b[1maws_internet_gateway.kube_igw: Refreshing state... [id=igw-0887a129754d7474b]\u001b[0m\n",
      "\u001b[0m\u001b[1maws_subnet.public_subnet: Refreshing state... [id=subnet-0ad1624c9d0fad1a3]\u001b[0m\n",
      "\u001b[0m\u001b[1maws_security_group.sg_worker: Refreshing state... [id=sg-0dfd5b1a60abb644a]\u001b[0m\n",
      "\u001b[0m\u001b[1maws_security_group.sg_master: Refreshing state... [id=sg-021225d4472562ad3]\u001b[0m\n",
      "\u001b[0m\u001b[1maws_route.public_rt_igw: Refreshing state... [id=r-rtb-0cc163def2f01f7db1080289494]\u001b[0m\n",
      "\u001b[0m\u001b[1maws_route_table_association.public_rt_association: Refreshing state... [id=rtbassoc-0e848ae8754506f0a]\u001b[0m\n",
      "\u001b[0m\u001b[1maws_launch_configuration.kube_worker_lc: Refreshing state... [id=terraform-20230520145016762100000001]\u001b[0m\n",
      "\u001b[0m\u001b[1maws_spot_instance_request.kube_master: Refreshing state... [id=sir-67tegkfp]\u001b[0m\n",
      "\u001b[0m\u001b[1maws_autoscaling_group.kube_worker_asg: Refreshing state... [id=terraform-20230520145017940700000002]\u001b[0m\n",
      "\u001b[0m\u001b[1maws_ec2_tag.master_tag: Refreshing state... [id=i-0b388ae62c207c7e1,Name]\u001b[0m\n",
      "\u001b[0m\n",
      "\u001b[1m\u001b[36mNote:\u001b[0m\u001b[1m Objects have changed outside of Terraform\u001b[0m\n",
      "\n",
      "\u001b[0mTerraform detected the following changes made outside of Terraform since the\n",
      "last \"terraform apply\":\n",
      "\n",
      "\u001b[1m  # aws_autoscaling_group.kube_worker_asg\u001b[0m has been changed\u001b[0m\u001b[0m\n",
      "\u001b[0m  \u001b[33m~\u001b[0m\u001b[0m resource \"aws_autoscaling_group\" \"kube_worker_asg\" {\n",
      "      \u001b[32m+\u001b[0m \u001b[0m\u001b[1m\u001b[0marn\u001b[0m\u001b[0m                       = \"arn:aws:autoscaling:us-east-1:222170749288:autoScalingGroup:e393807a-8eef-4ddc-9ea1-eaf2e20cbfe3:autoScalingGroupName/terraform-20230520145017940700000002\"\n",
      "      \u001b[33m~\u001b[0m \u001b[0m\u001b[1m\u001b[0mavailability_zones\u001b[0m\u001b[0m        = [\n",
      "          \u001b[32m+\u001b[0m \u001b[0m\"us-east-1a\",\n",
      "        ]\n",
      "      \u001b[32m+\u001b[0m \u001b[0m\u001b[1m\u001b[0mcapacity_rebalance\u001b[0m\u001b[0m        = false\n",
      "      \u001b[32m+\u001b[0m \u001b[0m\u001b[1m\u001b[0mdefault_cooldown\u001b[0m\u001b[0m          = 300\n",
      "      \u001b[32m+\u001b[0m \u001b[0m\u001b[1m\u001b[0mdefault_instance_warmup\u001b[0m\u001b[0m   = 0\n",
      "      \u001b[32m+\u001b[0m \u001b[0m\u001b[1m\u001b[0mdesired_capacity\u001b[0m\u001b[0m          = 2\n",
      "      \u001b[32m+\u001b[0m \u001b[0m\u001b[1m\u001b[0menabled_metrics\u001b[0m\u001b[0m           = []\n",
      "      \u001b[32m+\u001b[0m \u001b[0m\u001b[1m\u001b[0mhealth_check_type\u001b[0m\u001b[0m         = \"EC2\"\n",
      "        \u001b[1m\u001b[0mid\u001b[0m\u001b[0m                        = \"terraform-20230520145017940700000002\"\n",
      "      \u001b[32m+\u001b[0m \u001b[0m\u001b[1m\u001b[0mload_balancers\u001b[0m\u001b[0m            = []\n",
      "      \u001b[32m+\u001b[0m \u001b[0m\u001b[1m\u001b[0mmax_instance_lifetime\u001b[0m\u001b[0m     = 0\n",
      "      \u001b[32m+\u001b[0m \u001b[0m\u001b[1m\u001b[0mname\u001b[0m\u001b[0m                      = \"terraform-20230520145017940700000002\"\n",
      "      \u001b[32m+\u001b[0m \u001b[0m\u001b[1m\u001b[0mname_prefix\u001b[0m\u001b[0m               = \"terraform-\"\n",
      "      \u001b[32m+\u001b[0m \u001b[0m\u001b[1m\u001b[0mpredicted_capacity\u001b[0m\u001b[0m        = 0\n",
      "      \u001b[32m+\u001b[0m \u001b[0m\u001b[1m\u001b[0mservice_linked_role_arn\u001b[0m\u001b[0m   = \"arn:aws:iam::222170749288:role/aws-service-role/autoscaling.amazonaws.com/AWSServiceRoleForAutoScaling\"\n",
      "      \u001b[32m+\u001b[0m \u001b[0m\u001b[1m\u001b[0msuspended_processes\u001b[0m\u001b[0m       = []\n",
      "      \u001b[32m+\u001b[0m \u001b[0m\u001b[1m\u001b[0mtarget_group_arns\u001b[0m\u001b[0m         = []\n",
      "      \u001b[32m+\u001b[0m \u001b[0m\u001b[1m\u001b[0mtermination_policies\u001b[0m\u001b[0m      = []\n",
      "      \u001b[32m+\u001b[0m \u001b[0m\u001b[1m\u001b[0mwarm_pool_size\u001b[0m\u001b[0m            = 0\n",
      "        \u001b[90m# (10 unchanged attributes hidden)\u001b[0m\u001b[0m\n",
      "\n",
      "        \u001b[90m# (1 unchanged block hidden)\u001b[0m\u001b[0m\n",
      "    }\n",
      "\u001b[1m  # aws_spot_instance_request.kube_master\u001b[0m has been changed\u001b[0m\u001b[0m\n",
      "\u001b[0m  \u001b[33m~\u001b[0m\u001b[0m resource \"aws_spot_instance_request\" \"kube_master\" {\n",
      "        \u001b[1m\u001b[0mid\u001b[0m\u001b[0m                             = \"sir-67tegkfp\"\n",
      "      \u001b[33m~\u001b[0m \u001b[0m\u001b[1m\u001b[0msecurity_groups\u001b[0m\u001b[0m                = [\n",
      "          \u001b[31m-\u001b[0m \u001b[0m\"sg-021225d4472562ad3\",\n",
      "        ]\n",
      "      \u001b[32m+\u001b[0m \u001b[0m\u001b[1m\u001b[0mtags\u001b[0m\u001b[0m                           = {}\n",
      "        \u001b[90m# (28 unchanged attributes hidden)\u001b[0m\u001b[0m\n",
      "\n",
      "        \u001b[90m# (1 unchanged block hidden)\u001b[0m\u001b[0m\n",
      "    }\n",
      "\u001b[1m  # aws_launch_configuration.kube_worker_lc\u001b[0m has been changed\u001b[0m\u001b[0m\n",
      "\u001b[0m  \u001b[33m~\u001b[0m\u001b[0m resource \"aws_launch_configuration\" \"kube_worker_lc\" {\n",
      "        \u001b[1m\u001b[0mid\u001b[0m\u001b[0m                               = \"terraform-20230520145016762100000001\"\n",
      "        \u001b[1m\u001b[0mname\u001b[0m\u001b[0m                             = \"terraform-20230520145016762100000001\"\n",
      "      \u001b[32m+\u001b[0m \u001b[0m\u001b[1m\u001b[0mvpc_classic_link_security_groups\u001b[0m\u001b[0m = []\n",
      "        \u001b[90m# (11 unchanged attributes hidden)\u001b[0m\u001b[0m\n",
      "    }\n",
      "\n",
      "Unless you have made equivalent changes to your configuration, or ignored the\n",
      "relevant attributes using ignore_changes, the following plan may include\n",
      "actions to undo or respond to these changes.\n",
      "\u001b[90m\n",
      "───────────────────────────────────────────────────────────────────────────────\u001b[0m\n",
      "\n",
      "Terraform used the selected providers to generate the following execution plan.\n",
      "Resource actions are indicated with the following symbols:\n",
      "  \u001b[31m-\u001b[0m destroy\n",
      "\u001b[31m-\u001b[0m/\u001b[32m+\u001b[0m destroy and then create replacement\n",
      "\u001b[32m+\u001b[0m/\u001b[31m-\u001b[0m create replacement and then destroy\n",
      "\u001b[0m\n",
      "Terraform will perform the following actions:\n",
      "\n",
      "\u001b[1m  # aws_autoscaling_group.kube_worker_asg\u001b[0m is tainted, so must be \u001b[1m\u001b[31mreplaced\u001b[0m\u001b[0m\n",
      "\u001b[0m\u001b[31m-\u001b[0m/\u001b[32m+\u001b[0m\u001b[0m resource \"aws_autoscaling_group\" \"kube_worker_asg\" {\n",
      "      \u001b[33m~\u001b[0m \u001b[0m\u001b[1m\u001b[0marn\u001b[0m\u001b[0m                       = \"arn:aws:autoscaling:us-east-1:222170749288:autoScalingGroup:e393807a-8eef-4ddc-9ea1-eaf2e20cbfe3:autoScalingGroupName/terraform-20230520145017940700000002\" \u001b[33m->\u001b[0m \u001b[0m(known after apply)\n",
      "      \u001b[33m~\u001b[0m \u001b[0m\u001b[1m\u001b[0mavailability_zones\u001b[0m\u001b[0m        = [\n",
      "          \u001b[31m-\u001b[0m \u001b[0m\"us-east-1a\",\n",
      "        ] \u001b[33m->\u001b[0m \u001b[0m(known after apply)\n",
      "      \u001b[31m-\u001b[0m \u001b[0m\u001b[1m\u001b[0mcapacity_rebalance\u001b[0m\u001b[0m        = false \u001b[90m->\u001b[0m \u001b[0m\u001b[90mnull\u001b[0m\u001b[0m\n",
      "      \u001b[33m~\u001b[0m \u001b[0m\u001b[1m\u001b[0mdefault_cooldown\u001b[0m\u001b[0m          = 300 \u001b[33m->\u001b[0m \u001b[0m(known after apply)\n",
      "      \u001b[31m-\u001b[0m \u001b[0m\u001b[1m\u001b[0mdefault_instance_warmup\u001b[0m\u001b[0m   = 0 \u001b[90m->\u001b[0m \u001b[0m\u001b[90mnull\u001b[0m\u001b[0m\n",
      "      \u001b[33m~\u001b[0m \u001b[0m\u001b[1m\u001b[0mdesired_capacity\u001b[0m\u001b[0m          = 2 \u001b[33m->\u001b[0m \u001b[0m(known after apply)\n",
      "      \u001b[31m-\u001b[0m \u001b[0m\u001b[1m\u001b[0menabled_metrics\u001b[0m\u001b[0m           = [] \u001b[90m->\u001b[0m \u001b[0m\u001b[90mnull\u001b[0m\u001b[0m\n",
      "      \u001b[33m~\u001b[0m \u001b[0m\u001b[1m\u001b[0mhealth_check_type\u001b[0m\u001b[0m         = \"EC2\" \u001b[33m->\u001b[0m \u001b[0m(known after apply)\n",
      "      \u001b[33m~\u001b[0m \u001b[0m\u001b[1m\u001b[0mid\u001b[0m\u001b[0m                        = \"terraform-20230520145017940700000002\" \u001b[33m->\u001b[0m \u001b[0m(known after apply)\n",
      "      \u001b[33m~\u001b[0m \u001b[0m\u001b[1m\u001b[0mlaunch_configuration\u001b[0m\u001b[0m      = \"terraform-20230520145016762100000001\" \u001b[33m->\u001b[0m \u001b[0m(known after apply)\n",
      "      \u001b[31m-\u001b[0m \u001b[0m\u001b[1m\u001b[0mload_balancers\u001b[0m\u001b[0m            = [] \u001b[90m->\u001b[0m \u001b[0m\u001b[90mnull\u001b[0m\u001b[0m\n",
      "      \u001b[31m-\u001b[0m \u001b[0m\u001b[1m\u001b[0mmax_instance_lifetime\u001b[0m\u001b[0m     = 0 \u001b[90m->\u001b[0m \u001b[0m\u001b[90mnull\u001b[0m\u001b[0m\n",
      "      \u001b[33m~\u001b[0m \u001b[0m\u001b[1m\u001b[0mname\u001b[0m\u001b[0m                      = \"terraform-20230520145017940700000002\" \u001b[33m->\u001b[0m \u001b[0m(known after apply)\n",
      "      \u001b[33m~\u001b[0m \u001b[0m\u001b[1m\u001b[0mname_prefix\u001b[0m\u001b[0m               = \"terraform-\" \u001b[33m->\u001b[0m \u001b[0m(known after apply)\n",
      "      \u001b[33m~\u001b[0m \u001b[0m\u001b[1m\u001b[0mpredicted_capacity\u001b[0m\u001b[0m        = 0 \u001b[33m->\u001b[0m \u001b[0m(known after apply)\n",
      "      \u001b[33m~\u001b[0m \u001b[0m\u001b[1m\u001b[0mservice_linked_role_arn\u001b[0m\u001b[0m   = \"arn:aws:iam::222170749288:role/aws-service-role/autoscaling.amazonaws.com/AWSServiceRoleForAutoScaling\" \u001b[33m->\u001b[0m \u001b[0m(known after apply)\n",
      "      \u001b[31m-\u001b[0m \u001b[0m\u001b[1m\u001b[0msuspended_processes\u001b[0m\u001b[0m       = [] \u001b[90m->\u001b[0m \u001b[0m\u001b[90mnull\u001b[0m\u001b[0m\n",
      "      \u001b[31m-\u001b[0m \u001b[0m\u001b[1m\u001b[0mtarget_group_arns\u001b[0m\u001b[0m         = [] \u001b[90m->\u001b[0m \u001b[0m\u001b[90mnull\u001b[0m\u001b[0m\n",
      "      \u001b[31m-\u001b[0m \u001b[0m\u001b[1m\u001b[0mtermination_policies\u001b[0m\u001b[0m      = [] \u001b[90m->\u001b[0m \u001b[0m\u001b[90mnull\u001b[0m\u001b[0m\n",
      "      \u001b[33m~\u001b[0m \u001b[0m\u001b[1m\u001b[0mwarm_pool_size\u001b[0m\u001b[0m            = 0 \u001b[33m->\u001b[0m \u001b[0m(known after apply)\n",
      "        \u001b[90m# (9 unchanged attributes hidden)\u001b[0m\u001b[0m\n",
      "\n",
      "        \u001b[90m# (1 unchanged block hidden)\u001b[0m\u001b[0m\n",
      "    }\n",
      "\n",
      "\u001b[1m  # aws_ec2_tag.master_tag\u001b[0m must be \u001b[1m\u001b[31mreplaced\u001b[0m\u001b[0m\n",
      "\u001b[0m\u001b[31m-\u001b[0m/\u001b[32m+\u001b[0m\u001b[0m resource \"aws_ec2_tag\" \"master_tag\" {\n",
      "      \u001b[33m~\u001b[0m \u001b[0m\u001b[1m\u001b[0mid\u001b[0m\u001b[0m          = \"i-0b388ae62c207c7e1,Name\" \u001b[33m->\u001b[0m \u001b[0m(known after apply)\n",
      "      \u001b[33m~\u001b[0m \u001b[0m\u001b[1m\u001b[0mresource_id\u001b[0m\u001b[0m = \"i-0b388ae62c207c7e1\" \u001b[33m->\u001b[0m \u001b[0m(known after apply) \u001b[31m# forces replacement\u001b[0m\u001b[0m\n",
      "        \u001b[90m# (2 unchanged attributes hidden)\u001b[0m\u001b[0m\n",
      "    }\n",
      "\n",
      "\u001b[1m  # aws_launch_configuration.kube_worker_lc\u001b[0m must be \u001b[1m\u001b[31mreplaced\u001b[0m\u001b[0m\n",
      "\u001b[0m\u001b[32m+\u001b[0m/\u001b[31m-\u001b[0m\u001b[0m resource \"aws_launch_configuration\" \"kube_worker_lc\" {\n",
      "      \u001b[33m~\u001b[0m \u001b[0m\u001b[1m\u001b[0marn\u001b[0m\u001b[0m                              = \"arn:aws:autoscaling:us-east-1:222170749288:launchConfiguration:f9ed33e0-13ad-4cb2-a30c-8e0fa3328be3:launchConfigurationName/terraform-20230520145016762100000001\" \u001b[33m->\u001b[0m \u001b[0m(known after apply)\n",
      "      \u001b[33m~\u001b[0m \u001b[0m\u001b[1m\u001b[0mebs_optimized\u001b[0m\u001b[0m                    = false \u001b[33m->\u001b[0m \u001b[0m(known after apply)\n",
      "      \u001b[33m~\u001b[0m \u001b[0m\u001b[1m\u001b[0mid\u001b[0m\u001b[0m                               = \"terraform-20230520145016762100000001\" \u001b[33m->\u001b[0m \u001b[0m(known after apply)\n",
      "      \u001b[33m~\u001b[0m \u001b[0m\u001b[1m\u001b[0mname\u001b[0m\u001b[0m                             = \"terraform-20230520145016762100000001\" \u001b[33m->\u001b[0m \u001b[0m(known after apply)\n",
      "      \u001b[33m~\u001b[0m \u001b[0m\u001b[1m\u001b[0mname_prefix\u001b[0m\u001b[0m                      = \"terraform-\" \u001b[33m->\u001b[0m \u001b[0m(known after apply)\n",
      "      \u001b[33m~\u001b[0m \u001b[0m\u001b[1m\u001b[0mspot_price\u001b[0m\u001b[0m                       = \"0.0349\" \u001b[33m->\u001b[0m \u001b[0m\"0.0358\" \u001b[31m# forces replacement\u001b[0m\u001b[0m\n",
      "      \u001b[31m-\u001b[0m \u001b[0m\u001b[1m\u001b[0mvpc_classic_link_security_groups\u001b[0m\u001b[0m = [] \u001b[90m->\u001b[0m \u001b[0m\u001b[90mnull\u001b[0m\u001b[0m\n",
      "        \u001b[90m# (7 unchanged attributes hidden)\u001b[0m\u001b[0m\n",
      "\n",
      "      \u001b[32m+\u001b[0m \u001b[0mebs_block_device {\n",
      "          \u001b[32m+\u001b[0m \u001b[0m\u001b[1m\u001b[0mdelete_on_termination\u001b[0m\u001b[0m = (known after apply)\n",
      "          \u001b[32m+\u001b[0m \u001b[0m\u001b[1m\u001b[0mdevice_name\u001b[0m\u001b[0m           = (known after apply)\n",
      "          \u001b[32m+\u001b[0m \u001b[0m\u001b[1m\u001b[0mencrypted\u001b[0m\u001b[0m             = (known after apply)\n",
      "          \u001b[32m+\u001b[0m \u001b[0m\u001b[1m\u001b[0miops\u001b[0m\u001b[0m                  = (known after apply)\n",
      "          \u001b[32m+\u001b[0m \u001b[0m\u001b[1m\u001b[0mno_device\u001b[0m\u001b[0m             = (known after apply)\n",
      "          \u001b[32m+\u001b[0m \u001b[0m\u001b[1m\u001b[0msnapshot_id\u001b[0m\u001b[0m           = (known after apply)\n",
      "          \u001b[32m+\u001b[0m \u001b[0m\u001b[1m\u001b[0mthroughput\u001b[0m\u001b[0m            = (known after apply)\n",
      "          \u001b[32m+\u001b[0m \u001b[0m\u001b[1m\u001b[0mvolume_size\u001b[0m\u001b[0m           = (known after apply)\n",
      "          \u001b[32m+\u001b[0m \u001b[0m\u001b[1m\u001b[0mvolume_type\u001b[0m\u001b[0m           = (known after apply)\n",
      "        }\n",
      "\n",
      "      \u001b[32m+\u001b[0m \u001b[0mmetadata_options {\n",
      "          \u001b[32m+\u001b[0m \u001b[0m\u001b[1m\u001b[0mhttp_endpoint\u001b[0m\u001b[0m               = (known after apply)\n",
      "          \u001b[32m+\u001b[0m \u001b[0m\u001b[1m\u001b[0mhttp_put_response_hop_limit\u001b[0m\u001b[0m = (known after apply)\n",
      "          \u001b[32m+\u001b[0m \u001b[0m\u001b[1m\u001b[0mhttp_tokens\u001b[0m\u001b[0m                 = (known after apply)\n",
      "        }\n",
      "\n",
      "      \u001b[32m+\u001b[0m \u001b[0mroot_block_device {\n",
      "          \u001b[32m+\u001b[0m \u001b[0m\u001b[1m\u001b[0mdelete_on_termination\u001b[0m\u001b[0m = (known after apply)\n",
      "          \u001b[32m+\u001b[0m \u001b[0m\u001b[1m\u001b[0mencrypted\u001b[0m\u001b[0m             = (known after apply)\n",
      "          \u001b[32m+\u001b[0m \u001b[0m\u001b[1m\u001b[0miops\u001b[0m\u001b[0m                  = (known after apply)\n",
      "          \u001b[32m+\u001b[0m \u001b[0m\u001b[1m\u001b[0mthroughput\u001b[0m\u001b[0m            = (known after apply)\n",
      "          \u001b[32m+\u001b[0m \u001b[0m\u001b[1m\u001b[0mvolume_size\u001b[0m\u001b[0m           = (known after apply)\n",
      "          \u001b[32m+\u001b[0m \u001b[0m\u001b[1m\u001b[0mvolume_type\u001b[0m\u001b[0m           = (known after apply)\n",
      "        }\n",
      "    }\n",
      "\n",
      "\u001b[1m  # aws_launch_configuration.kube_worker_lc (deposed object 39f8ade0)\u001b[0m will be \u001b[1m\u001b[31mdestroyed\u001b[0m\n",
      "  # (left over from a partially-failed replacement of this instance)\u001b[0m\n",
      "\u001b[0m  \u001b[31m-\u001b[0m\u001b[0m resource \"aws_launch_configuration\" \"kube_worker_lc\" {\n",
      "      \u001b[31m-\u001b[0m \u001b[0m\u001b[1m\u001b[0marn\u001b[0m\u001b[0m                              = \"arn:aws:autoscaling:us-east-1:222170749288:launchConfiguration:e8f22b37-fb5a-4804-bd68-96e988ab59bc:launchConfigurationName/terraform-20230520144800625800000001\" \u001b[90m->\u001b[0m \u001b[0m\u001b[90mnull\u001b[0m\u001b[0m\n",
      "      \u001b[31m-\u001b[0m \u001b[0m\u001b[1m\u001b[0massociate_public_ip_address\u001b[0m\u001b[0m      = true \u001b[90m->\u001b[0m \u001b[0m\u001b[90mnull\u001b[0m\u001b[0m\n",
      "      \u001b[31m-\u001b[0m \u001b[0m\u001b[1m\u001b[0mebs_optimized\u001b[0m\u001b[0m                    = false \u001b[90m->\u001b[0m \u001b[0m\u001b[90mnull\u001b[0m\u001b[0m\n",
      "      \u001b[31m-\u001b[0m \u001b[0m\u001b[1m\u001b[0menable_monitoring\u001b[0m\u001b[0m                = true \u001b[90m->\u001b[0m \u001b[0m\u001b[90mnull\u001b[0m\u001b[0m\n",
      "      \u001b[31m-\u001b[0m \u001b[0m\u001b[1m\u001b[0mid\u001b[0m\u001b[0m                               = \"terraform-20230520144800625800000001\" \u001b[90m->\u001b[0m \u001b[0m\u001b[90mnull\u001b[0m\u001b[0m\n",
      "      \u001b[31m-\u001b[0m \u001b[0m\u001b[1m\u001b[0mimage_id\u001b[0m\u001b[0m                         = \"ami-007855ac798b5175e\" \u001b[90m->\u001b[0m \u001b[0m\u001b[90mnull\u001b[0m\u001b[0m\n",
      "      \u001b[31m-\u001b[0m \u001b[0m\u001b[1m\u001b[0minstance_type\u001b[0m\u001b[0m                    = \"t3.medium\" \u001b[90m->\u001b[0m \u001b[0m\u001b[90mnull\u001b[0m\u001b[0m\n",
      "      \u001b[31m-\u001b[0m \u001b[0m\u001b[1m\u001b[0mkey_name\u001b[0m\u001b[0m                         = \"DevOps_Study\" \u001b[90m->\u001b[0m \u001b[0m\u001b[90mnull\u001b[0m\u001b[0m\n",
      "      \u001b[31m-\u001b[0m \u001b[0m\u001b[1m\u001b[0mname\u001b[0m\u001b[0m                             = \"terraform-20230520144800625800000001\" \u001b[90m->\u001b[0m \u001b[0m\u001b[90mnull\u001b[0m\u001b[0m\n",
      "      \u001b[31m-\u001b[0m \u001b[0m\u001b[1m\u001b[0mname_prefix\u001b[0m\u001b[0m                      = \"terraform-\" \u001b[90m->\u001b[0m \u001b[0m\u001b[90mnull\u001b[0m\u001b[0m\n",
      "      \u001b[31m-\u001b[0m \u001b[0m\u001b[1m\u001b[0msecurity_groups\u001b[0m\u001b[0m                  = [\n",
      "          \u001b[31m-\u001b[0m \u001b[0m\"sg-0dfd5b1a60abb644a\",\n",
      "        ] \u001b[90m->\u001b[0m \u001b[0m\u001b[90mnull\u001b[0m\u001b[0m\n",
      "      \u001b[31m-\u001b[0m \u001b[0m\u001b[1m\u001b[0mspot_price\u001b[0m\u001b[0m                       = \"0.0158\" \u001b[90m->\u001b[0m \u001b[0m\u001b[90mnull\u001b[0m\u001b[0m\n",
      "      \u001b[31m-\u001b[0m \u001b[0m\u001b[1m\u001b[0muser_data\u001b[0m\u001b[0m                        = \"88b0d27cc9796773ebd11e7fa39ca97a5a3ec67b\" \u001b[90m->\u001b[0m \u001b[0m\u001b[90mnull\u001b[0m\u001b[0m\n",
      "      \u001b[31m-\u001b[0m \u001b[0m\u001b[1m\u001b[0mvpc_classic_link_security_groups\u001b[0m\u001b[0m = [] \u001b[90m->\u001b[0m \u001b[0m\u001b[90mnull\u001b[0m\u001b[0m\n",
      "    }\n",
      "\n",
      "\u001b[1m  # aws_launch_configuration.kube_worker_lc (deposed object 443eae75)\u001b[0m will be \u001b[1m\u001b[31mdestroyed\u001b[0m\n",
      "  # (left over from a partially-failed replacement of this instance)\u001b[0m\n",
      "\u001b[0m  \u001b[31m-\u001b[0m\u001b[0m resource \"aws_launch_configuration\" \"kube_worker_lc\" {\n",
      "      \u001b[31m-\u001b[0m \u001b[0m\u001b[1m\u001b[0marn\u001b[0m\u001b[0m                              = \"arn:aws:autoscaling:us-east-1:222170749288:launchConfiguration:22691fdd-38c3-48d3-b5d4-677235c6fd82:launchConfigurationName/terraform-20230520144516615300000001\" \u001b[90m->\u001b[0m \u001b[0m\u001b[90mnull\u001b[0m\u001b[0m\n",
      "      \u001b[31m-\u001b[0m \u001b[0m\u001b[1m\u001b[0massociate_public_ip_address\u001b[0m\u001b[0m      = true \u001b[90m->\u001b[0m \u001b[0m\u001b[90mnull\u001b[0m\u001b[0m\n",
      "      \u001b[31m-\u001b[0m \u001b[0m\u001b[1m\u001b[0mebs_optimized\u001b[0m\u001b[0m                    = false \u001b[90m->\u001b[0m \u001b[0m\u001b[90mnull\u001b[0m\u001b[0m\n",
      "      \u001b[31m-\u001b[0m \u001b[0m\u001b[1m\u001b[0menable_monitoring\u001b[0m\u001b[0m                = true \u001b[90m->\u001b[0m \u001b[0m\u001b[90mnull\u001b[0m\u001b[0m\n",
      "      \u001b[31m-\u001b[0m \u001b[0m\u001b[1m\u001b[0mid\u001b[0m\u001b[0m                               = \"terraform-20230520144516615300000001\" \u001b[90m->\u001b[0m \u001b[0m\u001b[90mnull\u001b[0m\u001b[0m\n",
      "      \u001b[31m-\u001b[0m \u001b[0m\u001b[1m\u001b[0mimage_id\u001b[0m\u001b[0m                         = \"ami-007855ac798b5175e\" \u001b[90m->\u001b[0m \u001b[0m\u001b[90mnull\u001b[0m\u001b[0m\n",
      "      \u001b[31m-\u001b[0m \u001b[0m\u001b[1m\u001b[0minstance_type\u001b[0m\u001b[0m                    = \"t3.medium\" \u001b[90m->\u001b[0m \u001b[0m\u001b[90mnull\u001b[0m\u001b[0m\n",
      "      \u001b[31m-\u001b[0m \u001b[0m\u001b[1m\u001b[0mkey_name\u001b[0m\u001b[0m                         = \"DevOps_Study\" \u001b[90m->\u001b[0m \u001b[0m\u001b[90mnull\u001b[0m\u001b[0m\n",
      "      \u001b[31m-\u001b[0m \u001b[0m\u001b[1m\u001b[0mname\u001b[0m\u001b[0m                             = \"terraform-20230520144516615300000001\" \u001b[90m->\u001b[0m \u001b[0m\u001b[90mnull\u001b[0m\u001b[0m\n",
      "      \u001b[31m-\u001b[0m \u001b[0m\u001b[1m\u001b[0mname_prefix\u001b[0m\u001b[0m                      = \"terraform-\" \u001b[90m->\u001b[0m \u001b[0m\u001b[90mnull\u001b[0m\u001b[0m\n",
      "      \u001b[31m-\u001b[0m \u001b[0m\u001b[1m\u001b[0msecurity_groups\u001b[0m\u001b[0m                  = [\n",
      "          \u001b[31m-\u001b[0m \u001b[0m\"sg-0dfd5b1a60abb644a\",\n",
      "        ] \u001b[90m->\u001b[0m \u001b[0m\u001b[90mnull\u001b[0m\u001b[0m\n",
      "      \u001b[31m-\u001b[0m \u001b[0m\u001b[1m\u001b[0mspot_price\u001b[0m\u001b[0m                       = \"0.01\" \u001b[90m->\u001b[0m \u001b[0m\u001b[90mnull\u001b[0m\u001b[0m\n",
      "      \u001b[31m-\u001b[0m \u001b[0m\u001b[1m\u001b[0muser_data\u001b[0m\u001b[0m                        = \"88b0d27cc9796773ebd11e7fa39ca97a5a3ec67b\" \u001b[90m->\u001b[0m \u001b[0m\u001b[90mnull\u001b[0m\u001b[0m\n",
      "      \u001b[31m-\u001b[0m \u001b[0m\u001b[1m\u001b[0mvpc_classic_link_security_groups\u001b[0m\u001b[0m = [] \u001b[90m->\u001b[0m \u001b[0m\u001b[90mnull\u001b[0m\u001b[0m\n",
      "    }\n",
      "\n",
      "\u001b[1m  # aws_spot_instance_request.kube_master\u001b[0m must be \u001b[1m\u001b[31mreplaced\u001b[0m\u001b[0m\n",
      "\u001b[0m\u001b[31m-\u001b[0m/\u001b[32m+\u001b[0m\u001b[0m resource \"aws_spot_instance_request\" \"kube_master\" {\n",
      "      \u001b[32m+\u001b[0m \u001b[0m\u001b[1m\u001b[0marn\u001b[0m\u001b[0m                                  = (known after apply)\n",
      "      \u001b[32m+\u001b[0m \u001b[0m\u001b[1m\u001b[0mavailability_zone\u001b[0m\u001b[0m                    = (known after apply)\n",
      "      \u001b[31m-\u001b[0m \u001b[0m\u001b[1m\u001b[0mblock_duration_minutes\u001b[0m\u001b[0m               = 0 \u001b[90m->\u001b[0m \u001b[0m\u001b[90mnull\u001b[0m\u001b[0m\n",
      "      \u001b[32m+\u001b[0m \u001b[0m\u001b[1m\u001b[0mcpu_core_count\u001b[0m\u001b[0m                       = (known after apply)\n",
      "      \u001b[32m+\u001b[0m \u001b[0m\u001b[1m\u001b[0mcpu_threads_per_core\u001b[0m\u001b[0m                 = (known after apply)\n",
      "      \u001b[32m+\u001b[0m \u001b[0m\u001b[1m\u001b[0mdisable_api_stop\u001b[0m\u001b[0m                     = (known after apply)\n",
      "      \u001b[32m+\u001b[0m \u001b[0m\u001b[1m\u001b[0mdisable_api_termination\u001b[0m\u001b[0m              = (known after apply)\n",
      "      \u001b[32m+\u001b[0m \u001b[0m\u001b[1m\u001b[0mebs_optimized\u001b[0m\u001b[0m                        = (known after apply)\n",
      "      \u001b[32m+\u001b[0m \u001b[0m\u001b[1m\u001b[0mhost_id\u001b[0m\u001b[0m                              = (known after apply)\n",
      "      \u001b[32m+\u001b[0m \u001b[0m\u001b[1m\u001b[0mhost_resource_group_arn\u001b[0m\u001b[0m              = (known after apply)\n",
      "      \u001b[32m+\u001b[0m \u001b[0m\u001b[1m\u001b[0miam_instance_profile\u001b[0m\u001b[0m                 = (known after apply)\n",
      "      \u001b[33m~\u001b[0m \u001b[0m\u001b[1m\u001b[0mid\u001b[0m\u001b[0m                                   = \"sir-67tegkfp\" \u001b[33m->\u001b[0m \u001b[0m(known after apply)\n",
      "      \u001b[32m+\u001b[0m \u001b[0m\u001b[1m\u001b[0minstance_initiated_shutdown_behavior\u001b[0m\u001b[0m = (known after apply)\n",
      "      \u001b[32m+\u001b[0m \u001b[0m\u001b[1m\u001b[0minstance_state\u001b[0m\u001b[0m                       = (known after apply)\n",
      "      \u001b[33m~\u001b[0m \u001b[0m\u001b[1m\u001b[0mipv6_address_count\u001b[0m\u001b[0m                   = 0 \u001b[33m->\u001b[0m \u001b[0m(known after apply)\n",
      "      \u001b[33m~\u001b[0m \u001b[0m\u001b[1m\u001b[0mipv6_addresses\u001b[0m\u001b[0m                       = [] \u001b[33m->\u001b[0m \u001b[0m(known after apply)\n",
      "      \u001b[32m+\u001b[0m \u001b[0m\u001b[1m\u001b[0mmonitoring\u001b[0m\u001b[0m                           = (known after apply)\n",
      "      \u001b[32m+\u001b[0m \u001b[0m\u001b[1m\u001b[0moutpost_arn\u001b[0m\u001b[0m                          = (known after apply)\n",
      "      \u001b[32m+\u001b[0m \u001b[0m\u001b[1m\u001b[0mpassword_data\u001b[0m\u001b[0m                        = (known after apply)\n",
      "      \u001b[32m+\u001b[0m \u001b[0m\u001b[1m\u001b[0mplacement_group\u001b[0m\u001b[0m                      = (known after apply)\n",
      "      \u001b[32m+\u001b[0m \u001b[0m\u001b[1m\u001b[0mplacement_partition_number\u001b[0m\u001b[0m           = (known after apply)\n",
      "      \u001b[33m~\u001b[0m \u001b[0m\u001b[1m\u001b[0mprimary_network_interface_id\u001b[0m\u001b[0m         = \"eni-00d5bc1a68115bf18\" \u001b[33m->\u001b[0m \u001b[0m(known after apply)\n",
      "      \u001b[33m~\u001b[0m \u001b[0m\u001b[1m\u001b[0mprivate_dns\u001b[0m\u001b[0m                          = \"ip-10-1-0-124.ec2.internal\" \u001b[33m->\u001b[0m \u001b[0m(known after apply)\n",
      "      \u001b[33m~\u001b[0m \u001b[0m\u001b[1m\u001b[0mprivate_ip\u001b[0m\u001b[0m                           = \"10.1.0.124\" \u001b[33m->\u001b[0m \u001b[0m(known after apply)\n",
      "      \u001b[32m+\u001b[0m \u001b[0m\u001b[1m\u001b[0mpublic_dns\u001b[0m\u001b[0m                           = (known after apply)\n",
      "      \u001b[33m~\u001b[0m \u001b[0m\u001b[1m\u001b[0mpublic_ip\u001b[0m\u001b[0m                            = \"35.153.102.4\" \u001b[33m->\u001b[0m \u001b[0m(known after apply)\n",
      "      \u001b[33m~\u001b[0m \u001b[0m\u001b[1m\u001b[0msecondary_private_ips\u001b[0m\u001b[0m                = [] \u001b[33m->\u001b[0m \u001b[0m(known after apply)\n",
      "      \u001b[33m~\u001b[0m \u001b[0m\u001b[1m\u001b[0msecurity_groups\u001b[0m\u001b[0m                      = [ \u001b[31m# forces replacement\u001b[0m\u001b[0m\n",
      "          \u001b[32m+\u001b[0m \u001b[0m\"sg-021225d4472562ad3\",\n",
      "        ]\n",
      "      \u001b[33m~\u001b[0m \u001b[0m\u001b[1m\u001b[0mspot_bid_status\u001b[0m\u001b[0m                      = \"fulfilled\" \u001b[33m->\u001b[0m \u001b[0m(known after apply)\n",
      "      \u001b[33m~\u001b[0m \u001b[0m\u001b[1m\u001b[0mspot_instance_id\u001b[0m\u001b[0m                     = \"i-0b388ae62c207c7e1\" \u001b[33m->\u001b[0m \u001b[0m(known after apply)\n",
      "      \u001b[33m~\u001b[0m \u001b[0m\u001b[1m\u001b[0mspot_price\u001b[0m\u001b[0m                           = \"0.046400\" \u001b[33m->\u001b[0m \u001b[0m(known after apply)\n",
      "      \u001b[33m~\u001b[0m \u001b[0m\u001b[1m\u001b[0mspot_request_state\u001b[0m\u001b[0m                   = \"active\" \u001b[33m->\u001b[0m \u001b[0m(known after apply)\n",
      "      \u001b[31m-\u001b[0m \u001b[0m\u001b[1m\u001b[0mtags\u001b[0m\u001b[0m                                 = {} \u001b[90m->\u001b[0m \u001b[0m\u001b[90mnull\u001b[0m\u001b[0m\n",
      "      \u001b[33m~\u001b[0m \u001b[0m\u001b[1m\u001b[0mtags_all\u001b[0m\u001b[0m                             = {} \u001b[33m->\u001b[0m \u001b[0m(known after apply)\n",
      "      \u001b[32m+\u001b[0m \u001b[0m\u001b[1m\u001b[0mtenancy\u001b[0m\u001b[0m                              = (known after apply)\n",
      "      \u001b[32m+\u001b[0m \u001b[0m\u001b[1m\u001b[0muser_data_base64\u001b[0m\u001b[0m                     = (known after apply)\n",
      "      \u001b[33m~\u001b[0m \u001b[0m\u001b[1m\u001b[0mvalid_from\u001b[0m\u001b[0m                           = \"0001-01-01T00:00:00Z\" \u001b[33m->\u001b[0m \u001b[0m(known after apply)\n",
      "      \u001b[33m~\u001b[0m \u001b[0m\u001b[1m\u001b[0mvalid_until\u001b[0m\u001b[0m                          = \"0001-01-01T00:00:00Z\" \u001b[33m->\u001b[0m \u001b[0m(known after apply)\n",
      "      \u001b[33m~\u001b[0m \u001b[0m\u001b[1m\u001b[0mvpc_security_group_ids\u001b[0m\u001b[0m               = [\n",
      "          \u001b[31m-\u001b[0m \u001b[0m\"sg-021225d4472562ad3\",\n",
      "        ] \u001b[33m->\u001b[0m \u001b[0m(known after apply)\n",
      "        \u001b[90m# (12 unchanged attributes hidden)\u001b[0m\u001b[0m\n",
      "\n",
      "      \u001b[32m+\u001b[0m \u001b[0mcapacity_reservation_specification {\n",
      "          \u001b[32m+\u001b[0m \u001b[0m\u001b[1m\u001b[0mcapacity_reservation_preference\u001b[0m\u001b[0m = (known after apply)\n",
      "\n",
      "          \u001b[32m+\u001b[0m \u001b[0mcapacity_reservation_target {\n",
      "              \u001b[32m+\u001b[0m \u001b[0m\u001b[1m\u001b[0mcapacity_reservation_id\u001b[0m\u001b[0m                 = (known after apply)\n",
      "              \u001b[32m+\u001b[0m \u001b[0m\u001b[1m\u001b[0mcapacity_reservation_resource_group_arn\u001b[0m\u001b[0m = (known after apply)\n",
      "            }\n",
      "        }\n",
      "\n",
      "      \u001b[32m+\u001b[0m \u001b[0mcpu_options {\n",
      "          \u001b[32m+\u001b[0m \u001b[0m\u001b[1m\u001b[0mamd_sev_snp\u001b[0m\u001b[0m      = (known after apply)\n",
      "          \u001b[32m+\u001b[0m \u001b[0m\u001b[1m\u001b[0mcore_count\u001b[0m\u001b[0m       = (known after apply)\n",
      "          \u001b[32m+\u001b[0m \u001b[0m\u001b[1m\u001b[0mthreads_per_core\u001b[0m\u001b[0m = (known after apply)\n",
      "        }\n",
      "\n",
      "      \u001b[32m+\u001b[0m \u001b[0mebs_block_device {\n",
      "          \u001b[32m+\u001b[0m \u001b[0m\u001b[1m\u001b[0mdelete_on_termination\u001b[0m\u001b[0m = (known after apply)\n",
      "          \u001b[32m+\u001b[0m \u001b[0m\u001b[1m\u001b[0mdevice_name\u001b[0m\u001b[0m           = (known after apply)\n",
      "          \u001b[32m+\u001b[0m \u001b[0m\u001b[1m\u001b[0mencrypted\u001b[0m\u001b[0m             = (known after apply)\n",
      "          \u001b[32m+\u001b[0m \u001b[0m\u001b[1m\u001b[0miops\u001b[0m\u001b[0m                  = (known after apply)\n",
      "          \u001b[32m+\u001b[0m \u001b[0m\u001b[1m\u001b[0mkms_key_id\u001b[0m\u001b[0m            = (known after apply)\n",
      "          \u001b[32m+\u001b[0m \u001b[0m\u001b[1m\u001b[0msnapshot_id\u001b[0m\u001b[0m           = (known after apply)\n",
      "          \u001b[32m+\u001b[0m \u001b[0m\u001b[1m\u001b[0mtags\u001b[0m\u001b[0m                  = (known after apply)\n",
      "          \u001b[32m+\u001b[0m \u001b[0m\u001b[1m\u001b[0mthroughput\u001b[0m\u001b[0m            = (known after apply)\n",
      "          \u001b[32m+\u001b[0m \u001b[0m\u001b[1m\u001b[0mvolume_id\u001b[0m\u001b[0m             = (known after apply)\n",
      "          \u001b[32m+\u001b[0m \u001b[0m\u001b[1m\u001b[0mvolume_size\u001b[0m\u001b[0m           = (known after apply)\n",
      "          \u001b[32m+\u001b[0m \u001b[0m\u001b[1m\u001b[0mvolume_type\u001b[0m\u001b[0m           = (known after apply)\n",
      "        }\n",
      "\n",
      "      \u001b[32m+\u001b[0m \u001b[0menclave_options {\n",
      "          \u001b[32m+\u001b[0m \u001b[0m\u001b[1m\u001b[0menabled\u001b[0m\u001b[0m = (known after apply)\n",
      "        }\n",
      "\n",
      "      \u001b[32m+\u001b[0m \u001b[0mephemeral_block_device {\n",
      "          \u001b[32m+\u001b[0m \u001b[0m\u001b[1m\u001b[0mdevice_name\u001b[0m\u001b[0m  = (known after apply)\n",
      "          \u001b[32m+\u001b[0m \u001b[0m\u001b[1m\u001b[0mno_device\u001b[0m\u001b[0m    = (known after apply)\n",
      "          \u001b[32m+\u001b[0m \u001b[0m\u001b[1m\u001b[0mvirtual_name\u001b[0m\u001b[0m = (known after apply)\n",
      "        }\n",
      "\n",
      "      \u001b[32m+\u001b[0m \u001b[0mmaintenance_options {\n",
      "          \u001b[32m+\u001b[0m \u001b[0m\u001b[1m\u001b[0mauto_recovery\u001b[0m\u001b[0m = (known after apply)\n",
      "        }\n",
      "\n",
      "      \u001b[32m+\u001b[0m \u001b[0mmetadata_options {\n",
      "          \u001b[32m+\u001b[0m \u001b[0m\u001b[1m\u001b[0mhttp_endpoint\u001b[0m\u001b[0m               = (known after apply)\n",
      "          \u001b[32m+\u001b[0m \u001b[0m\u001b[1m\u001b[0mhttp_put_response_hop_limit\u001b[0m\u001b[0m = (known after apply)\n",
      "          \u001b[32m+\u001b[0m \u001b[0m\u001b[1m\u001b[0mhttp_tokens\u001b[0m\u001b[0m                 = (known after apply)\n",
      "          \u001b[32m+\u001b[0m \u001b[0m\u001b[1m\u001b[0minstance_metadata_tags\u001b[0m\u001b[0m      = (known after apply)\n",
      "        }\n",
      "\n",
      "      \u001b[32m+\u001b[0m \u001b[0mnetwork_interface {\n",
      "          \u001b[32m+\u001b[0m \u001b[0m\u001b[1m\u001b[0mdelete_on_termination\u001b[0m\u001b[0m = (known after apply)\n",
      "          \u001b[32m+\u001b[0m \u001b[0m\u001b[1m\u001b[0mdevice_index\u001b[0m\u001b[0m          = (known after apply)\n",
      "          \u001b[32m+\u001b[0m \u001b[0m\u001b[1m\u001b[0mnetwork_card_index\u001b[0m\u001b[0m    = (known after apply)\n",
      "          \u001b[32m+\u001b[0m \u001b[0m\u001b[1m\u001b[0mnetwork_interface_id\u001b[0m\u001b[0m  = (known after apply)\n",
      "        }\n",
      "\n",
      "      \u001b[32m+\u001b[0m \u001b[0mprivate_dns_name_options {\n",
      "          \u001b[32m+\u001b[0m \u001b[0m\u001b[1m\u001b[0menable_resource_name_dns_a_record\u001b[0m\u001b[0m    = (known after apply)\n",
      "          \u001b[32m+\u001b[0m \u001b[0m\u001b[1m\u001b[0menable_resource_name_dns_aaaa_record\u001b[0m\u001b[0m = (known after apply)\n",
      "          \u001b[32m+\u001b[0m \u001b[0m\u001b[1m\u001b[0mhostname_type\u001b[0m\u001b[0m                        = (known after apply)\n",
      "        }\n",
      "\n",
      "      \u001b[33m~\u001b[0m \u001b[0mroot_block_device {\n",
      "          \u001b[33m~\u001b[0m \u001b[0m\u001b[1m\u001b[0mdelete_on_termination\u001b[0m\u001b[0m = true \u001b[33m->\u001b[0m \u001b[0m(known after apply)\n",
      "          \u001b[33m~\u001b[0m \u001b[0m\u001b[1m\u001b[0mdevice_name\u001b[0m\u001b[0m           = \"/dev/sda1\" \u001b[33m->\u001b[0m \u001b[0m(known after apply)\n",
      "          \u001b[33m~\u001b[0m \u001b[0m\u001b[1m\u001b[0mencrypted\u001b[0m\u001b[0m             = false \u001b[33m->\u001b[0m \u001b[0m(known after apply)\n",
      "          \u001b[33m~\u001b[0m \u001b[0m\u001b[1m\u001b[0miops\u001b[0m\u001b[0m                  = 100 \u001b[33m->\u001b[0m \u001b[0m(known after apply)\n",
      "          \u001b[32m+\u001b[0m \u001b[0m\u001b[1m\u001b[0mkms_key_id\u001b[0m\u001b[0m            = (known after apply)\n",
      "          \u001b[33m~\u001b[0m \u001b[0m\u001b[1m\u001b[0mtags\u001b[0m\u001b[0m                  = {} \u001b[33m->\u001b[0m \u001b[0m(known after apply)\n",
      "          \u001b[33m~\u001b[0m \u001b[0m\u001b[1m\u001b[0mthroughput\u001b[0m\u001b[0m            = 0 \u001b[33m->\u001b[0m \u001b[0m(known after apply)\n",
      "          \u001b[33m~\u001b[0m \u001b[0m\u001b[1m\u001b[0mvolume_id\u001b[0m\u001b[0m             = \"vol-00480fa99e302716e\" \u001b[33m->\u001b[0m \u001b[0m(known after apply)\n",
      "          \u001b[33m~\u001b[0m \u001b[0m\u001b[1m\u001b[0mvolume_size\u001b[0m\u001b[0m           = 8 \u001b[33m->\u001b[0m \u001b[0m(known after apply)\n",
      "          \u001b[33m~\u001b[0m \u001b[0m\u001b[1m\u001b[0mvolume_type\u001b[0m\u001b[0m           = \"gp2\" \u001b[33m->\u001b[0m \u001b[0m(known after apply)\n",
      "        }\n",
      "    }\n",
      "\n",
      "\u001b[0m\u001b[1mPlan:\u001b[0m 4 to add, 0 to change, 6 to destroy.\n"
     ]
    },
    {
     "name": "stdout",
     "output_type": "stream",
     "text": [
      "\u001b[0m\u001b[0m\u001b[1maws_ec2_tag.master_tag: Destroying... [id=i-0b388ae62c207c7e1,Name]\u001b[0m\u001b[0m\n",
      "\u001b[0m\u001b[1maws_autoscaling_group.kube_worker_asg: Destroying... [id=terraform-20230520145017940700000002]\u001b[0m\u001b[0m\n",
      "\u001b[0m\u001b[1maws_ec2_tag.master_tag: Destruction complete after 1s\u001b[0m\n",
      "\u001b[0m\u001b[1maws_spot_instance_request.kube_master: Destroying... [id=sir-67tegkfp]\u001b[0m\u001b[0m\n",
      "\u001b[0m\u001b[1maws_autoscaling_group.kube_worker_asg: Still destroying... [id=terraform-20230520145017940700000002, 10s elapsed]\u001b[0m\u001b[0m\n",
      "\u001b[0m\u001b[1maws_spot_instance_request.kube_master: Still destroying... [id=sir-67tegkfp, 10s elapsed]\u001b[0m\u001b[0m\n",
      "\u001b[0m\u001b[1maws_autoscaling_group.kube_worker_asg: Destruction complete after 20s\u001b[0m\n",
      "\u001b[0m\u001b[1maws_launch_configuration.kube_worker_lc: Creating...\u001b[0m\u001b[0m\n",
      "\u001b[0m\u001b[1maws_spot_instance_request.kube_master: Still destroying... [id=sir-67tegkfp, 20s elapsed]\u001b[0m\u001b[0m\n",
      "\u001b[0m\u001b[1maws_launch_configuration.kube_worker_lc: Creation complete after 1s [id=terraform-20230520145223772600000001]\u001b[0m\n",
      "\u001b[0m\u001b[1maws_autoscaling_group.kube_worker_asg: Creating...\u001b[0m\u001b[0m\n",
      "\u001b[0m\u001b[1maws_spot_instance_request.kube_master: Still destroying... [id=sir-67tegkfp, 30s elapsed]\u001b[0m\u001b[0m\n",
      "\u001b[0m\u001b[1maws_autoscaling_group.kube_worker_asg: Still creating... [10s elapsed]\u001b[0m\u001b[0m\n",
      "\u001b[0m\u001b[1maws_spot_instance_request.kube_master: Still destroying... [id=sir-67tegkfp, 40s elapsed]\u001b[0m\u001b[0m\n",
      "\u001b[0m\u001b[1maws_autoscaling_group.kube_worker_asg: Still creating... [20s elapsed]\u001b[0m\u001b[0m\n",
      "\u001b[0m\u001b[1maws_spot_instance_request.kube_master: Destruction complete after 41s\u001b[0m\n",
      "\u001b[0m\u001b[1maws_spot_instance_request.kube_master: Creating...\u001b[0m\u001b[0m\n",
      "\u001b[0m\u001b[1maws_autoscaling_group.kube_worker_asg: Still creating... [30s elapsed]\u001b[0m\u001b[0m\n",
      "\u001b[0m\u001b[1maws_spot_instance_request.kube_master: Still creating... [10s elapsed]\u001b[0m\u001b[0m\n",
      "\u001b[0m\u001b[1maws_spot_instance_request.kube_master: Creation complete after 12s [id=sir-k8yyg9tm]\u001b[0m\n",
      "\u001b[0m\u001b[1maws_ec2_tag.master_tag: Creating...\u001b[0m\u001b[0m\n",
      "\u001b[0m\u001b[1maws_ec2_tag.master_tag: Creation complete after 0s [id=i-0e1d21c04c3d97854,Name]\u001b[0m\n",
      "\u001b[0m\u001b[1maws_autoscaling_group.kube_worker_asg: Still creating... [40s elapsed]\u001b[0m\u001b[0m\n",
      "\u001b[0m\u001b[1maws_autoscaling_group.kube_worker_asg: Creation complete after 41s [id=terraform-20230520145225042000000002]\u001b[0m\n",
      "\u001b[0m\u001b[1maws_launch_configuration.kube_worker_lc (deposed object 39f8ade0): Destroying... [id=terraform-20230520144800625800000001]\u001b[0m\u001b[0m\n",
      "\u001b[0m\u001b[1maws_launch_configuration.kube_worker_lc (deposed object 443eae75): Destroying... [id=terraform-20230520144516615300000001]\u001b[0m\u001b[0m\n",
      "\u001b[0m\u001b[1maws_launch_configuration.kube_worker_lc (deposed object 1fe8c784): Destroying... [id=terraform-20230520145016762100000001]\u001b[0m\u001b[0m\n",
      "\u001b[0m\u001b[1maws_launch_configuration.kube_worker_lc: Destruction complete after 0s\u001b[0m\n",
      "\u001b[0m\u001b[1m\u001b[32m\n",
      "Apply complete! Resources: 4 added, 0 changed, 4 destroyed.\n",
      "\u001b[0m\u001b[0m\u001b[1m\u001b[32m\n",
      "Outputs:\n",
      "\n",
      "\u001b[0mmy_ip = \"221.145.26.67/32\"\n"
     ]
    }
   ],
   "source": [
    "!terraform apply -auto-approve"
   ]
  },
  {
   "cell_type": "code",
   "execution_count": null,
   "metadata": {},
   "outputs": [],
   "source": []
  },
  {
   "cell_type": "code",
   "execution_count": 5,
   "metadata": {},
   "outputs": [
    {
     "name": "stdout",
     "output_type": "stream",
     "text": [
      "wait for terraform\n"
     ]
    }
   ],
   "source": [
    "import time\n",
    "\n",
    "print('wait for terraform')\n",
    "time.sleep(30)"
   ]
  },
  {
   "cell_type": "code",
   "execution_count": null,
   "metadata": {},
   "outputs": [],
   "source": []
  },
  {
   "cell_type": "code",
   "execution_count": null,
   "metadata": {},
   "outputs": [],
   "source": []
  },
  {
   "cell_type": "code",
   "execution_count": null,
   "metadata": {},
   "outputs": [],
   "source": []
  },
  {
   "cell_type": "code",
   "execution_count": null,
   "id": "74ab085e",
   "metadata": {},
   "outputs": [],
   "source": []
  },
  {
   "cell_type": "markdown",
   "id": "e3878261",
   "metadata": {},
   "source": [
    "## 만들어진 인스턴스 목록 획득"
   ]
  },
  {
   "cell_type": "markdown",
   "metadata": {},
   "source": [
    "https://stackoverflow.com/questions/33297172/boto3-error-botocore-exceptions-nocredentialserror-unable-to-locate-credential"
   ]
  },
  {
   "cell_type": "code",
   "execution_count": null,
   "metadata": {},
   "outputs": [],
   "source": []
  },
  {
   "cell_type": "code",
   "execution_count": null,
   "metadata": {},
   "outputs": [],
   "source": []
  },
  {
   "cell_type": "markdown",
   "metadata": {},
   "source": [
    "# 인스턴스 연결 설정 들"
   ]
  },
  {
   "cell_type": "markdown",
   "metadata": {},
   "source": [
    "!mkdir -p ~/.aws\n",
    "#!ls ~/.aws"
   ]
  },
  {
   "cell_type": "code",
   "execution_count": null,
   "metadata": {},
   "outputs": [],
   "source": []
  },
  {
   "cell_type": "markdown",
   "metadata": {},
   "source": [
    "!(echo \" \\\n",
    "[default] \\n \\\n",
    "aws_access_key_id = 키키키키 \\n \\\n",
    "aws_secret_access_key = 쉬크릿쉬크릿쉬크릿쉬크릿 \\\n",
    "\") | tee ~/.aws/credentials"
   ]
  },
  {
   "cell_type": "code",
   "execution_count": null,
   "metadata": {},
   "outputs": [],
   "source": []
  },
  {
   "cell_type": "markdown",
   "metadata": {},
   "source": [
    "!(echo \" \\\n",
    "[default] \\n \\\n",
    "region = us-east-1 \\n \\\n",
    "output = json \\\n",
    "\") | tee ~/.aws/config|"
   ]
  },
  {
   "cell_type": "code",
   "execution_count": null,
   "metadata": {},
   "outputs": [],
   "source": []
  },
  {
   "cell_type": "code",
   "execution_count": null,
   "metadata": {},
   "outputs": [],
   "source": []
  },
  {
   "cell_type": "code",
   "execution_count": 6,
   "id": "ed23115c",
   "metadata": {},
   "outputs": [],
   "source": [
    "import boto3\n",
    "import time"
   ]
  },
  {
   "cell_type": "code",
   "execution_count": null,
   "metadata": {},
   "outputs": [],
   "source": []
  },
  {
   "cell_type": "markdown",
   "metadata": {},
   "source": [
    "# 인스턴스가 생성되는 걸 기다렸다가 이름을 기준으로 master, worker 분류\n",
    "## terraform에서는 현재 불가능 하거나, 두번에 나눠 해야 되서 여기서 진행"
   ]
  },
  {
   "cell_type": "code",
   "execution_count": 7,
   "metadata": {},
   "outputs": [],
   "source": [
    "is_started = True"
   ]
  },
  {
   "cell_type": "code",
   "execution_count": null,
   "metadata": {},
   "outputs": [],
   "source": []
  },
  {
   "cell_type": "code",
   "execution_count": 8,
   "metadata": {},
   "outputs": [],
   "source": [
    "def get_cluster_instances():\n",
    "    ec2 = boto3.resource('ec2')\n",
    "    \n",
    "    master_list = []\n",
    "    worker_list = []\n",
    "    \n",
    "    for instance in ec2.instances.all():\n",
    "\n",
    "        if instance.state['Name'] == 'pending' : \n",
    "            print(\"Wait for pending\", instance )\n",
    "            instance.wait_until_running()\n",
    "            is_pending=True\n",
    "            time.sleep(3)\n",
    "\n",
    "        elif instance.state['Name'] == 'running' :\n",
    "            for tag in instance.tags :\n",
    "                if tag['Key'] == 'Name' and tag['Value'] == 'kube_master' :\n",
    "                    print(instance, tag)\n",
    "                    master_list.append(instance)\n",
    "                if tag['Key'] == 'Name' and tag['Value'] == 'kube_worker' :\n",
    "                    print(instance, tag)\n",
    "                    worker_list.append(instance)\n",
    "\n",
    "    return master_list, worker_list\n"
   ]
  },
  {
   "cell_type": "markdown",
   "metadata": {},
   "source": [
    "## wait for pending이 있어서 사용했는데도\n",
    "## 데이터가 처음 긁을땐 안가져와지는 현상이 있어 get again"
   ]
  },
  {
   "cell_type": "code",
   "execution_count": 9,
   "id": "154a0752",
   "metadata": {},
   "outputs": [
    {
     "name": "stdout",
     "output_type": "stream",
     "text": [
      "wait for starting\n",
      "ec2.Instance(id='i-0e1d21c04c3d97854') {'Key': 'Name', 'Value': 'kube_master'}\n",
      "ec2.Instance(id='i-0780cdbb01b12ae6a') {'Key': 'Name', 'Value': 'kube_worker'}\n",
      "ec2.Instance(id='i-0d046300b4951283c') {'Key': 'Name', 'Value': 'kube_worker'}\n"
     ]
    }
   ],
   "source": [
    "master_list = []\n",
    "worker_list = []\n",
    "if is_started :\n",
    "    print('wait for starting')\n",
    "    time.sleep(10)\n",
    "    is_started = False\n",
    "    \n",
    "master_list, worker_list = get_cluster_instances()\n",
    "#이 코드 노드 숫자 늘어나면 분명히 문제 생길듯\n",
    "#정 뭣하면 master 먼저 키고 다 된거 확인 한 후 worker 켜서 userdata에 넣어두던가...\n",
    "if len(master_list) == 0 or len(worker_list) == 0 :\n",
    "    print(\"get again\")\n",
    "    master_list, worker_list = get_cluster_instances()"
   ]
  },
  {
   "cell_type": "code",
   "execution_count": null,
   "metadata": {},
   "outputs": [],
   "source": []
  },
  {
   "cell_type": "code",
   "execution_count": 10,
   "id": "2e29cc5e",
   "metadata": {},
   "outputs": [
    {
     "data": {
      "text/plain": [
       "[ec2.Instance(id='i-0e1d21c04c3d97854')]"
      ]
     },
     "execution_count": 10,
     "metadata": {},
     "output_type": "execute_result"
    }
   ],
   "source": [
    "master_list"
   ]
  },
  {
   "cell_type": "code",
   "execution_count": 11,
   "metadata": {},
   "outputs": [
    {
     "data": {
      "text/plain": [
       "'52.90.68.113'"
      ]
     },
     "execution_count": 11,
     "metadata": {},
     "output_type": "execute_result"
    }
   ],
   "source": [
    "master_list[0].public_ip_address"
   ]
  },
  {
   "cell_type": "code",
   "execution_count": null,
   "metadata": {},
   "outputs": [],
   "source": []
  },
  {
   "cell_type": "code",
   "execution_count": 12,
   "metadata": {},
   "outputs": [
    {
     "data": {
      "text/plain": [
       "'174.129.95.87'"
      ]
     },
     "execution_count": 12,
     "metadata": {},
     "output_type": "execute_result"
    }
   ],
   "source": [
    "worker_list[0].public_ip_address"
   ]
  },
  {
   "cell_type": "code",
   "execution_count": 13,
   "metadata": {},
   "outputs": [
    {
     "data": {
      "text/plain": [
       "[ec2.Instance(id='i-0780cdbb01b12ae6a'),\n",
       " ec2.Instance(id='i-0d046300b4951283c')]"
      ]
     },
     "execution_count": 13,
     "metadata": {},
     "output_type": "execute_result"
    }
   ],
   "source": [
    "worker_list"
   ]
  },
  {
   "cell_type": "code",
   "execution_count": null,
   "id": "4f6746dc",
   "metadata": {},
   "outputs": [],
   "source": []
  },
  {
   "cell_type": "code",
   "execution_count": 14,
   "metadata": {},
   "outputs": [],
   "source": [
    "import botocore\n",
    "import paramiko\n",
    "import time\n",
    "\n",
    "#전형적인 template pattern이 필요한 사례같아서 한번 써봄\n",
    "def exec_process(instance_ip, command_list, func_list):\n",
    "\n",
    "    key = paramiko.RSAKey.from_private_key_file('DevOps_Study.pem')\n",
    "    client = paramiko.SSHClient()\n",
    "    client.set_missing_host_key_policy(paramiko.AutoAddPolicy())\n",
    "\n",
    "    print(instance_ip)\n",
    "    result_list = []\n",
    "    try:\n",
    "        client.connect(hostname=instance_ip, username=\"ubuntu\", pkey=key)\n",
    "\n",
    "        for i in range(len(func_list)):\n",
    "            result_list.append(\n",
    "                func_list[i](instance_ip,command_list[i],client)\n",
    "            )\n",
    "\n",
    "        client.close()\n",
    "        \n",
    "    except Exception as e:\n",
    "        print(e)\n",
    "        client.close()\n",
    "    finally:\n",
    "        return result_list\n",
    "\n",
    "def exec_command_func(instance_ip, command, client):\n",
    "    # Execute a command(cmd) after connecting/ssh to an instance\n",
    "    stdin, stdout, stderr = client.exec_command(command)\n",
    "    \n",
    "    output = str(stdout.read() , 'utf-8')\n",
    "    \n",
    "    if output[-1] == \"\\n\":\n",
    "        output = output[:-1]\n",
    "    print(output)\n",
    "    #print(stderr)\n",
    "    \n",
    "    if output == \"kubernetes_ready\\n\" : #\"end\\n\":#\n",
    "        print(instance_ip, \"is ready\")\n",
    "    return output\n",
    "\n",
    "def check_in_while_loop(instance_ip, command, client):\n",
    "    while(True) :\n",
    "        # Execute a command(cmd) after connecting/ssh to an instance\n",
    "        stdin, stdout, stderr = client.exec_command(command)\n",
    "        \n",
    "        output = str(stdout.read() , 'utf-8')\n",
    "        \n",
    "        if output[-1] == \"\\n\":\n",
    "            output = output[:-1]\n",
    "        \n",
    "        print(output)\n",
    "        #print(stderr)\n",
    "        \n",
    "        if output == \"kubernetes_ready\" : #\"end\\n\":#\n",
    "            print(master_ip, \"is ready\")\n",
    "            return True\n",
    "        time.sleep(10)\n",
    "            \n",
    "    return False"
   ]
  },
  {
   "cell_type": "code",
   "execution_count": null,
   "metadata": {},
   "outputs": [],
   "source": []
  },
  {
   "cell_type": "markdown",
   "metadata": {},
   "source": [
    "# user data가 다 끝날때까지 대기 후 node 연결 정보 수집"
   ]
  },
  {
   "cell_type": "code",
   "execution_count": null,
   "metadata": {},
   "outputs": [],
   "source": []
  },
  {
   "cell_type": "code",
   "execution_count": null,
   "metadata": {},
   "outputs": [],
   "source": []
  },
  {
   "cell_type": "code",
   "execution_count": null,
   "metadata": {},
   "outputs": [],
   "source": []
  },
  {
   "cell_type": "code",
   "execution_count": null,
   "metadata": {},
   "outputs": [],
   "source": []
  },
  {
   "cell_type": "code",
   "execution_count": 15,
   "metadata": {},
   "outputs": [],
   "source": [
    "def try_until_finish(master_ip):\n",
    "    try :\n",
    "        result_list = exec_process(instance_ip=master_ip, \n",
    "                                       command_list=['sudo tail -n 1 /var/log/user-data.log',\n",
    "                                                     'sudo kubeadm token create',\n",
    "                                                     \"openssl x509 -pubkey -in /etc/kubernetes/pki/ca.crt | openssl rsa -pubin -outform der 2>/dev/null | openssl dgst -sha256 -hex | sed 's/^.* //'\"\n",
    "                                                    ], \n",
    "                                       func_list=[check_in_while_loop,\n",
    "                                                  exec_command_func,\n",
    "                                                  exec_command_func\n",
    "                                                 ])\n",
    "        return result_list\n",
    "    except Exception as e:\n",
    "        return try_until_finish(master_ip)"
   ]
  },
  {
   "cell_type": "code",
   "execution_count": null,
   "metadata": {},
   "outputs": [],
   "source": []
  },
  {
   "cell_type": "code",
   "execution_count": null,
   "metadata": {},
   "outputs": [],
   "source": []
  },
  {
   "cell_type": "markdown",
   "metadata": {},
   "source": [
    "# 나중에는 여러개 노드를 써서 master node의 high availability를 충족해야 겠지만, 아직은."
   ]
  },
  {
   "cell_type": "code",
   "execution_count": 16,
   "metadata": {},
   "outputs": [
    {
     "name": "stdout",
     "output_type": "stream",
     "text": [
      "0 th job start\n",
      "52.90.68.113\n",
      "Get:8 https://download.docker.com/linux/ubuntu jammy/stable amd64 docker-ce amd64 5:24.0.1-1~ubuntu.22.04~jammy [22.8 MB]\n",
      "Unpacking docker-ce (5:24.0.1-1~ubuntu.22.04~jammy) ...\n",
      "No VM guests are running outdated hypervisor (qemu) binaries on this host.\n",
      "Reading state information...\n",
      "Unpacking kubectl (1.21.7-00) ...\n",
      "[preflight] You can also perform this action in beforehand using 'kubeadm config images pull'\n",
      "[preflight] You can also perform this action in beforehand using 'kubeadm config images pull'\n",
      "[wait-control-plane] Waiting for the kubelet to boot up the control plane as static Pods from directory \"/etc/kubernetes/manifests\". This can take up to 4m0s\n",
      "+ kubectl apply -f https://raw.githubusercontent.com/coreos/flannel/master/Documentation/kube-flannel.yml\n",
      "kubernetes_ready\n",
      "52.90.68.113 is ready\n",
      "l9jocl.0pm8bcoaydhchsc4\n",
      "64b485d37b401dd3d184d0b123e854295102f512828bf74b12d1bc690e528ecf\n"
     ]
    }
   ],
   "source": [
    "\n",
    "for i in range(len(master_list)):\n",
    "\n",
    "    \"\"\"\n",
    "    순서대로\n",
    "    1. master 동작 완료 체크\n",
    "    2. token 생성 (찾는거보다 생성이 편함... 혼자쓸때만인가?)\n",
    "    3. --discovery-token-ca-cert-hash 찾기\n",
    "    \"\"\"\n",
    "    \n",
    "    print(i,'th job start')\n",
    "\n",
    "    master_ip = master_list[i].public_ip_address\n",
    "    result_list = try_until_finish(master_ip)\n",
    "    \"\"\"\n",
    "    result_list = exec_process(instance_ip=master_ip, \n",
    "                                   command_list=['sudo tail -n 1 /var/log/user-data.log',\n",
    "                                                 'sudo kubeadm token create',\n",
    "                                                 \"openssl x509 -pubkey -in /etc/kubernetes/pki/ca.crt | openssl rsa -pubin -outform der 2>/dev/null | openssl dgst -sha256 -hex | sed 's/^.* //'\"\n",
    "                                                ], \n",
    "                                   func_list=[check_in_while_loop,\n",
    "                                              exec_command_func,\n",
    "                                              exec_command_func\n",
    "                                             ])\n",
    "    \"\"\""
   ]
  },
  {
   "cell_type": "code",
   "execution_count": null,
   "metadata": {},
   "outputs": [],
   "source": []
  },
  {
   "cell_type": "code",
   "execution_count": 17,
   "metadata": {
    "scrolled": true
   },
   "outputs": [
    {
     "data": {
      "text/plain": [
       "[True,\n",
       " 'l9jocl.0pm8bcoaydhchsc4',\n",
       " '64b485d37b401dd3d184d0b123e854295102f512828bf74b12d1bc690e528ecf']"
      ]
     },
     "execution_count": 17,
     "metadata": {},
     "output_type": "execute_result"
    }
   ],
   "source": [
    "result_list"
   ]
  },
  {
   "cell_type": "markdown",
   "metadata": {},
   "source": [
    "## node 연결 명령어 작성"
   ]
  },
  {
   "cell_type": "code",
   "execution_count": 18,
   "metadata": {},
   "outputs": [
    {
     "data": {
      "text/plain": [
       "'sudo kubeadm join 10.1.0.177:6443 --token l9jocl.0pm8bcoaydhchsc4 --discovery-token-ca-cert-hash sha256:64b485d37b401dd3d184d0b123e854295102f512828bf74b12d1bc690e528ecf'"
      ]
     },
     "execution_count": 18,
     "metadata": {},
     "output_type": "execute_result"
    }
   ],
   "source": [
    "master_private = master_list[0].private_ip_address\n",
    "token = result_list[1]\n",
    "discovery_token_ca_cert_hash = result_list[2]\n",
    "\n",
    "join_command = \"\"\"sudo kubeadm join {}:6443 --token {} --discovery-token-ca-cert-hash sha256:{}\"\"\".format(master_private,\n",
    "                                                                                                token,\n",
    "                                                                                                discovery_token_ca_cert_hash\n",
    "                                                                                               )\n",
    "\n",
    "join_command"
   ]
  },
  {
   "cell_type": "code",
   "execution_count": null,
   "metadata": {},
   "outputs": [],
   "source": []
  },
  {
   "cell_type": "markdown",
   "metadata": {},
   "source": [
    "## worker 연결 : 수가 많아지면 multi thread를 써야 겠지만 아직은."
   ]
  },
  {
   "cell_type": "code",
   "execution_count": 19,
   "metadata": {},
   "outputs": [
    {
     "name": "stdout",
     "output_type": "stream",
     "text": [
      "0 th job start\n",
      "174.129.95.87\n",
      "kubernetes_ready\n",
      "52.90.68.113 is ready\n",
      "[preflight] Running pre-flight checks\n",
      "[preflight] Reading configuration from the cluster...\n",
      "[preflight] FYI: You can look at this config file with 'kubectl -n kube-system get cm kubeadm-config -o yaml'\n",
      "[kubelet-start] Writing kubelet configuration to file \"/var/lib/kubelet/config.yaml\"\n",
      "[kubelet-start] Writing kubelet environment file with flags to file \"/var/lib/kubelet/kubeadm-flags.env\"\n",
      "[kubelet-start] Starting the kubelet\n",
      "[kubelet-start] Waiting for the kubelet to perform the TLS Bootstrap...\n",
      "\n",
      "This node has joined the cluster:\n",
      "* Certificate signing request was sent to apiserver and a response was received.\n",
      "* The Kubelet was informed of the new secure connection details.\n",
      "\n",
      "Run 'kubectl get nodes' on the control-plane to see this node join the cluster.\n",
      "\n",
      "1 th job start\n",
      "3.92.163.138\n",
      "kubernetes_ready\n",
      "52.90.68.113 is ready\n",
      "[preflight] Running pre-flight checks\n",
      "[preflight] Reading configuration from the cluster...\n",
      "[preflight] FYI: You can look at this config file with 'kubectl -n kube-system get cm kubeadm-config -o yaml'\n",
      "[kubelet-start] Writing kubelet configuration to file \"/var/lib/kubelet/config.yaml\"\n",
      "[kubelet-start] Writing kubelet environment file with flags to file \"/var/lib/kubelet/kubeadm-flags.env\"\n",
      "[kubelet-start] Starting the kubelet\n",
      "[kubelet-start] Waiting for the kubelet to perform the TLS Bootstrap...\n",
      "\n",
      "This node has joined the cluster:\n",
      "* Certificate signing request was sent to apiserver and a response was received.\n",
      "* The Kubelet was informed of the new secure connection details.\n",
      "\n",
      "Run 'kubectl get nodes' on the control-plane to see this node join the cluster.\n",
      "\n"
     ]
    }
   ],
   "source": [
    "for i in range(len(worker_list)):\n",
    "    \n",
    "    print(i,'th job start')\n",
    "\n",
    "    worker_ip = worker_list[i].public_ip_address\n",
    "    result_list = exec_process(instance_ip=worker_ip, \n",
    "                               command_list=['sudo tail -n 1 /var/log/user-data.log',\n",
    "                                             join_command\n",
    "                                            ], \n",
    "                               func_list=[check_in_while_loop,\n",
    "                                          exec_command_func\n",
    "                                         ])"
   ]
  },
  {
   "cell_type": "code",
   "execution_count": null,
   "metadata": {},
   "outputs": [],
   "source": []
  },
  {
   "cell_type": "code",
   "execution_count": 20,
   "metadata": {},
   "outputs": [
    {
     "name": "stdout",
     "output_type": "stream",
     "text": [
      "ec2.Instance(id='i-0780cdbb01b12ae6a') 174.129.95.87 10.1.0.233\n",
      "ec2.Instance(id='i-0d046300b4951283c') 3.92.163.138 10.1.0.23\n"
     ]
    }
   ],
   "source": [
    "for worker in worker_list:\n",
    "    print(worker, worker.public_ip_address, worker.private_ip_address)"
   ]
  },
  {
   "cell_type": "code",
   "execution_count": null,
   "metadata": {},
   "outputs": [],
   "source": []
  },
  {
   "cell_type": "markdown",
   "metadata": {},
   "source": [
    "## 결과 확인 : 여러개 하니까 나중에 넣은건 한동안 not ready 뜨기도 하네, 시간지나니까 health check끝나서 연결됨"
   ]
  },
  {
   "cell_type": "code",
   "execution_count": 22,
   "metadata": {
    "scrolled": false
   },
   "outputs": [
    {
     "name": "stdout",
     "output_type": "stream",
     "text": [
      "52.90.68.113\n",
      "NAME            STATUS   ROLES                  AGE   VERSION\n",
      "ip-10-1-0-177   Ready    control-plane,master   80s   v1.21.7\n",
      "ip-10-1-0-23    Ready    <none>                 47s   v1.21.7\n",
      "ip-10-1-0-233   Ready    <none>                 57s   v1.21.7\n"
     ]
    }
   ],
   "source": [
    "\n",
    "    master_ip = master_list[0].public_ip_address\n",
    "    result_list = exec_process(instance_ip=master_ip, \n",
    "                               command_list=[\"sudo kubectl get nodes\"], \n",
    "                               func_list=[exec_command_func])"
   ]
  },
  {
   "cell_type": "code",
   "execution_count": null,
   "metadata": {},
   "outputs": [],
   "source": []
  }
 ],
 "metadata": {
  "kernelspec": {
   "display_name": "Python 3",
   "language": "python",
   "name": "python3"
  },
  "language_info": {
   "codemirror_mode": {
    "name": "ipython",
    "version": 3
   },
   "file_extension": ".py",
   "mimetype": "text/x-python",
   "name": "python",
   "nbconvert_exporter": "python",
   "pygments_lexer": "ipython3",
   "version": "3.8.10"
  }
 },
 "nbformat": 4,
 "nbformat_minor": 5
}
