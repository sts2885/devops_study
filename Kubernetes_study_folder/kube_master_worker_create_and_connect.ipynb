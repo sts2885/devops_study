{
 "cells": [
  {
   "cell_type": "code",
   "execution_count": null,
   "id": "52bd9108",
   "metadata": {},
   "outputs": [],
   "source": []
  },
  {
   "cell_type": "markdown",
   "id": "5ba86ffa",
   "metadata": {},
   "source": [
    "# 순서!\n",
    "\n",
    "## 1. terraform으로 클러스터 생성\n",
    "## 2. user data로 들어가는 스크립트 파일로 kubernetes 설치\n",
    "## 3. 설치 후 fin.txt 파일을 생성하기로 설정함.\n",
    "## 4. 전체 노드에서 fin.txt 발견시\n",
    "## 5. kube_join.txt 파일의 값을 읽어서 worker에 뿌림"
   ]
  },
  {
   "cell_type": "code",
   "execution_count": null,
   "id": "67c68f72",
   "metadata": {},
   "outputs": [],
   "source": []
  },
  {
   "cell_type": "code",
   "execution_count": null,
   "id": "10d1aabb",
   "metadata": {},
   "outputs": [],
   "source": [
    "tail로 볼까?"
   ]
  },
  {
   "cell_type": "code",
   "execution_count": 10,
   "id": "5f440496",
   "metadata": {},
   "outputs": [
    {
     "name": "stdout",
     "output_type": "stream",
     "text": [
      " C 드라이브의 볼륨에는 이름이 없습니다.\n",
      " 볼륨 일련 번호: 9655-E291\n",
      "\n",
      " C:\\Users\\sts\\Desktop\\취업 공부\\DevOps 디렉터리\n",
      "\n",
      "2023-05-16  오후 10:18    <DIR>          .\n",
      "2023-05-16  오후 10:18    <DIR>          ..\n",
      "2023-04-23  오후 04:46             5,575 0423 devops강의 part 1,2를 마치며.txt\n",
      "2023-04-02  오후 06:03    <DIR>          600key\n",
      "2023-05-16  오후 11:07    <DIR>          dev\n",
      "2023-05-02  오전 12:26    <DIR>          DevOps_project\n",
      "2023-05-13  오후 11:51    <DIR>          DevOps_study\n",
      "2023-03-24  오후 10:31             1,674 DevOps_Study.pem\n",
      "2023-03-24  오후 10:33             1,462 DevOps_Study.ppk\n",
      "2023-05-13  오후 11:54    <DIR>          dsf\n",
      "2023-03-24  오후 10:31             1,674 ec2-user@3.215.120.242\n",
      "2023-04-30  오후 02:20    <DIR>          icon\n",
      "2023-04-08  오후 01:35             1,702 id_rsa\n",
      "2023-04-04  오후 11:19    <DIR>          jira\n",
      "2023-03-28  오후 10:21    <DIR>          nhn terraform\n",
      "2023-04-15  오후 07:02             6,455 openvpn access server docker.txt\n",
      "2023-04-15  오후 06:35             5,097 openvpn.ovpn\n",
      "2023-04-15  오후 05:18             9,936 profile.ovpn\n",
      "2023-05-15  오전 02:55                99 sts0623_accessKeys.csv\n",
      "2023-05-15  오전 02:52               122 sts0623_credentials.csv\n",
      "2023-05-07  오후 11:19             1,725 temptemp.txt\n",
      "2023-05-08  오전 01:38               396 temptemptemptemptmpem.txt\n",
      "2023-05-15  오전 02:29             9,317 temptemptmepmtpempte.txt\n",
      "2023-03-21  오후 09:48        11,736,473 terraformupandrunning2ndedition.pdf\n",
      "2023-03-26  오후 04:31        20,710,805 terraform_1.4.2_windows_amd64.zip\n",
      "2023-05-06  오후 11:57             1,015 tmp_remove_anytime.txt\n",
      "2023-05-07  오후 05:21            12,531 tmp_to_remove.txt\n",
      "2023-03-24  오후 10:03                99 ts_junior01_accessKeys.csv\n",
      "2023-03-24  오후 09:55               126 ts_junior01_credentials.csv\n",
      "2023-03-24  오후 10:16                99 ts_junior02_accessKeys.csv\n",
      "2023-03-24  오후 10:13               126 ts_junior02_credentials.csv\n",
      "2023-04-15  오후 06:23             5,014 vpn.ovpn\n",
      "2023-04-17  오전 12:12             5,910 Waterfall의 소통문제.txt\n",
      "2023-04-15  오전 01:02           432,917 소중한 첫 댓글... 댓삭튀함... 왜....png\n",
      "2023-05-07  오후 04:41    <DIR>          실습\n",
      "2023-05-10  오후 11:50    <DIR>          자료\n",
      "2023-05-16  오후 10:17    <DIR>          키키키\n",
      "2023-05-16  오후 10:18             3,086 키키키.zip\n",
      "2023-05-02  오후 11:01           170,156 테라폼 destroy 실패. 와 이런건 진짜 처음보네..png\n",
      "2023-04-29  오후 11:08               857 협업 프로젝트.txt\n",
      "              27개 파일          33,124,448 바이트\n",
      "              13개 디렉터리  53,201,891,328 바이트 남음\n"
     ]
    }
   ],
   "source": [
    "!dir ..\\.."
   ]
  },
  {
   "cell_type": "code",
   "execution_count": null,
   "id": "667b1a66",
   "metadata": {},
   "outputs": [],
   "source": []
  },
  {
   "cell_type": "code",
   "execution_count": 19,
   "id": "75487926",
   "metadata": {},
   "outputs": [
    {
     "name": "stdout",
     "output_type": "stream",
     "text": [
      " C 드라이브의 볼륨에는 이름이 없습니다.\n",
      " 볼륨 일련 번호: 9655-E291\n",
      "\n",
      " C:\\Users\\sts\\Desktop\\취업 공부\\DevOps\\DevOps_study\\Kubernetes_study_folder 디렉터리\n",
      "\n",
      "2023-05-17  오전 12:38    <DIR>          .\n",
      "2023-05-17  오전 12:38    <DIR>          ..\n",
      "2023-05-16  오후 11:58    <DIR>          .ipynb_checkpoints\n",
      "2023-05-14  오후 11:09    <DIR>          .terraform\n",
      "2023-05-16  오후 10:29             3,350 .terraform.lock.hcl\n",
      "2023-05-17  오전 12:21             1,714 instance.tf\n",
      "2023-05-17  오전 12:20             2,294 kube_master_user_data.sh\n",
      "2023-05-17  오전 12:38            14,486 kube_master_worker_create_and_connect.ipynb\n",
      "2023-05-17  오전 12:10             1,692 kube_worker_user_data.sh\n",
      "2023-05-15  오전 03:02               693 provider.tf\n",
      "2023-05-16  오후 10:25               884 provider_example.tf\n",
      "2023-05-15  오전 02:51               659 README.md\n",
      "2023-05-17  오전 12:17             3,446 sg_master.tf\n",
      "2023-05-17  오전 12:18             1,585 sg_worker.tf\n",
      "2023-05-16  오후 11:15            31,109 terraform.tfstate\n",
      "2023-05-16  오후 11:15               182 terraform.tfstate.backup\n",
      "2023-05-14  오전 12:02             1,050 vpc_and_subnet.tf\n",
      "              13개 파일              63,144 바이트\n",
      "               4개 디렉터리  51,535,945,728 바이트 남음\n"
     ]
    }
   ],
   "source": [
    "!dir"
   ]
  },
  {
   "cell_type": "code",
   "execution_count": 29,
   "id": "1ca46c2b",
   "metadata": {},
   "outputs": [],
   "source": [
    "#!pip install paramiko"
   ]
  },
  {
   "cell_type": "code",
   "execution_count": 30,
   "id": "a757d5aa",
   "metadata": {},
   "outputs": [
    {
     "data": {
      "text/plain": [
       "'import paramiko\\n\\nclient = paramiko.SSHClient()\\nclient.set_missing_host_key_policy(paramiko.AutoAddPolicy())\\n\\nec2_ip = \"107.21.197.214\"\\nuser_name = \"ubuntu\"\\npassword = None\\nkey_path=\\'DevOps_Study.pem\\'\\n\\n\\nkey = paramiko.RSAKey.from_private_key_file(key_path)\\n\\n\\nclient.connect(hostname=ec2_ip, username=user_name, pkey = key)'"
      ]
     },
     "execution_count": 30,
     "metadata": {},
     "output_type": "execute_result"
    }
   ],
   "source": [
    "\"\"\"import paramiko\n",
    "\n",
    "client = paramiko.SSHClient()\n",
    "client.set_missing_host_key_policy(paramiko.AutoAddPolicy())\n",
    "\n",
    "ec2_ip = \"107.21.197.214\"\n",
    "user_name = \"ubuntu\"\n",
    "password = None\n",
    "key_path='DevOps_Study.pem'\n",
    "\n",
    "\n",
    "key = paramiko.RSAKey.from_private_key_file(key_path)\n",
    "\n",
    "\n",
    "client.connect(hostname=ec2_ip, username=user_name, pkey = key)\"\"\""
   ]
  },
  {
   "cell_type": "code",
   "execution_count": null,
   "id": "0facd729",
   "metadata": {},
   "outputs": [],
   "source": []
  },
  {
   "cell_type": "code",
   "execution_count": 31,
   "id": "3c20637f",
   "metadata": {},
   "outputs": [
    {
     "name": "stdout",
     "output_type": "stream",
     "text": [
      "Requirement already satisfied: boto3 in c:\\users\\sts\\anaconda3\\lib\\site-packages (1.21.32)\n",
      "Requirement already satisfied: botocore<1.25.0,>=1.24.32 in c:\\users\\sts\\anaconda3\\lib\\site-packages (from boto3) (1.24.32)\n",
      "Requirement already satisfied: s3transfer<0.6.0,>=0.5.0 in c:\\users\\sts\\anaconda3\\lib\\site-packages (from boto3) (0.5.0)\n",
      "Requirement already satisfied: jmespath<2.0.0,>=0.7.1 in c:\\users\\sts\\anaconda3\\lib\\site-packages (from boto3) (0.10.0)\n",
      "Requirement already satisfied: python-dateutil<3.0.0,>=2.1 in c:\\users\\sts\\anaconda3\\lib\\site-packages (from botocore<1.25.0,>=1.24.32->boto3) (2.8.2)\n",
      "Requirement already satisfied: urllib3<1.27,>=1.25.4 in c:\\users\\sts\\anaconda3\\lib\\site-packages (from botocore<1.25.0,>=1.24.32->boto3) (1.26.9)\n",
      "Requirement already satisfied: six>=1.5 in c:\\users\\sts\\anaconda3\\lib\\site-packages (from python-dateutil<3.0.0,>=2.1->botocore<1.25.0,>=1.24.32->boto3) (1.16.0)\n"
     ]
    }
   ],
   "source": [
    "!pip install boto3"
   ]
  },
  {
   "cell_type": "code",
   "execution_count": null,
   "id": "70c4d43c",
   "metadata": {},
   "outputs": [],
   "source": []
  },
  {
   "cell_type": "code",
   "execution_count": 1,
   "id": "2e747c8c",
   "metadata": {},
   "outputs": [],
   "source": [
    "import boto3"
   ]
  },
  {
   "cell_type": "code",
   "execution_count": null,
   "id": "ec2a127f",
   "metadata": {},
   "outputs": [],
   "source": []
  },
  {
   "cell_type": "code",
   "execution_count": 4,
   "id": "cb89c97b",
   "metadata": {},
   "outputs": [],
   "source": [
    "ec2client = boto3.client('ec2')\n",
    "\n",
    "response = ec2client.describe_instances()"
   ]
  },
  {
   "cell_type": "code",
   "execution_count": 5,
   "id": "96cf92ab",
   "metadata": {
    "scrolled": true
   },
   "outputs": [
    {
     "data": {
      "text/plain": [
       "{'Reservations': [{'Groups': [],\n",
       "   'Instances': [{'AmiLaunchIndex': 0,\n",
       "     'ImageId': 'ami-007855ac798b5175e',\n",
       "     'InstanceId': 'i-0ab381e0f2a72d22a',\n",
       "     'InstanceType': 't2.medium',\n",
       "     'KeyName': 'DevOps_Study',\n",
       "     'LaunchTime': datetime.datetime(2023, 5, 16, 14, 15, 30, tzinfo=tzutc()),\n",
       "     'Monitoring': {'State': 'disabled'},\n",
       "     'Placement': {'AvailabilityZone': 'us-east-1a',\n",
       "      'GroupName': '',\n",
       "      'Tenancy': 'default'},\n",
       "     'PrivateDnsName': 'ip-10-1-0-177.ec2.internal',\n",
       "     'PrivateIpAddress': '10.1.0.177',\n",
       "     'ProductCodes': [],\n",
       "     'PublicDnsName': '',\n",
       "     'PublicIpAddress': '107.21.197.214',\n",
       "     'State': {'Code': 16, 'Name': 'running'},\n",
       "     'StateTransitionReason': '',\n",
       "     'SubnetId': 'subnet-0c510b5411436af5b',\n",
       "     'VpcId': 'vpc-0d2a71da69f7cefd5',\n",
       "     'Architecture': 'x86_64',\n",
       "     'BlockDeviceMappings': [{'DeviceName': '/dev/sda1',\n",
       "       'Ebs': {'AttachTime': datetime.datetime(2023, 5, 16, 14, 15, 31, tzinfo=tzutc()),\n",
       "        'DeleteOnTermination': True,\n",
       "        'Status': 'attached',\n",
       "        'VolumeId': 'vol-047ff9a3e58d7d645'}}],\n",
       "     'ClientToken': '37407402dc98b0beeb8fc46cd0418749a36775edd17febccc7524893151d',\n",
       "     'EbsOptimized': False,\n",
       "     'EnaSupport': True,\n",
       "     'Hypervisor': 'xen',\n",
       "     'InstanceLifecycle': 'spot',\n",
       "     'NetworkInterfaces': [{'Association': {'IpOwnerId': 'amazon',\n",
       "        'PublicDnsName': '',\n",
       "        'PublicIp': '107.21.197.214'},\n",
       "       'Attachment': {'AttachTime': datetime.datetime(2023, 5, 16, 14, 15, 30, tzinfo=tzutc()),\n",
       "        'AttachmentId': 'eni-attach-01cbd7065b3ea7a64',\n",
       "        'DeleteOnTermination': True,\n",
       "        'DeviceIndex': 0,\n",
       "        'Status': 'attached',\n",
       "        'NetworkCardIndex': 0},\n",
       "       'Description': '',\n",
       "       'Groups': [{'GroupName': 'sg_master',\n",
       "         'GroupId': 'sg-0a5feb40eef2b09a4'},\n",
       "        {'GroupName': 'sg_worker', 'GroupId': 'sg-06845262940554079'}],\n",
       "       'Ipv6Addresses': [],\n",
       "       'MacAddress': '0e:c1:1d:8a:bd:bb',\n",
       "       'NetworkInterfaceId': 'eni-04691e7a958f880ed',\n",
       "       'OwnerId': '222170749288',\n",
       "       'PrivateIpAddress': '10.1.0.177',\n",
       "       'PrivateIpAddresses': [{'Association': {'IpOwnerId': 'amazon',\n",
       "          'PublicDnsName': '',\n",
       "          'PublicIp': '107.21.197.214'},\n",
       "         'Primary': True,\n",
       "         'PrivateIpAddress': '10.1.0.177'}],\n",
       "       'SourceDestCheck': True,\n",
       "       'Status': 'in-use',\n",
       "       'SubnetId': 'subnet-0c510b5411436af5b',\n",
       "       'VpcId': 'vpc-0d2a71da69f7cefd5',\n",
       "       'InterfaceType': 'interface'}],\n",
       "     'RootDeviceName': '/dev/sda1',\n",
       "     'RootDeviceType': 'ebs',\n",
       "     'SecurityGroups': [{'GroupName': 'sg_master',\n",
       "       'GroupId': 'sg-0a5feb40eef2b09a4'},\n",
       "      {'GroupName': 'sg_worker', 'GroupId': 'sg-06845262940554079'}],\n",
       "     'SourceDestCheck': True,\n",
       "     'SpotInstanceRequestId': 'sir-x1xphf3m',\n",
       "     'VirtualizationType': 'hvm',\n",
       "     'CpuOptions': {'CoreCount': 2, 'ThreadsPerCore': 1},\n",
       "     'CapacityReservationSpecification': {'CapacityReservationPreference': 'open'},\n",
       "     'HibernationOptions': {'Configured': False},\n",
       "     'MetadataOptions': {'State': 'applied',\n",
       "      'HttpTokens': 'optional',\n",
       "      'HttpPutResponseHopLimit': 1,\n",
       "      'HttpEndpoint': 'enabled',\n",
       "      'HttpProtocolIpv6': 'disabled',\n",
       "      'InstanceMetadataTags': 'disabled'},\n",
       "     'EnclaveOptions': {'Enabled': False},\n",
       "     'PlatformDetails': 'Linux/UNIX',\n",
       "     'UsageOperation': 'RunInstances',\n",
       "     'UsageOperationUpdateTime': datetime.datetime(2023, 5, 16, 14, 15, 30, tzinfo=tzutc()),\n",
       "     'PrivateDnsNameOptions': {'HostnameType': 'ip-name',\n",
       "      'EnableResourceNameDnsARecord': False,\n",
       "      'EnableResourceNameDnsAAAARecord': False},\n",
       "     'MaintenanceOptions': {'AutoRecovery': 'default'},\n",
       "     'CurrentInstanceBootMode': 'legacy-bios'}],\n",
       "   'OwnerId': '222170749288',\n",
       "   'RequesterId': '823129131983',\n",
       "   'ReservationId': 'r-008103ca5b2c3a503'}],\n",
       " 'ResponseMetadata': {'RequestId': '52e82439-35e3-447b-be1b-c0dce7fa90ad',\n",
       "  'HTTPStatusCode': 200,\n",
       "  'HTTPHeaders': {'x-amzn-requestid': '52e82439-35e3-447b-be1b-c0dce7fa90ad',\n",
       "   'cache-control': 'no-cache, no-store',\n",
       "   'strict-transport-security': 'max-age=31536000; includeSubDomains',\n",
       "   'vary': 'accept-encoding',\n",
       "   'content-type': 'text/xml;charset=UTF-8',\n",
       "   'transfer-encoding': 'chunked',\n",
       "   'date': 'Tue, 16 May 2023 16:37:53 GMT',\n",
       "   'server': 'AmazonEC2'},\n",
       "  'RetryAttempts': 0}}"
      ]
     },
     "execution_count": 5,
     "metadata": {},
     "output_type": "execute_result"
    }
   ],
   "source": [
    "response"
   ]
  },
  {
   "cell_type": "code",
   "execution_count": null,
   "id": "a5ae0fa7",
   "metadata": {},
   "outputs": [],
   "source": []
  },
  {
   "cell_type": "code",
   "execution_count": null,
   "id": "fc56419c",
   "metadata": {},
   "outputs": [],
   "source": [
    "ssm = boto3.client('ssm', region_name=\"us-east-1\")\n",
    "\n",
    "command = \"ls /home/ubuntu\"\n",
    "\n"
   ]
  },
  {
   "cell_type": "code",
   "execution_count": null,
   "id": "1f094d49",
   "metadata": {},
   "outputs": [],
   "source": []
  },
  {
   "cell_type": "code",
   "execution_count": 24,
   "id": "eb1672de",
   "metadata": {},
   "outputs": [
    {
     "data": {
      "text/plain": [
       "<paramiko.rsakey.RSAKey at 0x15bde21beb0>"
      ]
     },
     "execution_count": 24,
     "metadata": {},
     "output_type": "execute_result"
    }
   ],
   "source": [
    "key"
   ]
  },
  {
   "cell_type": "code",
   "execution_count": null,
   "id": "df52dff9",
   "metadata": {},
   "outputs": [],
   "source": []
  },
  {
   "cell_type": "code",
   "execution_count": null,
   "id": "9ffba922",
   "metadata": {},
   "outputs": [],
   "source": []
  },
  {
   "cell_type": "code",
   "execution_count": null,
   "id": "7a70ea92",
   "metadata": {},
   "outputs": [],
   "source": []
  },
  {
   "cell_type": "code",
   "execution_count": null,
   "id": "41846979",
   "metadata": {},
   "outputs": [],
   "source": []
  },
  {
   "cell_type": "code",
   "execution_count": null,
   "id": "69aad157",
   "metadata": {},
   "outputs": [],
   "source": [
    "!"
   ]
  },
  {
   "cell_type": "code",
   "execution_count": null,
   "id": "0be23c39",
   "metadata": {},
   "outputs": [],
   "source": [
    "그나저나 master랑 worker 노드 어떻게 구분하냐?\n",
    "후...\n",
    "인스턴스 사이즈로 구분 가능"
   ]
  },
  {
   "cell_type": "code",
   "execution_count": null,
   "id": "ac8b7452",
   "metadata": {},
   "outputs": [],
   "source": []
  },
  {
   "cell_type": "code",
   "execution_count": null,
   "id": "6aaed794",
   "metadata": {},
   "outputs": [],
   "source": []
  },
  {
   "cell_type": "markdown",
   "id": "d1275474",
   "metadata": {},
   "source": [
    "어짜피 키는 순간 master , worker에는 설치가 전부 끝나고"
   ]
  },
  {
   "cell_type": "code",
   "execution_count": null,
   "id": "0b7400eb",
   "metadata": {},
   "outputs": [],
   "source": []
  },
  {
   "cell_type": "code",
   "execution_count": null,
   "id": "ad08468f",
   "metadata": {},
   "outputs": [],
   "source": []
  },
  {
   "cell_type": "code",
   "execution_count": null,
   "id": "772d1d19",
   "metadata": {},
   "outputs": [],
   "source": []
  },
  {
   "cell_type": "code",
   "execution_count": null,
   "id": "250cc85a",
   "metadata": {},
   "outputs": [],
   "source": []
  },
  {
   "cell_type": "code",
   "execution_count": null,
   "id": "52a4624b",
   "metadata": {},
   "outputs": [],
   "source": []
  }
 ],
 "metadata": {
  "kernelspec": {
   "display_name": "Python 3 (ipykernel)",
   "language": "python",
   "name": "python3"
  },
  "language_info": {
   "codemirror_mode": {
    "name": "ipython",
    "version": 3
   },
   "file_extension": ".py",
   "mimetype": "text/x-python",
   "name": "python",
   "nbconvert_exporter": "python",
   "pygments_lexer": "ipython3",
   "version": "3.9.12"
  }
 },
 "nbformat": 4,
 "nbformat_minor": 5
}
