{
 "cells": [
  {
   "cell_type": "code",
   "execution_count": null,
   "id": "52bd9108",
   "metadata": {},
   "outputs": [],
   "source": []
  },
  {
   "cell_type": "code",
   "execution_count": null,
   "metadata": {},
   "outputs": [],
   "source": []
  },
  {
   "cell_type": "markdown",
   "metadata": {},
   "source": [
    "# ###주의 이 파일은 worker, master를 연결만 하는 스크립트 입니다.\n",
    "# worker, master에 대한 변경이 필요하면 terraform, userdata를 고쳐야 합니다."
   ]
  },
  {
   "cell_type": "code",
   "execution_count": null,
   "metadata": {},
   "outputs": [],
   "source": []
  },
  {
   "cell_type": "code",
   "execution_count": null,
   "metadata": {},
   "outputs": [],
   "source": []
  },
  {
   "cell_type": "markdown",
   "id": "5ba86ffa",
   "metadata": {},
   "source": [
    "# 순서!\n",
    "\n",
    "## 1. terraform으로 클러스터 생성\n",
    "## 2. user data로 들어가는 스크립트 파일로 kubernetes 설치\n",
    "## 3. 설치 후 ending text 를 echo함\n",
    "## 4. kube_join.txt 파일의 값을 읽어서 worker에 뿌림\n",
    "## 5. 다 작성하면 쉘스크립트에 테라폼 apply 까지 묶어서 한번에 가자"
   ]
  },
  {
   "cell_type": "code",
   "execution_count": null,
   "metadata": {},
   "outputs": [],
   "source": []
  },
  {
   "cell_type": "markdown",
   "metadata": {},
   "source": [
    "# 정말 마지막 테스트 worker 3개.\n",
    "## 아... 그냥 fully managed service 써도 되는 개발자들 부럽다..."
   ]
  },
  {
   "cell_type": "code",
   "execution_count": null,
   "metadata": {},
   "outputs": [],
   "source": []
  },
  {
   "cell_type": "markdown",
   "metadata": {},
   "source": [
    "# 근데 테라폼 한번 배워서 진짜 요긴하게 잘 써먹네.\n",
    "## 솔직히 테라폼 없었으면 에러 한두번 발생했을때 인스턴스 다시 키는거 너무 힘들어서 좌절했을듯"
   ]
  },
  {
   "cell_type": "code",
   "execution_count": null,
   "metadata": {},
   "outputs": [],
   "source": []
  },
  {
   "cell_type": "code",
   "execution_count": null,
   "metadata": {},
   "outputs": [],
   "source": []
  },
  {
   "cell_type": "markdown",
   "metadata": {},
   "source": [
    "https://askubuntu.com/questions/983351/how-to-install-terraform-in-ubuntu"
   ]
  },
  {
   "cell_type": "markdown",
   "metadata": {},
   "source": [
    "!apt install -y wget\n",
    "!wget https://releases.hashicorp.com/terraform/1.0.7/terraform_1.0.7_linux_amd64.zip\n",
    "!unzip terraform_1.0.7_linux_amd64.zip\n",
    "!mv terraform /usr/local/bin/\n",
    "!terraform --version "
   ]
  },
  {
   "cell_type": "markdown",
   "metadata": {},
   "source": [
    "!rm terraform_1.0.7_linux_amd64.zip"
   ]
  },
  {
   "cell_type": "code",
   "execution_count": null,
   "metadata": {},
   "outputs": [],
   "source": []
  },
  {
   "cell_type": "code",
   "execution_count": 1,
   "metadata": {},
   "outputs": [
    {
     "name": "stdout",
     "output_type": "stream",
     "text": [
      "\n",
      "\u001b[0m\u001b[1mInitializing the backend...\u001b[0m\n",
      "\n",
      "\u001b[0m\u001b[1mInitializing provider plugins...\u001b[0m\n",
      "- Reusing previous version of hashicorp/aws from the dependency lock file\n",
      "- Reusing previous version of hashicorp/template from the dependency lock file\n",
      "- Reusing previous version of hashicorp/http from the dependency lock file\n",
      "- Using previously-installed hashicorp/template v2.2.0\n",
      "- Using previously-installed hashicorp/http v3.3.0\n",
      "- Using previously-installed hashicorp/aws v4.67.0\n",
      "\n",
      "\u001b[0m\u001b[1m\u001b[32mTerraform has been successfully initialized!\u001b[0m\u001b[32m\u001b[0m\n",
      "\u001b[0m\u001b[32m\n",
      "You may now begin working with Terraform. Try running \"terraform plan\" to see\n",
      "any changes that are required for your infrastructure. All Terraform commands\n",
      "should now work.\n",
      "\n",
      "If you ever set or change modules or backend configuration for Terraform,\n",
      "rerun this command to reinitialize your working directory. If you forget, other\n",
      "commands will detect it and remind you to do so if necessary.\u001b[0m\n"
     ]
    }
   ],
   "source": [
    "!terraform init"
   ]
  },
  {
   "cell_type": "code",
   "execution_count": null,
   "metadata": {},
   "outputs": [],
   "source": []
  },
  {
   "cell_type": "code",
   "execution_count": 25,
   "metadata": {},
   "outputs": [
    {
     "name": "stdout",
     "output_type": "stream",
     "text": [
      "\u001b[0m\u001b[1maws_vpc.kube_vpc: Refreshing state... [id=vpc-00ef9a845a70a873e]\u001b[0m\n",
      "\u001b[0m\u001b[1maws_instance.kube_master: Refreshing state... [id=i-00da84a95a682fbfb]\u001b[0m\n",
      "\u001b[0m\u001b[1maws_internet_gateway.kube_igw: Refreshing state... [id=igw-0086179b22bb83d98]\u001b[0m\n",
      "\u001b[0m\u001b[1maws_subnet.public_subnet: Refreshing state... [id=subnet-0f4ac487eb0dcfc84]\u001b[0m\n",
      "\u001b[0m\u001b[1maws_route_table.public_rt: Refreshing state... [id=rtb-0a49132c580bcaa79]\u001b[0m\n",
      "\u001b[0m\u001b[1maws_security_group.sg_worker: Refreshing state... [id=sg-0c99ed3ef08387567]\u001b[0m\n",
      "\u001b[0m\u001b[1maws_security_group.sg_master: Refreshing state... [id=sg-09bf254249028dc18]\u001b[0m\n",
      "\u001b[0m\u001b[1maws_route.public_rt_igw: Refreshing state... [id=r-rtb-0a49132c580bcaa791080289494]\u001b[0m\n",
      "\u001b[0m\u001b[1maws_launch_configuration.kube_worker_lc: Refreshing state... [id=terraform-20230525133602087600000001]\u001b[0m\n",
      "\u001b[0m\u001b[1maws_route_table_association.public_rt_association: Refreshing state... [id=rtbassoc-0656b3fcfaf82923c]\u001b[0m\n",
      "\u001b[0m\u001b[1maws_autoscaling_group.kube_worker_asg: Refreshing state... [id=terraform-20230525133603950800000003]\u001b[0m\n",
      "\u001b[0m\n",
      "\u001b[1m\u001b[36mNote:\u001b[0m\u001b[1m Objects have changed outside of Terraform\u001b[0m\n",
      "\n",
      "\u001b[0mTerraform detected the following changes made outside of Terraform since the\n",
      "last \"terraform apply\":\n",
      "\n",
      "\u001b[1m  # aws_security_group.sg_master\u001b[0m has been changed\u001b[0m\u001b[0m\n",
      "\u001b[0m  \u001b[33m~\u001b[0m\u001b[0m resource \"aws_security_group\" \"sg_master\" {\n",
      "        \u001b[1m\u001b[0mid\u001b[0m\u001b[0m                     = \"sg-09bf254249028dc18\"\n",
      "        \u001b[1m\u001b[0mname\u001b[0m\u001b[0m                   = \"sg_master\"\n",
      "      \u001b[32m+\u001b[0m \u001b[0m\u001b[1m\u001b[0mtags\u001b[0m\u001b[0m                   = {}\n",
      "        \u001b[90m# (8 unchanged attributes hidden)\u001b[0m\u001b[0m\n",
      "    }\n",
      "\u001b[1m  # aws_route_table.public_rt\u001b[0m has been changed\u001b[0m\u001b[0m\n",
      "\u001b[0m  \u001b[33m~\u001b[0m\u001b[0m resource \"aws_route_table\" \"public_rt\" {\n",
      "        \u001b[1m\u001b[0mid\u001b[0m\u001b[0m               = \"rtb-0a49132c580bcaa79\"\n",
      "      \u001b[33m~\u001b[0m \u001b[0m\u001b[1m\u001b[0mroute\u001b[0m\u001b[0m            = [\n",
      "          \u001b[32m+\u001b[0m \u001b[0m{\n",
      "              \u001b[32m+\u001b[0m \u001b[0mcarrier_gateway_id         = \"\"\n",
      "              \u001b[32m+\u001b[0m \u001b[0mcidr_block                 = \"0.0.0.0/0\"\n",
      "              \u001b[32m+\u001b[0m \u001b[0mcore_network_arn           = \"\"\n",
      "              \u001b[32m+\u001b[0m \u001b[0mdestination_prefix_list_id = \"\"\n",
      "              \u001b[32m+\u001b[0m \u001b[0megress_only_gateway_id     = \"\"\n",
      "              \u001b[32m+\u001b[0m \u001b[0mgateway_id                 = \"igw-0086179b22bb83d98\"\n",
      "              \u001b[32m+\u001b[0m \u001b[0minstance_id                = \"\"\n",
      "              \u001b[32m+\u001b[0m \u001b[0mipv6_cidr_block            = \"\"\n",
      "              \u001b[32m+\u001b[0m \u001b[0mlocal_gateway_id           = \"\"\n",
      "              \u001b[32m+\u001b[0m \u001b[0mnat_gateway_id             = \"\"\n",
      "              \u001b[32m+\u001b[0m \u001b[0mnetwork_interface_id       = \"\"\n",
      "              \u001b[32m+\u001b[0m \u001b[0mtransit_gateway_id         = \"\"\n",
      "              \u001b[32m+\u001b[0m \u001b[0mvpc_endpoint_id            = \"\"\n",
      "              \u001b[32m+\u001b[0m \u001b[0mvpc_peering_connection_id  = \"\"\n",
      "            },\n",
      "        ]\n",
      "        \u001b[1m\u001b[0mtags\u001b[0m\u001b[0m             = {\n",
      "            \"Name\" = \"public_rt\"\n",
      "        }\n",
      "        \u001b[90m# (5 unchanged attributes hidden)\u001b[0m\u001b[0m\n",
      "    }\n",
      "\u001b[1m  # aws_security_group.sg_worker\u001b[0m has been changed\u001b[0m\u001b[0m\n",
      "\u001b[0m  \u001b[33m~\u001b[0m\u001b[0m resource \"aws_security_group\" \"sg_worker\" {\n",
      "        \u001b[1m\u001b[0mid\u001b[0m\u001b[0m                     = \"sg-0c99ed3ef08387567\"\n",
      "        \u001b[1m\u001b[0mname\u001b[0m\u001b[0m                   = \"sg_worker\"\n",
      "      \u001b[32m+\u001b[0m \u001b[0m\u001b[1m\u001b[0mtags\u001b[0m\u001b[0m                   = {}\n",
      "        \u001b[90m# (8 unchanged attributes hidden)\u001b[0m\u001b[0m\n",
      "    }\n",
      "\u001b[1m  # aws_instance.kube_master\u001b[0m has been changed\u001b[0m\u001b[0m\n",
      "\u001b[0m  \u001b[33m~\u001b[0m\u001b[0m resource \"aws_instance\" \"kube_master\" {\n",
      "        \u001b[1m\u001b[0mid\u001b[0m\u001b[0m                                   = \"i-00da84a95a682fbfb\"\n",
      "      \u001b[33m~\u001b[0m \u001b[0m\u001b[1m\u001b[0msecurity_groups\u001b[0m\u001b[0m                      = [\n",
      "          \u001b[31m-\u001b[0m \u001b[0m\"sg-09bf254249028dc18\",\n",
      "        ]\n",
      "        \u001b[1m\u001b[0mtags\u001b[0m\u001b[0m                                 = {\n",
      "            \"Name\" = \"kube_master\"\n",
      "        }\n",
      "        \u001b[90m# (31 unchanged attributes hidden)\u001b[0m\u001b[0m\n",
      "\n",
      "\n",
      "\n",
      "\n",
      "\n",
      "\n",
      "\n",
      "\n",
      "        \u001b[90m# (8 unchanged blocks hidden)\u001b[0m\u001b[0m\n",
      "    }\n",
      "\u001b[1m  # aws_autoscaling_group.kube_worker_asg\u001b[0m has been changed\u001b[0m\u001b[0m\n",
      "\u001b[0m  \u001b[33m~\u001b[0m\u001b[0m resource \"aws_autoscaling_group\" \"kube_worker_asg\" {\n",
      "      \u001b[32m+\u001b[0m \u001b[0m\u001b[1m\u001b[0menabled_metrics\u001b[0m\u001b[0m           = []\n",
      "        \u001b[1m\u001b[0mid\u001b[0m\u001b[0m                        = \"terraform-20230525133603950800000003\"\n",
      "      \u001b[32m+\u001b[0m \u001b[0m\u001b[1m\u001b[0mload_balancers\u001b[0m\u001b[0m            = []\n",
      "        \u001b[1m\u001b[0mname\u001b[0m\u001b[0m                      = \"terraform-20230525133603950800000003\"\n",
      "      \u001b[32m+\u001b[0m \u001b[0m\u001b[1m\u001b[0msuspended_processes\u001b[0m\u001b[0m       = []\n",
      "      \u001b[32m+\u001b[0m \u001b[0m\u001b[1m\u001b[0mtarget_group_arns\u001b[0m\u001b[0m         = []\n",
      "      \u001b[32m+\u001b[0m \u001b[0m\u001b[1m\u001b[0mtermination_policies\u001b[0m\u001b[0m      = []\n",
      "        \u001b[90m# (22 unchanged attributes hidden)\u001b[0m\u001b[0m\n",
      "\n",
      "        \u001b[90m# (1 unchanged block hidden)\u001b[0m\u001b[0m\n",
      "    }\n",
      "\u001b[1m  # aws_launch_configuration.kube_worker_lc\u001b[0m has been changed\u001b[0m\u001b[0m\n",
      "\u001b[0m  \u001b[33m~\u001b[0m\u001b[0m resource \"aws_launch_configuration\" \"kube_worker_lc\" {\n",
      "        \u001b[1m\u001b[0mid\u001b[0m\u001b[0m                               = \"terraform-20230525133602087600000001\"\n",
      "        \u001b[1m\u001b[0mname\u001b[0m\u001b[0m                             = \"terraform-20230525133602087600000001\"\n",
      "      \u001b[32m+\u001b[0m \u001b[0m\u001b[1m\u001b[0mvpc_classic_link_security_groups\u001b[0m\u001b[0m = []\n",
      "        \u001b[90m# (10 unchanged attributes hidden)\u001b[0m\u001b[0m\n",
      "    }\n",
      "\n",
      "Unless you have made equivalent changes to your configuration, or ignored the\n",
      "relevant attributes using ignore_changes, the following plan may include\n",
      "actions to undo or respond to these changes.\n",
      "\u001b[90m\n",
      "───────────────────────────────────────────────────────────────────────────────\u001b[0m\n",
      "\n",
      "Terraform used the selected providers to generate the following execution plan.\n",
      "Resource actions are indicated with the following symbols:\n",
      "  \u001b[31m-\u001b[0m destroy\n",
      "\u001b[0m\n",
      "Terraform will perform the following actions:\n",
      "\n",
      "\u001b[1m  # aws_autoscaling_group.kube_worker_asg\u001b[0m will be \u001b[1m\u001b[31mdestroyed\u001b[0m\u001b[0m\n",
      "\u001b[0m  \u001b[31m-\u001b[0m\u001b[0m resource \"aws_autoscaling_group\" \"kube_worker_asg\" {\n",
      "      \u001b[31m-\u001b[0m \u001b[0m\u001b[1m\u001b[0marn\u001b[0m\u001b[0m                       = \"arn:aws:autoscaling:us-east-1:222170749288:autoScalingGroup:157f2acc-cb11-45b7-aa5d-6904b0656dc6:autoScalingGroupName/terraform-20230525133603950800000003\" \u001b[90m->\u001b[0m \u001b[0m\u001b[90mnull\u001b[0m\u001b[0m\n",
      "      \u001b[31m-\u001b[0m \u001b[0m\u001b[1m\u001b[0mavailability_zones\u001b[0m\u001b[0m        = [\n",
      "          \u001b[31m-\u001b[0m \u001b[0m\"us-east-1a\",\n",
      "        ] \u001b[90m->\u001b[0m \u001b[0m\u001b[90mnull\u001b[0m\u001b[0m\n",
      "      \u001b[31m-\u001b[0m \u001b[0m\u001b[1m\u001b[0mcapacity_rebalance\u001b[0m\u001b[0m        = false \u001b[90m->\u001b[0m \u001b[0m\u001b[90mnull\u001b[0m\u001b[0m\n",
      "      \u001b[31m-\u001b[0m \u001b[0m\u001b[1m\u001b[0mdefault_cooldown\u001b[0m\u001b[0m          = 300 \u001b[90m->\u001b[0m \u001b[0m\u001b[90mnull\u001b[0m\u001b[0m\n",
      "      \u001b[31m-\u001b[0m \u001b[0m\u001b[1m\u001b[0mdefault_instance_warmup\u001b[0m\u001b[0m   = 0 \u001b[90m->\u001b[0m \u001b[0m\u001b[90mnull\u001b[0m\u001b[0m\n",
      "      \u001b[31m-\u001b[0m \u001b[0m\u001b[1m\u001b[0mdesired_capacity\u001b[0m\u001b[0m          = 3 \u001b[90m->\u001b[0m \u001b[0m\u001b[90mnull\u001b[0m\u001b[0m\n",
      "      \u001b[31m-\u001b[0m \u001b[0m\u001b[1m\u001b[0menabled_metrics\u001b[0m\u001b[0m           = [] \u001b[90m->\u001b[0m \u001b[0m\u001b[90mnull\u001b[0m\u001b[0m\n",
      "      \u001b[31m-\u001b[0m \u001b[0m\u001b[1m\u001b[0mforce_delete\u001b[0m\u001b[0m              = false \u001b[90m->\u001b[0m \u001b[0m\u001b[90mnull\u001b[0m\u001b[0m\n",
      "      \u001b[31m-\u001b[0m \u001b[0m\u001b[1m\u001b[0mforce_delete_warm_pool\u001b[0m\u001b[0m    = false \u001b[90m->\u001b[0m \u001b[0m\u001b[90mnull\u001b[0m\u001b[0m\n",
      "      \u001b[31m-\u001b[0m \u001b[0m\u001b[1m\u001b[0mhealth_check_grace_period\u001b[0m\u001b[0m = 300 \u001b[90m->\u001b[0m \u001b[0m\u001b[90mnull\u001b[0m\u001b[0m\n",
      "      \u001b[31m-\u001b[0m \u001b[0m\u001b[1m\u001b[0mhealth_check_type\u001b[0m\u001b[0m         = \"EC2\" \u001b[90m->\u001b[0m \u001b[0m\u001b[90mnull\u001b[0m\u001b[0m\n",
      "      \u001b[31m-\u001b[0m \u001b[0m\u001b[1m\u001b[0mid\u001b[0m\u001b[0m                        = \"terraform-20230525133603950800000003\" \u001b[90m->\u001b[0m \u001b[0m\u001b[90mnull\u001b[0m\u001b[0m\n",
      "      \u001b[31m-\u001b[0m \u001b[0m\u001b[1m\u001b[0mlaunch_configuration\u001b[0m\u001b[0m      = \"terraform-20230525133602087600000001\" \u001b[90m->\u001b[0m \u001b[0m\u001b[90mnull\u001b[0m\u001b[0m\n",
      "      \u001b[31m-\u001b[0m \u001b[0m\u001b[1m\u001b[0mload_balancers\u001b[0m\u001b[0m            = [] \u001b[90m->\u001b[0m \u001b[0m\u001b[90mnull\u001b[0m\u001b[0m\n",
      "      \u001b[31m-\u001b[0m \u001b[0m\u001b[1m\u001b[0mmax_instance_lifetime\u001b[0m\u001b[0m     = 0 \u001b[90m->\u001b[0m \u001b[0m\u001b[90mnull\u001b[0m\u001b[0m\n",
      "      \u001b[31m-\u001b[0m \u001b[0m\u001b[1m\u001b[0mmax_size\u001b[0m\u001b[0m                  = 3 \u001b[90m->\u001b[0m \u001b[0m\u001b[90mnull\u001b[0m\u001b[0m\n",
      "      \u001b[31m-\u001b[0m \u001b[0m\u001b[1m\u001b[0mmetrics_granularity\u001b[0m\u001b[0m       = \"1Minute\" \u001b[90m->\u001b[0m \u001b[0m\u001b[90mnull\u001b[0m\u001b[0m\n",
      "      \u001b[31m-\u001b[0m \u001b[0m\u001b[1m\u001b[0mmin_size\u001b[0m\u001b[0m                  = 3 \u001b[90m->\u001b[0m \u001b[0m\u001b[90mnull\u001b[0m\u001b[0m\n",
      "      \u001b[31m-\u001b[0m \u001b[0m\u001b[1m\u001b[0mname\u001b[0m\u001b[0m                      = \"terraform-20230525133603950800000003\" \u001b[90m->\u001b[0m \u001b[0m\u001b[90mnull\u001b[0m\u001b[0m\n",
      "      \u001b[31m-\u001b[0m \u001b[0m\u001b[1m\u001b[0mname_prefix\u001b[0m\u001b[0m               = \"terraform-\" \u001b[90m->\u001b[0m \u001b[0m\u001b[90mnull\u001b[0m\u001b[0m\n",
      "      \u001b[31m-\u001b[0m \u001b[0m\u001b[1m\u001b[0mpredicted_capacity\u001b[0m\u001b[0m        = 0 \u001b[90m->\u001b[0m \u001b[0m\u001b[90mnull\u001b[0m\u001b[0m\n",
      "      \u001b[31m-\u001b[0m \u001b[0m\u001b[1m\u001b[0mprotect_from_scale_in\u001b[0m\u001b[0m     = false \u001b[90m->\u001b[0m \u001b[0m\u001b[90mnull\u001b[0m\u001b[0m\n",
      "      \u001b[31m-\u001b[0m \u001b[0m\u001b[1m\u001b[0mservice_linked_role_arn\u001b[0m\u001b[0m   = \"arn:aws:iam::222170749288:role/aws-service-role/autoscaling.amazonaws.com/AWSServiceRoleForAutoScaling\" \u001b[90m->\u001b[0m \u001b[0m\u001b[90mnull\u001b[0m\u001b[0m\n",
      "      \u001b[31m-\u001b[0m \u001b[0m\u001b[1m\u001b[0msuspended_processes\u001b[0m\u001b[0m       = [] \u001b[90m->\u001b[0m \u001b[0m\u001b[90mnull\u001b[0m\u001b[0m\n",
      "      \u001b[31m-\u001b[0m \u001b[0m\u001b[1m\u001b[0mtarget_group_arns\u001b[0m\u001b[0m         = [] \u001b[90m->\u001b[0m \u001b[0m\u001b[90mnull\u001b[0m\u001b[0m\n",
      "      \u001b[31m-\u001b[0m \u001b[0m\u001b[1m\u001b[0mtermination_policies\u001b[0m\u001b[0m      = [] \u001b[90m->\u001b[0m \u001b[0m\u001b[90mnull\u001b[0m\u001b[0m\n",
      "      \u001b[31m-\u001b[0m \u001b[0m\u001b[1m\u001b[0mvpc_zone_identifier\u001b[0m\u001b[0m       = [\n",
      "          \u001b[31m-\u001b[0m \u001b[0m\"subnet-0f4ac487eb0dcfc84\",\n",
      "        ] \u001b[90m->\u001b[0m \u001b[0m\u001b[90mnull\u001b[0m\u001b[0m\n",
      "      \u001b[31m-\u001b[0m \u001b[0m\u001b[1m\u001b[0mwait_for_capacity_timeout\u001b[0m\u001b[0m = \"10m\" \u001b[90m->\u001b[0m \u001b[0m\u001b[90mnull\u001b[0m\u001b[0m\n",
      "      \u001b[31m-\u001b[0m \u001b[0m\u001b[1m\u001b[0mwarm_pool_size\u001b[0m\u001b[0m            = 0 \u001b[90m->\u001b[0m \u001b[0m\u001b[90mnull\u001b[0m\u001b[0m\n",
      "\n",
      "      \u001b[31m-\u001b[0m \u001b[0mtag {\n",
      "          \u001b[31m-\u001b[0m \u001b[0m\u001b[1m\u001b[0mkey\u001b[0m\u001b[0m                 = \"Name\" \u001b[90m->\u001b[0m \u001b[0m\u001b[90mnull\u001b[0m\u001b[0m\n",
      "          \u001b[31m-\u001b[0m \u001b[0m\u001b[1m\u001b[0mpropagate_at_launch\u001b[0m\u001b[0m = true \u001b[90m->\u001b[0m \u001b[0m\u001b[90mnull\u001b[0m\u001b[0m\n",
      "          \u001b[31m-\u001b[0m \u001b[0m\u001b[1m\u001b[0mvalue\u001b[0m\u001b[0m               = \"kube_worker\" \u001b[90m->\u001b[0m \u001b[0m\u001b[90mnull\u001b[0m\u001b[0m\n",
      "        }\n",
      "    }\n",
      "\n",
      "\u001b[1m  # aws_instance.kube_master\u001b[0m will be \u001b[1m\u001b[31mdestroyed\u001b[0m\u001b[0m\n",
      "\u001b[0m  \u001b[31m-\u001b[0m\u001b[0m resource \"aws_instance\" \"kube_master\" {\n",
      "      \u001b[31m-\u001b[0m \u001b[0m\u001b[1m\u001b[0mami\u001b[0m\u001b[0m                                  = \"ami-007855ac798b5175e\" \u001b[90m->\u001b[0m \u001b[0m\u001b[90mnull\u001b[0m\u001b[0m\n",
      "      \u001b[31m-\u001b[0m \u001b[0m\u001b[1m\u001b[0marn\u001b[0m\u001b[0m                                  = \"arn:aws:ec2:us-east-1:222170749288:instance/i-00da84a95a682fbfb\" \u001b[90m->\u001b[0m \u001b[0m\u001b[90mnull\u001b[0m\u001b[0m\n",
      "      \u001b[31m-\u001b[0m \u001b[0m\u001b[1m\u001b[0massociate_public_ip_address\u001b[0m\u001b[0m          = true \u001b[90m->\u001b[0m \u001b[0m\u001b[90mnull\u001b[0m\u001b[0m\n",
      "      \u001b[31m-\u001b[0m \u001b[0m\u001b[1m\u001b[0mavailability_zone\u001b[0m\u001b[0m                    = \"us-east-1a\" \u001b[90m->\u001b[0m \u001b[0m\u001b[90mnull\u001b[0m\u001b[0m\n",
      "      \u001b[31m-\u001b[0m \u001b[0m\u001b[1m\u001b[0mcpu_core_count\u001b[0m\u001b[0m                       = 2 \u001b[90m->\u001b[0m \u001b[0m\u001b[90mnull\u001b[0m\u001b[0m\n",
      "      \u001b[31m-\u001b[0m \u001b[0m\u001b[1m\u001b[0mcpu_threads_per_core\u001b[0m\u001b[0m                 = 1 \u001b[90m->\u001b[0m \u001b[0m\u001b[90mnull\u001b[0m\u001b[0m\n",
      "      \u001b[31m-\u001b[0m \u001b[0m\u001b[1m\u001b[0mdisable_api_stop\u001b[0m\u001b[0m                     = false \u001b[90m->\u001b[0m \u001b[0m\u001b[90mnull\u001b[0m\u001b[0m\n",
      "      \u001b[31m-\u001b[0m \u001b[0m\u001b[1m\u001b[0mdisable_api_termination\u001b[0m\u001b[0m              = false \u001b[90m->\u001b[0m \u001b[0m\u001b[90mnull\u001b[0m\u001b[0m\n",
      "      \u001b[31m-\u001b[0m \u001b[0m\u001b[1m\u001b[0mebs_optimized\u001b[0m\u001b[0m                        = false \u001b[90m->\u001b[0m \u001b[0m\u001b[90mnull\u001b[0m\u001b[0m\n",
      "      \u001b[31m-\u001b[0m \u001b[0m\u001b[1m\u001b[0mget_password_data\u001b[0m\u001b[0m                    = false \u001b[90m->\u001b[0m \u001b[0m\u001b[90mnull\u001b[0m\u001b[0m\n",
      "      \u001b[31m-\u001b[0m \u001b[0m\u001b[1m\u001b[0mhibernation\u001b[0m\u001b[0m                          = false \u001b[90m->\u001b[0m \u001b[0m\u001b[90mnull\u001b[0m\u001b[0m\n",
      "      \u001b[31m-\u001b[0m \u001b[0m\u001b[1m\u001b[0mid\u001b[0m\u001b[0m                                   = \"i-00da84a95a682fbfb\" \u001b[90m->\u001b[0m \u001b[0m\u001b[90mnull\u001b[0m\u001b[0m\n",
      "      \u001b[31m-\u001b[0m \u001b[0m\u001b[1m\u001b[0minstance_initiated_shutdown_behavior\u001b[0m\u001b[0m = \"stop\" \u001b[90m->\u001b[0m \u001b[0m\u001b[90mnull\u001b[0m\u001b[0m\n",
      "      \u001b[31m-\u001b[0m \u001b[0m\u001b[1m\u001b[0minstance_state\u001b[0m\u001b[0m                       = \"running\" \u001b[90m->\u001b[0m \u001b[0m\u001b[90mnull\u001b[0m\u001b[0m\n",
      "      \u001b[31m-\u001b[0m \u001b[0m\u001b[1m\u001b[0minstance_type\u001b[0m\u001b[0m                        = \"t2.medium\" \u001b[90m->\u001b[0m \u001b[0m\u001b[90mnull\u001b[0m\u001b[0m\n",
      "      \u001b[31m-\u001b[0m \u001b[0m\u001b[1m\u001b[0mipv6_address_count\u001b[0m\u001b[0m                   = 0 \u001b[90m->\u001b[0m \u001b[0m\u001b[90mnull\u001b[0m\u001b[0m\n",
      "      \u001b[31m-\u001b[0m \u001b[0m\u001b[1m\u001b[0mipv6_addresses\u001b[0m\u001b[0m                       = [] \u001b[90m->\u001b[0m \u001b[0m\u001b[90mnull\u001b[0m\u001b[0m\n",
      "      \u001b[31m-\u001b[0m \u001b[0m\u001b[1m\u001b[0mkey_name\u001b[0m\u001b[0m                             = \"DevOps_Study\" \u001b[90m->\u001b[0m \u001b[0m\u001b[90mnull\u001b[0m\u001b[0m\n",
      "      \u001b[31m-\u001b[0m \u001b[0m\u001b[1m\u001b[0mmonitoring\u001b[0m\u001b[0m                           = false \u001b[90m->\u001b[0m \u001b[0m\u001b[90mnull\u001b[0m\u001b[0m\n",
      "      \u001b[31m-\u001b[0m \u001b[0m\u001b[1m\u001b[0mplacement_partition_number\u001b[0m\u001b[0m           = 0 \u001b[90m->\u001b[0m \u001b[0m\u001b[90mnull\u001b[0m\u001b[0m\n",
      "      \u001b[31m-\u001b[0m \u001b[0m\u001b[1m\u001b[0mprimary_network_interface_id\u001b[0m\u001b[0m         = \"eni-001073086e848b522\" \u001b[90m->\u001b[0m \u001b[0m\u001b[90mnull\u001b[0m\u001b[0m\n",
      "      \u001b[31m-\u001b[0m \u001b[0m\u001b[1m\u001b[0mprivate_dns\u001b[0m\u001b[0m                          = \"ip-10-1-0-119.ec2.internal\" \u001b[90m->\u001b[0m \u001b[0m\u001b[90mnull\u001b[0m\u001b[0m\n",
      "      \u001b[31m-\u001b[0m \u001b[0m\u001b[1m\u001b[0mprivate_ip\u001b[0m\u001b[0m                           = \"10.1.0.119\" \u001b[90m->\u001b[0m \u001b[0m\u001b[90mnull\u001b[0m\u001b[0m\n",
      "      \u001b[31m-\u001b[0m \u001b[0m\u001b[1m\u001b[0mpublic_ip\u001b[0m\u001b[0m                            = \"35.175.192.231\" \u001b[90m->\u001b[0m \u001b[0m\u001b[90mnull\u001b[0m\u001b[0m\n",
      "      \u001b[31m-\u001b[0m \u001b[0m\u001b[1m\u001b[0msecondary_private_ips\u001b[0m\u001b[0m                = [] \u001b[90m->\u001b[0m \u001b[0m\u001b[90mnull\u001b[0m\u001b[0m\n",
      "      \u001b[31m-\u001b[0m \u001b[0m\u001b[1m\u001b[0msecurity_groups\u001b[0m\u001b[0m                      = [] \u001b[90m->\u001b[0m \u001b[0m\u001b[90mnull\u001b[0m\u001b[0m\n",
      "      \u001b[31m-\u001b[0m \u001b[0m\u001b[1m\u001b[0msource_dest_check\u001b[0m\u001b[0m                    = true \u001b[90m->\u001b[0m \u001b[0m\u001b[90mnull\u001b[0m\u001b[0m\n",
      "      \u001b[31m-\u001b[0m \u001b[0m\u001b[1m\u001b[0msubnet_id\u001b[0m\u001b[0m                            = \"subnet-0f4ac487eb0dcfc84\" \u001b[90m->\u001b[0m \u001b[0m\u001b[90mnull\u001b[0m\u001b[0m\n",
      "      \u001b[31m-\u001b[0m \u001b[0m\u001b[1m\u001b[0mtags\u001b[0m\u001b[0m                                 = {\n",
      "          \u001b[31m-\u001b[0m \u001b[0m\"Name\" = \"kube_master\"\n",
      "        } \u001b[90m->\u001b[0m \u001b[0m\u001b[90mnull\u001b[0m\u001b[0m\n",
      "      \u001b[31m-\u001b[0m \u001b[0m\u001b[1m\u001b[0mtags_all\u001b[0m\u001b[0m                             = {\n",
      "          \u001b[31m-\u001b[0m \u001b[0m\"Name\" = \"kube_master\"\n",
      "        } \u001b[90m->\u001b[0m \u001b[0m\u001b[90mnull\u001b[0m\u001b[0m\n",
      "      \u001b[31m-\u001b[0m \u001b[0m\u001b[1m\u001b[0mtenancy\u001b[0m\u001b[0m                              = \"default\" \u001b[90m->\u001b[0m \u001b[0m\u001b[90mnull\u001b[0m\u001b[0m\n",
      "      \u001b[31m-\u001b[0m \u001b[0m\u001b[1m\u001b[0muser_data\u001b[0m\u001b[0m                            = \"053136f192a50b578151e8284a9e72285b8f04ea\" \u001b[90m->\u001b[0m \u001b[0m\u001b[90mnull\u001b[0m\u001b[0m\n",
      "      \u001b[31m-\u001b[0m \u001b[0m\u001b[1m\u001b[0muser_data_replace_on_change\u001b[0m\u001b[0m          = false \u001b[90m->\u001b[0m \u001b[0m\u001b[90mnull\u001b[0m\u001b[0m\n",
      "      \u001b[31m-\u001b[0m \u001b[0m\u001b[1m\u001b[0mvpc_security_group_ids\u001b[0m\u001b[0m               = [\n",
      "          \u001b[31m-\u001b[0m \u001b[0m\"sg-09bf254249028dc18\",\n",
      "        ] \u001b[90m->\u001b[0m \u001b[0m\u001b[90mnull\u001b[0m\u001b[0m\n",
      "\n",
      "      \u001b[31m-\u001b[0m \u001b[0mcapacity_reservation_specification {\n",
      "          \u001b[31m-\u001b[0m \u001b[0m\u001b[1m\u001b[0mcapacity_reservation_preference\u001b[0m\u001b[0m = \"open\" \u001b[90m->\u001b[0m \u001b[0m\u001b[90mnull\u001b[0m\u001b[0m\n",
      "        }\n",
      "\n",
      "      \u001b[31m-\u001b[0m \u001b[0mcpu_options {\n",
      "          \u001b[31m-\u001b[0m \u001b[0m\u001b[1m\u001b[0mcore_count\u001b[0m\u001b[0m       = 2 \u001b[90m->\u001b[0m \u001b[0m\u001b[90mnull\u001b[0m\u001b[0m\n",
      "          \u001b[31m-\u001b[0m \u001b[0m\u001b[1m\u001b[0mthreads_per_core\u001b[0m\u001b[0m = 1 \u001b[90m->\u001b[0m \u001b[0m\u001b[90mnull\u001b[0m\u001b[0m\n",
      "        }\n",
      "\n",
      "      \u001b[31m-\u001b[0m \u001b[0mcredit_specification {\n",
      "          \u001b[31m-\u001b[0m \u001b[0m\u001b[1m\u001b[0mcpu_credits\u001b[0m\u001b[0m = \"standard\" \u001b[90m->\u001b[0m \u001b[0m\u001b[90mnull\u001b[0m\u001b[0m\n",
      "        }\n",
      "\n",
      "      \u001b[31m-\u001b[0m \u001b[0menclave_options {\n",
      "          \u001b[31m-\u001b[0m \u001b[0m\u001b[1m\u001b[0menabled\u001b[0m\u001b[0m = false \u001b[90m->\u001b[0m \u001b[0m\u001b[90mnull\u001b[0m\u001b[0m\n",
      "        }\n",
      "\n",
      "      \u001b[31m-\u001b[0m \u001b[0mmaintenance_options {\n",
      "          \u001b[31m-\u001b[0m \u001b[0m\u001b[1m\u001b[0mauto_recovery\u001b[0m\u001b[0m = \"default\" \u001b[90m->\u001b[0m \u001b[0m\u001b[90mnull\u001b[0m\u001b[0m\n",
      "        }\n",
      "\n",
      "      \u001b[31m-\u001b[0m \u001b[0mmetadata_options {\n",
      "          \u001b[31m-\u001b[0m \u001b[0m\u001b[1m\u001b[0mhttp_endpoint\u001b[0m\u001b[0m               = \"enabled\" \u001b[90m->\u001b[0m \u001b[0m\u001b[90mnull\u001b[0m\u001b[0m\n",
      "          \u001b[31m-\u001b[0m \u001b[0m\u001b[1m\u001b[0mhttp_put_response_hop_limit\u001b[0m\u001b[0m = 1 \u001b[90m->\u001b[0m \u001b[0m\u001b[90mnull\u001b[0m\u001b[0m\n",
      "          \u001b[31m-\u001b[0m \u001b[0m\u001b[1m\u001b[0mhttp_tokens\u001b[0m\u001b[0m                 = \"optional\" \u001b[90m->\u001b[0m \u001b[0m\u001b[90mnull\u001b[0m\u001b[0m\n",
      "          \u001b[31m-\u001b[0m \u001b[0m\u001b[1m\u001b[0minstance_metadata_tags\u001b[0m\u001b[0m      = \"disabled\" \u001b[90m->\u001b[0m \u001b[0m\u001b[90mnull\u001b[0m\u001b[0m\n",
      "        }\n",
      "\n",
      "      \u001b[31m-\u001b[0m \u001b[0mprivate_dns_name_options {\n",
      "          \u001b[31m-\u001b[0m \u001b[0m\u001b[1m\u001b[0menable_resource_name_dns_a_record\u001b[0m\u001b[0m    = false \u001b[90m->\u001b[0m \u001b[0m\u001b[90mnull\u001b[0m\u001b[0m\n",
      "          \u001b[31m-\u001b[0m \u001b[0m\u001b[1m\u001b[0menable_resource_name_dns_aaaa_record\u001b[0m\u001b[0m = false \u001b[90m->\u001b[0m \u001b[0m\u001b[90mnull\u001b[0m\u001b[0m\n",
      "          \u001b[31m-\u001b[0m \u001b[0m\u001b[1m\u001b[0mhostname_type\u001b[0m\u001b[0m                        = \"ip-name\" \u001b[90m->\u001b[0m \u001b[0m\u001b[90mnull\u001b[0m\u001b[0m\n",
      "        }\n",
      "\n",
      "      \u001b[31m-\u001b[0m \u001b[0mroot_block_device {\n",
      "          \u001b[31m-\u001b[0m \u001b[0m\u001b[1m\u001b[0mdelete_on_termination\u001b[0m\u001b[0m = true \u001b[90m->\u001b[0m \u001b[0m\u001b[90mnull\u001b[0m\u001b[0m\n",
      "          \u001b[31m-\u001b[0m \u001b[0m\u001b[1m\u001b[0mdevice_name\u001b[0m\u001b[0m           = \"/dev/sda1\" \u001b[90m->\u001b[0m \u001b[0m\u001b[90mnull\u001b[0m\u001b[0m\n",
      "          \u001b[31m-\u001b[0m \u001b[0m\u001b[1m\u001b[0mencrypted\u001b[0m\u001b[0m             = false \u001b[90m->\u001b[0m \u001b[0m\u001b[90mnull\u001b[0m\u001b[0m\n",
      "          \u001b[31m-\u001b[0m \u001b[0m\u001b[1m\u001b[0miops\u001b[0m\u001b[0m                  = 100 \u001b[90m->\u001b[0m \u001b[0m\u001b[90mnull\u001b[0m\u001b[0m\n",
      "          \u001b[31m-\u001b[0m \u001b[0m\u001b[1m\u001b[0mtags\u001b[0m\u001b[0m                  = {} \u001b[90m->\u001b[0m \u001b[0m\u001b[90mnull\u001b[0m\u001b[0m\n",
      "          \u001b[31m-\u001b[0m \u001b[0m\u001b[1m\u001b[0mthroughput\u001b[0m\u001b[0m            = 0 \u001b[90m->\u001b[0m \u001b[0m\u001b[90mnull\u001b[0m\u001b[0m\n",
      "          \u001b[31m-\u001b[0m \u001b[0m\u001b[1m\u001b[0mvolume_id\u001b[0m\u001b[0m             = \"vol-0cfe77fa5a55e040a\" \u001b[90m->\u001b[0m \u001b[0m\u001b[90mnull\u001b[0m\u001b[0m\n",
      "          \u001b[31m-\u001b[0m \u001b[0m\u001b[1m\u001b[0mvolume_size\u001b[0m\u001b[0m           = 8 \u001b[90m->\u001b[0m \u001b[0m\u001b[90mnull\u001b[0m\u001b[0m\n",
      "          \u001b[31m-\u001b[0m \u001b[0m\u001b[1m\u001b[0mvolume_type\u001b[0m\u001b[0m           = \"gp2\" \u001b[90m->\u001b[0m \u001b[0m\u001b[90mnull\u001b[0m\u001b[0m\n",
      "        }\n",
      "    }\n",
      "\n",
      "\u001b[1m  # aws_internet_gateway.kube_igw\u001b[0m will be \u001b[1m\u001b[31mdestroyed\u001b[0m\u001b[0m\n",
      "\u001b[0m  \u001b[31m-\u001b[0m\u001b[0m resource \"aws_internet_gateway\" \"kube_igw\" {\n",
      "      \u001b[31m-\u001b[0m \u001b[0m\u001b[1m\u001b[0marn\u001b[0m\u001b[0m      = \"arn:aws:ec2:us-east-1:222170749288:internet-gateway/igw-0086179b22bb83d98\" \u001b[90m->\u001b[0m \u001b[0m\u001b[90mnull\u001b[0m\u001b[0m\n",
      "      \u001b[31m-\u001b[0m \u001b[0m\u001b[1m\u001b[0mid\u001b[0m\u001b[0m       = \"igw-0086179b22bb83d98\" \u001b[90m->\u001b[0m \u001b[0m\u001b[90mnull\u001b[0m\u001b[0m\n",
      "      \u001b[31m-\u001b[0m \u001b[0m\u001b[1m\u001b[0mowner_id\u001b[0m\u001b[0m = \"222170749288\" \u001b[90m->\u001b[0m \u001b[0m\u001b[90mnull\u001b[0m\u001b[0m\n",
      "      \u001b[31m-\u001b[0m \u001b[0m\u001b[1m\u001b[0mtags\u001b[0m\u001b[0m     = {\n",
      "          \u001b[31m-\u001b[0m \u001b[0m\"Name\" = \"kube_igw\"\n",
      "        } \u001b[90m->\u001b[0m \u001b[0m\u001b[90mnull\u001b[0m\u001b[0m\n",
      "      \u001b[31m-\u001b[0m \u001b[0m\u001b[1m\u001b[0mtags_all\u001b[0m\u001b[0m = {\n",
      "          \u001b[31m-\u001b[0m \u001b[0m\"Name\" = \"kube_igw\"\n",
      "        } \u001b[90m->\u001b[0m \u001b[0m\u001b[90mnull\u001b[0m\u001b[0m\n",
      "      \u001b[31m-\u001b[0m \u001b[0m\u001b[1m\u001b[0mvpc_id\u001b[0m\u001b[0m   = \"vpc-00ef9a845a70a873e\" \u001b[90m->\u001b[0m \u001b[0m\u001b[90mnull\u001b[0m\u001b[0m\n",
      "    }\n",
      "\n",
      "\u001b[1m  # aws_launch_configuration.kube_worker_lc\u001b[0m will be \u001b[1m\u001b[31mdestroyed\u001b[0m\u001b[0m\n",
      "\u001b[0m  \u001b[31m-\u001b[0m\u001b[0m resource \"aws_launch_configuration\" \"kube_worker_lc\" {\n",
      "      \u001b[31m-\u001b[0m \u001b[0m\u001b[1m\u001b[0marn\u001b[0m\u001b[0m                              = \"arn:aws:autoscaling:us-east-1:222170749288:launchConfiguration:7d36aa01-e904-489b-98ff-f3023e052a41:launchConfigurationName/terraform-20230525133602087600000001\" \u001b[90m->\u001b[0m \u001b[0m\u001b[90mnull\u001b[0m\u001b[0m\n",
      "      \u001b[31m-\u001b[0m \u001b[0m\u001b[1m\u001b[0massociate_public_ip_address\u001b[0m\u001b[0m      = true \u001b[90m->\u001b[0m \u001b[0m\u001b[90mnull\u001b[0m\u001b[0m\n",
      "      \u001b[31m-\u001b[0m \u001b[0m\u001b[1m\u001b[0mebs_optimized\u001b[0m\u001b[0m                    = false \u001b[90m->\u001b[0m \u001b[0m\u001b[90mnull\u001b[0m\u001b[0m\n",
      "      \u001b[31m-\u001b[0m \u001b[0m\u001b[1m\u001b[0menable_monitoring\u001b[0m\u001b[0m                = true \u001b[90m->\u001b[0m \u001b[0m\u001b[90mnull\u001b[0m\u001b[0m\n",
      "      \u001b[31m-\u001b[0m \u001b[0m\u001b[1m\u001b[0mid\u001b[0m\u001b[0m                               = \"terraform-20230525133602087600000001\" \u001b[90m->\u001b[0m \u001b[0m\u001b[90mnull\u001b[0m\u001b[0m\n",
      "      \u001b[31m-\u001b[0m \u001b[0m\u001b[1m\u001b[0mimage_id\u001b[0m\u001b[0m                         = \"ami-007855ac798b5175e\" \u001b[90m->\u001b[0m \u001b[0m\u001b[90mnull\u001b[0m\u001b[0m\n",
      "      \u001b[31m-\u001b[0m \u001b[0m\u001b[1m\u001b[0minstance_type\u001b[0m\u001b[0m                    = \"t3.medium\" \u001b[90m->\u001b[0m \u001b[0m\u001b[90mnull\u001b[0m\u001b[0m\n",
      "      \u001b[31m-\u001b[0m \u001b[0m\u001b[1m\u001b[0mkey_name\u001b[0m\u001b[0m                         = \"DevOps_Study\" \u001b[90m->\u001b[0m \u001b[0m\u001b[90mnull\u001b[0m\u001b[0m\n",
      "      \u001b[31m-\u001b[0m \u001b[0m\u001b[1m\u001b[0mname\u001b[0m\u001b[0m                             = \"terraform-20230525133602087600000001\" \u001b[90m->\u001b[0m \u001b[0m\u001b[90mnull\u001b[0m\u001b[0m\n",
      "      \u001b[31m-\u001b[0m \u001b[0m\u001b[1m\u001b[0mname_prefix\u001b[0m\u001b[0m                      = \"terraform-\" \u001b[90m->\u001b[0m \u001b[0m\u001b[90mnull\u001b[0m\u001b[0m\n",
      "      \u001b[31m-\u001b[0m \u001b[0m\u001b[1m\u001b[0msecurity_groups\u001b[0m\u001b[0m                  = [\n",
      "          \u001b[31m-\u001b[0m \u001b[0m\"sg-0c99ed3ef08387567\",\n",
      "        ] \u001b[90m->\u001b[0m \u001b[0m\u001b[90mnull\u001b[0m\u001b[0m\n",
      "      \u001b[31m-\u001b[0m \u001b[0m\u001b[1m\u001b[0muser_data\u001b[0m\u001b[0m                        = \"88b0d27cc9796773ebd11e7fa39ca97a5a3ec67b\" \u001b[90m->\u001b[0m \u001b[0m\u001b[90mnull\u001b[0m\u001b[0m\n",
      "      \u001b[31m-\u001b[0m \u001b[0m\u001b[1m\u001b[0mvpc_classic_link_security_groups\u001b[0m\u001b[0m = [] \u001b[90m->\u001b[0m \u001b[0m\u001b[90mnull\u001b[0m\u001b[0m\n",
      "    }\n",
      "\n",
      "\u001b[1m  # aws_route.public_rt_igw\u001b[0m will be \u001b[1m\u001b[31mdestroyed\u001b[0m\u001b[0m\n",
      "\u001b[0m  \u001b[31m-\u001b[0m\u001b[0m resource \"aws_route\" \"public_rt_igw\" {\n",
      "      \u001b[31m-\u001b[0m \u001b[0m\u001b[1m\u001b[0mdestination_cidr_block\u001b[0m\u001b[0m = \"0.0.0.0/0\" \u001b[90m->\u001b[0m \u001b[0m\u001b[90mnull\u001b[0m\u001b[0m\n",
      "      \u001b[31m-\u001b[0m \u001b[0m\u001b[1m\u001b[0mgateway_id\u001b[0m\u001b[0m             = \"igw-0086179b22bb83d98\" \u001b[90m->\u001b[0m \u001b[0m\u001b[90mnull\u001b[0m\u001b[0m\n",
      "      \u001b[31m-\u001b[0m \u001b[0m\u001b[1m\u001b[0mid\u001b[0m\u001b[0m                     = \"r-rtb-0a49132c580bcaa791080289494\" \u001b[90m->\u001b[0m \u001b[0m\u001b[90mnull\u001b[0m\u001b[0m\n",
      "      \u001b[31m-\u001b[0m \u001b[0m\u001b[1m\u001b[0morigin\u001b[0m\u001b[0m                 = \"CreateRoute\" \u001b[90m->\u001b[0m \u001b[0m\u001b[90mnull\u001b[0m\u001b[0m\n",
      "      \u001b[31m-\u001b[0m \u001b[0m\u001b[1m\u001b[0mroute_table_id\u001b[0m\u001b[0m         = \"rtb-0a49132c580bcaa79\" \u001b[90m->\u001b[0m \u001b[0m\u001b[90mnull\u001b[0m\u001b[0m\n",
      "      \u001b[31m-\u001b[0m \u001b[0m\u001b[1m\u001b[0mstate\u001b[0m\u001b[0m                  = \"active\" \u001b[90m->\u001b[0m \u001b[0m\u001b[90mnull\u001b[0m\u001b[0m\n",
      "    }\n",
      "\n",
      "\u001b[1m  # aws_route_table.public_rt\u001b[0m will be \u001b[1m\u001b[31mdestroyed\u001b[0m\u001b[0m\n",
      "\u001b[0m  \u001b[31m-\u001b[0m\u001b[0m resource \"aws_route_table\" \"public_rt\" {\n",
      "      \u001b[31m-\u001b[0m \u001b[0m\u001b[1m\u001b[0marn\u001b[0m\u001b[0m              = \"arn:aws:ec2:us-east-1:222170749288:route-table/rtb-0a49132c580bcaa79\" \u001b[90m->\u001b[0m \u001b[0m\u001b[90mnull\u001b[0m\u001b[0m\n",
      "      \u001b[31m-\u001b[0m \u001b[0m\u001b[1m\u001b[0mid\u001b[0m\u001b[0m               = \"rtb-0a49132c580bcaa79\" \u001b[90m->\u001b[0m \u001b[0m\u001b[90mnull\u001b[0m\u001b[0m\n",
      "      \u001b[31m-\u001b[0m \u001b[0m\u001b[1m\u001b[0mowner_id\u001b[0m\u001b[0m         = \"222170749288\" \u001b[90m->\u001b[0m \u001b[0m\u001b[90mnull\u001b[0m\u001b[0m\n",
      "      \u001b[31m-\u001b[0m \u001b[0m\u001b[1m\u001b[0mpropagating_vgws\u001b[0m\u001b[0m = [] \u001b[90m->\u001b[0m \u001b[0m\u001b[90mnull\u001b[0m\u001b[0m\n",
      "      \u001b[31m-\u001b[0m \u001b[0m\u001b[1m\u001b[0mroute\u001b[0m\u001b[0m            = [\n",
      "          \u001b[31m-\u001b[0m \u001b[0m{\n",
      "              \u001b[31m-\u001b[0m \u001b[0mcarrier_gateway_id         = \"\"\n",
      "              \u001b[31m-\u001b[0m \u001b[0mcidr_block                 = \"0.0.0.0/0\"\n",
      "              \u001b[31m-\u001b[0m \u001b[0mcore_network_arn           = \"\"\n",
      "              \u001b[31m-\u001b[0m \u001b[0mdestination_prefix_list_id = \"\"\n",
      "              \u001b[31m-\u001b[0m \u001b[0megress_only_gateway_id     = \"\"\n",
      "              \u001b[31m-\u001b[0m \u001b[0mgateway_id                 = \"igw-0086179b22bb83d98\"\n",
      "              \u001b[31m-\u001b[0m \u001b[0minstance_id                = \"\"\n",
      "              \u001b[31m-\u001b[0m \u001b[0mipv6_cidr_block            = \"\"\n",
      "              \u001b[31m-\u001b[0m \u001b[0mlocal_gateway_id           = \"\"\n",
      "              \u001b[31m-\u001b[0m \u001b[0mnat_gateway_id             = \"\"\n",
      "              \u001b[31m-\u001b[0m \u001b[0mnetwork_interface_id       = \"\"\n",
      "              \u001b[31m-\u001b[0m \u001b[0mtransit_gateway_id         = \"\"\n",
      "              \u001b[31m-\u001b[0m \u001b[0mvpc_endpoint_id            = \"\"\n",
      "              \u001b[31m-\u001b[0m \u001b[0mvpc_peering_connection_id  = \"\"\n",
      "            },\n",
      "        ] \u001b[90m->\u001b[0m \u001b[0m\u001b[90mnull\u001b[0m\u001b[0m\n",
      "      \u001b[31m-\u001b[0m \u001b[0m\u001b[1m\u001b[0mtags\u001b[0m\u001b[0m             = {\n",
      "          \u001b[31m-\u001b[0m \u001b[0m\"Name\" = \"public_rt\"\n",
      "        } \u001b[90m->\u001b[0m \u001b[0m\u001b[90mnull\u001b[0m\u001b[0m\n",
      "      \u001b[31m-\u001b[0m \u001b[0m\u001b[1m\u001b[0mtags_all\u001b[0m\u001b[0m         = {\n",
      "          \u001b[31m-\u001b[0m \u001b[0m\"Name\" = \"public_rt\"\n",
      "        } \u001b[90m->\u001b[0m \u001b[0m\u001b[90mnull\u001b[0m\u001b[0m\n",
      "      \u001b[31m-\u001b[0m \u001b[0m\u001b[1m\u001b[0mvpc_id\u001b[0m\u001b[0m           = \"vpc-00ef9a845a70a873e\" \u001b[90m->\u001b[0m \u001b[0m\u001b[90mnull\u001b[0m\u001b[0m\n",
      "    }\n",
      "\n",
      "\u001b[1m  # aws_route_table_association.public_rt_association\u001b[0m will be \u001b[1m\u001b[31mdestroyed\u001b[0m\u001b[0m\n",
      "\u001b[0m  \u001b[31m-\u001b[0m\u001b[0m resource \"aws_route_table_association\" \"public_rt_association\" {\n",
      "      \u001b[31m-\u001b[0m \u001b[0m\u001b[1m\u001b[0mid\u001b[0m\u001b[0m             = \"rtbassoc-0656b3fcfaf82923c\" \u001b[90m->\u001b[0m \u001b[0m\u001b[90mnull\u001b[0m\u001b[0m\n",
      "      \u001b[31m-\u001b[0m \u001b[0m\u001b[1m\u001b[0mroute_table_id\u001b[0m\u001b[0m = \"rtb-0a49132c580bcaa79\" \u001b[90m->\u001b[0m \u001b[0m\u001b[90mnull\u001b[0m\u001b[0m\n",
      "      \u001b[31m-\u001b[0m \u001b[0m\u001b[1m\u001b[0msubnet_id\u001b[0m\u001b[0m      = \"subnet-0f4ac487eb0dcfc84\" \u001b[90m->\u001b[0m \u001b[0m\u001b[90mnull\u001b[0m\u001b[0m\n",
      "    }\n",
      "\n",
      "\u001b[1m  # aws_security_group.sg_master\u001b[0m will be \u001b[1m\u001b[31mdestroyed\u001b[0m\u001b[0m\n",
      "\u001b[0m  \u001b[31m-\u001b[0m\u001b[0m resource \"aws_security_group\" \"sg_master\" {\n",
      "      \u001b[31m-\u001b[0m \u001b[0m\u001b[1m\u001b[0marn\u001b[0m\u001b[0m                    = \"arn:aws:ec2:us-east-1:222170749288:security-group/sg-09bf254249028dc18\" \u001b[90m->\u001b[0m \u001b[0m\u001b[90mnull\u001b[0m\u001b[0m\n",
      "      \u001b[31m-\u001b[0m \u001b[0m\u001b[1m\u001b[0mdescription\u001b[0m\u001b[0m            = \"Managed by Terraform\" \u001b[90m->\u001b[0m \u001b[0m\u001b[90mnull\u001b[0m\u001b[0m\n",
      "      \u001b[31m-\u001b[0m \u001b[0m\u001b[1m\u001b[0megress\u001b[0m\u001b[0m                 = [\n",
      "          \u001b[31m-\u001b[0m \u001b[0m{\n",
      "              \u001b[31m-\u001b[0m \u001b[0mcidr_blocks      = [\n",
      "                  \u001b[31m-\u001b[0m \u001b[0m\"0.0.0.0/0\",\n",
      "                ]\n",
      "              \u001b[31m-\u001b[0m \u001b[0mdescription      = \"\"\n",
      "              \u001b[31m-\u001b[0m \u001b[0mfrom_port        = 0\n",
      "              \u001b[31m-\u001b[0m \u001b[0mipv6_cidr_blocks = []\n",
      "              \u001b[31m-\u001b[0m \u001b[0mprefix_list_ids  = []\n",
      "              \u001b[31m-\u001b[0m \u001b[0mprotocol         = \"-1\"\n",
      "              \u001b[31m-\u001b[0m \u001b[0msecurity_groups  = []\n",
      "              \u001b[31m-\u001b[0m \u001b[0mself             = false\n",
      "              \u001b[31m-\u001b[0m \u001b[0mto_port          = 0\n",
      "            },\n",
      "        ] \u001b[90m->\u001b[0m \u001b[0m\u001b[90mnull\u001b[0m\u001b[0m\n",
      "      \u001b[31m-\u001b[0m \u001b[0m\u001b[1m\u001b[0mid\u001b[0m\u001b[0m                     = \"sg-09bf254249028dc18\" \u001b[90m->\u001b[0m \u001b[0m\u001b[90mnull\u001b[0m\u001b[0m\n",
      "      \u001b[31m-\u001b[0m \u001b[0m\u001b[1m\u001b[0mingress\u001b[0m\u001b[0m                = [\n",
      "          \u001b[31m-\u001b[0m \u001b[0m{\n",
      "              \u001b[31m-\u001b[0m \u001b[0mcidr_blocks      = [\n",
      "                  \u001b[31m-\u001b[0m \u001b[0m\"10.1.0.0/24\",\n",
      "                ]\n",
      "              \u001b[31m-\u001b[0m \u001b[0mdescription      = \"\"\n",
      "              \u001b[31m-\u001b[0m \u001b[0mfrom_port        = 10250\n",
      "              \u001b[31m-\u001b[0m \u001b[0mipv6_cidr_blocks = []\n",
      "              \u001b[31m-\u001b[0m \u001b[0mprefix_list_ids  = []\n",
      "              \u001b[31m-\u001b[0m \u001b[0mprotocol         = \"tcp\"\n",
      "              \u001b[31m-\u001b[0m \u001b[0msecurity_groups  = []\n",
      "              \u001b[31m-\u001b[0m \u001b[0mself             = false\n",
      "              \u001b[31m-\u001b[0m \u001b[0mto_port          = 10250\n",
      "            },\n",
      "          \u001b[31m-\u001b[0m \u001b[0m{\n",
      "              \u001b[31m-\u001b[0m \u001b[0mcidr_blocks      = [\n",
      "                  \u001b[31m-\u001b[0m \u001b[0m\"10.1.0.0/24\",\n",
      "                ]\n",
      "              \u001b[31m-\u001b[0m \u001b[0mdescription      = \"\"\n",
      "              \u001b[31m-\u001b[0m \u001b[0mfrom_port        = 10251\n",
      "              \u001b[31m-\u001b[0m \u001b[0mipv6_cidr_blocks = []\n",
      "              \u001b[31m-\u001b[0m \u001b[0mprefix_list_ids  = []\n",
      "              \u001b[31m-\u001b[0m \u001b[0mprotocol         = \"tcp\"\n",
      "              \u001b[31m-\u001b[0m \u001b[0msecurity_groups  = []\n",
      "              \u001b[31m-\u001b[0m \u001b[0mself             = false\n",
      "              \u001b[31m-\u001b[0m \u001b[0mto_port          = 10251\n",
      "            },\n",
      "          \u001b[31m-\u001b[0m \u001b[0m{\n",
      "              \u001b[31m-\u001b[0m \u001b[0mcidr_blocks      = [\n",
      "                  \u001b[31m-\u001b[0m \u001b[0m\"10.1.0.0/24\",\n",
      "                ]\n",
      "              \u001b[31m-\u001b[0m \u001b[0mdescription      = \"\"\n",
      "              \u001b[31m-\u001b[0m \u001b[0mfrom_port        = 10252\n",
      "              \u001b[31m-\u001b[0m \u001b[0mipv6_cidr_blocks = []\n",
      "              \u001b[31m-\u001b[0m \u001b[0mprefix_list_ids  = []\n",
      "              \u001b[31m-\u001b[0m \u001b[0mprotocol         = \"tcp\"\n",
      "              \u001b[31m-\u001b[0m \u001b[0msecurity_groups  = []\n",
      "              \u001b[31m-\u001b[0m \u001b[0mself             = false\n",
      "              \u001b[31m-\u001b[0m \u001b[0mto_port          = 10252\n",
      "            },\n",
      "          \u001b[31m-\u001b[0m \u001b[0m{\n",
      "              \u001b[31m-\u001b[0m \u001b[0mcidr_blocks      = [\n",
      "                  \u001b[31m-\u001b[0m \u001b[0m\"10.1.0.0/24\",\n",
      "                ]\n",
      "              \u001b[31m-\u001b[0m \u001b[0mdescription      = \"\"\n",
      "              \u001b[31m-\u001b[0m \u001b[0mfrom_port        = 2379\n",
      "              \u001b[31m-\u001b[0m \u001b[0mipv6_cidr_blocks = []\n",
      "              \u001b[31m-\u001b[0m \u001b[0mprefix_list_ids  = []\n",
      "              \u001b[31m-\u001b[0m \u001b[0mprotocol         = \"tcp\"\n",
      "              \u001b[31m-\u001b[0m \u001b[0msecurity_groups  = []\n",
      "              \u001b[31m-\u001b[0m \u001b[0mself             = false\n",
      "              \u001b[31m-\u001b[0m \u001b[0mto_port          = 2380\n",
      "            },\n",
      "          \u001b[31m-\u001b[0m \u001b[0m{\n",
      "              \u001b[31m-\u001b[0m \u001b[0mcidr_blocks      = [\n",
      "                  \u001b[31m-\u001b[0m \u001b[0m\"10.1.0.0/24\",\n",
      "                ]\n",
      "              \u001b[31m-\u001b[0m \u001b[0mdescription      = \"\"\n",
      "              \u001b[31m-\u001b[0m \u001b[0mfrom_port        = 6443\n",
      "              \u001b[31m-\u001b[0m \u001b[0mipv6_cidr_blocks = []\n",
      "              \u001b[31m-\u001b[0m \u001b[0mprefix_list_ids  = []\n",
      "              \u001b[31m-\u001b[0m \u001b[0mprotocol         = \"tcp\"\n",
      "              \u001b[31m-\u001b[0m \u001b[0msecurity_groups  = []\n",
      "              \u001b[31m-\u001b[0m \u001b[0mself             = false\n",
      "              \u001b[31m-\u001b[0m \u001b[0mto_port          = 6443\n",
      "            },\n",
      "          \u001b[31m-\u001b[0m \u001b[0m{\n",
      "              \u001b[31m-\u001b[0m \u001b[0mcidr_blocks      = [\n",
      "                  \u001b[31m-\u001b[0m \u001b[0m\"10.1.0.0/24\",\n",
      "                ]\n",
      "              \u001b[31m-\u001b[0m \u001b[0mdescription      = \"\"\n",
      "              \u001b[31m-\u001b[0m \u001b[0mfrom_port        = 8285\n",
      "              \u001b[31m-\u001b[0m \u001b[0mipv6_cidr_blocks = []\n",
      "              \u001b[31m-\u001b[0m \u001b[0mprefix_list_ids  = []\n",
      "              \u001b[31m-\u001b[0m \u001b[0mprotocol         = \"tcp\"\n",
      "              \u001b[31m-\u001b[0m \u001b[0msecurity_groups  = []\n",
      "              \u001b[31m-\u001b[0m \u001b[0mself             = false\n",
      "              \u001b[31m-\u001b[0m \u001b[0mto_port          = 8285\n",
      "            },\n",
      "          \u001b[31m-\u001b[0m \u001b[0m{\n",
      "              \u001b[31m-\u001b[0m \u001b[0mcidr_blocks      = [\n",
      "                  \u001b[31m-\u001b[0m \u001b[0m\"10.1.0.0/24\",\n",
      "                ]\n",
      "              \u001b[31m-\u001b[0m \u001b[0mdescription      = \"\"\n",
      "              \u001b[31m-\u001b[0m \u001b[0mfrom_port        = 8472\n",
      "              \u001b[31m-\u001b[0m \u001b[0mipv6_cidr_blocks = []\n",
      "              \u001b[31m-\u001b[0m \u001b[0mprefix_list_ids  = []\n",
      "              \u001b[31m-\u001b[0m \u001b[0mprotocol         = \"tcp\"\n",
      "              \u001b[31m-\u001b[0m \u001b[0msecurity_groups  = []\n",
      "              \u001b[31m-\u001b[0m \u001b[0mself             = false\n",
      "              \u001b[31m-\u001b[0m \u001b[0mto_port          = 8472\n",
      "            },\n",
      "          \u001b[31m-\u001b[0m \u001b[0m{\n",
      "              \u001b[31m-\u001b[0m \u001b[0mcidr_blocks      = [\n",
      "                  \u001b[31m-\u001b[0m \u001b[0m\"221.145.26.67/32\",\n",
      "                ]\n",
      "              \u001b[31m-\u001b[0m \u001b[0mdescription      = \"\"\n",
      "              \u001b[31m-\u001b[0m \u001b[0mfrom_port        = 22\n",
      "              \u001b[31m-\u001b[0m \u001b[0mipv6_cidr_blocks = []\n",
      "              \u001b[31m-\u001b[0m \u001b[0mprefix_list_ids  = []\n",
      "              \u001b[31m-\u001b[0m \u001b[0mprotocol         = \"tcp\"\n",
      "              \u001b[31m-\u001b[0m \u001b[0msecurity_groups  = []\n",
      "              \u001b[31m-\u001b[0m \u001b[0mself             = false\n",
      "              \u001b[31m-\u001b[0m \u001b[0mto_port          = 22\n",
      "            },\n",
      "          \u001b[31m-\u001b[0m \u001b[0m{\n",
      "              \u001b[31m-\u001b[0m \u001b[0mcidr_blocks      = [\n",
      "                  \u001b[31m-\u001b[0m \u001b[0m\"221.145.26.67/32\",\n",
      "                ]\n",
      "              \u001b[31m-\u001b[0m \u001b[0mdescription      = \"\"\n",
      "              \u001b[31m-\u001b[0m \u001b[0mfrom_port        = 8080\n",
      "              \u001b[31m-\u001b[0m \u001b[0mipv6_cidr_blocks = []\n",
      "              \u001b[31m-\u001b[0m \u001b[0mprefix_list_ids  = []\n",
      "              \u001b[31m-\u001b[0m \u001b[0mprotocol         = \"tcp\"\n",
      "              \u001b[31m-\u001b[0m \u001b[0msecurity_groups  = []\n",
      "              \u001b[31m-\u001b[0m \u001b[0mself             = false\n",
      "              \u001b[31m-\u001b[0m \u001b[0mto_port          = 8080\n",
      "            },\n",
      "        ] \u001b[90m->\u001b[0m \u001b[0m\u001b[90mnull\u001b[0m\u001b[0m\n",
      "      \u001b[31m-\u001b[0m \u001b[0m\u001b[1m\u001b[0mname\u001b[0m\u001b[0m                   = \"sg_master\" \u001b[90m->\u001b[0m \u001b[0m\u001b[90mnull\u001b[0m\u001b[0m\n",
      "      \u001b[31m-\u001b[0m \u001b[0m\u001b[1m\u001b[0mowner_id\u001b[0m\u001b[0m               = \"222170749288\" \u001b[90m->\u001b[0m \u001b[0m\u001b[90mnull\u001b[0m\u001b[0m\n",
      "      \u001b[31m-\u001b[0m \u001b[0m\u001b[1m\u001b[0mrevoke_rules_on_delete\u001b[0m\u001b[0m = false \u001b[90m->\u001b[0m \u001b[0m\u001b[90mnull\u001b[0m\u001b[0m\n",
      "      \u001b[31m-\u001b[0m \u001b[0m\u001b[1m\u001b[0mtags\u001b[0m\u001b[0m                   = {} \u001b[90m->\u001b[0m \u001b[0m\u001b[90mnull\u001b[0m\u001b[0m\n",
      "      \u001b[31m-\u001b[0m \u001b[0m\u001b[1m\u001b[0mtags_all\u001b[0m\u001b[0m               = {} \u001b[90m->\u001b[0m \u001b[0m\u001b[90mnull\u001b[0m\u001b[0m\n",
      "      \u001b[31m-\u001b[0m \u001b[0m\u001b[1m\u001b[0mvpc_id\u001b[0m\u001b[0m                 = \"vpc-00ef9a845a70a873e\" \u001b[90m->\u001b[0m \u001b[0m\u001b[90mnull\u001b[0m\u001b[0m\n",
      "    }\n",
      "\n",
      "\u001b[1m  # aws_security_group.sg_worker\u001b[0m will be \u001b[1m\u001b[31mdestroyed\u001b[0m\u001b[0m\n",
      "\u001b[0m  \u001b[31m-\u001b[0m\u001b[0m resource \"aws_security_group\" \"sg_worker\" {\n",
      "      \u001b[31m-\u001b[0m \u001b[0m\u001b[1m\u001b[0marn\u001b[0m\u001b[0m                    = \"arn:aws:ec2:us-east-1:222170749288:security-group/sg-0c99ed3ef08387567\" \u001b[90m->\u001b[0m \u001b[0m\u001b[90mnull\u001b[0m\u001b[0m\n",
      "      \u001b[31m-\u001b[0m \u001b[0m\u001b[1m\u001b[0mdescription\u001b[0m\u001b[0m            = \"Managed by Terraform\" \u001b[90m->\u001b[0m \u001b[0m\u001b[90mnull\u001b[0m\u001b[0m\n",
      "      \u001b[31m-\u001b[0m \u001b[0m\u001b[1m\u001b[0megress\u001b[0m\u001b[0m                 = [\n",
      "          \u001b[31m-\u001b[0m \u001b[0m{\n",
      "              \u001b[31m-\u001b[0m \u001b[0mcidr_blocks      = [\n",
      "                  \u001b[31m-\u001b[0m \u001b[0m\"0.0.0.0/0\",\n",
      "                ]\n",
      "              \u001b[31m-\u001b[0m \u001b[0mdescription      = \"\"\n",
      "              \u001b[31m-\u001b[0m \u001b[0mfrom_port        = 0\n",
      "              \u001b[31m-\u001b[0m \u001b[0mipv6_cidr_blocks = []\n",
      "              \u001b[31m-\u001b[0m \u001b[0mprefix_list_ids  = []\n",
      "              \u001b[31m-\u001b[0m \u001b[0mprotocol         = \"-1\"\n",
      "              \u001b[31m-\u001b[0m \u001b[0msecurity_groups  = []\n",
      "              \u001b[31m-\u001b[0m \u001b[0mself             = false\n",
      "              \u001b[31m-\u001b[0m \u001b[0mto_port          = 0\n",
      "            },\n",
      "        ] \u001b[90m->\u001b[0m \u001b[0m\u001b[90mnull\u001b[0m\u001b[0m\n",
      "      \u001b[31m-\u001b[0m \u001b[0m\u001b[1m\u001b[0mid\u001b[0m\u001b[0m                     = \"sg-0c99ed3ef08387567\" \u001b[90m->\u001b[0m \u001b[0m\u001b[90mnull\u001b[0m\u001b[0m\n",
      "      \u001b[31m-\u001b[0m \u001b[0m\u001b[1m\u001b[0mingress\u001b[0m\u001b[0m                = [\n",
      "          \u001b[31m-\u001b[0m \u001b[0m{\n",
      "              \u001b[31m-\u001b[0m \u001b[0mcidr_blocks      = [\n",
      "                  \u001b[31m-\u001b[0m \u001b[0m\"10.1.0.0/24\",\n",
      "                ]\n",
      "              \u001b[31m-\u001b[0m \u001b[0mdescription      = \"\"\n",
      "              \u001b[31m-\u001b[0m \u001b[0mfrom_port        = 10250\n",
      "              \u001b[31m-\u001b[0m \u001b[0mipv6_cidr_blocks = []\n",
      "              \u001b[31m-\u001b[0m \u001b[0mprefix_list_ids  = []\n",
      "              \u001b[31m-\u001b[0m \u001b[0mprotocol         = \"tcp\"\n",
      "              \u001b[31m-\u001b[0m \u001b[0msecurity_groups  = []\n",
      "              \u001b[31m-\u001b[0m \u001b[0mself             = false\n",
      "              \u001b[31m-\u001b[0m \u001b[0mto_port          = 10250\n",
      "            },\n",
      "          \u001b[31m-\u001b[0m \u001b[0m{\n",
      "              \u001b[31m-\u001b[0m \u001b[0mcidr_blocks      = [\n",
      "                  \u001b[31m-\u001b[0m \u001b[0m\"10.1.0.0/24\",\n",
      "                ]\n",
      "              \u001b[31m-\u001b[0m \u001b[0mdescription      = \"\"\n",
      "              \u001b[31m-\u001b[0m \u001b[0mfrom_port        = 30000\n",
      "              \u001b[31m-\u001b[0m \u001b[0mipv6_cidr_blocks = []\n",
      "              \u001b[31m-\u001b[0m \u001b[0mprefix_list_ids  = []\n",
      "              \u001b[31m-\u001b[0m \u001b[0mprotocol         = \"tcp\"\n",
      "              \u001b[31m-\u001b[0m \u001b[0msecurity_groups  = []\n",
      "              \u001b[31m-\u001b[0m \u001b[0mself             = false\n",
      "              \u001b[31m-\u001b[0m \u001b[0mto_port          = 32767\n",
      "            },\n",
      "          \u001b[31m-\u001b[0m \u001b[0m{\n",
      "              \u001b[31m-\u001b[0m \u001b[0mcidr_blocks      = [\n",
      "                  \u001b[31m-\u001b[0m \u001b[0m\"10.1.0.0/24\",\n",
      "                ]\n",
      "              \u001b[31m-\u001b[0m \u001b[0mdescription      = \"\"\n",
      "              \u001b[31m-\u001b[0m \u001b[0mfrom_port        = 8285\n",
      "              \u001b[31m-\u001b[0m \u001b[0mipv6_cidr_blocks = []\n",
      "              \u001b[31m-\u001b[0m \u001b[0mprefix_list_ids  = []\n",
      "              \u001b[31m-\u001b[0m \u001b[0mprotocol         = \"tcp\"\n",
      "              \u001b[31m-\u001b[0m \u001b[0msecurity_groups  = []\n",
      "              \u001b[31m-\u001b[0m \u001b[0mself             = false\n",
      "              \u001b[31m-\u001b[0m \u001b[0mto_port          = 8285\n",
      "            },\n",
      "          \u001b[31m-\u001b[0m \u001b[0m{\n",
      "              \u001b[31m-\u001b[0m \u001b[0mcidr_blocks      = [\n",
      "                  \u001b[31m-\u001b[0m \u001b[0m\"10.1.0.0/24\",\n",
      "                ]\n",
      "              \u001b[31m-\u001b[0m \u001b[0mdescription      = \"\"\n",
      "              \u001b[31m-\u001b[0m \u001b[0mfrom_port        = 8472\n",
      "              \u001b[31m-\u001b[0m \u001b[0mipv6_cidr_blocks = []\n",
      "              \u001b[31m-\u001b[0m \u001b[0mprefix_list_ids  = []\n",
      "              \u001b[31m-\u001b[0m \u001b[0mprotocol         = \"tcp\"\n",
      "              \u001b[31m-\u001b[0m \u001b[0msecurity_groups  = []\n",
      "              \u001b[31m-\u001b[0m \u001b[0mself             = false\n",
      "              \u001b[31m-\u001b[0m \u001b[0mto_port          = 8472\n",
      "            },\n",
      "          \u001b[31m-\u001b[0m \u001b[0m{\n",
      "              \u001b[31m-\u001b[0m \u001b[0mcidr_blocks      = [\n",
      "                  \u001b[31m-\u001b[0m \u001b[0m\"221.145.26.67/32\",\n",
      "                ]\n",
      "              \u001b[31m-\u001b[0m \u001b[0mdescription      = \"\"\n",
      "              \u001b[31m-\u001b[0m \u001b[0mfrom_port        = 22\n",
      "              \u001b[31m-\u001b[0m \u001b[0mipv6_cidr_blocks = []\n",
      "              \u001b[31m-\u001b[0m \u001b[0mprefix_list_ids  = []\n",
      "              \u001b[31m-\u001b[0m \u001b[0mprotocol         = \"tcp\"\n",
      "              \u001b[31m-\u001b[0m \u001b[0msecurity_groups  = []\n",
      "              \u001b[31m-\u001b[0m \u001b[0mself             = false\n",
      "              \u001b[31m-\u001b[0m \u001b[0mto_port          = 22\n",
      "            },\n",
      "        ] \u001b[90m->\u001b[0m \u001b[0m\u001b[90mnull\u001b[0m\u001b[0m\n",
      "      \u001b[31m-\u001b[0m \u001b[0m\u001b[1m\u001b[0mname\u001b[0m\u001b[0m                   = \"sg_worker\" \u001b[90m->\u001b[0m \u001b[0m\u001b[90mnull\u001b[0m\u001b[0m\n",
      "      \u001b[31m-\u001b[0m \u001b[0m\u001b[1m\u001b[0mowner_id\u001b[0m\u001b[0m               = \"222170749288\" \u001b[90m->\u001b[0m \u001b[0m\u001b[90mnull\u001b[0m\u001b[0m\n",
      "      \u001b[31m-\u001b[0m \u001b[0m\u001b[1m\u001b[0mrevoke_rules_on_delete\u001b[0m\u001b[0m = false \u001b[90m->\u001b[0m \u001b[0m\u001b[90mnull\u001b[0m\u001b[0m\n",
      "      \u001b[31m-\u001b[0m \u001b[0m\u001b[1m\u001b[0mtags\u001b[0m\u001b[0m                   = {} \u001b[90m->\u001b[0m \u001b[0m\u001b[90mnull\u001b[0m\u001b[0m\n",
      "      \u001b[31m-\u001b[0m \u001b[0m\u001b[1m\u001b[0mtags_all\u001b[0m\u001b[0m               = {} \u001b[90m->\u001b[0m \u001b[0m\u001b[90mnull\u001b[0m\u001b[0m\n",
      "      \u001b[31m-\u001b[0m \u001b[0m\u001b[1m\u001b[0mvpc_id\u001b[0m\u001b[0m                 = \"vpc-00ef9a845a70a873e\" \u001b[90m->\u001b[0m \u001b[0m\u001b[90mnull\u001b[0m\u001b[0m\n",
      "    }\n",
      "\n",
      "\u001b[1m  # aws_subnet.public_subnet\u001b[0m will be \u001b[1m\u001b[31mdestroyed\u001b[0m\u001b[0m\n",
      "\u001b[0m  \u001b[31m-\u001b[0m\u001b[0m resource \"aws_subnet\" \"public_subnet\" {\n",
      "      \u001b[31m-\u001b[0m \u001b[0m\u001b[1m\u001b[0marn\u001b[0m\u001b[0m                                            = \"arn:aws:ec2:us-east-1:222170749288:subnet/subnet-0f4ac487eb0dcfc84\" \u001b[90m->\u001b[0m \u001b[0m\u001b[90mnull\u001b[0m\u001b[0m\n",
      "      \u001b[31m-\u001b[0m \u001b[0m\u001b[1m\u001b[0massign_ipv6_address_on_creation\u001b[0m\u001b[0m                = false \u001b[90m->\u001b[0m \u001b[0m\u001b[90mnull\u001b[0m\u001b[0m\n",
      "      \u001b[31m-\u001b[0m \u001b[0m\u001b[1m\u001b[0mavailability_zone\u001b[0m\u001b[0m                              = \"us-east-1a\" \u001b[90m->\u001b[0m \u001b[0m\u001b[90mnull\u001b[0m\u001b[0m\n",
      "      \u001b[31m-\u001b[0m \u001b[0m\u001b[1m\u001b[0mavailability_zone_id\u001b[0m\u001b[0m                           = \"use1-az6\" \u001b[90m->\u001b[0m \u001b[0m\u001b[90mnull\u001b[0m\u001b[0m\n",
      "      \u001b[31m-\u001b[0m \u001b[0m\u001b[1m\u001b[0mcidr_block\u001b[0m\u001b[0m                                     = \"10.1.0.0/24\" \u001b[90m->\u001b[0m \u001b[0m\u001b[90mnull\u001b[0m\u001b[0m\n",
      "      \u001b[31m-\u001b[0m \u001b[0m\u001b[1m\u001b[0menable_dns64\u001b[0m\u001b[0m                                   = false \u001b[90m->\u001b[0m \u001b[0m\u001b[90mnull\u001b[0m\u001b[0m\n",
      "      \u001b[31m-\u001b[0m \u001b[0m\u001b[1m\u001b[0menable_lni_at_device_index\u001b[0m\u001b[0m                     = 0 \u001b[90m->\u001b[0m \u001b[0m\u001b[90mnull\u001b[0m\u001b[0m\n",
      "      \u001b[31m-\u001b[0m \u001b[0m\u001b[1m\u001b[0menable_resource_name_dns_a_record_on_launch\u001b[0m\u001b[0m    = false \u001b[90m->\u001b[0m \u001b[0m\u001b[90mnull\u001b[0m\u001b[0m\n",
      "      \u001b[31m-\u001b[0m \u001b[0m\u001b[1m\u001b[0menable_resource_name_dns_aaaa_record_on_launch\u001b[0m\u001b[0m = false \u001b[90m->\u001b[0m \u001b[0m\u001b[90mnull\u001b[0m\u001b[0m\n",
      "      \u001b[31m-\u001b[0m \u001b[0m\u001b[1m\u001b[0mid\u001b[0m\u001b[0m                                             = \"subnet-0f4ac487eb0dcfc84\" \u001b[90m->\u001b[0m \u001b[0m\u001b[90mnull\u001b[0m\u001b[0m\n",
      "      \u001b[31m-\u001b[0m \u001b[0m\u001b[1m\u001b[0mipv6_native\u001b[0m\u001b[0m                                    = false \u001b[90m->\u001b[0m \u001b[0m\u001b[90mnull\u001b[0m\u001b[0m\n",
      "      \u001b[31m-\u001b[0m \u001b[0m\u001b[1m\u001b[0mmap_customer_owned_ip_on_launch\u001b[0m\u001b[0m                = false \u001b[90m->\u001b[0m \u001b[0m\u001b[90mnull\u001b[0m\u001b[0m\n",
      "      \u001b[31m-\u001b[0m \u001b[0m\u001b[1m\u001b[0mmap_public_ip_on_launch\u001b[0m\u001b[0m                        = false \u001b[90m->\u001b[0m \u001b[0m\u001b[90mnull\u001b[0m\u001b[0m\n",
      "      \u001b[31m-\u001b[0m \u001b[0m\u001b[1m\u001b[0mowner_id\u001b[0m\u001b[0m                                       = \"222170749288\" \u001b[90m->\u001b[0m \u001b[0m\u001b[90mnull\u001b[0m\u001b[0m\n",
      "      \u001b[31m-\u001b[0m \u001b[0m\u001b[1m\u001b[0mprivate_dns_hostname_type_on_launch\u001b[0m\u001b[0m            = \"ip-name\" \u001b[90m->\u001b[0m \u001b[0m\u001b[90mnull\u001b[0m\u001b[0m\n",
      "      \u001b[31m-\u001b[0m \u001b[0m\u001b[1m\u001b[0mtags\u001b[0m\u001b[0m                                           = {\n",
      "          \u001b[31m-\u001b[0m \u001b[0m\"Name\" = \"public_subnet\"\n",
      "        } \u001b[90m->\u001b[0m \u001b[0m\u001b[90mnull\u001b[0m\u001b[0m\n",
      "      \u001b[31m-\u001b[0m \u001b[0m\u001b[1m\u001b[0mtags_all\u001b[0m\u001b[0m                                       = {\n",
      "          \u001b[31m-\u001b[0m \u001b[0m\"Name\" = \"public_subnet\"\n",
      "        } \u001b[90m->\u001b[0m \u001b[0m\u001b[90mnull\u001b[0m\u001b[0m\n",
      "      \u001b[31m-\u001b[0m \u001b[0m\u001b[1m\u001b[0mvpc_id\u001b[0m\u001b[0m                                         = \"vpc-00ef9a845a70a873e\" \u001b[90m->\u001b[0m \u001b[0m\u001b[90mnull\u001b[0m\u001b[0m\n",
      "    }\n",
      "\n",
      "\u001b[1m  # aws_vpc.kube_vpc\u001b[0m will be \u001b[1m\u001b[31mdestroyed\u001b[0m\u001b[0m\n",
      "\u001b[0m  \u001b[31m-\u001b[0m\u001b[0m resource \"aws_vpc\" \"kube_vpc\" {\n",
      "      \u001b[31m-\u001b[0m \u001b[0m\u001b[1m\u001b[0marn\u001b[0m\u001b[0m                                  = \"arn:aws:ec2:us-east-1:222170749288:vpc/vpc-00ef9a845a70a873e\" \u001b[90m->\u001b[0m \u001b[0m\u001b[90mnull\u001b[0m\u001b[0m\n",
      "      \u001b[31m-\u001b[0m \u001b[0m\u001b[1m\u001b[0massign_generated_ipv6_cidr_block\u001b[0m\u001b[0m     = false \u001b[90m->\u001b[0m \u001b[0m\u001b[90mnull\u001b[0m\u001b[0m\n",
      "      \u001b[31m-\u001b[0m \u001b[0m\u001b[1m\u001b[0mcidr_block\u001b[0m\u001b[0m                           = \"10.1.0.0/16\" \u001b[90m->\u001b[0m \u001b[0m\u001b[90mnull\u001b[0m\u001b[0m\n",
      "      \u001b[31m-\u001b[0m \u001b[0m\u001b[1m\u001b[0mdefault_network_acl_id\u001b[0m\u001b[0m               = \"acl-0609060c01e185a43\" \u001b[90m->\u001b[0m \u001b[0m\u001b[90mnull\u001b[0m\u001b[0m\n",
      "      \u001b[31m-\u001b[0m \u001b[0m\u001b[1m\u001b[0mdefault_route_table_id\u001b[0m\u001b[0m               = \"rtb-0c4a5dd617cd0d5d7\" \u001b[90m->\u001b[0m \u001b[0m\u001b[90mnull\u001b[0m\u001b[0m\n",
      "      \u001b[31m-\u001b[0m \u001b[0m\u001b[1m\u001b[0mdefault_security_group_id\u001b[0m\u001b[0m            = \"sg-05879aa100238c529\" \u001b[90m->\u001b[0m \u001b[0m\u001b[90mnull\u001b[0m\u001b[0m\n",
      "      \u001b[31m-\u001b[0m \u001b[0m\u001b[1m\u001b[0mdhcp_options_id\u001b[0m\u001b[0m                      = \"dopt-01d3482a6e5378af1\" \u001b[90m->\u001b[0m \u001b[0m\u001b[90mnull\u001b[0m\u001b[0m\n",
      "      \u001b[31m-\u001b[0m \u001b[0m\u001b[1m\u001b[0menable_classiclink\u001b[0m\u001b[0m                   = false \u001b[90m->\u001b[0m \u001b[0m\u001b[90mnull\u001b[0m\u001b[0m\n",
      "      \u001b[31m-\u001b[0m \u001b[0m\u001b[1m\u001b[0menable_classiclink_dns_support\u001b[0m\u001b[0m       = false \u001b[90m->\u001b[0m \u001b[0m\u001b[90mnull\u001b[0m\u001b[0m\n",
      "      \u001b[31m-\u001b[0m \u001b[0m\u001b[1m\u001b[0menable_dns_hostnames\u001b[0m\u001b[0m                 = false \u001b[90m->\u001b[0m \u001b[0m\u001b[90mnull\u001b[0m\u001b[0m\n",
      "      \u001b[31m-\u001b[0m \u001b[0m\u001b[1m\u001b[0menable_dns_support\u001b[0m\u001b[0m                   = true \u001b[90m->\u001b[0m \u001b[0m\u001b[90mnull\u001b[0m\u001b[0m\n",
      "      \u001b[31m-\u001b[0m \u001b[0m\u001b[1m\u001b[0menable_network_address_usage_metrics\u001b[0m\u001b[0m = false \u001b[90m->\u001b[0m \u001b[0m\u001b[90mnull\u001b[0m\u001b[0m\n",
      "      \u001b[31m-\u001b[0m \u001b[0m\u001b[1m\u001b[0mid\u001b[0m\u001b[0m                                   = \"vpc-00ef9a845a70a873e\" \u001b[90m->\u001b[0m \u001b[0m\u001b[90mnull\u001b[0m\u001b[0m\n",
      "      \u001b[31m-\u001b[0m \u001b[0m\u001b[1m\u001b[0minstance_tenancy\u001b[0m\u001b[0m                     = \"default\" \u001b[90m->\u001b[0m \u001b[0m\u001b[90mnull\u001b[0m\u001b[0m\n",
      "      \u001b[31m-\u001b[0m \u001b[0m\u001b[1m\u001b[0mipv6_netmask_length\u001b[0m\u001b[0m                  = 0 \u001b[90m->\u001b[0m \u001b[0m\u001b[90mnull\u001b[0m\u001b[0m\n",
      "      \u001b[31m-\u001b[0m \u001b[0m\u001b[1m\u001b[0mmain_route_table_id\u001b[0m\u001b[0m                  = \"rtb-0c4a5dd617cd0d5d7\" \u001b[90m->\u001b[0m \u001b[0m\u001b[90mnull\u001b[0m\u001b[0m\n",
      "      \u001b[31m-\u001b[0m \u001b[0m\u001b[1m\u001b[0mowner_id\u001b[0m\u001b[0m                             = \"222170749288\" \u001b[90m->\u001b[0m \u001b[0m\u001b[90mnull\u001b[0m\u001b[0m\n",
      "      \u001b[31m-\u001b[0m \u001b[0m\u001b[1m\u001b[0mtags\u001b[0m\u001b[0m                                 = {\n",
      "          \u001b[31m-\u001b[0m \u001b[0m\"Name\" = \"kube_vpc\"\n",
      "        } \u001b[90m->\u001b[0m \u001b[0m\u001b[90mnull\u001b[0m\u001b[0m\n",
      "      \u001b[31m-\u001b[0m \u001b[0m\u001b[1m\u001b[0mtags_all\u001b[0m\u001b[0m                             = {\n",
      "          \u001b[31m-\u001b[0m \u001b[0m\"Name\" = \"kube_vpc\"\n",
      "        } \u001b[90m->\u001b[0m \u001b[0m\u001b[90mnull\u001b[0m\u001b[0m\n",
      "    }\n",
      "\n",
      "\u001b[0m\u001b[1mPlan:\u001b[0m 0 to add, 0 to change, 11 to destroy.\n",
      "\u001b[0m\u001b[0m\n",
      "\u001b[1mChanges to Outputs:\u001b[0m\u001b[0m\n",
      "  \u001b[31m-\u001b[0m \u001b[0m\u001b[1m\u001b[0mmy_ip\u001b[0m\u001b[0m = \"221.145.26.67/32\" \u001b[90m->\u001b[0m \u001b[0m\u001b[90mnull\u001b[0m\u001b[0m\n"
     ]
    },
    {
     "name": "stdout",
     "output_type": "stream",
     "text": [
      "\u001b[0m\u001b[1maws_route_table_association.public_rt_association: Destroying... [id=rtbassoc-0656b3fcfaf82923c]\u001b[0m\u001b[0m\n",
      "\u001b[0m\u001b[1maws_route.public_rt_igw: Destroying... [id=r-rtb-0a49132c580bcaa791080289494]\u001b[0m\u001b[0m\n",
      "\u001b[0m\u001b[1maws_autoscaling_group.kube_worker_asg: Destroying... [id=terraform-20230525133603950800000003]\u001b[0m\u001b[0m\n",
      "\u001b[0m\u001b[1maws_instance.kube_master: Destroying... [id=i-00da84a95a682fbfb]\u001b[0m\u001b[0m\n",
      "\u001b[0m\u001b[1maws_route_table_association.public_rt_association: Destruction complete after 1s\u001b[0m\n",
      "\u001b[0m\u001b[1maws_route.public_rt_igw: Destruction complete after 1s\u001b[0m\n",
      "\u001b[0m\u001b[1maws_internet_gateway.kube_igw: Destroying... [id=igw-0086179b22bb83d98]\u001b[0m\u001b[0m\n",
      "\u001b[0m\u001b[1maws_route_table.public_rt: Destroying... [id=rtb-0a49132c580bcaa79]\u001b[0m\u001b[0m\n",
      "\u001b[0m\u001b[1maws_route_table.public_rt: Destruction complete after 2s\u001b[0m\n",
      "\u001b[0m\u001b[1maws_autoscaling_group.kube_worker_asg: Still destroying... [id=terraform-20230525133603950800000003, 10s elapsed]\u001b[0m\u001b[0m\n",
      "\u001b[0m\u001b[1maws_instance.kube_master: Still destroying... [id=i-00da84a95a682fbfb, 10s elapsed]\u001b[0m\u001b[0m\n",
      "\u001b[0m\u001b[1maws_internet_gateway.kube_igw: Still destroying... [id=igw-0086179b22bb83d98, 10s elapsed]\u001b[0m\u001b[0m\n",
      "\u001b[0m\u001b[1maws_instance.kube_master: Still destroying... [id=i-00da84a95a682fbfb, 20s elapsed]\u001b[0m\u001b[0m\n",
      "\u001b[0m\u001b[1maws_autoscaling_group.kube_worker_asg: Still destroying... [id=terraform-20230525133603950800000003, 20s elapsed]\u001b[0m\u001b[0m\n",
      "\u001b[0m\u001b[1maws_internet_gateway.kube_igw: Still destroying... [id=igw-0086179b22bb83d98, 20s elapsed]\u001b[0m\u001b[0m\n",
      "\u001b[0m\u001b[1maws_instance.kube_master: Still destroying... [id=i-00da84a95a682fbfb, 30s elapsed]\u001b[0m\u001b[0m\n",
      "\u001b[0m\u001b[1maws_autoscaling_group.kube_worker_asg: Still destroying... [id=terraform-20230525133603950800000003, 30s elapsed]\u001b[0m\u001b[0m\n",
      "\u001b[0m\u001b[1maws_internet_gateway.kube_igw: Still destroying... [id=igw-0086179b22bb83d98, 30s elapsed]\u001b[0m\u001b[0m\n",
      "\u001b[0m\u001b[1maws_autoscaling_group.kube_worker_asg: Still destroying... [id=terraform-20230525133603950800000003, 40s elapsed]\u001b[0m\u001b[0m\n",
      "\u001b[0m\u001b[1maws_instance.kube_master: Still destroying... [id=i-00da84a95a682fbfb, 40s elapsed]\u001b[0m\u001b[0m\n",
      "\u001b[0m\u001b[1maws_internet_gateway.kube_igw: Still destroying... [id=igw-0086179b22bb83d98, 40s elapsed]\u001b[0m\u001b[0m\n",
      "\u001b[0m\u001b[1maws_instance.kube_master: Destruction complete after 44s\u001b[0m\n",
      "\u001b[0m\u001b[1maws_security_group.sg_master: Destroying... [id=sg-09bf254249028dc18]\u001b[0m\u001b[0m\n",
      "\u001b[0m\u001b[1maws_security_group.sg_master: Destruction complete after 1s\u001b[0m\n",
      "\u001b[0m\u001b[1maws_autoscaling_group.kube_worker_asg: Still destroying... [id=terraform-20230525133603950800000003, 50s elapsed]\u001b[0m\u001b[0m\n",
      "\u001b[0m\u001b[1maws_internet_gateway.kube_igw: Still destroying... [id=igw-0086179b22bb83d98, 50s elapsed]\u001b[0m\u001b[0m\n",
      "\u001b[0m\u001b[1maws_autoscaling_group.kube_worker_asg: Still destroying... [id=terraform-20230525133603950800000003, 1m0s elapsed]\u001b[0m\u001b[0m\n",
      "\u001b[0m\u001b[1maws_internet_gateway.kube_igw: Still destroying... [id=igw-0086179b22bb83d98, 1m0s elapsed]\u001b[0m\u001b[0m\n",
      "\u001b[0m\u001b[1maws_autoscaling_group.kube_worker_asg: Still destroying... [id=terraform-20230525133603950800000003, 1m10s elapsed]\u001b[0m\u001b[0m\n",
      "\u001b[0m\u001b[1maws_internet_gateway.kube_igw: Still destroying... [id=igw-0086179b22bb83d98, 1m10s elapsed]\u001b[0m\u001b[0m\n",
      "\u001b[0m\u001b[1maws_internet_gateway.kube_igw: Destruction complete after 1m14s\u001b[0m\n",
      "\u001b[0m\u001b[1maws_autoscaling_group.kube_worker_asg: Still destroying... [id=terraform-20230525133603950800000003, 1m20s elapsed]\u001b[0m\u001b[0m\n",
      "\u001b[0m\u001b[1maws_autoscaling_group.kube_worker_asg: Still destroying... [id=terraform-20230525133603950800000003, 1m30s elapsed]\u001b[0m\u001b[0m\n",
      "\u001b[0m\u001b[1maws_autoscaling_group.kube_worker_asg: Still destroying... [id=terraform-20230525133603950800000003, 1m40s elapsed]\u001b[0m\u001b[0m\n",
      "\u001b[0m\u001b[1maws_autoscaling_group.kube_worker_asg: Still destroying... [id=terraform-20230525133603950800000003, 1m50s elapsed]\u001b[0m\u001b[0m\n",
      "\u001b[0m\u001b[1maws_autoscaling_group.kube_worker_asg: Destruction complete after 1m53s\u001b[0m\n",
      "\u001b[0m\u001b[1maws_subnet.public_subnet: Destroying... [id=subnet-0f4ac487eb0dcfc84]\u001b[0m\u001b[0m\n",
      "\u001b[0m\u001b[1maws_launch_configuration.kube_worker_lc: Destroying... [id=terraform-20230525133602087600000001]\u001b[0m\u001b[0m\n",
      "\u001b[0m\u001b[1maws_launch_configuration.kube_worker_lc: Destruction complete after 0s\u001b[0m\n",
      "\u001b[0m\u001b[1maws_security_group.sg_worker: Destroying... [id=sg-0c99ed3ef08387567]\u001b[0m\u001b[0m\n",
      "\u001b[0m\u001b[1maws_subnet.public_subnet: Destruction complete after 1s\u001b[0m\n",
      "\u001b[0m\u001b[1maws_security_group.sg_worker: Destruction complete after 2s\u001b[0m\n",
      "\u001b[0m\u001b[1maws_vpc.kube_vpc: Destroying... [id=vpc-00ef9a845a70a873e]\u001b[0m\u001b[0m\n",
      "\u001b[0m\u001b[1maws_vpc.kube_vpc: Destruction complete after 1s\u001b[0m\n",
      "\u001b[0m\u001b[1m\u001b[32m\n",
      "Destroy complete! Resources: 11 destroyed.\n",
      "\u001b[0m"
     ]
    }
   ],
   "source": [
    "!terraform destroy -auto-approve"
   ]
  },
  {
   "cell_type": "code",
   "execution_count": null,
   "metadata": {},
   "outputs": [],
   "source": []
  },
  {
   "cell_type": "code",
   "execution_count": 3,
   "metadata": {},
   "outputs": [],
   "source": [
    "#!terraform plan"
   ]
  },
  {
   "cell_type": "code",
   "execution_count": null,
   "metadata": {},
   "outputs": [],
   "source": []
  },
  {
   "cell_type": "code",
   "execution_count": 24,
   "metadata": {},
   "outputs": [],
   "source": [
    "#!terraform apply -auto-approve"
   ]
  },
  {
   "cell_type": "code",
   "execution_count": null,
   "metadata": {},
   "outputs": [],
   "source": []
  },
  {
   "cell_type": "code",
   "execution_count": 5,
   "metadata": {},
   "outputs": [
    {
     "name": "stdout",
     "output_type": "stream",
     "text": [
      "wait for terraform\n"
     ]
    }
   ],
   "source": [
    "import time\n",
    "\n",
    "print('wait for terraform')\n",
    "time.sleep(30)"
   ]
  },
  {
   "cell_type": "code",
   "execution_count": null,
   "metadata": {},
   "outputs": [],
   "source": []
  },
  {
   "cell_type": "code",
   "execution_count": null,
   "metadata": {},
   "outputs": [],
   "source": []
  },
  {
   "cell_type": "code",
   "execution_count": null,
   "metadata": {},
   "outputs": [],
   "source": []
  },
  {
   "cell_type": "code",
   "execution_count": null,
   "id": "74ab085e",
   "metadata": {},
   "outputs": [],
   "source": []
  },
  {
   "cell_type": "markdown",
   "id": "e3878261",
   "metadata": {},
   "source": [
    "## 만들어진 인스턴스 목록 획득"
   ]
  },
  {
   "cell_type": "markdown",
   "metadata": {},
   "source": [
    "https://stackoverflow.com/questions/33297172/boto3-error-botocore-exceptions-nocredentialserror-unable-to-locate-credential"
   ]
  },
  {
   "cell_type": "code",
   "execution_count": null,
   "metadata": {},
   "outputs": [],
   "source": []
  },
  {
   "cell_type": "code",
   "execution_count": null,
   "metadata": {},
   "outputs": [],
   "source": []
  },
  {
   "cell_type": "markdown",
   "metadata": {},
   "source": [
    "# 인스턴스 연결 설정 들"
   ]
  },
  {
   "cell_type": "markdown",
   "metadata": {},
   "source": [
    "!mkdir -p ~/.aws\n",
    "#!ls ~/.aws"
   ]
  },
  {
   "cell_type": "code",
   "execution_count": null,
   "metadata": {},
   "outputs": [],
   "source": []
  },
  {
   "cell_type": "markdown",
   "metadata": {},
   "source": [
    "!(echo \" \\\n",
    "[default] \\n \\\n",
    "aws_access_key_id = 키키키키 \\n \\\n",
    "aws_secret_access_key = 쉬크릿쉬크릿쉬크릿쉬크릿 \\\n",
    "\") | tee ~/.aws/credentials"
   ]
  },
  {
   "cell_type": "code",
   "execution_count": null,
   "metadata": {},
   "outputs": [],
   "source": []
  },
  {
   "cell_type": "markdown",
   "metadata": {},
   "source": [
    "!(echo \" \\\n",
    "[default] \\n \\\n",
    "region = us-east-1 \\n \\\n",
    "output = json \\\n",
    "\") | tee ~/.aws/config|"
   ]
  },
  {
   "cell_type": "code",
   "execution_count": null,
   "metadata": {},
   "outputs": [],
   "source": []
  },
  {
   "cell_type": "code",
   "execution_count": null,
   "metadata": {},
   "outputs": [],
   "source": []
  },
  {
   "cell_type": "code",
   "execution_count": 6,
   "id": "ed23115c",
   "metadata": {},
   "outputs": [],
   "source": [
    "import boto3\n",
    "import time"
   ]
  },
  {
   "cell_type": "code",
   "execution_count": null,
   "metadata": {},
   "outputs": [],
   "source": []
  },
  {
   "cell_type": "markdown",
   "metadata": {},
   "source": [
    "# 인스턴스가 생성되는 걸 기다렸다가 이름을 기준으로 master, worker 분류\n",
    "## terraform에서는 현재 불가능 하거나, 두번에 나눠 해야 되서 여기서 진행"
   ]
  },
  {
   "cell_type": "code",
   "execution_count": 7,
   "metadata": {},
   "outputs": [],
   "source": [
    "is_started = True"
   ]
  },
  {
   "cell_type": "code",
   "execution_count": null,
   "metadata": {},
   "outputs": [],
   "source": []
  },
  {
   "cell_type": "code",
   "execution_count": 8,
   "metadata": {},
   "outputs": [],
   "source": [
    "def get_cluster_instances():\n",
    "    ec2 = boto3.resource('ec2')\n",
    "    \n",
    "    master_list = []\n",
    "    worker_list = []\n",
    "    \n",
    "    for instance in ec2.instances.all():\n",
    "\n",
    "        if instance.state['Name'] == 'pending' : \n",
    "            print(\"Wait for pending\", instance )\n",
    "            instance.wait_until_running()\n",
    "            is_pending=True\n",
    "            time.sleep(3)\n",
    "\n",
    "        elif instance.state['Name'] == 'running' :\n",
    "            for tag in instance.tags :\n",
    "                if tag['Key'] == 'Name' and tag['Value'] == 'kube_master' :\n",
    "                    print(instance, tag)\n",
    "                    master_list.append(instance)\n",
    "                if tag['Key'] == 'Name' and tag['Value'] == 'kube_worker' :\n",
    "                    print(instance, tag)\n",
    "                    worker_list.append(instance)\n",
    "\n",
    "    return master_list, worker_list\n"
   ]
  },
  {
   "cell_type": "markdown",
   "metadata": {},
   "source": [
    "## wait for pending이 있어서 사용했는데도\n",
    "## 데이터가 처음 긁을땐 안가져와지는 현상이 있어 get again"
   ]
  },
  {
   "cell_type": "code",
   "execution_count": 9,
   "id": "154a0752",
   "metadata": {},
   "outputs": [
    {
     "name": "stdout",
     "output_type": "stream",
     "text": [
      "wait for starting\n",
      "ec2.Instance(id='i-0472a33d932af30b4') {'Key': 'Name', 'Value': 'kube_worker'}\n",
      "ec2.Instance(id='i-0996c6d6f13d8dea6') {'Key': 'Name', 'Value': 'kube_worker'}\n",
      "ec2.Instance(id='i-02ab5225b7e636611') {'Key': 'Name', 'Value': 'kube_worker'}\n",
      "ec2.Instance(id='i-00da84a95a682fbfb') {'Key': 'Name', 'Value': 'kube_master'}\n"
     ]
    }
   ],
   "source": [
    "master_list = []\n",
    "worker_list = []\n",
    "if is_started :\n",
    "    print('wait for starting')\n",
    "    time.sleep(10)\n",
    "    is_started = False\n",
    "    \n",
    "master_list, worker_list = get_cluster_instances()\n",
    "#이 코드 노드 숫자 늘어나면 분명히 문제 생길듯\n",
    "#정 뭣하면 master 먼저 키고 다 된거 확인 한 후 worker 켜서 userdata에 넣어두던가...\n",
    "\n",
    "#뭣하면 master_n, worker_n을 처음부터 써놓고 맞을때까지 기다리거나...\n",
    "while (len(master_list) == 0) or (len(worker_list) == 0) :\n",
    "    print(\"get again\")\n",
    "    master_list, worker_list = get_cluster_instances()"
   ]
  },
  {
   "cell_type": "code",
   "execution_count": null,
   "metadata": {},
   "outputs": [],
   "source": []
  },
  {
   "cell_type": "code",
   "execution_count": 10,
   "id": "2e29cc5e",
   "metadata": {},
   "outputs": [
    {
     "data": {
      "text/plain": [
       "[ec2.Instance(id='i-00da84a95a682fbfb')]"
      ]
     },
     "execution_count": 10,
     "metadata": {},
     "output_type": "execute_result"
    }
   ],
   "source": [
    "master_list"
   ]
  },
  {
   "cell_type": "code",
   "execution_count": 11,
   "metadata": {},
   "outputs": [
    {
     "data": {
      "text/plain": [
       "'35.175.192.231'"
      ]
     },
     "execution_count": 11,
     "metadata": {},
     "output_type": "execute_result"
    }
   ],
   "source": [
    "master_list[0].public_ip_address"
   ]
  },
  {
   "cell_type": "code",
   "execution_count": null,
   "metadata": {},
   "outputs": [],
   "source": []
  },
  {
   "cell_type": "code",
   "execution_count": 12,
   "metadata": {},
   "outputs": [
    {
     "data": {
      "text/plain": [
       "'3.81.217.182'"
      ]
     },
     "execution_count": 12,
     "metadata": {},
     "output_type": "execute_result"
    }
   ],
   "source": [
    "worker_list[0].public_ip_address"
   ]
  },
  {
   "cell_type": "code",
   "execution_count": 13,
   "metadata": {},
   "outputs": [
    {
     "data": {
      "text/plain": [
       "[ec2.Instance(id='i-0472a33d932af30b4'),\n",
       " ec2.Instance(id='i-0996c6d6f13d8dea6'),\n",
       " ec2.Instance(id='i-02ab5225b7e636611')]"
      ]
     },
     "execution_count": 13,
     "metadata": {},
     "output_type": "execute_result"
    }
   ],
   "source": [
    "worker_list"
   ]
  },
  {
   "cell_type": "code",
   "execution_count": null,
   "id": "4f6746dc",
   "metadata": {},
   "outputs": [],
   "source": []
  },
  {
   "cell_type": "code",
   "execution_count": 14,
   "metadata": {},
   "outputs": [],
   "source": [
    "import botocore\n",
    "import paramiko\n",
    "import time\n",
    "\n",
    "#전형적인 template pattern이 필요한 사례같아서 한번 써봄\n",
    "def exec_process(instance_ip, command_list, func_list):\n",
    "\n",
    "    key = paramiko.RSAKey.from_private_key_file('DevOps_Study.pem')\n",
    "    client = paramiko.SSHClient()\n",
    "    client.set_missing_host_key_policy(paramiko.AutoAddPolicy())\n",
    "\n",
    "    print(instance_ip)\n",
    "    result_list = []\n",
    "    try:\n",
    "        client.connect(hostname=instance_ip, username=\"ubuntu\", pkey=key)\n",
    "\n",
    "        for i in range(len(func_list)):\n",
    "            result_list.append(\n",
    "                func_list[i](instance_ip,command_list[i],client)\n",
    "            )\n",
    "\n",
    "        client.close()\n",
    "        \n",
    "    except Exception as e:\n",
    "        print(e)\n",
    "        client.close()\n",
    "    finally:\n",
    "        return result_list\n",
    "\n",
    "def exec_command_func(instance_ip, command, client):\n",
    "    # Execute a command(cmd) after connecting/ssh to an instance\n",
    "    stdin, stdout, stderr = client.exec_command(command)\n",
    "    \n",
    "    output = str(stdout.read() , 'utf-8')\n",
    "    \n",
    "    if output[-1] == \"\\n\":\n",
    "        output = output[:-1]\n",
    "    print(output)\n",
    "    #print(stderr)\n",
    "    \n",
    "    if output == \"kubernetes_ready\\n\" : #\"end\\n\":#\n",
    "        print(instance_ip, \"is ready\")\n",
    "    return output\n",
    "\n",
    "def check_in_while_loop(instance_ip, command, client):\n",
    "    while(True) :\n",
    "        # Execute a command(cmd) after connecting/ssh to an instance\n",
    "        stdin, stdout, stderr = client.exec_command(command)\n",
    "        \n",
    "        output = str(stdout.read() , 'utf-8')\n",
    "        \n",
    "        if output[-1] == \"\\n\":\n",
    "            output = output[:-1]\n",
    "        \n",
    "        print(output)\n",
    "        #print(stderr)\n",
    "        \n",
    "        if output == \"kubernetes_ready\" : #\"end\\n\":#\n",
    "            print(master_ip, \"is ready\")\n",
    "            return True\n",
    "        time.sleep(10)\n",
    "            \n",
    "    return False"
   ]
  },
  {
   "cell_type": "code",
   "execution_count": null,
   "metadata": {},
   "outputs": [],
   "source": []
  },
  {
   "cell_type": "markdown",
   "metadata": {},
   "source": [
    "# user data가 다 끝날때까지 대기 후 node 연결 정보 수집"
   ]
  },
  {
   "cell_type": "code",
   "execution_count": null,
   "metadata": {},
   "outputs": [],
   "source": []
  },
  {
   "cell_type": "code",
   "execution_count": null,
   "metadata": {},
   "outputs": [],
   "source": []
  },
  {
   "cell_type": "code",
   "execution_count": null,
   "metadata": {},
   "outputs": [],
   "source": []
  },
  {
   "cell_type": "code",
   "execution_count": null,
   "metadata": {},
   "outputs": [],
   "source": []
  },
  {
   "cell_type": "code",
   "execution_count": 15,
   "metadata": {},
   "outputs": [],
   "source": [
    "def try_until_finish(master_ip):\n",
    "    try :\n",
    "        result_list = exec_process(instance_ip=master_ip, \n",
    "                                       command_list=['sudo tail -n 1 /var/log/user-data.log',\n",
    "                                                     'sudo kubeadm token create',\n",
    "                                                     \"openssl x509 -pubkey -in /etc/kubernetes/pki/ca.crt | openssl rsa -pubin -outform der 2>/dev/null | openssl dgst -sha256 -hex | sed 's/^.* //'\"\n",
    "                                                    ], \n",
    "                                       func_list=[check_in_while_loop,\n",
    "                                                  exec_command_func,\n",
    "                                                  exec_command_func\n",
    "                                                 ])\n",
    "        return result_list\n",
    "    except Exception as e:\n",
    "        return try_until_finish(master_ip)"
   ]
  },
  {
   "cell_type": "code",
   "execution_count": null,
   "metadata": {},
   "outputs": [],
   "source": []
  },
  {
   "cell_type": "code",
   "execution_count": null,
   "metadata": {},
   "outputs": [],
   "source": []
  },
  {
   "cell_type": "markdown",
   "metadata": {},
   "source": [
    "# 나중에는 여러개 노드를 써서 master node의 high availability를 충족해야 겠지만, 아직은."
   ]
  },
  {
   "cell_type": "code",
   "execution_count": 16,
   "metadata": {},
   "outputs": [
    {
     "name": "stdout",
     "output_type": "stream",
     "text": [
      "0 th job start\n",
      "35.175.192.231\n",
      "Unpacking docker-ce (5:24.0.1-1~ubuntu.22.04~jammy) ...\n",
      "No VM guests are running outdated hypervisor (qemu) binaries on this host.\n",
      "done.\n",
      "Unpacking kubernetes-cni (1.2.0-00) ...\n",
      "No VM guests are running outdated hypervisor (qemu) binaries on this host.\n",
      "[preflight] You can also perform this action in beforehand using 'kubeadm config images pull'\n",
      "[kubeconfig] Writing \"admin.conf\" kubeconfig file\n",
      "[wait-control-plane] Waiting for the kubelet to boot up the control plane as static Pods from directory \"/etc/kubernetes/manifests\". This can take up to 4m0s\n",
      "kubernetes_ready\n",
      "35.175.192.231 is ready\n",
      "8u56vs.o8jeqy3xonatt24j\n",
      "bdc106eb6cb396d23bf5d20d0dfc20562ce079a98fd7c97bdeca8ef66f4d9240\n"
     ]
    }
   ],
   "source": [
    "\n",
    "for i in range(len(master_list)):\n",
    "\n",
    "    \"\"\"\n",
    "    순서대로\n",
    "    1. master 동작 완료 체크\n",
    "    2. token 생성 (찾는거보다 생성이 편함... 혼자쓸때만인가?)\n",
    "    3. --discovery-token-ca-cert-hash 찾기\n",
    "    \"\"\"\n",
    "    \n",
    "    print(i,'th job start')\n",
    "\n",
    "    master_ip = master_list[i].public_ip_address\n",
    "    result_list = try_until_finish(master_ip)\n",
    "    \"\"\"\n",
    "    result_list = exec_process(instance_ip=master_ip, \n",
    "                                   command_list=['sudo tail -n 1 /var/log/user-data.log',\n",
    "                                                 'sudo kubeadm token create',\n",
    "                                                 \"openssl x509 -pubkey -in /etc/kubernetes/pki/ca.crt | openssl rsa -pubin -outform der 2>/dev/null | openssl dgst -sha256 -hex | sed 's/^.* //'\"\n",
    "                                                ], \n",
    "                                   func_list=[check_in_while_loop,\n",
    "                                              exec_command_func,\n",
    "                                              exec_command_func\n",
    "                                             ])\n",
    "    \"\"\""
   ]
  },
  {
   "cell_type": "code",
   "execution_count": null,
   "metadata": {},
   "outputs": [],
   "source": []
  },
  {
   "cell_type": "code",
   "execution_count": 17,
   "metadata": {
    "scrolled": true
   },
   "outputs": [
    {
     "data": {
      "text/plain": [
       "[True,\n",
       " '8u56vs.o8jeqy3xonatt24j',\n",
       " 'bdc106eb6cb396d23bf5d20d0dfc20562ce079a98fd7c97bdeca8ef66f4d9240']"
      ]
     },
     "execution_count": 17,
     "metadata": {},
     "output_type": "execute_result"
    }
   ],
   "source": [
    "result_list"
   ]
  },
  {
   "cell_type": "markdown",
   "metadata": {},
   "source": [
    "## node 연결 명령어 작성"
   ]
  },
  {
   "cell_type": "code",
   "execution_count": 18,
   "metadata": {},
   "outputs": [
    {
     "data": {
      "text/plain": [
       "'sudo kubeadm join 10.1.0.119:6443 --token 8u56vs.o8jeqy3xonatt24j --discovery-token-ca-cert-hash sha256:bdc106eb6cb396d23bf5d20d0dfc20562ce079a98fd7c97bdeca8ef66f4d9240'"
      ]
     },
     "execution_count": 18,
     "metadata": {},
     "output_type": "execute_result"
    }
   ],
   "source": [
    "master_private = master_list[0].private_ip_address\n",
    "token = result_list[1]\n",
    "discovery_token_ca_cert_hash = result_list[2]\n",
    "\n",
    "join_command = \"\"\"sudo kubeadm join {}:6443 --token {} --discovery-token-ca-cert-hash sha256:{}\"\"\".format(master_private,\n",
    "                                                                                                token,\n",
    "                                                                                                discovery_token_ca_cert_hash\n",
    "                                                                                               )\n",
    "\n",
    "join_command"
   ]
  },
  {
   "cell_type": "code",
   "execution_count": null,
   "metadata": {},
   "outputs": [],
   "source": []
  },
  {
   "cell_type": "markdown",
   "metadata": {},
   "source": [
    "## worker 연결 : 수가 많아지면 multi thread를 써야 겠지만 아직은."
   ]
  },
  {
   "cell_type": "code",
   "execution_count": 19,
   "metadata": {
    "scrolled": true
   },
   "outputs": [
    {
     "name": "stdout",
     "output_type": "stream",
     "text": [
      "0 th job start\n",
      "3.81.217.182\n",
      "kubernetes_ready\n",
      "35.175.192.231 is ready\n",
      "[preflight] Running pre-flight checks\n",
      "[preflight] Reading configuration from the cluster...\n",
      "[preflight] FYI: You can look at this config file with 'kubectl -n kube-system get cm kubeadm-config -o yaml'\n",
      "[kubelet-start] Writing kubelet configuration to file \"/var/lib/kubelet/config.yaml\"\n",
      "[kubelet-start] Writing kubelet environment file with flags to file \"/var/lib/kubelet/kubeadm-flags.env\"\n",
      "[kubelet-start] Starting the kubelet\n",
      "[kubelet-start] Waiting for the kubelet to perform the TLS Bootstrap...\n",
      "\n",
      "This node has joined the cluster:\n",
      "* Certificate signing request was sent to apiserver and a response was received.\n",
      "* The Kubelet was informed of the new secure connection details.\n",
      "\n",
      "Run 'kubectl get nodes' on the control-plane to see this node join the cluster.\n",
      "\n",
      "1 th job start\n",
      "54.166.235.196\n",
      "Unpacking kubelet (1.21.7-00) ...\n",
      "Processing triggers for man-db (2.10.2-1) ...\n",
      "kubernetes_ready\n",
      "35.175.192.231 is ready\n",
      "[preflight] Running pre-flight checks\n",
      "[preflight] Reading configuration from the cluster...\n",
      "[preflight] FYI: You can look at this config file with 'kubectl -n kube-system get cm kubeadm-config -o yaml'\n",
      "[kubelet-start] Writing kubelet configuration to file \"/var/lib/kubelet/config.yaml\"\n",
      "[kubelet-start] Writing kubelet environment file with flags to file \"/var/lib/kubelet/kubeadm-flags.env\"\n",
      "[kubelet-start] Starting the kubelet\n",
      "[kubelet-start] Waiting for the kubelet to perform the TLS Bootstrap...\n",
      "\n",
      "This node has joined the cluster:\n",
      "* Certificate signing request was sent to apiserver and a response was received.\n",
      "* The Kubelet was informed of the new secure connection details.\n",
      "\n",
      "Run 'kubectl get nodes' on the control-plane to see this node join the cluster.\n",
      "\n",
      "2 th job start\n",
      "3.95.233.235\n",
      "kubernetes_ready\n",
      "35.175.192.231 is ready\n",
      "[preflight] Running pre-flight checks\n",
      "[preflight] Reading configuration from the cluster...\n",
      "[preflight] FYI: You can look at this config file with 'kubectl -n kube-system get cm kubeadm-config -o yaml'\n",
      "[kubelet-start] Writing kubelet configuration to file \"/var/lib/kubelet/config.yaml\"\n",
      "[kubelet-start] Writing kubelet environment file with flags to file \"/var/lib/kubelet/kubeadm-flags.env\"\n",
      "[kubelet-start] Starting the kubelet\n",
      "[kubelet-start] Waiting for the kubelet to perform the TLS Bootstrap...\n",
      "\n",
      "This node has joined the cluster:\n",
      "* Certificate signing request was sent to apiserver and a response was received.\n",
      "* The Kubelet was informed of the new secure connection details.\n",
      "\n",
      "Run 'kubectl get nodes' on the control-plane to see this node join the cluster.\n",
      "\n"
     ]
    }
   ],
   "source": [
    "for i in range(len(worker_list)):\n",
    "    \n",
    "    print(i,'th job start')\n",
    "\n",
    "    worker_ip = worker_list[i].public_ip_address\n",
    "    result_list = exec_process(instance_ip=worker_ip, \n",
    "                               command_list=['sudo tail -n 1 /var/log/user-data.log',\n",
    "                                             join_command\n",
    "                                            ], \n",
    "                               func_list=[check_in_while_loop,\n",
    "                                          exec_command_func\n",
    "                                         ])"
   ]
  },
  {
   "cell_type": "code",
   "execution_count": null,
   "metadata": {},
   "outputs": [],
   "source": []
  },
  {
   "cell_type": "code",
   "execution_count": 20,
   "metadata": {
    "scrolled": true
   },
   "outputs": [
    {
     "name": "stdout",
     "output_type": "stream",
     "text": [
      "ec2.Instance(id='i-0472a33d932af30b4') 3.81.217.182 10.1.0.179\n",
      "ec2.Instance(id='i-0996c6d6f13d8dea6') 54.166.235.196 10.1.0.4\n",
      "ec2.Instance(id='i-02ab5225b7e636611') 3.95.233.235 10.1.0.230\n"
     ]
    }
   ],
   "source": [
    "for worker in worker_list:\n",
    "    print(worker, worker.public_ip_address, worker.private_ip_address)"
   ]
  },
  {
   "cell_type": "code",
   "execution_count": null,
   "metadata": {},
   "outputs": [],
   "source": []
  },
  {
   "cell_type": "markdown",
   "metadata": {},
   "source": [
    "## 결과 확인 : 여러개 하니까 나중에 넣은건 한동안 not ready 뜨기도 하네, 시간지나니까 health check끝나서 연결됨"
   ]
  },
  {
   "cell_type": "code",
   "execution_count": 21,
   "metadata": {
    "scrolled": true
   },
   "outputs": [
    {
     "name": "stdout",
     "output_type": "stream",
     "text": [
      "35.175.192.231\n",
      "NAME            STATUS     ROLES                  AGE   VERSION\n",
      "ip-10-1-0-119   Ready      control-plane,master   69s   v1.21.7\n",
      "ip-10-1-0-179   Ready      <none>                 50s   v1.21.7\n",
      "ip-10-1-0-230   NotReady   <none>                 7s    v1.21.7\n",
      "ip-10-1-0-4     Ready      <none>                 18s   v1.21.7\n"
     ]
    }
   ],
   "source": [
    "\n",
    "    master_ip = master_list[0].public_ip_address\n",
    "    result_list = exec_process(instance_ip=master_ip, \n",
    "                               command_list=[\"sudo kubectl get nodes\"], \n",
    "                               func_list=[exec_command_func])"
   ]
  },
  {
   "cell_type": "code",
   "execution_count": null,
   "metadata": {},
   "outputs": [],
   "source": []
  },
  {
   "cell_type": "code",
   "execution_count": 22,
   "metadata": {
    "scrolled": true
   },
   "outputs": [
    {
     "name": "stdout",
     "output_type": "stream",
     "text": [
      "ec2.Instance(id='i-00da84a95a682fbfb') 35.175.192.231 10.1.0.119\n"
     ]
    }
   ],
   "source": [
    "for master in master_list:\n",
    "    print(master, master.public_ip_address, master.private_ip_address)"
   ]
  },
  {
   "cell_type": "code",
   "execution_count": null,
   "metadata": {},
   "outputs": [],
   "source": []
  },
  {
   "cell_type": "code",
   "execution_count": 23,
   "metadata": {},
   "outputs": [
    {
     "name": "stdout",
     "output_type": "stream",
     "text": [
      "ec2.Instance(id='i-0472a33d932af30b4') 3.81.217.182 10.1.0.179\n",
      "ec2.Instance(id='i-0996c6d6f13d8dea6') 54.166.235.196 10.1.0.4\n",
      "ec2.Instance(id='i-02ab5225b7e636611') 3.95.233.235 10.1.0.230\n"
     ]
    }
   ],
   "source": [
    "for worker in worker_list:\n",
    "    print(worker, worker.public_ip_address, worker.private_ip_address)"
   ]
  },
  {
   "cell_type": "code",
   "execution_count": null,
   "metadata": {},
   "outputs": [],
   "source": []
  }
 ],
 "metadata": {
  "kernelspec": {
   "display_name": "Python 3",
   "language": "python",
   "name": "python3"
  },
  "language_info": {
   "codemirror_mode": {
    "name": "ipython",
    "version": 3
   },
   "file_extension": ".py",
   "mimetype": "text/x-python",
   "name": "python",
   "nbconvert_exporter": "python",
   "pygments_lexer": "ipython3",
   "version": "3.8.10"
  }
 },
 "nbformat": 4,
 "nbformat_minor": 5
}
