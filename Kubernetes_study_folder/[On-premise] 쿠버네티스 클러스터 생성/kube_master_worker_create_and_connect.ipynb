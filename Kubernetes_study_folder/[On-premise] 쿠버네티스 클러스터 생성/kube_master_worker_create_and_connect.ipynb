{
 "cells": [
  {
   "cell_type": "code",
   "execution_count": null,
   "id": "52bd9108",
   "metadata": {},
   "outputs": [],
   "source": []
  },
  {
   "cell_type": "code",
   "execution_count": null,
   "id": "0ef80958",
   "metadata": {},
   "outputs": [],
   "source": []
  },
  {
   "attachments": {},
   "cell_type": "markdown",
   "id": "9e2a71cf",
   "metadata": {},
   "source": [
    "# ###주의 이 파일은 worker, master를 연결만 하는 스크립트 입니다.\n",
    "# worker, master에 대한 변경이 필요하면 terraform, userdata를 고쳐야 합니다."
   ]
  },
  {
   "cell_type": "code",
   "execution_count": null,
   "id": "71ac26cd",
   "metadata": {},
   "outputs": [],
   "source": []
  },
  {
   "cell_type": "code",
   "execution_count": null,
   "id": "e1d751ee",
   "metadata": {},
   "outputs": [],
   "source": []
  },
  {
   "attachments": {},
   "cell_type": "markdown",
   "id": "5ba86ffa",
   "metadata": {},
   "source": [
    "# 순서!\n",
    "\n",
    "## 1. terraform으로 클러스터 생성\n",
    "## 2. user data로 들어가는 스크립트 파일로 kubernetes 설치\n",
    "## 3. 설치 후 ending text 를 echo함\n",
    "## 4. kube_join.txt 파일의 값을 읽어서 worker에 뿌림\n",
    "## 5. 다 작성하면 쉘스크립트에 테라폼 apply 까지 묶어서 한번에 가자"
   ]
  },
  {
   "cell_type": "code",
   "execution_count": null,
   "id": "d16772bf",
   "metadata": {},
   "outputs": [],
   "source": []
  },
  {
   "attachments": {},
   "cell_type": "markdown",
   "id": "eb10f8f2",
   "metadata": {},
   "source": [
    "# 정말 마지막 테스트 worker 3개.\n",
    "## 아... 그냥 fully managed service 써도 되는 개발자들 부럽다..."
   ]
  },
  {
   "cell_type": "code",
   "execution_count": null,
   "id": "089f0426",
   "metadata": {},
   "outputs": [],
   "source": []
  },
  {
   "attachments": {},
   "cell_type": "markdown",
   "id": "1e6515fe",
   "metadata": {},
   "source": [
    "# 근데 테라폼 한번 배워서 진짜 요긴하게 잘 써먹네.\n",
    "## 솔직히 테라폼 없었으면 에러 한두번 발생했을때 인스턴스 다시 키는거 너무 힘들어서 좌절했을듯"
   ]
  },
  {
   "cell_type": "code",
   "execution_count": null,
   "id": "6cb03068",
   "metadata": {},
   "outputs": [],
   "source": []
  },
  {
   "cell_type": "code",
   "execution_count": null,
   "id": "63a1f6db",
   "metadata": {},
   "outputs": [],
   "source": []
  },
  {
   "attachments": {},
   "cell_type": "markdown",
   "id": "644db00d",
   "metadata": {},
   "source": [
    "https://askubuntu.com/questions/983351/how-to-install-terraform-in-ubuntu"
   ]
  },
  {
   "attachments": {},
   "cell_type": "markdown",
   "id": "2bac1ab1",
   "metadata": {},
   "source": [
    "!apt install -y wget\n",
    "!wget https://releases.hashicorp.com/terraform/1.0.7/terraform_1.0.7_linux_amd64.zip\n",
    "!unzip terraform_1.0.7_linux_amd64.zip\n",
    "!mv terraform /usr/local/bin/\n",
    "!terraform --version "
   ]
  },
  {
   "attachments": {},
   "cell_type": "markdown",
   "id": "41346f5c",
   "metadata": {},
   "source": [
    "!rm terraform_1.0.7_linux_amd64.zip"
   ]
  },
  {
   "cell_type": "code",
   "execution_count": null,
   "id": "f570715e",
   "metadata": {},
   "outputs": [],
   "source": []
  },
  {
   "cell_type": "code",
   "execution_count": 1,
   "id": "3c41dab9",
   "metadata": {},
   "outputs": [],
   "source": [
    "#!terraform init"
   ]
  },
  {
   "cell_type": "code",
   "execution_count": null,
   "id": "15323371",
   "metadata": {},
   "outputs": [],
   "source": []
  },
  {
   "cell_type": "code",
   "execution_count": 2,
   "id": "929f3c91",
   "metadata": {},
   "outputs": [],
   "source": [
    "#!terraform destroy -auto-approve"
   ]
  },
  {
   "cell_type": "code",
   "execution_count": null,
   "id": "ba103092",
   "metadata": {},
   "outputs": [],
   "source": []
  },
  {
   "cell_type": "code",
   "execution_count": 3,
   "id": "0605aee1",
   "metadata": {},
   "outputs": [],
   "source": [
    "#!terraform plan"
   ]
  },
  {
   "cell_type": "code",
   "execution_count": null,
   "id": "5d8b57a7",
   "metadata": {},
   "outputs": [],
   "source": []
  },
  {
   "cell_type": "code",
   "execution_count": 4,
   "id": "ef6faa63",
   "metadata": {},
   "outputs": [],
   "source": [
    "#!terraform apply -auto-approve"
   ]
  },
  {
   "cell_type": "code",
   "execution_count": null,
   "id": "b28bb98a",
   "metadata": {},
   "outputs": [],
   "source": []
  },
  {
   "cell_type": "code",
   "execution_count": 5,
   "id": "2ef2ee45",
   "metadata": {},
   "outputs": [
    {
     "name": "stdout",
     "output_type": "stream",
     "text": [
      "wait for terraform\n"
     ]
    }
   ],
   "source": [
    "import time\n",
    "\n",
    "print('wait for terraform')\n",
    "time.sleep(30)"
   ]
  },
  {
   "cell_type": "code",
   "execution_count": null,
   "id": "06b349b5",
   "metadata": {},
   "outputs": [],
   "source": []
  },
  {
   "cell_type": "code",
   "execution_count": null,
   "id": "fff4351b",
   "metadata": {},
   "outputs": [],
   "source": []
  },
  {
   "cell_type": "code",
   "execution_count": null,
   "id": "4532f74e",
   "metadata": {},
   "outputs": [],
   "source": []
  },
  {
   "cell_type": "code",
   "execution_count": null,
   "id": "74ab085e",
   "metadata": {},
   "outputs": [],
   "source": []
  },
  {
   "attachments": {},
   "cell_type": "markdown",
   "id": "e3878261",
   "metadata": {},
   "source": [
    "## 만들어진 인스턴스 목록 획득"
   ]
  },
  {
   "attachments": {},
   "cell_type": "markdown",
   "id": "4ec2d0d7",
   "metadata": {},
   "source": [
    "https://stackoverflow.com/questions/33297172/boto3-error-botocore-exceptions-nocredentialserror-unable-to-locate-credential"
   ]
  },
  {
   "cell_type": "code",
   "execution_count": null,
   "id": "85c3c58f",
   "metadata": {},
   "outputs": [],
   "source": []
  },
  {
   "cell_type": "code",
   "execution_count": null,
   "id": "b4e6a7a4",
   "metadata": {},
   "outputs": [],
   "source": []
  },
  {
   "attachments": {},
   "cell_type": "markdown",
   "id": "1c5c7863",
   "metadata": {},
   "source": [
    "# 인스턴스 연결 설정 들"
   ]
  },
  {
   "attachments": {},
   "cell_type": "markdown",
   "id": "81720b4c",
   "metadata": {},
   "source": [
    "!mkdir -p ~/.aws\n",
    "#!ls ~/.aws"
   ]
  },
  {
   "cell_type": "code",
   "execution_count": null,
   "id": "c7c7f790",
   "metadata": {},
   "outputs": [],
   "source": []
  },
  {
   "attachments": {},
   "cell_type": "markdown",
   "id": "1ac9e449",
   "metadata": {},
   "source": [
    "!(echo \" \\\n",
    "[default] \\n \\\n",
    "aws_access_key_id = 키키키키 \\n \\\n",
    "aws_secret_access_key = 쉬크릿쉬크릿쉬크릿쉬크릿 \\\n",
    "\") | tee ~/.aws/credentials"
   ]
  },
  {
   "cell_type": "code",
   "execution_count": null,
   "id": "a3706f0d",
   "metadata": {},
   "outputs": [],
   "source": []
  },
  {
   "attachments": {},
   "cell_type": "markdown",
   "id": "70b456fe",
   "metadata": {},
   "source": [
    "!(echo \" \\\n",
    "[default] \\n \\\n",
    "region = us-east-1 \\n \\\n",
    "output = json \\\n",
    "\") | tee ~/.aws/config|"
   ]
  },
  {
   "cell_type": "code",
   "execution_count": null,
   "id": "778e0721",
   "metadata": {},
   "outputs": [],
   "source": []
  },
  {
   "cell_type": "code",
   "execution_count": null,
   "id": "73a8ce6a",
   "metadata": {},
   "outputs": [],
   "source": []
  },
  {
   "cell_type": "code",
   "execution_count": 6,
   "id": "ed23115c",
   "metadata": {},
   "outputs": [],
   "source": [
    "import boto3\n",
    "import time"
   ]
  },
  {
   "cell_type": "code",
   "execution_count": null,
   "id": "d118ba40",
   "metadata": {},
   "outputs": [],
   "source": []
  },
  {
   "attachments": {},
   "cell_type": "markdown",
   "id": "af91b2a8",
   "metadata": {},
   "source": [
    "# 인스턴스가 생성되는 걸 기다렸다가 이름을 기준으로 master, worker 분류\n",
    "## terraform에서는 현재 불가능 하거나, 두번에 나눠 해야 되서 여기서 진행"
   ]
  },
  {
   "cell_type": "code",
   "execution_count": 7,
   "id": "c72b1e9a",
   "metadata": {},
   "outputs": [],
   "source": [
    "is_started = True"
   ]
  },
  {
   "cell_type": "code",
   "execution_count": null,
   "id": "4c937530",
   "metadata": {},
   "outputs": [],
   "source": []
  },
  {
   "cell_type": "code",
   "execution_count": 8,
   "id": "06e93904",
   "metadata": {},
   "outputs": [],
   "source": [
    "def get_cluster_instances():\n",
    "    ec2 = boto3.resource('ec2')\n",
    "    \n",
    "    master_list = []\n",
    "    worker_list = []\n",
    "    \n",
    "    for instance in ec2.instances.all():\n",
    "\n",
    "        if instance.state['Name'] == 'pending' : \n",
    "            print(\"Wait for pending\", instance )\n",
    "            instance.wait_until_running()\n",
    "            is_pending=True\n",
    "            time.sleep(3)\n",
    "\n",
    "        elif instance.state['Name'] == 'running' :\n",
    "            for tag in instance.tags :\n",
    "                if tag['Key'] == 'Name' and tag['Value'] == 'kube_master' :\n",
    "                    print(instance, tag)\n",
    "                    master_list.append(instance)\n",
    "                if tag['Key'] == 'Name' and tag['Value'] == 'kube_worker' :\n",
    "                    print(instance, tag)\n",
    "                    worker_list.append(instance)\n",
    "\n",
    "    return master_list, worker_list\n"
   ]
  },
  {
   "attachments": {},
   "cell_type": "markdown",
   "id": "9f765924",
   "metadata": {},
   "source": [
    "## wait for pending이 있어서 사용했는데도\n",
    "## 데이터가 처음 긁을땐 안가져와지는 현상이 있어 get again"
   ]
  },
  {
   "cell_type": "code",
   "execution_count": 9,
   "id": "154a0752",
   "metadata": {},
   "outputs": [
    {
     "name": "stdout",
     "output_type": "stream",
     "text": [
      "wait for starting\n",
      "ec2.Instance(id='i-07aa700ee918914a5') {'Key': 'Name', 'Value': 'kube_master'}\n",
      "ec2.Instance(id='i-067767b5ffebf3aec') {'Key': 'Name', 'Value': 'kube_worker'}\n",
      "ec2.Instance(id='i-00e42a6002cb9d776') {'Key': 'Name', 'Value': 'kube_worker'}\n",
      "ec2.Instance(id='i-0e182500cfa64d3b7') {'Key': 'Name', 'Value': 'kube_worker'}\n"
     ]
    }
   ],
   "source": [
    "master_list = []\n",
    "worker_list = []\n",
    "if is_started :\n",
    "    print('wait for starting')\n",
    "    time.sleep(10)\n",
    "    is_started = False\n",
    "    \n",
    "master_list, worker_list = get_cluster_instances()\n",
    "#이 코드 노드 숫자 늘어나면 분명히 문제 생길듯\n",
    "#정 뭣하면 master 먼저 키고 다 된거 확인 한 후 worker 켜서 userdata에 넣어두던가...\n",
    "\n",
    "#뭣하면 master_n, worker_n을 처음부터 써놓고 맞을때까지 기다리거나...\n",
    "while (len(master_list) == 0) or (len(worker_list) == 0) :\n",
    "    print(\"get again\")\n",
    "    master_list, worker_list = get_cluster_instances()"
   ]
  },
  {
   "cell_type": "code",
   "execution_count": null,
   "id": "b1845494",
   "metadata": {},
   "outputs": [],
   "source": []
  },
  {
   "cell_type": "code",
   "execution_count": 10,
   "id": "2e29cc5e",
   "metadata": {},
   "outputs": [
    {
     "data": {
      "text/plain": [
       "[ec2.Instance(id='i-07aa700ee918914a5')]"
      ]
     },
     "execution_count": 10,
     "metadata": {},
     "output_type": "execute_result"
    }
   ],
   "source": [
    "master_list"
   ]
  },
  {
   "cell_type": "code",
   "execution_count": 11,
   "id": "8405e570",
   "metadata": {},
   "outputs": [
    {
     "data": {
      "text/plain": [
       "'107.20.60.225'"
      ]
     },
     "execution_count": 11,
     "metadata": {},
     "output_type": "execute_result"
    }
   ],
   "source": [
    "master_list[0].public_ip_address"
   ]
  },
  {
   "cell_type": "code",
   "execution_count": null,
   "id": "75d8ebad",
   "metadata": {},
   "outputs": [],
   "source": []
  },
  {
   "cell_type": "code",
   "execution_count": 12,
   "id": "20b9970f",
   "metadata": {},
   "outputs": [
    {
     "data": {
      "text/plain": [
       "'3.90.49.163'"
      ]
     },
     "execution_count": 12,
     "metadata": {},
     "output_type": "execute_result"
    }
   ],
   "source": [
    "worker_list[0].public_ip_address"
   ]
  },
  {
   "cell_type": "code",
   "execution_count": 13,
   "id": "12902b11",
   "metadata": {},
   "outputs": [
    {
     "data": {
      "text/plain": [
       "[ec2.Instance(id='i-067767b5ffebf3aec'),\n",
       " ec2.Instance(id='i-00e42a6002cb9d776'),\n",
       " ec2.Instance(id='i-0e182500cfa64d3b7')]"
      ]
     },
     "execution_count": 13,
     "metadata": {},
     "output_type": "execute_result"
    }
   ],
   "source": [
    "worker_list"
   ]
  },
  {
   "cell_type": "code",
   "execution_count": null,
   "id": "4f6746dc",
   "metadata": {},
   "outputs": [],
   "source": []
  },
  {
   "cell_type": "code",
   "execution_count": 14,
   "id": "ed599baf",
   "metadata": {},
   "outputs": [],
   "source": [
    "import botocore\n",
    "import paramiko\n",
    "import time\n",
    "\n",
    "#전형적인 template pattern이 필요한 사례같아서 한번 써봄\n",
    "def exec_process(instance_ip, command_list, func_list):\n",
    "\n",
    "    key = paramiko.RSAKey.from_private_key_file('DevOps_Study.pem')\n",
    "    client = paramiko.SSHClient()\n",
    "    client.set_missing_host_key_policy(paramiko.AutoAddPolicy())\n",
    "\n",
    "    print(instance_ip)\n",
    "    result_list = []\n",
    "    try:\n",
    "        client.connect(hostname=instance_ip, username=\"ubuntu\", pkey=key)\n",
    "\n",
    "        for i in range(len(func_list)):\n",
    "            result_list.append(\n",
    "                func_list[i](instance_ip,command_list[i],client)\n",
    "            )\n",
    "\n",
    "        client.close()\n",
    "        \n",
    "    except Exception as e:\n",
    "        print(e)\n",
    "        client.close()\n",
    "    finally:\n",
    "        return result_list\n",
    "\n",
    "def exec_command_func(instance_ip, command, client):\n",
    "    # Execute a command(cmd) after connecting/ssh to an instance\n",
    "    stdin, stdout, stderr = client.exec_command(command)\n",
    "    \n",
    "    output = str(stdout.read() , 'utf-8')\n",
    "    \n",
    "    if output[-1] == \"\\n\":\n",
    "        output = output[:-1]\n",
    "    print(output)\n",
    "    #print(stderr)\n",
    "    \n",
    "    if output == \"kubernetes_ready\\n\" : #\"end\\n\":#\n",
    "        print(instance_ip, \"is ready\")\n",
    "    return output\n",
    "\n",
    "def check_in_while_loop(instance_ip, command, client):\n",
    "    while(True) :\n",
    "        # Execute a command(cmd) after connecting/ssh to an instance\n",
    "        stdin, stdout, stderr = client.exec_command(command)\n",
    "        \n",
    "        output = str(stdout.read() , 'utf-8')\n",
    "        \n",
    "        if output[-1] == \"\\n\":\n",
    "            output = output[:-1]\n",
    "        \n",
    "        print(output)\n",
    "        #print(stderr)\n",
    "        \n",
    "        if output == \"kubernetes_ready\" : #\"end\\n\":#\n",
    "            print(master_ip, \"is ready\")\n",
    "            return True\n",
    "        time.sleep(10)\n",
    "            \n",
    "    return False"
   ]
  },
  {
   "cell_type": "code",
   "execution_count": null,
   "id": "5f6ab52e",
   "metadata": {},
   "outputs": [],
   "source": []
  },
  {
   "attachments": {},
   "cell_type": "markdown",
   "id": "73b3abbe",
   "metadata": {},
   "source": [
    "# user data가 다 끝날때까지 대기 후 node 연결 정보 수집"
   ]
  },
  {
   "cell_type": "code",
   "execution_count": null,
   "id": "b3055bb6",
   "metadata": {},
   "outputs": [],
   "source": []
  },
  {
   "cell_type": "code",
   "execution_count": null,
   "id": "c8203774",
   "metadata": {},
   "outputs": [],
   "source": []
  },
  {
   "cell_type": "code",
   "execution_count": null,
   "id": "e9597928",
   "metadata": {},
   "outputs": [],
   "source": []
  },
  {
   "cell_type": "code",
   "execution_count": null,
   "id": "20acd858",
   "metadata": {},
   "outputs": [],
   "source": []
  },
  {
   "cell_type": "code",
   "execution_count": 15,
   "id": "125ab365",
   "metadata": {},
   "outputs": [],
   "source": [
    "def try_until_finish(master_ip):\n",
    "    try :\n",
    "        result_list = exec_process(instance_ip=master_ip, \n",
    "                                       command_list=['sudo tail -n 1 /var/log/user-data.log',\n",
    "                                                     'sudo kubeadm token create',\n",
    "                                                     \"openssl x509 -pubkey -in /etc/kubernetes/pki/ca.crt | openssl rsa -pubin -outform der 2>/dev/null | openssl dgst -sha256 -hex | sed 's/^.* //'\"\n",
    "                                                    ], \n",
    "                                       func_list=[check_in_while_loop,\n",
    "                                                  exec_command_func,\n",
    "                                                  exec_command_func\n",
    "                                                 ])\n",
    "        return result_list\n",
    "    except Exception as e:\n",
    "        print(e)\n",
    "        time.sleep(10)\n",
    "        return try_until_finish(master_ip)"
   ]
  },
  {
   "cell_type": "code",
   "execution_count": null,
   "id": "69b54b32",
   "metadata": {},
   "outputs": [],
   "source": []
  },
  {
   "cell_type": "code",
   "execution_count": null,
   "id": "6675e6fd",
   "metadata": {},
   "outputs": [],
   "source": []
  },
  {
   "attachments": {},
   "cell_type": "markdown",
   "id": "5b3b3f0f",
   "metadata": {},
   "source": [
    "# 나중에는 여러개 노드를 써서 master node의 high availability를 충족해야 겠지만, 아직은."
   ]
  },
  {
   "cell_type": "code",
   "execution_count": 17,
   "id": "0d0f3d1c",
   "metadata": {},
   "outputs": [
    {
     "name": "stdout",
     "output_type": "stream",
     "text": [
      "0 th job start\n",
      "107.20.60.225\n",
      "Authentication failed.\n"
     ]
    }
   ],
   "source": [
    "\n",
    "for i in range(len(master_list)):\n",
    "\n",
    "    \"\"\"\n",
    "    순서대로\n",
    "    1. master 동작 완료 체크\n",
    "    2. token 생성 (찾는거보다 생성이 편함... 혼자쓸때만인가?)\n",
    "    3. --discovery-token-ca-cert-hash 찾기\n",
    "    \"\"\"\n",
    "    \n",
    "    print(i,'th job start')\n",
    "\n",
    "    master_ip = master_list[i].public_ip_address\n",
    "    result_list = try_until_finish(master_ip)\n",
    "\n",
    "    #쿠버네티스 새 버전을 받으면서 userdata 명령으로 flannel apply가 안되서 그냥 여기서 처리하기로 함.\n",
    "    result_list_2 = exec_process(instance_ip=master_ip, \n",
    "                                   command_list=[\n",
    "                                                 'sudo kubectl apply -f https://raw.githubusercontent.com/coreos/flannel/master/Documentation/kube-flannel.yml',\n",
    "                                                   'sudo kubectl get nodes',\n",
    "                                                   'sudo kubectl get pod --namespace=kube-system -o wide'\n",
    "                                   ], \n",
    "                                   func_list=[\n",
    "                                              exec_command_func,\n",
    "                                              exec_command_func,\n",
    "                                              exec_command_func\n",
    "                                             ])\n",
    "    \n",
    "    \"\"\"\n",
    "    result_list = exec_process(instance_ip=master_ip, \n",
    "                                   command_list=['sudo tail -n 1 /var/log/user-data.log',\n",
    "                                                 'sudo kubeadm token create',\n",
    "                                                 \"openssl x509 -pubkey -in /etc/kubernetes/pki/ca.crt | openssl rsa -pubin -outform der 2>/dev/null | openssl dgst -sha256 -hex | sed 's/^.* //'\"\n",
    "                                                ], \n",
    "                                   func_list=[check_in_while_loop,\n",
    "                                              exec_command_func,\n",
    "                                              exec_command_func\n",
    "                                             ])\n",
    "    \"\"\""
   ]
  },
  {
   "cell_type": "code",
   "execution_count": null,
   "id": "c76ac7ec",
   "metadata": {},
   "outputs": [],
   "source": []
  },
  {
   "cell_type": "code",
   "execution_count": null,
   "id": "56a0f96d",
   "metadata": {
    "scrolled": true
   },
   "outputs": [],
   "source": [
    "result_list"
   ]
  },
  {
   "attachments": {},
   "cell_type": "markdown",
   "id": "74fea496",
   "metadata": {},
   "source": [
    "## node 연결 명령어 작성"
   ]
  },
  {
   "cell_type": "code",
   "execution_count": null,
   "id": "74b11042",
   "metadata": {},
   "outputs": [],
   "source": [
    "master_private = master_list[0].private_ip_address\n",
    "token = result_list[1]\n",
    "discovery_token_ca_cert_hash = result_list[2]\n",
    "\n",
    "join_command = \"\"\"sudo kubeadm join {}:6443 --token {} --discovery-token-ca-cert-hash sha256:{}\"\"\".format(master_private,\n",
    "                                                                                                token,\n",
    "                                                                                                discovery_token_ca_cert_hash\n",
    "                                                                                               )\n",
    "\n",
    "join_command"
   ]
  },
  {
   "cell_type": "code",
   "execution_count": null,
   "id": "d89d2ff1",
   "metadata": {},
   "outputs": [],
   "source": []
  },
  {
   "attachments": {},
   "cell_type": "markdown",
   "id": "7434580e",
   "metadata": {},
   "source": [
    "## worker 연결 : 수가 많아지면 multi thread를 써야 겠지만 아직은."
   ]
  },
  {
   "cell_type": "code",
   "execution_count": null,
   "id": "eab7197c",
   "metadata": {
    "scrolled": true
   },
   "outputs": [],
   "source": [
    "for i in range(len(worker_list)):\n",
    "    \n",
    "    print(i,'th job start')\n",
    "\n",
    "    worker_ip = worker_list[i].public_ip_address\n",
    "    result_list = exec_process(instance_ip=worker_ip, \n",
    "                               command_list=['sudo tail -n 1 /var/log/user-data.log',\n",
    "                                             join_command\n",
    "                                            ], \n",
    "                               func_list=[check_in_while_loop,\n",
    "                                          exec_command_func\n",
    "                                         ])"
   ]
  },
  {
   "cell_type": "code",
   "execution_count": null,
   "id": "73469af9",
   "metadata": {},
   "outputs": [],
   "source": []
  },
  {
   "cell_type": "code",
   "execution_count": null,
   "id": "6800ad01",
   "metadata": {
    "scrolled": true
   },
   "outputs": [],
   "source": [
    "for worker in worker_list:\n",
    "    print(worker, worker.public_ip_address, worker.private_ip_address)"
   ]
  },
  {
   "cell_type": "code",
   "execution_count": null,
   "id": "58122178",
   "metadata": {},
   "outputs": [],
   "source": []
  },
  {
   "attachments": {},
   "cell_type": "markdown",
   "id": "1c5f3717",
   "metadata": {},
   "source": [
    "## 결과 확인 : 여러개 하니까 나중에 넣은건 한동안 not ready 뜨기도 하네, 시간지나니까 health check끝나서 연결됨"
   ]
  },
  {
   "cell_type": "code",
   "execution_count": null,
   "id": "3b826b7a",
   "metadata": {
    "scrolled": true
   },
   "outputs": [],
   "source": [
    "\n",
    "    master_ip = master_list[0].public_ip_address\n",
    "    result_list = exec_process(instance_ip=master_ip, \n",
    "                               command_list=[\"sudo kubectl get nodes\"], \n",
    "                               func_list=[exec_command_func])"
   ]
  },
  {
   "cell_type": "code",
   "execution_count": null,
   "id": "f3289a3c",
   "metadata": {},
   "outputs": [],
   "source": []
  },
  {
   "cell_type": "code",
   "execution_count": null,
   "id": "603bd86c",
   "metadata": {
    "scrolled": true
   },
   "outputs": [],
   "source": [
    "for master in master_list:\n",
    "    print(master, master.public_ip_address, master.private_ip_address)"
   ]
  },
  {
   "cell_type": "code",
   "execution_count": null,
   "id": "f815c240",
   "metadata": {},
   "outputs": [],
   "source": []
  },
  {
   "cell_type": "code",
   "execution_count": null,
   "id": "ff3856a2",
   "metadata": {},
   "outputs": [],
   "source": [
    "for worker in worker_list:\n",
    "    print(worker, worker.public_ip_address, worker.private_ip_address)"
   ]
  },
  {
   "cell_type": "code",
   "execution_count": null,
   "id": "5b242adb",
   "metadata": {},
   "outputs": [],
   "source": []
  }
 ],
 "metadata": {
  "kernelspec": {
   "display_name": "Python 3 (ipykernel)",
   "language": "python",
   "name": "python3"
  },
  "language_info": {
   "codemirror_mode": {
    "name": "ipython",
    "version": 3
   },
   "file_extension": ".py",
   "mimetype": "text/x-python",
   "name": "python",
   "nbconvert_exporter": "python",
   "pygments_lexer": "ipython3",
   "version": "3.9.12"
  }
 },
 "nbformat": 4,
 "nbformat_minor": 5
}
