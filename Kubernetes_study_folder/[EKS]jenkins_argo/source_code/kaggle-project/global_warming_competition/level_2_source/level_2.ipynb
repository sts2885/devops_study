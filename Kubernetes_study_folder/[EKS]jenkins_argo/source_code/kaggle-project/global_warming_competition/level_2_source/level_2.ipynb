{
 "cells": [
  {
   "cell_type": "code",
   "execution_count": null,
   "id": "b4b9fb08-370c-43d0-b051-50baab5852a1",
   "metadata": {},
   "outputs": [],
   "source": []
  },
  {
   "cell_type": "code",
   "execution_count": null,
   "id": "9741ba3b-de9a-4891-8631-54bf23656901",
   "metadata": {},
   "outputs": [],
   "source": []
  },
  {
   "cell_type": "code",
   "execution_count": 1,
   "id": "047d5eee-97ff-43c1-8925-275281c233c9",
   "metadata": {},
   "outputs": [],
   "source": [
    "#!rm -rf global_warming/*"
   ]
  },
  {
   "cell_type": "code",
   "execution_count": null,
   "id": "8d39934c-7415-462b-a221-4c79d5e12644",
   "metadata": {},
   "outputs": [],
   "source": []
  },
  {
   "cell_type": "markdown",
   "id": "949faf79-1686-4d07-b4c3-f50c738b045e",
   "metadata": {},
   "source": [
    "pipeline에서 environment 넣어준거라고 가정"
   ]
  },
  {
   "cell_type": "code",
   "execution_count": 8,
   "id": "067682f5-1f1b-4116-92e0-306df221f08d",
   "metadata": {},
   "outputs": [],
   "source": [
    "import os"
   ]
  },
  {
   "cell_type": "code",
   "execution_count": null,
   "id": "b41c8b20-b8ba-45c6-970e-6534d039225d",
   "metadata": {},
   "outputs": [],
   "source": []
  },
  {
   "cell_type": "markdown",
   "id": "74602ec4-6350-4134-96ec-9f075c516835",
   "metadata": {},
   "source": [
    "pv 로 들어갈 폴더들 마운트 경로 넣기"
   ]
  },
  {
   "cell_type": "code",
   "execution_count": null,
   "id": "c211c9fb-2f69-4466-979c-5d40302810ef",
   "metadata": {},
   "outputs": [],
   "source": []
  },
  {
   "cell_type": "code",
   "execution_count": null,
   "id": "9a79b849-dd7e-49e3-8915-85cc28124f40",
   "metadata": {},
   "outputs": [],
   "source": []
  },
  {
   "cell_type": "code",
   "execution_count": null,
   "id": "079eaddc-2f86-4cc1-845c-c03cdc3a92ea",
   "metadata": {},
   "outputs": [],
   "source": []
  },
  {
   "cell_type": "markdown",
   "id": "1d7d93ad-7aa8-4c25-97d3-e69d129e07ee",
   "metadata": {},
   "source": [
    "# #모든 과정은 dataframe을 가지고 있다는 전제하에 진행함.#"
   ]
  },
  {
   "cell_type": "code",
   "execution_count": null,
   "id": "4ae43be4-fc8d-45c7-b27c-b3cc13d3f757",
   "metadata": {},
   "outputs": [],
   "source": []
  },
  {
   "cell_type": "markdown",
   "id": "34a11a5b-176e-49c0-8626-a1ffeef274c1",
   "metadata": {},
   "source": [
    "# STAGE 1"
   ]
  },
  {
   "cell_type": "code",
   "execution_count": null,
   "id": "4f3314dc-8ec8-4522-b0d2-d5b66054ed77",
   "metadata": {},
   "outputs": [],
   "source": []
  },
  {
   "cell_type": "markdown",
   "id": "39396ae2-4dc0-498d-a7db-ea7ae3b214bf",
   "metadata": {},
   "source": [
    "### read os env variable"
   ]
  },
  {
   "cell_type": "code",
   "execution_count": 4,
   "id": "df8d2fb8-d5b0-441e-bc29-03b724059b8f",
   "metadata": {},
   "outputs": [],
   "source": [
    "from minio import Minio\n",
    "import os"
   ]
  },
  {
   "cell_type": "code",
   "execution_count": 5,
   "id": "0222e57b-8112-4152-ac32-95808ff48338",
   "metadata": {},
   "outputs": [],
   "source": [
    "minio_url = os.environ[\"minio_url\"]\n",
    "minio_access_key = os.environ['minio_access_key']\n",
    "minio_secret_key = os.environ['minio_secret_key']\n",
    "minio_region = os.environ['minio_region']\n",
    "minio_bucket_name = os.environ['minio_bucket_name']\n",
    "competition_name = os.environ['competition_name']"
   ]
  },
  {
   "cell_type": "code",
   "execution_count": null,
   "id": "d9bc0eaf-2725-4f69-b4b7-af09970481db",
   "metadata": {},
   "outputs": [],
   "source": []
  },
  {
   "cell_type": "code",
   "execution_count": 37,
   "id": "d31ade33-7660-4c82-8e28-65f0ac27c2a2",
   "metadata": {},
   "outputs": [],
   "source": [
    "pv_mount_name = os.environ['pv_mount_name']\n",
    "pv_count = os.environ['pv_count']"
   ]
  },
  {
   "cell_type": "code",
   "execution_count": null,
   "id": "b7b35482-5b71-4169-bf40-cbd895f95791",
   "metadata": {},
   "outputs": [],
   "source": []
  },
  {
   "cell_type": "markdown",
   "id": "50433659-4913-4a9f-9d6b-55cd7204974c",
   "metadata": {},
   "source": [
    "### minio_setting... 이 여기 안필요하지 않나?"
   ]
  },
  {
   "cell_type": "code",
   "execution_count": 6,
   "id": "2a2ff562-8a62-4be5-b8c7-9a6cb765abf8",
   "metadata": {},
   "outputs": [],
   "source": [
    "#아마 minio 글로벌 변수 선언해야 될거 같은데...\n",
    "#global minio_client\n",
    "minio_client = Minio(\n",
    "    minio_url,\n",
    "    access_key = minio_access_key,\n",
    "    secret_key = minio_secret_key,\n",
    "    region = minio_region\n",
    ")"
   ]
  },
  {
   "cell_type": "code",
   "execution_count": null,
   "id": "9b6734bd-eba5-4f55-a447-6699b7101d37",
   "metadata": {},
   "outputs": [],
   "source": []
  },
  {
   "cell_type": "markdown",
   "id": "1cf823fe-1912-4d75-808c-af26541caa56",
   "metadata": {},
   "source": [
    "### kaggle setting"
   ]
  },
  {
   "cell_type": "code",
   "execution_count": 7,
   "id": "ef2972d5-849e-4f6d-b30d-3288efcc82a3",
   "metadata": {},
   "outputs": [],
   "source": [
    "kaggle_access_key = os.environ[\"kaggle_access_key\"]\n",
    "kaggle_secret_key = os.environ[\"kaggle_secret_key\"]"
   ]
  },
  {
   "cell_type": "code",
   "execution_count": null,
   "id": "619f38a7-7230-4e9e-bfcb-4a123ba46444",
   "metadata": {},
   "outputs": [],
   "source": []
  },
  {
   "cell_type": "code",
   "execution_count": 8,
   "id": "ced80e38-3c70-4a82-aaed-9854f1a0a530",
   "metadata": {},
   "outputs": [],
   "source": [
    "competition_name = os.environ['competition_name']"
   ]
  },
  {
   "cell_type": "code",
   "execution_count": null,
   "id": "1dbbfe59-0e8e-4ec7-b4cc-01775766a9b0",
   "metadata": {},
   "outputs": [],
   "source": []
  },
  {
   "cell_type": "code",
   "execution_count": 9,
   "id": "3d11d41b-cae6-4890-8491-4cfef88e2d5a",
   "metadata": {},
   "outputs": [],
   "source": [
    "#필요한 위치에 정보 입력\n",
    "\n",
    "kaggle_json =  '{\"username\":\"%s\",\"key\":\"%s\"}'%(kaggle_access_key, kaggle_secret_key)\n",
    "\n",
    "os.makedirs('~/.kaggle', exist_ok=True)\n",
    "\n",
    "with open('~/.kaggle/kaggle.json', 'w') as f:\n",
    "    f.write(kaggle_json)\n",
    "\n",
    "#root 권한이면 써야됨.\n",
    "#os.makedirs('/.kaggle')\n",
    "#with open('~/.kaggle/kaggle.json', 'w') as f:\n",
    "#    f.write(kaggle_json)\n",
    "    \n",
    "#os.makedirs('/home/ubuntu/.kaggle')\n",
    "#with open('/home/ubuntu/.kaggle/kaggle.json', 'w') as f:\n",
    "#    f.write(kaggle_json)\n",
    "\n",
    "#os.makedirs('/home/jovyan/.kaggle')\n",
    "with open('/home/jovyan/.kaggle/kaggle.json', 'w') as f:\n",
    "    f.write(kaggle_json)"
   ]
  },
  {
   "cell_type": "code",
   "execution_count": null,
   "id": "0b57b133-4945-4f60-89a4-870715fbd95f",
   "metadata": {},
   "outputs": [],
   "source": []
  },
  {
   "cell_type": "markdown",
   "id": "949eacdd-0d54-44e7-866d-ff3830c4d6cb",
   "metadata": {},
   "source": [
    "# Download 받을 폴더 위치"
   ]
  },
  {
   "cell_type": "code",
   "execution_count": null,
   "id": "450a6d4c-8890-4242-80b4-8c9f93fe498e",
   "metadata": {},
   "outputs": [],
   "source": []
  },
  {
   "cell_type": "code",
   "execution_count": 10,
   "id": "c58c860a-489e-407e-b665-7f1f2e407464",
   "metadata": {},
   "outputs": [],
   "source": [
    "import pandas as pd"
   ]
  },
  {
   "cell_type": "code",
   "execution_count": 12,
   "id": "d069c292-91fc-4751-8d80-87304884b752",
   "metadata": {},
   "outputs": [],
   "source": [
    "from_file_to_file = [['google-research-identify-contrails-reduce-global-warming.zip', 'global_warming/google-research-identify-contrails-reduce-global-warming.zip']]\n",
    "\n",
    "columns = ['file_in_s3', 'download_to']\n",
    "\n",
    "download_df = pd.DataFrame(data=from_file_to_file, columns=columns)"
   ]
  },
  {
   "cell_type": "code",
   "execution_count": null,
   "id": "ec1af938-4579-4fcc-bed6-417f0cdb1dae",
   "metadata": {},
   "outputs": [],
   "source": []
  },
  {
   "cell_type": "code",
   "execution_count": 13,
   "id": "b212865b-2c26-47a8-bc71-7c7a19e86309",
   "metadata": {},
   "outputs": [
    {
     "data": {
      "text/html": [
       "<div>\n",
       "<style scoped>\n",
       "    .dataframe tbody tr th:only-of-type {\n",
       "        vertical-align: middle;\n",
       "    }\n",
       "\n",
       "    .dataframe tbody tr th {\n",
       "        vertical-align: top;\n",
       "    }\n",
       "\n",
       "    .dataframe thead th {\n",
       "        text-align: right;\n",
       "    }\n",
       "</style>\n",
       "<table border=\"1\" class=\"dataframe\">\n",
       "  <thead>\n",
       "    <tr style=\"text-align: right;\">\n",
       "      <th></th>\n",
       "      <th>file_in_s3</th>\n",
       "      <th>download_to</th>\n",
       "    </tr>\n",
       "  </thead>\n",
       "  <tbody>\n",
       "    <tr>\n",
       "      <th>0</th>\n",
       "      <td>google-research-identify-contrails-reduce-glob...</td>\n",
       "      <td>global_warming/google-research-identify-contra...</td>\n",
       "    </tr>\n",
       "  </tbody>\n",
       "</table>\n",
       "</div>"
      ],
      "text/plain": [
       "                                          file_in_s3   \n",
       "0  google-research-identify-contrails-reduce-glob...  \\\n",
       "\n",
       "                                         download_to  \n",
       "0  global_warming/google-research-identify-contra...  "
      ]
     },
     "execution_count": 13,
     "metadata": {},
     "output_type": "execute_result"
    }
   ],
   "source": [
    "download_df"
   ]
  },
  {
   "cell_type": "code",
   "execution_count": null,
   "id": "b22b8676-40be-473d-98ac-5f782780dfc0",
   "metadata": {},
   "outputs": [],
   "source": []
  },
  {
   "cell_type": "code",
   "execution_count": null,
   "id": "bf998f44-a307-4d08-9d93-bfbf87084c90",
   "metadata": {},
   "outputs": [],
   "source": []
  },
  {
   "cell_type": "markdown",
   "id": "2cb1be40-52ae-4817-a988-cef543f0910f",
   "metadata": {},
   "source": [
    "# download from s3"
   ]
  },
  {
   "cell_type": "code",
   "execution_count": 14,
   "id": "7c7664e0-33b9-49b3-843f-5495aa962ad3",
   "metadata": {},
   "outputs": [],
   "source": [
    "from data_downloader import Data_downloader"
   ]
  },
  {
   "cell_type": "code",
   "execution_count": 15,
   "id": "75c99997-a20e-409b-b9e3-fb7e0f0ab057",
   "metadata": {},
   "outputs": [
    {
     "name": "stdout",
     "output_type": "stream",
     "text": [
      "<minio.api.Minio object at 0x7fd5b4a6dc30>\n"
     ]
    }
   ],
   "source": [
    "data_downloader = Data_downloader()\n",
    "\n",
    "data_downloader.set_info_when_download_from_s3(minio_url, minio_access_key, minio_secret_key, minio_region, minio_bucket_name, competition_name)"
   ]
  },
  {
   "cell_type": "code",
   "execution_count": 17,
   "id": "8dad34dc-3a0f-43ab-ad78-7f1daa1a810d",
   "metadata": {},
   "outputs": [
    {
     "name": "stdout",
     "output_type": "stream",
     "text": [
      "google-research-identify-contrails-reduce-global-warming.zip download start\n"
     ]
    }
   ],
   "source": [
    "data_downloader.download_from_s3(file_name_df=download_df)"
   ]
  },
  {
   "cell_type": "code",
   "execution_count": null,
   "id": "dd7f3db9-9cc6-4e15-a0e7-150951d9d1eb",
   "metadata": {},
   "outputs": [],
   "source": []
  },
  {
   "cell_type": "markdown",
   "id": "cd57c330-dcbb-4193-b96c-dc7b383170cc",
   "metadata": {},
   "source": [
    "### download from kaggle 실전에서는 이걸 써야"
   ]
  },
  {
   "cell_type": "code",
   "execution_count": 18,
   "id": "3cd702dc-8230-46e3-bd61-5fead46b1dab",
   "metadata": {},
   "outputs": [],
   "source": [
    "#data_downloader = Data_downloader()\n",
    "\n",
    "#data_downloader.set_info_when_download_from_kaggle(competition_name)"
   ]
  },
  {
   "cell_type": "code",
   "execution_count": 19,
   "id": "e12744ad-8e1c-4021-bc1d-16222d7618f1",
   "metadata": {},
   "outputs": [],
   "source": [
    "#data_downloader.download_all_from_kaggle(download_folder = \"test_test\")"
   ]
  },
  {
   "cell_type": "code",
   "execution_count": null,
   "id": "73acccd8-0e48-4cf9-ad9a-0bde9f9e1260",
   "metadata": {},
   "outputs": [],
   "source": []
  },
  {
   "cell_type": "markdown",
   "id": "28b85ef0-e665-4262-af1f-312e0a87e6c2",
   "metadata": {},
   "source": [
    "# extract data to specific directory"
   ]
  },
  {
   "cell_type": "code",
   "execution_count": 1,
   "id": "791088bc-ef96-4030-90e1-b5a986f89ded",
   "metadata": {},
   "outputs": [],
   "source": [
    "from unzip_to_pv_manager import Unzip_to_pv_manager"
   ]
  },
  {
   "cell_type": "code",
   "execution_count": 24,
   "id": "4ca3512f-6d91-439c-8d49-2edf0e9fb7af",
   "metadata": {},
   "outputs": [],
   "source": [
    "unzip = Unzip_to_pv_manager()"
   ]
  },
  {
   "cell_type": "code",
   "execution_count": 3,
   "id": "56b45bb9-45e3-417b-b255-5d06a4131d39",
   "metadata": {},
   "outputs": [],
   "source": [
    "zip_file_extracted_file = [['global_warming/google-research-identify-contrails-reduce-global-warming.zip', 'global_warming/[(256,256),npy]/google-research-identify-contrails-reduce-global-warming']]"
   ]
  },
  {
   "cell_type": "code",
   "execution_count": null,
   "id": "906e05d4-1eda-453c-a82e-0e750f038f84",
   "metadata": {},
   "outputs": [],
   "source": []
  },
  {
   "cell_type": "code",
   "execution_count": null,
   "id": "399c3d61-92a7-41ec-bcf8-2f45224f04ae",
   "metadata": {},
   "outputs": [],
   "source": [
    "for each in zip_file_extracted_file:\n",
    "    unzip.extract_all(each[0], each[1])"
   ]
  },
  {
   "cell_type": "code",
   "execution_count": null,
   "id": "50bd543d-0619-4e24-849e-ab596c37108d",
   "metadata": {},
   "outputs": [],
   "source": []
  },
  {
   "cell_type": "code",
   "execution_count": null,
   "id": "80fe5e89-5229-4792-b0fd-854fd16ace4e",
   "metadata": {},
   "outputs": [],
   "source": []
  },
  {
   "cell_type": "markdown",
   "id": "2ea9f138-9606-4488-93d2-26a31080976c",
   "metadata": {},
   "source": [
    "폴더 미리 만들어 두기 (pv 만들어두기)"
   ]
  },
  {
   "cell_type": "code",
   "execution_count": 6,
   "id": "c58aec7f-ff4a-407d-9d87-27fee134c2c8",
   "metadata": {},
   "outputs": [
    {
     "name": "stdout",
     "output_type": "stream",
     "text": [
      "mkdir: cannot create directory ‘global_warming_1’: File exists\n",
      "mkdir: cannot create directory ‘global_warming_2’: File exists\n",
      "mkdir: cannot create directory ‘global_warming_3’: File exists\n",
      "mkdir: cannot create directory ‘global_warming_4’: File exists\n",
      "mkdir: cannot create directory ‘global_warming_5’: File exists\n"
     ]
    }
   ],
   "source": [
    "!mkdir global_warming_0\n",
    "!mkdir global_warming_1\n",
    "!mkdir global_warming_2\n",
    "!mkdir global_warming_3\n",
    "\n",
    "!mkdir global_warming_4\n",
    "!mkdir global_warming_5\n",
    "!mkdir global_warming_6\n",
    "!mkdir global_warming_7"
   ]
  },
  {
   "cell_type": "markdown",
   "id": "4728535a-1c28-4440-a42d-7676d6f36f1e",
   "metadata": {},
   "source": [
    "## 아... 그러네... pv 마운트 위치 몰록을 적어둬야 겠네 os 환경 변수 통해서 전달해야 될거 아냐..."
   ]
  },
  {
   "cell_type": "code",
   "execution_count": null,
   "id": "debc6b08-987d-40cc-a811-926dd8b467a9",
   "metadata": {},
   "outputs": [],
   "source": []
  },
  {
   "cell_type": "code",
   "execution_count": 25,
   "id": "dab89cd3-7e75-489d-b090-87dfe919f2e1",
   "metadata": {},
   "outputs": [],
   "source": [
    "#실전에는 pv 쪼개기"
   ]
  },
  {
   "cell_type": "markdown",
   "id": "5494bab3-d3ff-4622-872f-183697d8d379",
   "metadata": {},
   "source": [
    "# 사전에 2GB 데이터를 가지고 extract_all이랑 extract의 시간 차이를 비교해봤는데, 거의 유사했음."
   ]
  },
  {
   "attachments": {
    "3988a464-dbb5-4000-bfb3-fe97b882b539.png": {
     "image/png": "[encoded data removed]"
    }
   },
   "cell_type": "markdown",
   "id": "b8a5de7a-d322-42c7-9be8-042fccfc4f5a",
   "metadata": {},
   "source": [
    "![image.png](attachment:3988a464-dbb5-4000-bfb3-fe97b882b539.png)"
   ]
  },
  {
   "cell_type": "markdown",
   "id": "00837c3f-9945-4764-bde6-cdceec2e0732",
   "metadata": {},
   "source": [
    "그래서 그냥 extract를 pv로 바로 해버리면?  \n",
    "디스크에 저장 후 다른 pv로 옮기는 시간 자체가 0이 된다.  \n",
    "(병렬로 작업하면 오히려 더 빨라질 수 도 있다 이말이다.)"
   ]
  },
  {
   "cell_type": "code",
   "execution_count": null,
   "id": "dc79f4e9-413c-4cd7-a5ea-6b59b2e80e63",
   "metadata": {},
   "outputs": [],
   "source": []
  },
  {
   "cell_type": "code",
   "execution_count": 38,
   "id": "3c645692-0a34-409c-8d8a-63df3fadc774",
   "metadata": {},
   "outputs": [],
   "source": [
    "pv_list = []\n",
    "\n",
    "for i in range(int(pv_count)):\n",
    "    pv_list.append(pv_mount_name+str(i)+\"/global_warming/[(256,256),npy]/\")"
   ]
  },
  {
   "cell_type": "code",
   "execution_count": null,
   "id": "1e73c3b4-9fff-4e26-8c64-41e6fc982e43",
   "metadata": {},
   "outputs": [],
   "source": []
  },
  {
   "cell_type": "code",
   "execution_count": 39,
   "id": "6811f33d-4aa5-4a88-a07d-ffca9ce86999",
   "metadata": {},
   "outputs": [
    {
     "data": {
      "text/plain": [
       "['./global_warming_0/global_warming/[(256,256),npy]/',\n",
       " './global_warming_1/global_warming/[(256,256),npy]/',\n",
       " './global_warming_2/global_warming/[(256,256),npy]/',\n",
       " './global_warming_3/global_warming/[(256,256),npy]/',\n",
       " './global_warming_4/global_warming/[(256,256),npy]/',\n",
       " './global_warming_5/global_warming/[(256,256),npy]/',\n",
       " './global_warming_6/global_warming/[(256,256),npy]/',\n",
       " './global_warming_7/global_warming/[(256,256),npy]/']"
      ]
     },
     "execution_count": 39,
     "metadata": {},
     "output_type": "execute_result"
    }
   ],
   "source": [
    "pv_list"
   ]
  },
  {
   "cell_type": "code",
   "execution_count": null,
   "id": "e756ba55-14b4-4003-851b-f7383768d26e",
   "metadata": {},
   "outputs": [],
   "source": []
  },
  {
   "cell_type": "code",
   "execution_count": 40,
   "id": "4ef67e0b-f754-4e7f-8960-aa237e6b3625",
   "metadata": {},
   "outputs": [],
   "source": [
    "unzip.extract_to_multiple_path('./global_warming/google-research-identify-contrails-reduce-global-warming.zip', pv_list)"
   ]
  },
  {
   "cell_type": "markdown",
   "id": "b9046de7-5bac-4c26-a089-0f5b9cb45b13",
   "metadata": {},
   "source": [
    "아... 그러네... 이러면 dir 변경해서 저장이 안되잖아. => folder dir에 넣어두자"
   ]
  },
  {
   "cell_type": "code",
   "execution_count": null,
   "id": "9e931947-bf26-4593-8d17-1a811021c51b",
   "metadata": {},
   "outputs": [],
   "source": []
  },
  {
   "cell_type": "code",
   "execution_count": null,
   "id": "c8a0941a-e856-4199-815a-b7999c31449f",
   "metadata": {},
   "outputs": [],
   "source": []
  },
  {
   "cell_type": "code",
   "execution_count": null,
   "id": "1e315304-2585-4c55-a16c-c99101a6fcec",
   "metadata": {},
   "outputs": [],
   "source": []
  },
  {
   "cell_type": "code",
   "execution_count": null,
   "id": "f24da33a-2ba9-4e81-82d9-d65161d17dd4",
   "metadata": {},
   "outputs": [],
   "source": []
  },
  {
   "cell_type": "code",
   "execution_count": null,
   "id": "8611d49d-34fa-4d57-910b-4f9b4cf3a2fb",
   "metadata": {},
   "outputs": [],
   "source": []
  },
  {
   "cell_type": "markdown",
   "id": "d7791271-60a6-4c5c-b1f8-ad34278b8465",
   "metadata": {},
   "source": [
    "# STAGE 2"
   ]
  },
  {
   "cell_type": "code",
   "execution_count": null,
   "id": "e0493aae-8164-42ff-a754-c7256d01304b",
   "metadata": {},
   "outputs": [],
   "source": []
  },
  {
   "cell_type": "markdown",
   "id": "d0dbe67b-64ee-4c56-ad41-26d960be3d5a",
   "metadata": {},
   "source": [
    "Data preprocessing : not recommended. Ad-hoc pipeline like this don't have any fault tolerance logic (like hadoop map reduce or spark). One fault can hurt all \n",
    "data integrit  \n",
    "But i will run this pipeline for fun!  y"
   ]
  },
  {
   "cell_type": "code",
   "execution_count": null,
   "id": "01d3a2e5-5e75-4020-8ab5-19ec256ee182",
   "metadata": {},
   "outputs": [],
   "source": []
  },
  {
   "cell_type": "code",
   "execution_count": 28,
   "id": "b25f1a39-e824-4d95-9603-77e810c86bda",
   "metadata": {},
   "outputs": [],
   "source": [
    "import pandas as pd"
   ]
  },
  {
   "cell_type": "code",
   "execution_count": 29,
   "id": "3ce12307-3e8f-4b22-b93a-151e804c4dd0",
   "metadata": {},
   "outputs": [],
   "source": [
    "train_df = pd.read_csv('train.csv')\n",
    "valid_df = pd.read_csv('valid.csv')\n",
    "test_df = pd.read_csv('test.csv')"
   ]
  },
  {
   "cell_type": "code",
   "execution_count": null,
   "id": "885234dc-c7c6-4313-8f85-c96e2e9d513a",
   "metadata": {},
   "outputs": [],
   "source": []
  },
  {
   "cell_type": "code",
   "execution_count": null,
   "id": "6654628d-03ad-4910-8dc9-41af2cca3e61",
   "metadata": {},
   "outputs": [],
   "source": [
    "from data_preprocessor import Npy_resize_preprocessor as NRP"
   ]
  },
  {
   "cell_type": "code",
   "execution_count": null,
   "id": "3a7c207c-7cea-4788-bd1c-62028e720320",
   "metadata": {},
   "outputs": [],
   "source": []
  },
  {
   "cell_type": "markdown",
   "id": "d161bafe-4679-4d0d-b748-4ab482099113",
   "metadata": {},
   "source": [
    "원본 데이터 (256,256)\r\n",
    "npy_size : 450 GB Dataset\r\n",
    "img_size : 48.91GB\r\n",
    "\r\n",
    "(128,128)\r\n",
    "npy_size :  112.5 GB\r\n",
    "img_size :  12.228260869565219 GB\r\n",
    "\r\n",
    "(64,64)\r\n",
    "npy_size :  28.125 GB\r\n",
    "img_size :  3.0570652173913047 GB\r\n",
    "\r\n",
    "(32,32)\r\n",
    "npy_size :  7.03125 GB\r\n",
    "img_size :  0.7642663043478262 GB"
   ]
  },
  {
   "cell_type": "code",
   "execution_count": null,
   "id": "7026de74-3d92-41ab-b85e-9e5600c60963",
   "metadata": {},
   "outputs": [],
   "source": []
  },
  {
   "cell_type": "code",
   "execution_count": 32,
   "id": "1d5841f7-51ea-4438-a241-b482df3d03ad",
   "metadata": {},
   "outputs": [],
   "source": [
    "def change_dir_by_setting(file_path, shape_format, file_format):\n",
    "    #여기서 파일 이름에 따라서 추가 해서 넣어줘야 되는데? ㅈ 됬다. column에 넣으려니까 안되는데? => 기껏해야 list로 넣어야 됨.\n",
    "    dirs = file_path.split('/')\n",
    "    dirs[2] = dirs[2].replace('[(256,256),npy]', shape_format)\n",
    "    dirs[-1] = dirs[-1].replace('.npy', file_format)\n",
    "    return '/'.join(dirs)"
   ]
  },
  {
   "cell_type": "code",
   "execution_count": null,
   "id": "e0d28e77-c14b-4bfc-8fcf-bd2b6f2222cd",
   "metadata": {},
   "outputs": [],
   "source": []
  },
  {
   "cell_type": "code",
   "execution_count": 35,
   "id": "a2bdd8aa-9155-4d08-be5e-b726652d287e",
   "metadata": {},
   "outputs": [],
   "source": [
    "dir_list = ['[(256,256),jpg]',\n",
    "            '[(128,128),jpg]',\n",
    "            '[(64,64),npy]',\n",
    "            '[(64,64),jpg]',\n",
    "            '[(32,32),npy]',\n",
    "            '[(32,32),jpg]'\n",
    "           ]\n",
    "\n",
    "format_list = [\n",
    "    '.jpg',\n",
    "    '.jpg',\n",
    "    \n",
    "    '.npy',\n",
    "    '.jpg',\n",
    "    \n",
    "    '.npy',\n",
    "    '.jpg',\n",
    "]\n",
    "\n",
    "#이거 다하고 나니까 이거 columns에 band 를 쪼갠 이름이 없음... ㅋㅋㅋㅋ 헛짓거리함.\n",
    "for i in range(len(dir_list)):\n",
    "    dir_path = dir_list[i]\n",
    "    file_format = format_list[i]\n",
    "    \n",
    "    train_df[dir_path] = train_df['files_path'].map(lambda file_path : change_dir_by_setting(file_path, dir_path, file_format))\n",
    "    valid_df[dir_path] = valid_df['files_path'].map(lambda file_path : change_dir_by_setting(file_path, dir_path, file_format))\n",
    "    test_df[dir_path] = test_df['files_path'].map(lambda file_path : change_dir_by_setting(file_path, dir_path, file_format))"
   ]
  },
  {
   "cell_type": "code",
   "execution_count": null,
   "id": "fb4d7d82-9714-41c6-ad67-a8072b5455a8",
   "metadata": {},
   "outputs": [],
   "source": []
  },
  {
   "cell_type": "code",
   "execution_count": 37,
   "id": "4039cac5-7ad9-4f7b-9a62-49d7ef21853d",
   "metadata": {},
   "outputs": [],
   "source": [
    "#ex\n",
    "\n",
    "shape_list = [(256,256),(128,128),\n",
    "              (64,64),(64,64),\n",
    "              (32,32),(32,32)]\n",
    "\n",
    "dir_list = ['[(256,256),jpg]',\n",
    "            '[(128,128),jpg]',\n",
    "            '[(64,64),npy]',\n",
    "            '[(64,64),jpg]',\n",
    "            '[(32,32),npy]',\n",
    "            '[(32,32),jpg]'\n",
    "           ]\n",
    "\n",
    "format_list = [\n",
    "    '.jpg',\n",
    "    '.jpg',\n",
    "    \n",
    "    '.npy',\n",
    "    '.jpg',\n",
    "    \n",
    "    '.npy',\n",
    "    '.jpg',\n",
    "]\n",
    "\n",
    "\n",
    "#결국 짜긴 짰는데 복잡도가 끔찍하기 그지 없음...\n",
    "\n",
    "def split_npy(file_name, arr):\n",
    "    splitted_arr = []\n",
    "    if file_name == 'human_pixel_masks.npy': #(256, 256, 1)\n",
    "        splitted_arr = [arr[:,:,0]]\n",
    "        #print(\"shape pixel:\",splitted_arr[0].shape)\n",
    "    elif file_name == 'human_individual_masks.npy' : #(256, 256, 1, 4)\n",
    "        splitted_arr = [arr[:,:,0,i] for i in range(4)]\n",
    "        #print(\"shape individual:\",splitted_arr[0].shape)\n",
    "    else: # (256,256,8)\n",
    "        splitted_arr = [arr[:,:,i] for i in range(8)]\n",
    "        #print(\"shape band:\",splitted_arr[0].shape)\n",
    "    return splitted_arr\n",
    "\n",
    "def add_number_to_name(file_path, number):\n",
    "    dirs = file_path.split('/')\n",
    "    tmp = dirs[-1].split('.')\n",
    "    tmp[0] += '_' + str(number)\n",
    "    dirs[-1] = '.'.join(tmp)\n",
    "    return '/'.join(dirs)\n",
    "    \n",
    "#file name이랑 \n",
    "def read_change_save(file_path):\n",
    "    #file_path = file_path[0]\n",
    "    #print(file_path)\n",
    "    arr = NRP.read_npy(file_path)#['files_path'])\n",
    "    file_name = file_path.split(\"/\")[-1]\n",
    "\n",
    "    splitted_arr = split_npy(file_name, arr)\n",
    "\n",
    "    for i in range(len(shape_list)):\n",
    "        for j in range(len(splitted_arr)):\n",
    "            reshaped_arr = NRP.resize(splitted_arr[j], shape_list[i])\n",
    "            path_with_numbered = add_number_to_name(file_path, j)\n",
    "            name_to_save = change_dir_by_setting(path_with_numbered, dir_list[i], format_list[i])\n",
    "            NRP.write_with_format(reshaped_arr, name_to_save, format_list[i])\n",
    "\n",
    "def run(arg_list):\n",
    "    for arg in arg_list:\n",
    "        read_change_save(*arg)\n"
   ]
  },
  {
   "cell_type": "code",
   "execution_count": null,
   "id": "c04b638c-ee8e-4d5a-8839-99d67813ac09",
   "metadata": {},
   "outputs": [],
   "source": []
  },
  {
   "cell_type": "code",
   "execution_count": 39,
   "id": "be0f58cf-62f4-47dd-90dd-0ddfddbd5d1a",
   "metadata": {
    "scrolled": true
   },
   "outputs": [
    {
     "data": {
      "text/plain": [
       "0     None\n",
       "1     None\n",
       "2     None\n",
       "3     None\n",
       "4     None\n",
       "5     None\n",
       "6     None\n",
       "7     None\n",
       "8     None\n",
       "9     None\n",
       "10    None\n",
       "Name: files_path, dtype: object"
      ]
     },
     "execution_count": 39,
     "metadata": {},
     "output_type": "execute_result"
    }
   ],
   "source": [
    "train_df['files_path'].map(read_change_save)\n",
    "valid_df['files_path'].map(read_change_save)\n",
    "test_df['files_path'].map(read_change_save)"
   ]
  },
  {
   "cell_type": "code",
   "execution_count": null,
   "id": "a4d1c56f-d528-4bc2-98ba-a2b9708f5e92",
   "metadata": {},
   "outputs": [],
   "source": []
  },
  {
   "cell_type": "markdown",
   "id": "5bb21fa8-8edc-4b47-a8c7-6e6b4f57099c",
   "metadata": {},
   "source": [
    "# upload -> Zip 만들어서 올릴 계획이니까."
   ]
  },
  {
   "cell_type": "code",
   "execution_count": null,
   "id": "12a07466-f14d-44b2-a5b7-51aa2334300e",
   "metadata": {},
   "outputs": [],
   "source": []
  },
  {
   "cell_type": "code",
   "execution_count": null,
   "id": "6c00bb38-9f97-4c46-b925-d80557a37d20",
   "metadata": {},
   "outputs": [],
   "source": [
    "!rm -rf global_warming/[(256,256),npy]\n",
    "!rm google-research-identify-contrails-reduce-global-warming.zip"
   ]
  },
  {
   "cell_type": "code",
   "execution_count": null,
   "id": "745a1fc7-4841-41a1-b6ef-62569f531682",
   "metadata": {},
   "outputs": [],
   "source": []
  },
  {
   "cell_type": "code",
   "execution_count": 42,
   "id": "66a38975-9c1f-4dbc-9477-ef9b6c060ab6",
   "metadata": {},
   "outputs": [],
   "source": [
    "import os\n",
    "\n",
    "folder_path = 'global_warming'\n",
    "\n",
    "file_list = []\n",
    " \n",
    "for path, subdirs, files in os.walk(folder_path):\n",
    "    for name in files:\n",
    "        file_list.append(os.path.join(path, name))"
   ]
  },
  {
   "cell_type": "code",
   "execution_count": null,
   "id": "3cb5eac3-5b39-4e23-b52e-adbf9a143b0e",
   "metadata": {},
   "outputs": [],
   "source": []
  },
  {
   "cell_type": "code",
   "execution_count": 48,
   "id": "b3cedb48-f71e-4847-98dd-5715327f54e6",
   "metadata": {},
   "outputs": [],
   "source": [
    "tmp_df = pd.DataFrame(data=file_list, columns=['files_path'])"
   ]
  },
  {
   "cell_type": "code",
   "execution_count": 49,
   "id": "a73e30c5-de69-493f-a2eb-34ffe4edac8e",
   "metadata": {},
   "outputs": [
    {
     "data": {
      "text/html": [
       "<div>\n",
       "<style scoped>\n",
       "    .dataframe tbody tr th:only-of-type {\n",
       "        vertical-align: middle;\n",
       "    }\n",
       "\n",
       "    .dataframe tbody tr th {\n",
       "        vertical-align: top;\n",
       "    }\n",
       "\n",
       "    .dataframe thead th {\n",
       "        text-align: right;\n",
       "    }\n",
       "</style>\n",
       "<table border=\"1\" class=\"dataframe\">\n",
       "  <thead>\n",
       "    <tr style=\"text-align: right;\">\n",
       "      <th></th>\n",
       "      <th>files_path</th>\n",
       "    </tr>\n",
       "  </thead>\n",
       "  <tbody>\n",
       "    <tr>\n",
       "      <th>0</th>\n",
       "      <td>global_warming/[(256,256),npy]/google-research...</td>\n",
       "    </tr>\n",
       "    <tr>\n",
       "      <th>1</th>\n",
       "      <td>global_warming/[(256,256),npy]/google-research...</td>\n",
       "    </tr>\n",
       "    <tr>\n",
       "      <th>2</th>\n",
       "      <td>global_warming/[(256,256),npy]/google-research...</td>\n",
       "    </tr>\n",
       "    <tr>\n",
       "      <th>3</th>\n",
       "      <td>global_warming/[(256,256),npy]/google-research...</td>\n",
       "    </tr>\n",
       "    <tr>\n",
       "      <th>4</th>\n",
       "      <td>global_warming/[(256,256),npy]/google-research...</td>\n",
       "    </tr>\n",
       "  </tbody>\n",
       "</table>\n",
       "</div>"
      ],
      "text/plain": [
       "                                          files_path\n",
       "0  global_warming/[(256,256),npy]/google-research...\n",
       "1  global_warming/[(256,256),npy]/google-research...\n",
       "2  global_warming/[(256,256),npy]/google-research...\n",
       "3  global_warming/[(256,256),npy]/google-research...\n",
       "4  global_warming/[(256,256),npy]/google-research..."
      ]
     },
     "execution_count": 49,
     "metadata": {},
     "output_type": "execute_result"
    }
   ],
   "source": [
    "tmp_df.head()"
   ]
  },
  {
   "cell_type": "code",
   "execution_count": null,
   "id": "25a82f31-54cc-498b-a2be-89f1b772c09e",
   "metadata": {},
   "outputs": [],
   "source": []
  },
  {
   "cell_type": "code",
   "execution_count": 50,
   "id": "79dd2dab-5262-469c-9e84-8108109836a2",
   "metadata": {},
   "outputs": [],
   "source": [
    "def upload_file(file):\n",
    "    #여기 업로드 하는 작업\n",
    "    minio_client.fput_object(\n",
    "        bucket_name = minio_bucket_name,\n",
    "        object_name = file,\n",
    "        file_path = file\n",
    "    )\n",
    "    return file"
   ]
  },
  {
   "cell_type": "code",
   "execution_count": null,
   "id": "dcaa7c49-d249-4d39-8c36-bbb8d4db4a82",
   "metadata": {},
   "outputs": [],
   "source": []
  },
  {
   "cell_type": "code",
   "execution_count": 52,
   "id": "69f5f27a-02ca-4167-b93b-f5ef269f0fd3",
   "metadata": {},
   "outputs": [
    {
     "data": {
      "text/plain": [
       "0       global_warming/[(256,256),npy]/google-research...\n",
       "1       global_warming/[(256,256),npy]/google-research...\n",
       "2       global_warming/[(256,256),npy]/google-research...\n",
       "3       global_warming/[(256,256),npy]/google-research...\n",
       "4       global_warming/[(256,256),npy]/google-research...\n",
       "                              ...                        \n",
       "1801    global_warming/[(32,32),jpg]/google-research-i...\n",
       "1802    global_warming/[(32,32),jpg]/google-research-i...\n",
       "1803    global_warming/[(32,32),jpg]/google-research-i...\n",
       "1804    global_warming/[(32,32),jpg]/google-research-i...\n",
       "1805    global_warming/[(32,32),jpg]/google-research-i...\n",
       "Name: files_path, Length: 1806, dtype: object"
      ]
     },
     "execution_count": 52,
     "metadata": {},
     "output_type": "execute_result"
    }
   ],
   "source": [
    "tmp_df['files_path'].map(upload_file)"
   ]
  },
  {
   "cell_type": "code",
   "execution_count": null,
   "id": "c564d6b9-c5e6-4593-9f9a-9b33c17d455f",
   "metadata": {},
   "outputs": [],
   "source": []
  },
  {
   "cell_type": "code",
   "execution_count": null,
   "id": "0a06a559-56dc-4eae-8e3e-1eee7769ff36",
   "metadata": {},
   "outputs": [],
   "source": []
  },
  {
   "cell_type": "markdown",
   "id": "3d744a09-6e39-46de-832d-dbc54fac85a3",
   "metadata": {},
   "source": [
    "# PV dir에 있는 값들 압축"
   ]
  },
  {
   "cell_type": "code",
   "execution_count": null,
   "id": "5be468a0-7389-4970-9327-ed6a5ff7b570",
   "metadata": {},
   "outputs": [],
   "source": []
  },
  {
   "cell_type": "markdown",
   "id": "47c039cb-d148-4b7b-9d9d-99c5d24b34e9",
   "metadata": {},
   "source": [
    "원한다면 pv를 퍼뜨린 것처럼  \n",
    "pv를 다시 모아서 압축 할 수 도 있겠지만  \n",
    "여기서는 4조각으로 나누면 3GB 씩 해서 훨씬 쓰기 좋을테니까 그냥 두겠다.  \n",
    "=> 반드시 하나의 zip으로 두고 싶다면 파이프 라인을 하나 늘려서 pv를 합치면 된다."
   ]
  },
  {
   "cell_type": "code",
   "execution_count": null,
   "id": "b2baa347-a500-44d2-9b6b-ea64504fcdb9",
   "metadata": {},
   "outputs": [],
   "source": []
  },
  {
   "cell_type": "code",
   "execution_count": null,
   "id": "f9510e47-22ac-4da1-ab5f-ece2c48fab98",
   "metadata": {},
   "outputs": [],
   "source": []
  },
  {
   "cell_type": "code",
   "execution_count": 41,
   "id": "fceae08a-f3b0-4ec4-adc5-5570d525773b",
   "metadata": {},
   "outputs": [],
   "source": [
    "from unzip_to_pv_manager import Unzip_to_pv_manager"
   ]
  },
  {
   "cell_type": "code",
   "execution_count": null,
   "id": "7a684b69-422e-46e8-a85c-51017c017950",
   "metadata": {},
   "outputs": [],
   "source": []
  },
  {
   "cell_type": "code",
   "execution_count": null,
   "id": "2e2c6123-e242-450a-944a-5717d01208be",
   "metadata": {},
   "outputs": [],
   "source": [
    "pv_mount_name = os.environ['pv_mount_name']\n",
    "pv_count = os.environ['pv_count']"
   ]
  },
  {
   "cell_type": "code",
   "execution_count": null,
   "id": "713cc2bb-39cd-42e4-bb75-3acf0c56ae48",
   "metadata": {},
   "outputs": [],
   "source": []
  },
  {
   "cell_type": "code",
   "execution_count": 42,
   "id": "c7165557-26e9-4ffd-9c94-0fcac5976e36",
   "metadata": {},
   "outputs": [],
   "source": [
    "unzip = Unzip_to_pv_manager()"
   ]
  },
  {
   "cell_type": "code",
   "execution_count": null,
   "id": "1f2c8388-7bce-4d10-adf0-671fbcc62002",
   "metadata": {},
   "outputs": [],
   "source": []
  },
  {
   "cell_type": "code",
   "execution_count": null,
   "id": "27a1e184-56a9-4318-bb58-09e20956338c",
   "metadata": {},
   "outputs": [],
   "source": []
  },
  {
   "cell_type": "code",
   "execution_count": null,
   "id": "91bbd120-9ca9-4030-83e8-11de02824d26",
   "metadata": {},
   "outputs": [],
   "source": [
    "unzip.write_zip(files_base_dir = pv_mount_name+pv_count, name_to_save=pv_count+'.zip')"
   ]
  },
  {
   "cell_type": "code",
   "execution_count": null,
   "id": "f056df1a-3e13-49c1-85d7-fb53ca2b1f4d",
   "metadata": {},
   "outputs": [],
   "source": []
  },
  {
   "cell_type": "code",
   "execution_count": null,
   "id": "54761589-db9e-4c94-afa9-4a15422457e2",
   "metadata": {},
   "outputs": [],
   "source": [
    "def upload_file(file):\n",
    "    #여기 업로드 하는 작업\n",
    "    minio_client.fput_object(\n",
    "        bucket_name = minio_bucket_name,\n",
    "        object_name = file,\n",
    "        file_path = file\n",
    "    )\n",
    "    return file"
   ]
  },
  {
   "cell_type": "code",
   "execution_count": null,
   "id": "72c56746-26ef-4fd7-a8fc-8edd8bca8390",
   "metadata": {},
   "outputs": [],
   "source": []
  },
  {
   "cell_type": "code",
   "execution_count": null,
   "id": "06935ea6-2824-4f31-9c80-347e18642bcb",
   "metadata": {},
   "outputs": [],
   "source": [
    "name_to_upload = 'global_warming/'+ pv_count+'.zip'"
   ]
  },
  {
   "cell_type": "code",
   "execution_count": null,
   "id": "9e018626-ef41-4dd9-90ea-a5b87c653a5d",
   "metadata": {},
   "outputs": [],
   "source": [
    "upload_file(name_to_upload)"
   ]
  },
  {
   "cell_type": "code",
   "execution_count": null,
   "id": "075098de-07ea-4b52-b5f3-9a2369fd19e6",
   "metadata": {},
   "outputs": [],
   "source": []
  },
  {
   "cell_type": "code",
   "execution_count": null,
   "id": "24de48ab-7746-43e0-84d1-b9a43af123f2",
   "metadata": {},
   "outputs": [],
   "source": []
  },
  {
   "cell_type": "code",
   "execution_count": null,
   "id": "4879874b-ac3a-4e1d-aa97-facc28afc235",
   "metadata": {},
   "outputs": [],
   "source": []
  }
 ],
 "metadata": {
  "kernelspec": {
   "display_name": "Python 3 (ipykernel)",
   "language": "python",
   "name": "python3"
  },
  "language_info": {
   "codemirror_mode": {
    "name": "ipython",
    "version": 3
   },
   "file_extension": ".py",
   "mimetype": "text/x-python",
   "name": "python",
   "nbconvert_exporter": "python",
   "pygments_lexer": "ipython3",
   "version": "3.10.11"
  }
 },
 "nbformat": 4,
 "nbformat_minor": 5
}
