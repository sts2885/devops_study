{
 "cells": [
  {
   "cell_type": "code",
   "execution_count": null,
   "id": "8b9103f2",
   "metadata": {},
   "outputs": [],
   "source": []
  },
  {
   "cell_type": "code",
   "execution_count": null,
   "id": "c354ae25-eed4-4be3-a073-de50e67bd2c2",
   "metadata": {},
   "outputs": [],
   "source": []
  },
  {
   "cell_type": "markdown",
   "id": "9d348233-24a1-471b-ab0d-4f0853c03f90",
   "metadata": {},
   "source": [
    "# Jenkins와 argo용으로 리빌딩\n",
    "### 그래봐야 달라지는 건 없음\n",
    "\n",
    "### 전과 똑같이 eks의 network 형성을 위한 2번의 bootstrapping을 거침\n",
    "### 거기서 kubeflow 관련된 파트만 지우고 jenkins_argo 등 파트를 새 파일로 추가할 예정"
   ]
  },
  {
   "cell_type": "markdown",
   "id": "477bfa2a-2f82-4cce-9a93-ce8be5bb5402",
   "metadata": {},
   "source": [
    "# 인스턴스 사이즈는 줄여야 됨"
   ]
  },
  {
   "cell_type": "code",
   "execution_count": null,
   "id": "ddfd6dfa-675b-48e4-b5b2-729e65d9d8df",
   "metadata": {},
   "outputs": [],
   "source": []
  },
  {
   "cell_type": "markdown",
   "id": "737fc460-f6a8-4a34-b822-2166dedaeb87",
   "metadata": {},
   "source": [
    "- eks의 구성조건, pod network, aws controller 등의 설치 과정이 node 숫자의 변화에 민감하고,   \n",
    "- infra 구성 완료 전에 일어 나면 안되고  \n",
    "- infra 구성 후 node 숫자를 조절 하면서 실행할 필요가 있어 이를 ad-hoc script로 남깁니다."
   ]
  },
  {
   "cell_type": "code",
   "execution_count": null,
   "id": "61f6336c",
   "metadata": {},
   "outputs": [],
   "source": []
  },
  {
   "attachments": {},
   "cell_type": "markdown",
   "id": "0939548e",
   "metadata": {},
   "source": [
    "# 클러스터 구성 과정\n",
    "# 1. node 0개로 클러스터 생성 (secondary cidr 설정을 위해)\n",
    "# 2. bootstrap (secondary cidr, aws load balancer controller)\n",
    "# 3. 노드 갯수 원하는 양으로 조절\n",
    "## 의 과정을 거쳐야 한다. (aws는 k8s에 최적화가 덜되서...)"
   ]
  },
  {
   "cell_type": "code",
   "execution_count": null,
   "id": "426953ac",
   "metadata": {},
   "outputs": [],
   "source": []
  },
  {
   "cell_type": "code",
   "execution_count": null,
   "id": "c101e7ce",
   "metadata": {},
   "outputs": [],
   "source": []
  },
  {
   "attachments": {},
   "cell_type": "markdown",
   "id": "a079e07f",
   "metadata": {},
   "source": [
    "절차\n",
    "\n",
    "1. node_size.yml => 0\n",
    "2. terraform apply => output으로 eniconfig.yaml 파일 작성\n",
    "3. boot strap 과정에 개편을 거쳐서 이젠 boot strap 데이터를 terraform 으로 전송해서, null_resource를 통해 실행시킨다.\n",
    "4. node_size.yml => cluster size you want\n",
    "5. terraform apply --auto-approve\n",
    "6. node_size.yml => 원하는 사이즈\n",
    "7. terraform apply --auto-approve"
   ]
  },
  {
   "cell_type": "code",
   "execution_count": null,
   "id": "39573d7e-12b2-4688-b58c-777ae614adc6",
   "metadata": {},
   "outputs": [],
   "source": []
  },
  {
   "cell_type": "code",
   "execution_count": 1,
   "id": "7fa75245-9d64-4eb0-bdf7-000cb5129176",
   "metadata": {},
   "outputs": [],
   "source": [
    "\n",
    "\"\"\"\n",
    "kubeflow 를 설치후 node=0 로 만들고 다시 키니까\n",
    "=> block storage가 떨어진 후 다시 안붙음\n",
    "=> 어? 왜 주소가 달라 너 안붙여줄거야\n",
    "=> 아니 나라니까?\n",
    "=> 그럼 다시 만들기라도 해야 되는데 /안만들고 그냥 에러남\n",
    "=> secondary cidr와 install kubeflow의 bootstrap을 쪼개기로 결정\n",
    "\"\"\"\n",
    "\n",
    "import os\n",
    "def change_current_state_for_bootstrap(state=\"secondary_cidr\"):\n",
    "    # There is two state, making secondary cidr for pod\n",
    "    # Another is bootstrap for aws controllers and kubeflow\n",
    "\n",
    "    if state == \"secondary_cidr\" :\n",
    "        if os.path.isfile(\"bootstrap_ctrl_and_kf.tf\"):\n",
    "            os.rename(\"bootstrap_ctrl_and_kf.tf\", \"bootstrap_ctrl_and_kf.tf.txt\")\n",
    "        else :\n",
    "            print(\"file already exist\")\n",
    "    elif state == \"bootstrap\" :\n",
    "        if os.path.isfile(\"bootstrap_ctrl_and_kf.tf.txt\"):\n",
    "            os.rename(\"bootstrap_ctrl_and_kf.tf.txt\", \"bootstrap_ctrl_and_kf.tf\")\n",
    "        else :\n",
    "            print(\"file already exist\")\n",
    "    else:\n",
    "        print(\"something wrong in bootstrap file name\")"
   ]
  },
  {
   "cell_type": "code",
   "execution_count": null,
   "id": "d6dc1482-4f81-4d6a-b269-fef4687bc927",
   "metadata": {},
   "outputs": [],
   "source": []
  },
  {
   "cell_type": "code",
   "execution_count": 2,
   "id": "7dea4b04",
   "metadata": {
    "scrolled": true
   },
   "outputs": [],
   "source": [
    "!terraform destroy --auto-approve"
   ]
  },
  {
   "cell_type": "code",
   "execution_count": null,
   "id": "7544b89a-0e32-477c-a1a6-176442c3e4a4",
   "metadata": {},
   "outputs": [],
   "source": []
  },
  {
   "cell_type": "code",
   "execution_count": null,
   "id": "aa4ea204-5092-4f78-b9a5-1fbcffa66174",
   "metadata": {},
   "outputs": [],
   "source": []
  },
  {
   "cell_type": "code",
   "execution_count": null,
   "id": "04e1e957-fa15-45df-8b99-13538f395c39",
   "metadata": {},
   "outputs": [],
   "source": []
  },
  {
   "attachments": {},
   "cell_type": "markdown",
   "id": "46957958",
   "metadata": {},
   "source": [
    "# 1. 초기 클러스터 크기"
   ]
  },
  {
   "cell_type": "code",
   "execution_count": 3,
   "id": "8124b445",
   "metadata": {},
   "outputs": [],
   "source": [
    "import yaml\n",
    "def change_node_size_yml(node_size_file, desired_size, max_size, min_size):\n",
    "    print(\"node size file\", node_size_file)\n",
    "    with open(node_size_file) as f:\n",
    "        node_size = yaml.load(f, Loader=yaml.FullLoader)\n",
    "        print('current_state',node_size)\n",
    "        \n",
    "    node_size['desired_size'] = desired_size\n",
    "    node_size['min_size'] = min_size\n",
    "    node_size['max_size'] = max_size\n",
    "    \n",
    "    print('after change', node_size)\n",
    "    \n",
    "    with open(node_size_file, 'w') as f:\n",
    "        yaml.dump(node_size,f)"
   ]
  },
  {
   "cell_type": "code",
   "execution_count": 4,
   "id": "69548f5f",
   "metadata": {},
   "outputs": [
    {
     "name": "stdout",
     "output_type": "stream",
     "text": [
      "node size file node_size_for_group_1.yml\n",
      "current_state {'desired_size': 0, 'max_size': 1, 'min_size': 0}\n",
      "after change {'desired_size': 0, 'max_size': 1, 'min_size': 0}\n"
     ]
    }
   ],
   "source": [
    "change_node_size_yml(node_size_file = 'node_size_for_group_1.yml',\n",
    "                     desired_size = 0, \n",
    "                     max_size = 1, #max_size는 0이 될 수 없다. \n",
    "                     min_size = 0)"
   ]
  },
  {
   "cell_type": "code",
   "execution_count": 5,
   "id": "166b9ca0-9915-4656-ab0f-89122450f8c6",
   "metadata": {},
   "outputs": [
    {
     "name": "stdout",
     "output_type": "stream",
     "text": [
      "node size file node_size_for_group_2.yml\n",
      "current_state {'desired_size': 0, 'max_size': 1, 'min_size': 0}\n",
      "after change {'desired_size': 0, 'max_size': 1, 'min_size': 0}\n"
     ]
    }
   ],
   "source": [
    "change_node_size_yml(node_size_file = 'node_size_for_group_2.yml',\n",
    "                     desired_size = 0, \n",
    "                     max_size = 1, #max_size는 0이 될 수 없다. \n",
    "                     min_size = 0)"
   ]
  },
  {
   "cell_type": "code",
   "execution_count": 6,
   "id": "1e4611e7-82e6-4433-bd71-b4481a859394",
   "metadata": {},
   "outputs": [
    {
     "name": "stdout",
     "output_type": "stream",
     "text": [
      "file already exist\n"
     ]
    }
   ],
   "source": [
    "change_current_state_for_bootstrap(state=\"secondary_cidr\") "
   ]
  },
  {
   "attachments": {},
   "cell_type": "markdown",
   "id": "c85e3d50",
   "metadata": {},
   "source": [
    "# 2. Terraform 실행"
   ]
  },
  {
   "cell_type": "code",
   "execution_count": null,
   "id": "b8139436-721d-4058-9e2c-94c3a3dc6276",
   "metadata": {},
   "outputs": [],
   "source": []
  },
  {
   "cell_type": "markdown",
   "id": "29fa952d-d2d1-4e4d-8f54-946fa37fb6ee",
   "metadata": {},
   "source": [
    "#테라폼 설치 법 2023-06-25 현재 최신버전  1.5.1    \n",
    "https://askubuntu.com/questions/983351/how-to-install-terraform-in-ubuntu"
   ]
  },
  {
   "cell_type": "code",
   "execution_count": 7,
   "id": "d2d834f5",
   "metadata": {},
   "outputs": [],
   "source": [
    "#mv terraform /usr/local/bin #컨테이너 안에서 실행했음"
   ]
  },
  {
   "cell_type": "code",
   "execution_count": 8,
   "id": "1d9b3aa0-7f53-433b-b8a3-468157ad70ed",
   "metadata": {},
   "outputs": [],
   "source": [
    "#!terraform --version"
   ]
  },
  {
   "cell_type": "code",
   "execution_count": 9,
   "id": "56909ebf",
   "metadata": {},
   "outputs": [],
   "source": [
    "#!terraform init"
   ]
  },
  {
   "cell_type": "code",
   "execution_count": 10,
   "id": "5e1e32bf",
   "metadata": {
    "scrolled": true
   },
   "outputs": [],
   "source": [
    "#!terraform plan"
   ]
  },
  {
   "cell_type": "code",
   "execution_count": null,
   "id": "84aedf02-a0f2-4b57-b02a-5be82ee412de",
   "metadata": {},
   "outputs": [],
   "source": []
  },
  {
   "cell_type": "code",
   "execution_count": null,
   "id": "29a1f4be-6a8e-4e01-8879-512d815fe5a2",
   "metadata": {},
   "outputs": [],
   "source": []
  },
  {
   "cell_type": "code",
   "execution_count": null,
   "id": "98250df7-63b7-4ef8-af1a-ef57a7007cbc",
   "metadata": {},
   "outputs": [],
   "source": []
  },
  {
   "cell_type": "code",
   "execution_count": 3,
   "id": "899b9edf",
   "metadata": {
    "scrolled": true
   },
   "outputs": [],
   "source": [
    "!terraform apply --auto-approve"
   ]
  },
  {
   "cell_type": "code",
   "execution_count": null,
   "id": "a812056c-df85-41bf-a0e5-c233968d642a",
   "metadata": {},
   "outputs": [],
   "source": []
  },
  {
   "cell_type": "markdown",
   "id": "23b32bcd-1283-467a-893f-717efaee7fe1",
   "metadata": {},
   "source": [
    "null_resource.bootstrap_secondary_cidr (remote-exec): Scanning linux images... [========     ]\r\n",
    "null_resource.bootstrap_secondary_cidr (remote-exec): Scanning linux images... [=============]\r\n",
    "null_resource.bootstrap_secondary_cidr (remote-exec): Scanning linux images...\r\n",
    "\r\n",
    "null_resource.bootstrap_secondary_cidr (remote-exec): Running kernel seems to be up-to-date.\r\n",
    "\r\n",
    "null_resource.bootstrap_secondary_cidr (remote-exec): Restarting services...\r\n",
    "null_resource.bootstrap_secondary_cidr (remote-exec        \u001b(BPackage configuration─┤ Daemons using outdated libraries ├───\r\n",
    "null_resource.bootstrap_secondary_cidr (remote-exec): \r\n",
    "null_resource.bootstrap_secondary_cidr (remote-exec): hich services should be\r\n",
    "null_resource.bootstrap_secondary_cidr (remote-exec): estarted?\r\n",
    "null_resource.bootstrap_secondary_cidr (remote-exec): \r\n",
    "null_resource.bootstrap_secondary_cidr (remote-exec):   [*] multipathd.service   \r\n",
    "null_resource.bootstrap_secondary_cidr (remote-exec):   [*] packagekit.service   \r\n",
    "null_resource.bootstrap_secondary_cidr (remote-exec):   [ ] unattended-upgra...  \r\n",
    "null_resource.bootstrap_secondary_cidr (remote-exec): \r\n",
    "null_resource.bootstrap_secondary_cidr (remote-exec): \r\n",
    "null_resource.bootstrap_secondary_cidr (remote-exec):         <Ok>              <Cancel>\r\n",
    "null_resource.bootstrap_secondary_cidr (remote-exec): \r\n",
    "null_resource.bootstrap_secondary_cidr (remote-exec): ────────────────────────────────────────                                                  \u001b(BPackage configuration─┤ Daemons using outdated libraries ├───\n",
    "null_resource.bootstrap_secondary_c  id                   이게 뭔가 코드가 좀 바뀌었나봄. => ser  \n",
    "뭔가 ok를 눌러야 되는걸로 바뀌었나봄 킹받네;;;  \n",
    "\n",
    "\n",
    "sudo NEEDRESTART_MODE=a apt install -y awscli  \n",
    "이런식으로 하면 해결\n",
    "                   "
   ]
  },
  {
   "cell_type": "markdown",
   "id": "d16e3a89-4212-4fa2-9e97-57f8fe5fb41d",
   "metadata": {},
   "source": [
    "그러네 업로드 다운로드 리스트 확인 등등에 출력을 해놔야 파이프라인에서 리스트를 확인 할 수 있구나"
   ]
  },
  {
   "cell_type": "code",
   "execution_count": null,
   "id": "d69c83f9-949b-4fa9-b21d-3a8d95ee38f0",
   "metadata": {},
   "outputs": [],
   "source": []
  },
  {
   "cell_type": "code",
   "execution_count": null,
   "id": "2907da48-cd6f-41f2-b5a7-d3f07e4d8f38",
   "metadata": {},
   "outputs": [],
   "source": []
  },
  {
   "cell_type": "code",
   "execution_count": null,
   "id": "a09e45e1-226c-475a-94c5-479a9c1c673e",
   "metadata": {},
   "outputs": [],
   "source": [
    "import time\n",
    "\n",
    "print('wait for 3 min')\n",
    "\n",
    "time.sleep(160)"
   ]
  },
  {
   "cell_type": "code",
   "execution_count": null,
   "id": "a5409995-c7f3-4b28-9863-b534f6023b66",
   "metadata": {},
   "outputs": [],
   "source": []
  },
  {
   "cell_type": "code",
   "execution_count": null,
   "id": "64521fb1",
   "metadata": {},
   "outputs": [],
   "source": []
  },
  {
   "attachments": {},
   "cell_type": "markdown",
   "id": "f687797c",
   "metadata": {},
   "source": [
    "# 3. bastion server에서 bootstrap 실행\n",
    "# => 테라폼 null_resource로 대체"
   ]
  },
  {
   "cell_type": "code",
   "execution_count": null,
   "id": "69818006",
   "metadata": {},
   "outputs": [],
   "source": []
  },
  {
   "cell_type": "code",
   "execution_count": null,
   "id": "74bfb5bd-480f-4eb9-b887-f6ad4393f7d7",
   "metadata": {},
   "outputs": [],
   "source": []
  },
  {
   "attachments": {},
   "cell_type": "markdown",
   "id": "56da0f85",
   "metadata": {},
   "source": [
    "# 4 node size -> 다시 늘리기"
   ]
  },
  {
   "cell_type": "code",
   "execution_count": null,
   "id": "26bf25e5",
   "metadata": {},
   "outputs": [],
   "source": [
    "#node_size.yml => cluster size you want"
   ]
  },
  {
   "cell_type": "code",
   "execution_count": null,
   "id": "1c7dae0a-603c-4d63-8e52-d0d0a6e7621b",
   "metadata": {},
   "outputs": [],
   "source": []
  },
  {
   "cell_type": "code",
   "execution_count": null,
   "id": "742e7fca-7041-4ad7-8db4-3b60912ec971",
   "metadata": {},
   "outputs": [],
   "source": [
    "#kubeflow 자체가 어짜피 scalable하게 안만들어져 있어서 관련 pod들은 한군데로 몰아놓음\n",
    "change_node_size_yml(node_size_file = 'node_size_for_group_1.yml',\n",
    "                     desired_size = 1, \n",
    "                     max_size = 1, #max_size는 0이 될 수 없다. \n",
    "                     min_size = 1)"
   ]
  },
  {
   "cell_type": "code",
   "execution_count": null,
   "id": "acc2eefb-fbb0-4aee-8890-50fff498df14",
   "metadata": {},
   "outputs": [],
   "source": [
    "#이건 scale out할때만 늘리면 됨\n",
    "change_node_size_yml(node_size_file = 'node_size_for_group_2.yml',\n",
    "                     desired_size = 1, \n",
    "                     max_size = 1, #max_size는 0이 될 수 없다. \n",
    "                     min_size = 1)"
   ]
  },
  {
   "cell_type": "code",
   "execution_count": null,
   "id": "f7d35ba9-5e6b-4f5b-94cb-d0e9b44f9f4d",
   "metadata": {},
   "outputs": [],
   "source": []
  },
  {
   "cell_type": "code",
   "execution_count": null,
   "id": "98a87526",
   "metadata": {},
   "outputs": [],
   "source": [
    "change_current_state_for_bootstrap(state=\"bootstrap\")"
   ]
  },
  {
   "cell_type": "code",
   "execution_count": null,
   "id": "4f5022bf",
   "metadata": {
    "scrolled": true
   },
   "outputs": [],
   "source": [
    "!terraform apply --auto-approve"
   ]
  },
  {
   "cell_type": "code",
   "execution_count": null,
   "id": "ec66fc71-d668-4ac3-9024-b3a63e409112",
   "metadata": {},
   "outputs": [],
   "source": []
  },
  {
   "cell_type": "code",
   "execution_count": null,
   "id": "885d77b3-11d1-42c5-87f6-9dbe2f9bb556",
   "metadata": {},
   "outputs": [],
   "source": []
  },
  {
   "cell_type": "code",
   "execution_count": null,
   "id": "f1eda25a",
   "metadata": {},
   "outputs": [],
   "source": []
  },
  {
   "cell_type": "code",
   "execution_count": null,
   "id": "496ea824-bddb-40df-bbd5-60cc5629e11a",
   "metadata": {
    "scrolled": true
   },
   "outputs": [],
   "source": [
    "#잠깐 쉴때는 노드 사이즈만 줄여도 괜찮네\n",
    "#!terraform apply --auto-approve"
   ]
  },
  {
   "cell_type": "code",
   "execution_count": null,
   "id": "60fe46e3-f221-4b29-a39f-8d513d428434",
   "metadata": {},
   "outputs": [],
   "source": []
  },
  {
   "cell_type": "code",
   "execution_count": null,
   "id": "2499384d-89f7-4a69-8e95-8fc9471334af",
   "metadata": {},
   "outputs": [],
   "source": [
    "여기 이전에 멈춰~~~~"
   ]
  },
  {
   "cell_type": "code",
   "execution_count": null,
   "id": "7f223927-c681-4448-9341-62848bb6403d",
   "metadata": {},
   "outputs": [],
   "source": [
    "ingress로 바꾸면 마지막에 bastion ip랑 lb ip 띄워야 겠지"
   ]
  },
  {
   "cell_type": "code",
   "execution_count": null,
   "id": "94410d6c-2145-4b64-ad89-468dad1af5ae",
   "metadata": {},
   "outputs": [],
   "source": []
  },
  {
   "cell_type": "code",
   "execution_count": null,
   "id": "3b3aa57d-9c5e-42ec-97d5-d844d2bede3e",
   "metadata": {
    "scrolled": true
   },
   "outputs": [],
   "source": [
    "#bastion sg 추가\n",
    "#!terraform apply --auto-approve"
   ]
  },
  {
   "cell_type": "code",
   "execution_count": null,
   "id": "f72da727-1a04-4602-94ff-8a7a4013b63c",
   "metadata": {},
   "outputs": [],
   "source": []
  },
  {
   "cell_type": "code",
   "execution_count": null,
   "id": "7af2c657",
   "metadata": {},
   "outputs": [],
   "source": [
    "저번에 보니까 eks driver들을 terraform에서 설정 가능하던데..."
   ]
  },
  {
   "cell_type": "code",
   "execution_count": null,
   "id": "cf311600-b7d6-45d1-9771-1a15d6bee6c1",
   "metadata": {},
   "outputs": [],
   "source": [
    "#!terraform apply --auto-approve"
   ]
  },
  {
   "cell_type": "code",
   "execution_count": null,
   "id": "44491380-8c99-4eee-a138-d853d989f0ce",
   "metadata": {},
   "outputs": [],
   "source": []
  },
  {
   "cell_type": "markdown",
   "id": "6c9a3641-31a7-494d-97dc-5a3b60585c6e",
   "metadata": {},
   "source": [
    "# 5 scale out 할때"
   ]
  },
  {
   "cell_type": "code",
   "execution_count": null,
   "id": "6a64161e-b70e-4fa7-946e-92303f86631d",
   "metadata": {},
   "outputs": [],
   "source": []
  },
  {
   "cell_type": "code",
   "execution_count": null,
   "id": "a0b07bd5-9c27-4273-aa3c-d9f32be9efef",
   "metadata": {},
   "outputs": [],
   "source": [
    "#kubeflow 자체가 어짜피 scalable하게 안만들어져 있어서 관련 pod들은 한군데로 몰아놓음\n",
    "change_node_size_yml(node_size_file = 'node_size_for_group_1.yml',\n",
    "                     desired_size = 1, \n",
    "                     max_size = 1, #max_size는 0이 될 수 없다. \n",
    "                     min_size = 1)"
   ]
  },
  {
   "cell_type": "code",
   "execution_count": null,
   "id": "b68b07e9-6802-403a-bfa6-33f407709281",
   "metadata": {},
   "outputs": [],
   "source": [
    "#이건 scale out할때만 늘리면 됨\n",
    "#next time, i have to scale out instances by 10 <- it looks too much... but it's okay!\n",
    "change_node_size_yml(node_size_file = 'node_size_for_group_2.yml',\n",
    "                     desired_size = 1,\n",
    "                     max_size = 1, #max_size는 0이 될 수 없다. \n",
    "                     min_size = 1)"
   ]
  },
  {
   "cell_type": "code",
   "execution_count": null,
   "id": "77c7168b-3358-4d9b-ac4c-c5dd45064d7b",
   "metadata": {
    "scrolled": true
   },
   "outputs": [],
   "source": [
    "!terraform apply --auto-approve"
   ]
  },
  {
   "cell_type": "code",
   "execution_count": null,
   "id": "fc0d47c7-72c6-402c-9d0f-e84b47a8259e",
   "metadata": {},
   "outputs": [],
   "source": []
  },
  {
   "cell_type": "code",
   "execution_count": null,
   "id": "ea629dfd-cd60-4567-9df1-06f30e78dce2",
   "metadata": {},
   "outputs": [],
   "source": []
  },
  {
   "cell_type": "code",
   "execution_count": null,
   "id": "8a99fcd0-0627-48dc-aebc-eefaa6c0930c",
   "metadata": {},
   "outputs": [],
   "source": []
  },
  {
   "cell_type": "code",
   "execution_count": null,
   "id": "8f56e1ef-87b0-480a-802e-64c0d87f17fb",
   "metadata": {},
   "outputs": [],
   "source": []
  },
  {
   "cell_type": "code",
   "execution_count": null,
   "id": "7570f1a4-2e10-4bde-949b-57268a4d7b42",
   "metadata": {},
   "outputs": [],
   "source": []
  },
  {
   "cell_type": "code",
   "execution_count": null,
   "id": "01583bc5-cd45-421b-a018-749a3a9182da",
   "metadata": {},
   "outputs": [],
   "source": []
  },
  {
   "cell_type": "markdown",
   "id": "4ffd950a-ccde-4eb9-9cbb-ba879badf4d3",
   "metadata": {},
   "source": [
    "# 6 destroy"
   ]
  },
  {
   "cell_type": "code",
   "execution_count": null,
   "id": "95ae3d10-5c84-4745-a031-110caba2e390",
   "metadata": {
    "scrolled": true
   },
   "outputs": [],
   "source": [
    "!terraform destroy --auto-approve"
   ]
  },
  {
   "cell_type": "code",
   "execution_count": null,
   "id": "cdb29b7d-9b7f-49c1-a08c-dab8ed9e3138",
   "metadata": {},
   "outputs": [],
   "source": []
  },
  {
   "cell_type": "code",
   "execution_count": null,
   "id": "6f075e35-789d-4b3d-b066-c7dd8f74b676",
   "metadata": {
    "scrolled": true
   },
   "outputs": [],
   "source": []
  },
  {
   "cell_type": "code",
   "execution_count": null,
   "id": "9b5f3f8c-f2a2-460a-90bd-78b246a40162",
   "metadata": {},
   "outputs": [],
   "source": []
  },
  {
   "cell_type": "code",
   "execution_count": null,
   "id": "84ba0d8b-3b89-4b15-9c5a-6e6bc239f7dd",
   "metadata": {},
   "outputs": [],
   "source": []
  }
 ],
 "metadata": {
  "kernelspec": {
   "display_name": "Python 3 (ipykernel)",
   "language": "python",
   "name": "python3"
  },
  "language_info": {
   "codemirror_mode": {
    "name": "ipython",
    "version": 3
   },
   "file_extension": ".py",
   "mimetype": "text/x-python",
   "name": "python",
   "nbconvert_exporter": "python",
   "pygments_lexer": "ipython3",
   "version": "3.10.11"
  }
 },
 "nbformat": 4,
 "nbformat_minor": 5
}
