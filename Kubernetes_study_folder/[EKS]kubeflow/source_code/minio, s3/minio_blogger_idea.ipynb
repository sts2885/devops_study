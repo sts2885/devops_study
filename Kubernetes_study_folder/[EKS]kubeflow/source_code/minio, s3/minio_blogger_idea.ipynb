{
 "cells": [
  {
   "cell_type": "code",
   "execution_count": null,
   "id": "00f931e9-e895-4a7c-9f3e-fada374693c5",
   "metadata": {},
   "outputs": [],
   "source": []
  },
  {
   "cell_type": "code",
   "execution_count": null,
   "id": "04d83563-3aec-4a48-ac45-da27191309e2",
   "metadata": {},
   "outputs": [],
   "source": [
    "import kfp\n",
    "from kfp import dsl\n",
    "from kubernetes.client.models import V1EnvVar, V1EnvVarSource, V1SecretKeySelector\n",
    "from istio_auth_with_client import kfp_client"
   ]
  },
  {
   "cell_type": "code",
   "execution_count": null,
   "id": "d5597a33-e593-4aa8-b2af-c9154c42c874",
   "metadata": {},
   "outputs": [],
   "source": [
    "@dsl.pipeline(\n",
    "    name='pipeline_minio',\n",
    "    description = 'pipeline_minio'\n",
    ")\n",
    "\n",
    "def pipeline_minio():\n",
    "    secret_name = \"kfp-aws-secret\"\n",
    "    s3_endpoint = \"minio-service.kubelfow.svc.cluster.local:9000\"\n",
    "    minio_endpoint = \"http://\" + s3_endpoint\n",
    "    minio_region = \"us-east-1\"\n",
    "    \n",
    "    dsl.ContainerOp(\n",
    "        name='mnist-s3',\n",
    "        image='블로그 저자의 개인 이미지라 접근 불가',\n",
    "        #내가 하고 싶은건 이거야 이거 조립할때 여기에 minio 를 마운트 해서 main.py를 바꾸고 싶어.\n",
    "        arguments=['--model', 's3://mlpipeline']\n",
    "    )\n",
    "    . add_env_variable(V1EnvVar(name=\"S3_ENDPOINT\", value=s3_endpoint))"
   ]
  },
  {
   "cell_type": "code",
   "execution_count": null,
   "id": "2e9920dc-26a6-4747-8eed-2b8faad84242",
   "metadata": {},
   "outputs": [],
   "source": []
  },
  {
   "cell_type": "markdown",
   "id": "ab680160-8903-40b4-96b7-48df11ce4f2e",
   "metadata": {},
   "source": [
    "이런 느낌으로 쭉 가는데 나는 이것보다"
   ]
  },
  {
   "cell_type": "markdown",
   "id": "668d81a5-03cf-4604-b639-ec3bcbaeca1e",
   "metadata": {},
   "source": [
    "- mc config host add minio http://localhost:9000 minio minio123  \n",
    "\n",
    "- https://www.lesstif.com/system-admin/minio-client-76709916.html  \n",
    "\n",
    "- mc config host add localminio 대체할_URL ACCESSKEY SECRETKEY\n",
    "(아마 url엔 s3.amazonaws.com이거가 들어가면 될거 같은데)\n",
    "\n",
    "- mc config host ls 치면 나옴\n",
    "\n",
    "- 이런 식으로 여러 호스트를 준비 해뒀다가 필요에 따라 마운트하는게 정답이라고 생각함.\n",
    "\n",
    "- https://min.io/docs/minio/linux/reference/minio-mc.html\n",
    "- 공홈엔 이렇게 적혀 있음\n",
    "- mc alias set myS3 https://s3.amazon.com/endpoint ACCESS_KEY SECRET KEY\n",
    "\n",
    "- 쭉 보니까 jupyter에서 코드짜고 작업하다가 pvc를 volumeop로 만들어서 main.py 위치에 마운트 시키면 될듯?\n",
    "- 아니네... 주피터에서 바로 줄 수가 없구나... 그래서 minio로 하려고 한건데\n",
    "- 이거보다 kubeflow fairing으로 dockerize 시키는게 더 효율적인가?"
   ]
  },
  {
   "cell_type": "code",
   "execution_count": null,
   "id": "1f57a63f-4c51-4d3c-af58-464ed0b90a17",
   "metadata": {},
   "outputs": [],
   "source": []
  },
  {
   "cell_type": "markdown",
   "id": "f2b83874-8d05-4033-8211-130d3ebedbf5",
   "metadata": {},
   "source": [
    "이렇게 등록해둔 호스트를 가지고"
   ]
  },
  {
   "cell_type": "code",
   "execution_count": null,
   "id": "839571e8-d610-4a54-b817-df2e814b9f4b",
   "metadata": {},
   "outputs": [],
   "source": []
  },
  {
   "cell_type": "markdown",
   "id": "45e10ee7-a924-4724-b407-9f57ef290ad7",
   "metadata": {},
   "source": [
    "이거는 pvc를 그냥 k8s 차원에서 연결하는거고"
   ]
  },
  {
   "cell_type": "code",
   "execution_count": null,
   "id": "bb1aa9f5-c27f-4daa-beee-a1d94da4f25e",
   "metadata": {},
   "outputs": [],
   "source": [
    "dvop = dsl.VolumeOp(name=\"create_pvc\",\n",
    "                    resource_name=\"my-pvc-2\",\n",
    "                    size=\"5Gi\",\n",
    "                    modes=dsl.VOLUME_MODE_RWO)"
   ]
  },
  {
   "cell_type": "code",
   "execution_count": null,
   "id": "1677a3f3-21ef-45ed-ab2f-a5d8b0095b4e",
   "metadata": {},
   "outputs": [],
   "source": []
  },
  {
   "cell_type": "markdown",
   "id": "0297a7c6-1851-462e-b245-5c0dd387a370",
   "metadata": {},
   "source": [
    "minio 쓰는건"
   ]
  },
  {
   "cell_type": "code",
   "execution_count": null,
   "id": "eeef125b-e5cb-4cc3-8a4b-aa867ad8dd40",
   "metadata": {},
   "outputs": [],
   "source": [
    "train = dsl.ContainerOp(\n",
    "    name='trainmodel',\n",
    "    image = '이미지') \\\n",
    "    .add_env_variable(k8s_client.V1EnvVar(name='MINIO_URL', value=내용)) \\ #'S3_URL\n",
    "    .add_env_variable(k8s_client.V1EnvVar(name='access')\n",
    "                                                  'secret'\n",
    "\n",
    "하면 될거 같음\n",
    "근데 이거 넣는건 넣는건데 어디 위치에 마운트 되는거지? 로컬에서 한번 써보느넥 아니면 감 잡기 쉽지 않을거 같은데?\n",
    "\n",
    "loop로 미리 셋팅해두면 각 stage에서 쉬워질수 이다고 적혀있음.\n",
    "\n",
    "for each in pipeline:\n",
    "    each.add_env_variable(k8s_client.V1EnvVar(name='MINIO_URL', value=내용)) \n",
    "    이런식인듯"
   ]
  },
  {
   "cell_type": "code",
   "execution_count": null,
   "id": "042c06b9-f899-44f4-90f4-843a0485676e",
   "metadata": {},
   "outputs": [],
   "source": [
    "겉에서 연결하는 것 이런건 좀 알겠는데\n",
    "\n",
    "쓰면 마운트가 어떻게 되는건지 이런것들은 좀 써봐야겠음.\n",
    "fs에 마운트 되는건지 함수로 호출하는건지 등등"
   ]
  },
  {
   "cell_type": "code",
   "execution_count": null,
   "id": "eb242755-5fa6-4654-be17-9845813839e1",
   "metadata": {},
   "outputs": [],
   "source": [
    "어느 디렉토리에 어떻게 마운트 되었는지 표기가 안되어있어서... 코드에서 직접 연결하는건가?"
   ]
  },
  {
   "cell_type": "code",
   "execution_count": null,
   "id": "f8c5fd68-bc73-4099-a4d5-78187840b567",
   "metadata": {},
   "outputs": [],
   "source": []
  },
  {
   "cell_type": "code",
   "execution_count": null,
   "id": "5ed2fa19-ab14-497a-9796-e015151b31a9",
   "metadata": {},
   "outputs": [],
   "source": []
  },
  {
   "cell_type": "code",
   "execution_count": null,
   "id": "e7cfa12f-16be-489a-8b8b-602bb1d13fa8",
   "metadata": {},
   "outputs": [],
   "source": [
    "import kfp\n",
    "from kfp import dsl\n",
    "from kubernetes.client.models import V1EnvVar, V1EnvVarSource, V1SecretKeySelector\n",
    "from istio_auth_with_client import kfp_client"
   ]
  },
  {
   "cell_type": "code",
   "execution_count": null,
   "id": "46cb9e94-2269-47e8-be5e-40a6e3958ecc",
   "metadata": {},
   "outputs": [],
   "source": [
    "import kfp\n",
    "from kfp import dsl\n",
    "from kfp import aws\n",
    "\n",
    "from kubernetes.client.models import V1EnvVar\n",
    "\n",
    "\n",
    "@dsl.pipeline(\n",
    "    name='spark-tf_pipeline',\n",
    "    description = 'pipeline with s3'\n",
    ")\n",
    "def pipeline_use_aws_secret():\n",
    "    preprocessing = dsl.ContainerOp(\n",
    "        name = \"spark_job\",\n",
    "        image = \"apache/spark:3.4.1-python3\" #gcr.io/spark-operator/spark-py:v3.4.1\n",
    "    )\n",
    "        .add_env_variable(aws.use_aws_secret(\"aws-secret\",#secret_name,\n",
    "                                             aws_access_key_id_name = 'AWS_ACCESS_KEY_ID',\n",
    "                                             aws_secret_access_key_name = 'AWS_SECRET_ACCESS_KEY'))\n",
    "        .add_env_variable(V1EnvVar(name='AWS_REGION', value = 'us-east1'))\n",
    "\n",
    "    training = dsl.ContainerOp(\n",
    "        name = 'distributed_tf_job',\n",
    "        image = 'tensorflow/tensorflow:2.12.0'\n",
    "    )\n",
    "        .add_env_variable(V1EnvVar(name='MINIO_URL', value='http://minio-service.kubeflow.svc.cluster.local:9000'))\n",
    "        .add_env_variable(V1EnvVar(name='MINIO_KEY', value='minio'))\n",
    "        .add_env_variable(V1EnvVar(name='MINIO_SECRET', value='minio123'))\n",
    "\n"
   ]
  },
  {
   "cell_type": "code",
   "execution_count": null,
   "id": "da111f79-c82b-4929-9348-f240a755f7b5",
   "metadata": {},
   "outputs": [],
   "source": []
  },
  {
   "cell_type": "code",
   "execution_count": null,
   "id": "c814a732-9dc6-4375-a975-856d205c800e",
   "metadata": {},
   "outputs": [],
   "source": [
    "training = dsl.ContainerOp(\n",
    "    name = \"training_process\",\n",
    "    image = \"tensorflow/tensorflow:2.12.0\"\n",
    ")"
   ]
  },
  {
   "cell_type": "code",
   "execution_count": null,
   "id": "7bfafdbc-235a-4e5e-b12c-13f85efdc1ea",
   "metadata": {},
   "outputs": [],
   "source": []
  },
  {
   "cell_type": "code",
   "execution_count": null,
   "id": "b7885ec6-bbde-4048-a9a8-67aff998930c",
   "metadata": {},
   "outputs": [],
   "source": [
    "pv 달고 다운로드 + 작업\n",
    "\n",
    "다운로드랑 작업이랑 나눠야 되나?\n",
    "\n",
    "pv에 다운로드 + \n"
   ]
  },
  {
   "cell_type": "code",
   "execution_count": null,
   "id": "f01cd647-abaf-425e-90d3-7cd7b3ddfb7d",
   "metadata": {},
   "outputs": [],
   "source": []
  },
  {
   "cell_type": "code",
   "execution_count": null,
   "id": "508b8337-f762-474e-bed8-b260c08df283",
   "metadata": {},
   "outputs": [],
   "source": []
  },
  {
   "cell_type": "code",
   "execution_count": null,
   "id": "8e155c60-b1c6-4d76-9f3e-84385f111030",
   "metadata": {},
   "outputs": [],
   "source": []
  },
  {
   "cell_type": "code",
   "execution_count": null,
   "id": "6dfeb158-9501-4d6f-bdc5-fde478269408",
   "metadata": {},
   "outputs": [],
   "source": []
  },
  {
   "cell_type": "code",
   "execution_count": null,
   "id": "476816a5-0f7d-408b-a56a-926f16a95edd",
   "metadata": {},
   "outputs": [],
   "source": []
  }
 ],
 "metadata": {
  "kernelspec": {
   "display_name": "Python 3 (ipykernel)",
   "language": "python",
   "name": "python3"
  },
  "language_info": {
   "codemirror_mode": {
    "name": "ipython",
    "version": 3
   },
   "file_extension": ".py",
   "mimetype": "text/x-python",
   "name": "python",
   "nbconvert_exporter": "python",
   "pygments_lexer": "ipython3",
   "version": "3.10.11"
  }
 },
 "nbformat": 4,
 "nbformat_minor": 5
}
