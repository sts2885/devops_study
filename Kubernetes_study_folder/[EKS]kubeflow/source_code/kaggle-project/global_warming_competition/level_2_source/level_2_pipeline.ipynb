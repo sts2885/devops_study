{
 "cells": [
  {
   "cell_type": "code",
   "execution_count": null,
   "id": "d6cd70f4-99b8-4c1d-9c76-ae1c8619b34a",
   "metadata": {},
   "outputs": [],
   "source": []
  },
  {
   "cell_type": "markdown",
   "id": "1ded30b0-9766-48a8-a1e3-27bc1a560f75",
   "metadata": {},
   "source": [
    "# Do one more time for checking there is cache!!"
   ]
  },
  {
   "cell_type": "code",
   "execution_count": null,
   "id": "addb0c8b-7c88-4a8d-bb14-c3fdfd71a9de",
   "metadata": {},
   "outputs": [],
   "source": []
  },
  {
   "cell_type": "markdown",
   "id": "251a8f5d-f8e0-4192-81b5-5434736ce00e",
   "metadata": {},
   "source": [
    "# Add environment variable to here"
   ]
  },
  {
   "cell_type": "code",
   "execution_count": null,
   "id": "697890a2-5223-4391-bd78-c1c6246a6175",
   "metadata": {},
   "outputs": [],
   "source": []
  },
  {
   "cell_type": "code",
   "execution_count": 1,
   "id": "425e3e40-5dd6-4aed-aa1e-68f4bb305c0a",
   "metadata": {},
   "outputs": [],
   "source": [
    "from my_os_variables import *"
   ]
  },
  {
   "cell_type": "code",
   "execution_count": null,
   "id": "52c61ad6-019e-4b92-ac89-c4d18189e80e",
   "metadata": {},
   "outputs": [],
   "source": []
  },
  {
   "cell_type": "code",
   "execution_count": 2,
   "id": "1fb90595-3cfc-4df0-a466-2859e3592e8e",
   "metadata": {},
   "outputs": [],
   "source": [
    "import os\n",
    "\n",
    "minio_url = os.environ[\"minio_url\"]\n",
    "minio_access_key = os.environ['minio_access_key']\n",
    "minio_secret_key = os.environ['minio_secret_key']\n",
    "minio_region = os.environ['minio_region']\n",
    "minio_bucket_name = os.environ['minio_bucket_name']\n",
    "\n",
    "competition_name = os.environ['competition_name']\n",
    "\n",
    "kaggle_access_key = os.environ[\"kaggle_access_key\"]\n",
    "kaggle_secret_key = os.environ[\"kaggle_secret_key\"]\n",
    "\n",
    "pv_mount_name = os.environ['pv_mount_name']\n",
    "pv_count = '20'#os.environ['pv_count']\n",
    "\n",
    "download_from = 's3'#os.environ['download_from']"
   ]
  },
  {
   "cell_type": "code",
   "execution_count": null,
   "id": "9ee13f23-c3ac-49e4-842a-39f4f6ccb9f5",
   "metadata": {},
   "outputs": [],
   "source": []
  },
  {
   "cell_type": "code",
   "execution_count": null,
   "id": "7f8dd65c-a747-459e-a212-7cf15898c856",
   "metadata": {},
   "outputs": [],
   "source": []
  },
  {
   "cell_type": "code",
   "execution_count": 3,
   "id": "929ae9f5-67f6-46ba-9865-40ecc1aff7de",
   "metadata": {},
   "outputs": [
    {
     "name": "stdout",
     "output_type": "stream",
     "text": [
      "{'experiments': [{'created_at': datetime.datetime(2023, 9, 10, 5, 43, 58, tzinfo=tzlocal()),\n",
      "                  'description': None,\n",
      "                  'id': '79ae0049-b941-48d5-ac9a-350d3b7c46df',\n",
      "                  'name': 'global_warming_level_2_v2',\n",
      "                  'resource_references': [{'key': {'id': 'kubeflow-user-example-com',\n",
      "                                                   'type': 'NAMESPACE'},\n",
      "                                           'name': None,\n",
      "                                           'relationship': 'OWNER'}],\n",
      "                  'storage_state': 'STORAGESTATE_AVAILABLE'}],\n",
      " 'next_page_token': None,\n",
      " 'total_size': 1}\n"
     ]
    }
   ],
   "source": [
    "import kfp\n",
    "import kfp.dsl as dsl\n",
    "\n",
    "from kubernetes import client as k8s_client\n",
    "\n",
    "from istio_auth_with_client import kfp_client"
   ]
  },
  {
   "cell_type": "code",
   "execution_count": null,
   "id": "0a1febb7-ef48-4f0a-a9bb-2ae372e6d43f",
   "metadata": {},
   "outputs": [],
   "source": []
  },
  {
   "cell_type": "code",
   "execution_count": null,
   "id": "9619ea23-f2b6-4ad4-9146-816e4b40ad4c",
   "metadata": {},
   "outputs": [],
   "source": []
  },
  {
   "cell_type": "code",
   "execution_count": null,
   "id": "a83236e2-1db7-4528-8a7b-3ba6b8286370",
   "metadata": {},
   "outputs": [],
   "source": []
  },
  {
   "cell_type": "markdown",
   "id": "c2402ebc-3d3f-4a5c-82c1-3baae29bb7a4",
   "metadata": {},
   "source": [
    "## pv 문제인지 pipeline 문제인지 모르겠으나 같은 이름이 들어가 있는 상태로 run이 되면 pvc가 생성이 되지 않는 버그를 발견했다.(이전pipeline을 terminate 시켜도)\n",
    "## 따라서 이름 앞에 랜덤 문자열을 붙였다."
   ]
  },
  {
   "cell_type": "code",
   "execution_count": 4,
   "id": "6bca3fc8-e78b-43a2-878a-9ad3ff7aa37b",
   "metadata": {},
   "outputs": [
    {
     "name": "stdout",
     "output_type": "stream",
     "text": [
      "vnvnoipn\n"
     ]
    }
   ],
   "source": [
    "import string\n",
    "import random\n",
    "\n",
    "_LENGTH = 8 # 몇자리?\n",
    "string_pool = string.ascii_lowercase\n",
    "tmp_hash = \"\" # 결과 값\n",
    "for i in range(_LENGTH) :\n",
    "    # 랜덤한 하나의 숫자를 뽑아서, 문자열 결합을 한다.\n",
    "    tmp_hash += random.choice(string_pool)\n",
    "print(tmp_hash)"
   ]
  },
  {
   "cell_type": "code",
   "execution_count": null,
   "id": "c18ace85-e2e4-4371-b4a6-526017af89c0",
   "metadata": {},
   "outputs": [],
   "source": []
  },
  {
   "cell_type": "code",
   "execution_count": 5,
   "id": "b2d236bf-c7ae-4905-97c6-ef793305aa75",
   "metadata": {},
   "outputs": [],
   "source": [
    "#타입 명시 안해주면 이상한 값이 들어오는듯?\n",
    "def sleep_for_a_while(sleep_time : int):\n",
    "    import time\n",
    "    print(\"sleep for \", sleep_time, 'seconds')\n",
    "    time.sleep(sleep_time)"
   ]
  },
  {
   "cell_type": "code",
   "execution_count": null,
   "id": "840d009b-b7e7-42c1-84a8-9b7876adc700",
   "metadata": {},
   "outputs": [],
   "source": []
  },
  {
   "cell_type": "code",
   "execution_count": 6,
   "id": "a88e236f-e3c8-48d1-8e99-9d21e96e722b",
   "metadata": {},
   "outputs": [],
   "source": [
    "#sleep_for_a_while(5)\n",
    "#print(\"good\")"
   ]
  },
  {
   "cell_type": "code",
   "execution_count": null,
   "id": "3a212739-179c-4894-b959-4c5b908dc9a2",
   "metadata": {},
   "outputs": [],
   "source": []
  },
  {
   "cell_type": "code",
   "execution_count": 7,
   "id": "6cd9beb2-2a0a-4f2c-afcf-9e9841fd1a04",
   "metadata": {},
   "outputs": [],
   "source": [
    "\n",
    "@dsl.pipeline(\n",
    "    name=tmp_hash+\"level2\",\n",
    "    description=tmp_hash+\"level2\"\n",
    ")\n",
    "def global_warming_level_2_pipeline():\n",
    "    \n",
    "    \n",
    "    #list 보다 dict가 낫나?\n",
    "    volume_list = []\n",
    "    volume_dict = dict()\n",
    "    \n",
    "    for pv_num in range(1, int(pv_count)+1):\n",
    "        \n",
    "        mount_path = \"/var/source/\" + pv_mount_name + str(pv_num)\n",
    "        \n",
    "        vop = dsl.VolumeOp(name=tmp_hash+\"create_pvc_\"+str(pv_num),\n",
    "                   resource_name=tmp_hash+'my-pvc-'+str(pv_num),\n",
    "                   size='70Gi',#실전에서는 크게 잡아야됨.\n",
    "                   modes=dsl.VOLUME_MODE_RWO, #RWO : read write once\n",
    "                   set_owner_reference = True # https://github.com/kubeflow/pipelines/issues/6649#issuecomment-938509228 \n",
    "                  )\n",
    "        volume_list.append(mount_path)\n",
    "        volume_dict[mount_path] = vop.volume\n",
    "    \n",
    "    #print(\"volume_list\", volume_list)\n",
    "    #print(\"volume_dict\", volume_dict)\n",
    "\n",
    "\n",
    "    mount_path = \"/var/source/global_warming\"\n",
    "    download_pv = dsl.VolumeOp(name=tmp_hash+\"create_pvc_0\",\n",
    "                       resource_name=tmp_hash+'my-pvc-0',\n",
    "                       size='400Gi',\n",
    "                       modes=dsl.VOLUME_MODE_RWO, #RWO : read write once\n",
    "                       set_owner_reference = True # https://github.com/kubeflow/pipelines/issues/6649#issuecomment-938509228\n",
    "                       )\n",
    "    volume_list.append(mount_path)\n",
    "    volume_dict[mount_path] = download_pv.volume\n",
    "    \n",
    "\n",
    "    \n",
    "    step_1 = kfp.dsl.ContainerOp(\n",
    "        name=\"download_and_extract\",\n",
    "        image=\"escs34/global_warming:level_2_v5\", #command를 넣을 수 있음.. argument랑\n",
    "        command=[\"python3\"],\n",
    "        arguments=[\n",
    "            \"/var/source/level_2_main_a.py\"\n",
    "        ],\n",
    "        #여기서 한번에 넣으려고 했는데 그랬더니 마지막 pv만 딱 연결됨. add_pvolume으로 되나 봐야 겠음\n",
    "        #=> pv_num이 아니라 pv_count로 넣어서 마지막 값만 들어감... dict에 마지막 값밖에 없었음\n",
    "        pvolumes=volume_dict\n",
    "        #pvolumes={'/var/source/global_warming': vop.volume}\n",
    "    )\n",
    "    \n",
    "    \n",
    "    #for key, value in volume_dict.items():\n",
    "    #    print(\"key, value : \", key)#,value)\n",
    "    #    step_1.add_pvolumes({key:value})\n",
    "    \n",
    "\n",
    "    #이거 썼더니 2번 돌리면 \"어머 이전 값이 캐시에 있네요^^? 하면서 스킵해버림\n",
    "    #I remove this kfp functional pipeline.\n",
    "    #sleep_for_a_while_op = kfp.components.func_to_container_op(sleep_for_a_while)\n",
    "    #sleep_time = 10\n",
    "    #sleep_for_a_while_task = sleep_for_a_while_op(sleep_time)\n",
    "    \n",
    "    sleep_for_scale_out = kfp.dsl.ContainerOp(\n",
    "        name=\"wait_for_scale_out\",\n",
    "        image=\"escs34/global_warming:level_2_v5\", #command를 넣을 수 있음.. argument랑\n",
    "        command=[\"sleep\"],\n",
    "        arguments=[\n",
    "            \"300\"\n",
    "        ],\n",
    "        #여기서 한번에 넣으려고 했는데 그랬더니 마지막 pv만 딱 연결됨. add_pvolume으로 되나 봐야 겠음\n",
    "        #=> pv_num이 아니라 pv_count로 넣어서 마지막 값만 들어감... dict에 마지막 값밖에 없었음\n",
    "        pvolumes=volume_dict\n",
    "        #pvolumes={'/var/source/global_warming': vop.volume}\n",
    "    )\n",
    "    \n",
    "    \n",
    "    #step_2 는 pv 숫자 만큼 만들어 져야 함.\n",
    "    step_2_list = []\n",
    "    for pv_num in range(1,int(pv_count)+1):\n",
    "        mount_path = \"/var/source/\" + pv_mount_name + str(pv_num)\n",
    "        step_2 = kfp.dsl.ContainerOp(\n",
    "            name = \"resize_reformat_zip_data_and_upload\",\n",
    "            image=\"escs34/global_warming:level_2_v5\",\n",
    "            command=[\"python3\"],\n",
    "            arguments=[\n",
    "                \"/var/source/level_2_main_b.py\"\n",
    "            ],\n",
    "            #pvolumes=volume_dict\n",
    "            pvolumes={'/var/source/'+pv_mount_name+str(pv_num): volume_dict[mount_path]}\n",
    "        )\n",
    "        step_2_list.append(step_2)\n",
    "        \n",
    "    #print(\"step_2_list : \", step_2_list)\n",
    "    \n",
    "    steps = [step_1] + step_2_list\n",
    "    pv_count_list = [pv_count] + [str(pv_num) for pv_num in range(1, int(pv_count)+1)]\n",
    "    print(\"pv_count_list : \",pv_count_list)\n",
    "    \n",
    "    for i in range(len(steps)):\n",
    "        steps[i].add_env_variable(k8s_client.V1EnvVar(name='minio_url', value=minio_url)) \\\n",
    "            .add_env_variable(k8s_client.V1EnvVar(name='minio_access_key', value=minio_access_key)) \\\n",
    "            .add_env_variable(k8s_client.V1EnvVar(name='minio_secret_key', value=minio_secret_key)) \\\n",
    "            .add_env_variable(k8s_client.V1EnvVar(name='minio_region', value=minio_region)) \\\n",
    "            .add_env_variable(k8s_client.V1EnvVar(name='minio_bucket_name', value=minio_bucket_name)) \\\n",
    "            .add_env_variable(k8s_client.V1EnvVar(name='competition_name', value=competition_name)) \\\n",
    "            .add_env_variable(k8s_client.V1EnvVar(name='kaggle_access_key', value=kaggle_access_key)) \\\n",
    "            .add_env_variable(k8s_client.V1EnvVar(name='kaggle_secret_key', value=kaggle_secret_key)) \\\n",
    "            .add_env_variable(k8s_client.V1EnvVar(name='pv_mount_name', value=pv_mount_name)) \\\n",
    "            .add_env_variable(k8s_client.V1EnvVar(name='pv_count', value=pv_count_list[i])) \\\n",
    "            .add_env_variable(k8s_client.V1EnvVar(name='download_from', value=download_from))\n",
    "    #oh... same mistake as yesterdat(today?)\n",
    "\n",
    "    #build the pipelien with definded container\n",
    "    \n",
    "    sleep_for_scale_out.after(step_1)#\n",
    "    \n",
    "    #for pv_num in range(int(pv_count)):\n",
    "    #    step_2_list[pv_num].after(step_1)\n",
    "    \n",
    "    for pv_num in range(int(pv_count)):\n",
    "        step_2_list[pv_num].after(sleep_for_scale_out)\n",
    "    \n",
    "    #pod를 compelete 후 300초 뒤에 삭제 (삭제해야 pv도 삭제돼서 사용.)\n",
    "    dsl.get_pipeline_conf().set_ttl_seconds_after_finished(20)\n",
    "    #ah... same mistake... 300 min for wait is too long...\n",
    "\n",
    "    \n",
    "    "
   ]
  },
  {
   "cell_type": "code",
   "execution_count": null,
   "id": "e1419c21-4da0-4527-afac-ca13d8957949",
   "metadata": {},
   "outputs": [],
   "source": []
  },
  {
   "cell_type": "code",
   "execution_count": null,
   "id": "048296b1-5223-459d-92b9-c3eca131083d",
   "metadata": {},
   "outputs": [],
   "source": []
  },
  {
   "cell_type": "code",
   "execution_count": 8,
   "id": "e8ebcc07-960a-4aad-bf96-d78bb2b33587",
   "metadata": {},
   "outputs": [],
   "source": [
    "from kfp import compiler"
   ]
  },
  {
   "cell_type": "code",
   "execution_count": 9,
   "id": "c0891acc-84ea-498a-bf86-d3ab8fe81e9f",
   "metadata": {},
   "outputs": [
    {
     "data": {
      "text/html": [
       "<a href=\"http://54.162.161.38:8080//pipeline/#/experiments/details/79ae0049-b941-48d5-ac9a-350d3b7c46df\" target=\"_blank\" >Experiment details</a>."
      ],
      "text/plain": [
       "<IPython.core.display.HTML object>"
      ]
     },
     "metadata": {},
     "output_type": "display_data"
    }
   ],
   "source": [
    "exp = kfp_client.create_experiment(name=\"global_warming_level_2_v2\")\n",
    "exp = kfp_client.get_experiment(experiment_name=\"global_warming_level_2_v2\")"
   ]
  },
  {
   "cell_type": "code",
   "execution_count": null,
   "id": "d8e2c0d8-4185-41b6-8c21-e4d645ec1656",
   "metadata": {},
   "outputs": [],
   "source": []
  },
  {
   "cell_type": "code",
   "execution_count": 10,
   "id": "eb455cb9-f7ee-492f-97e2-93c9655fd6a8",
   "metadata": {
    "tags": []
   },
   "outputs": [
    {
     "name": "stderr",
     "output_type": "stream",
     "text": [
      "/opt/conda/lib/python3.8/site-packages/kfp/dsl/_container_op.py:1261: FutureWarning: Please create reusable components instead of constructing ContainerOp instances directly. Reusable components are shareable, portable and have compatibility and support guarantees. Please see the documentation: https://www.kubeflow.org/docs/pipelines/sdk/component-development/#writing-your-component-definition-file The components can be created manually (or, in case of python, using kfp.components.create_component_from_func or func_to_container_op) and then loaded using kfp.components.load_component_from_file, load_component_from_uri or load_component_from_text: https://kubeflow-pipelines.readthedocs.io/en/stable/source/kfp.components.html#kfp.components.load_component_from_file\n",
      "  warnings.warn(\n"
     ]
    },
    {
     "name": "stdout",
     "output_type": "stream",
     "text": [
      "pv_count_list :  ['20', '1', '2', '3', '4', '5', '6', '7', '8', '9', '10', '11', '12', '13', '14', '15', '16', '17', '18', '19', '20']\n"
     ]
    }
   ],
   "source": [
    "compiler.Compiler().compile(global_warming_level_2_pipeline, \"level_2.yaml\")"
   ]
  },
  {
   "cell_type": "code",
   "execution_count": null,
   "id": "8cc48058-8e17-4f6e-b732-843d337bd29e",
   "metadata": {},
   "outputs": [],
   "source": []
  },
  {
   "cell_type": "code",
   "execution_count": 11,
   "id": "d9184cd3-db67-4a3d-bbe3-cdad5d295e72",
   "metadata": {},
   "outputs": [
    {
     "data": {
      "text/html": [
       "<a href=\"http://54.162.161.38:8080//pipeline/#/runs/details/101097a3-08f9-406c-bb0c-259f5c454713\" target=\"_blank\" >Run details</a>."
      ],
      "text/plain": [
       "<IPython.core.display.HTML object>"
      ]
     },
     "metadata": {},
     "output_type": "display_data"
    }
   ],
   "source": [
    "run = kfp_client.run_pipeline(exp.id, \"level_2\", \"level_2.yaml\")"
   ]
  },
  {
   "cell_type": "code",
   "execution_count": null,
   "id": "649462e1-cfa0-4b23-a105-ffd4627620d5",
   "metadata": {},
   "outputs": [],
   "source": []
  },
  {
   "cell_type": "code",
   "execution_count": null,
   "id": "ca1f98d7-fa70-404c-ab8c-edcd66c7bbad",
   "metadata": {},
   "outputs": [],
   "source": []
  }
 ],
 "metadata": {
  "kernelspec": {
   "display_name": "Python 3 (ipykernel)",
   "language": "python",
   "name": "python3"
  },
  "language_info": {
   "codemirror_mode": {
    "name": "ipython",
    "version": 3
   },
   "file_extension": ".py",
   "mimetype": "text/x-python",
   "name": "python",
   "nbconvert_exporter": "python",
   "pygments_lexer": "ipython3",
   "version": "3.10.11"
  }
 },
 "nbformat": 4,
 "nbformat_minor": 5
}
