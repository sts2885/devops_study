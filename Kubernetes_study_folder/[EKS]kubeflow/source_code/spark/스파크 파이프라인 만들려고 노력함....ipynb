{
 "cells": [
  {
   "cell_type": "code",
   "execution_count": null,
   "id": "electric-companion",
   "metadata": {},
   "outputs": [],
   "source": []
  },
  {
   "cell_type": "code",
   "execution_count": null,
   "id": "driving-routine",
   "metadata": {},
   "outputs": [],
   "source": []
  },
  {
   "cell_type": "code",
   "execution_count": null,
   "id": "absent-monday",
   "metadata": {},
   "outputs": [],
   "source": []
  },
  {
   "cell_type": "code",
   "execution_count": null,
   "id": "otherwise-agent",
   "metadata": {},
   "outputs": [],
   "source": [
    "from istio_auth_with_client import client"
   ]
  },
  {
   "cell_type": "code",
   "execution_count": null,
   "id": "nonprofit-unemployment",
   "metadata": {},
   "outputs": [],
   "source": []
  },
  {
   "cell_type": "code",
   "execution_count": 2,
   "id": "light-alaska",
   "metadata": {},
   "outputs": [],
   "source": [
    "import kfp"
   ]
  },
  {
   "cell_type": "markdown",
   "id": "historic-prospect",
   "metadata": {},
   "source": [
    "https://www.kubeflow.org/docs/components/pipelines/v1/sdk/manipulate-resources/\n",
    "\n",
    "시키는데로 하고 있기는한데... 설명이 아무것도 없고 어디서 import 하는지도 안적혀 있어서... \n",
    "\n",
    "kubeflow document에서 k8s client 쓰는걸 보여주면 어디서 import하는지 설치하는지 정도는 나와야 하는거 아닌가...  \n",
    "\n",
    "설명 하는 블로그도 있는데 하나같이 다 python은 아님\n",
    "https://recordsoflife.tistory.com/1339"
   ]
  },
  {
   "cell_type": "code",
   "execution_count": null,
   "id": "facial-republican",
   "metadata": {},
   "outputs": [],
   "source": []
  },
  {
   "cell_type": "markdown",
   "id": "reverse-photographer",
   "metadata": {},
   "source": [
    "https://stackoverflow.com/questions/56673919/kubernetes-python-api-client-execute-full-yaml-file\n",
    "\n",
    "쉐에엣! 감사합니다!"
   ]
  },
  {
   "cell_type": "code",
   "execution_count": null,
   "id": "touched-speaking",
   "metadata": {},
   "outputs": [],
   "source": []
  },
  {
   "cell_type": "code",
   "execution_count": null,
   "id": "tropical-timber",
   "metadata": {},
   "outputs": [],
   "source": []
  },
  {
   "cell_type": "code",
   "execution_count": null,
   "id": "detailed-heritage",
   "metadata": {},
   "outputs": [],
   "source": []
  },
  {
   "cell_type": "code",
   "execution_count": 17,
   "id": "adult-catholic",
   "metadata": {},
   "outputs": [],
   "source": [
    "from kubernetes import client as k8s_client\n",
    "from kubernetes import config, utils"
   ]
  },
  {
   "cell_type": "code",
   "execution_count": null,
   "id": "urban-natural",
   "metadata": {},
   "outputs": [],
   "source": []
  },
  {
   "cell_type": "code",
   "execution_count": 18,
   "id": "departmental-stability",
   "metadata": {},
   "outputs": [],
   "source": [
    "#config.load_kube_config()"
   ]
  },
  {
   "cell_type": "code",
   "execution_count": 19,
   "id": "rubber-blond",
   "metadata": {},
   "outputs": [],
   "source": [
    "k8s_api_client = k8s_client.ApiClient()"
   ]
  },
  {
   "cell_type": "code",
   "execution_count": 20,
   "id": "exotic-knight",
   "metadata": {},
   "outputs": [],
   "source": [
    "yaml_file = './spark-job-python.yaml' #'<location to your multi-resource file>'"
   ]
  },
  {
   "cell_type": "code",
   "execution_count": 21,
   "id": "accepting-senior",
   "metadata": {},
   "outputs": [
    {
     "ename": "AttributeError",
     "evalue": "module 'kubernetes.client' has no attribute 'SparkoperatorV1beta2Api'",
     "output_type": "error",
     "traceback": [
      "\u001b[0;31m---------------------------------------------------------------------------\u001b[0m",
      "\u001b[0;31mAttributeError\u001b[0m                            Traceback (most recent call last)",
      "\u001b[0;32m<ipython-input-21-9e54266e51ff>\u001b[0m in \u001b[0;36m<module>\u001b[0;34m\u001b[0m\n\u001b[0;32m----> 1\u001b[0;31m \u001b[0mutils\u001b[0m\u001b[0;34m.\u001b[0m\u001b[0mcreate_from_yaml\u001b[0m\u001b[0;34m(\u001b[0m\u001b[0mk8s_api_client\u001b[0m\u001b[0;34m,\u001b[0m \u001b[0myaml_file\u001b[0m\u001b[0;34m)\u001b[0m\u001b[0;34m\u001b[0m\u001b[0;34m\u001b[0m\u001b[0m\n\u001b[0m",
      "\u001b[0;32m/opt/conda/lib/python3.8/site-packages/kubernetes/utils/create_from_yaml.py\u001b[0m in \u001b[0;36mcreate_from_yaml\u001b[0;34m(k8s_client, yaml_file, verbose, namespace, **kwargs)\u001b[0m\n\u001b[1;32m     86\u001b[0m                 \u001b[0;31m# This is a single object. Call the single item method\u001b[0m\u001b[0;34m\u001b[0m\u001b[0;34m\u001b[0m\u001b[0;34m\u001b[0m\u001b[0m\n\u001b[1;32m     87\u001b[0m                 \u001b[0;32mtry\u001b[0m\u001b[0;34m:\u001b[0m\u001b[0;34m\u001b[0m\u001b[0;34m\u001b[0m\u001b[0m\n\u001b[0;32m---> 88\u001b[0;31m                     create_from_yaml_single_item(\n\u001b[0m\u001b[1;32m     89\u001b[0m                         k8s_client, yml_document, verbose, namespace, **kwargs)\n\u001b[1;32m     90\u001b[0m                 \u001b[0;32mexcept\u001b[0m \u001b[0mclient\u001b[0m\u001b[0;34m.\u001b[0m\u001b[0mrest\u001b[0m\u001b[0;34m.\u001b[0m\u001b[0mApiException\u001b[0m \u001b[0;32mas\u001b[0m \u001b[0mapi_exception\u001b[0m\u001b[0;34m:\u001b[0m\u001b[0;34m\u001b[0m\u001b[0;34m\u001b[0m\u001b[0m\n",
      "\u001b[0;32m/opt/conda/lib/python3.8/site-packages/kubernetes/utils/create_from_yaml.py\u001b[0m in \u001b[0;36mcreate_from_yaml_single_item\u001b[0;34m(k8s_client, yml_object, verbose, namespace, **kwargs)\u001b[0m\n\u001b[1;32m    112\u001b[0m     \u001b[0mgroup\u001b[0m \u001b[0;34m=\u001b[0m \u001b[0;34m\"\"\u001b[0m\u001b[0;34m.\u001b[0m\u001b[0mjoin\u001b[0m\u001b[0;34m(\u001b[0m\u001b[0mword\u001b[0m\u001b[0;34m.\u001b[0m\u001b[0mcapitalize\u001b[0m\u001b[0;34m(\u001b[0m\u001b[0;34m)\u001b[0m \u001b[0;32mfor\u001b[0m \u001b[0mword\u001b[0m \u001b[0;32min\u001b[0m \u001b[0mgroup\u001b[0m\u001b[0;34m.\u001b[0m\u001b[0msplit\u001b[0m\u001b[0;34m(\u001b[0m\u001b[0;34m'.'\u001b[0m\u001b[0;34m)\u001b[0m\u001b[0;34m)\u001b[0m\u001b[0;34m\u001b[0m\u001b[0;34m\u001b[0m\u001b[0m\n\u001b[1;32m    113\u001b[0m     \u001b[0mfcn_to_call\u001b[0m \u001b[0;34m=\u001b[0m \u001b[0;34m\"{0}{1}Api\"\u001b[0m\u001b[0;34m.\u001b[0m\u001b[0mformat\u001b[0m\u001b[0;34m(\u001b[0m\u001b[0mgroup\u001b[0m\u001b[0;34m,\u001b[0m \u001b[0mversion\u001b[0m\u001b[0;34m.\u001b[0m\u001b[0mcapitalize\u001b[0m\u001b[0;34m(\u001b[0m\u001b[0;34m)\u001b[0m\u001b[0;34m)\u001b[0m\u001b[0;34m\u001b[0m\u001b[0;34m\u001b[0m\u001b[0m\n\u001b[0;32m--> 114\u001b[0;31m     \u001b[0mk8s_api\u001b[0m \u001b[0;34m=\u001b[0m \u001b[0mgetattr\u001b[0m\u001b[0;34m(\u001b[0m\u001b[0mclient\u001b[0m\u001b[0;34m,\u001b[0m \u001b[0mfcn_to_call\u001b[0m\u001b[0;34m)\u001b[0m\u001b[0;34m(\u001b[0m\u001b[0mk8s_client\u001b[0m\u001b[0;34m)\u001b[0m\u001b[0;34m\u001b[0m\u001b[0;34m\u001b[0m\u001b[0m\n\u001b[0m\u001b[1;32m    115\u001b[0m     \u001b[0;31m# Replace CamelCased action_type into snake_case\u001b[0m\u001b[0;34m\u001b[0m\u001b[0;34m\u001b[0m\u001b[0;34m\u001b[0m\u001b[0m\n\u001b[1;32m    116\u001b[0m     \u001b[0mkind\u001b[0m \u001b[0;34m=\u001b[0m \u001b[0myml_object\u001b[0m\u001b[0;34m[\u001b[0m\u001b[0;34m\"kind\"\u001b[0m\u001b[0;34m]\u001b[0m\u001b[0;34m\u001b[0m\u001b[0;34m\u001b[0m\u001b[0m\n",
      "\u001b[0;31mAttributeError\u001b[0m: module 'kubernetes.client' has no attribute 'SparkoperatorV1beta2Api'"
     ]
    }
   ],
   "source": [
    "utils.create_from_yaml(k8s_api_client, yaml_file)\n",
    "#k8s_client.V1Job(\"spark-job-python.yaml\")"
   ]
  },
  {
   "cell_type": "markdown",
   "id": "legendary-interview",
   "metadata": {},
   "source": [
    "## AttributeError: module 'kubernetes.client' has no attribute 'SparkoperatorV1beta2Api'\n",
    "## ㅈ 된거 같은데? 지원을 안해서 못쓰는거 같은데?\n",
    "### 마침 나랑 같은 문제가 있던 사람이 있는듯\n",
    "\n",
    "https://github.com/GoogleCloudPlatform/spark-on-k8s-operator/issues/1677\n",
    "\n",
    "이 방법은 custom resource용이 아니라고 함.\n",
    "\n",
    "https://github.com/kubernetes-client/python/blob/master/kubernetes/docs/CustomObjectsApi.md\n",
    "\n",
    "이걸 보라네요.  \n",
    "\n",
    "공식이랑 깃허브 이슈랑 적절히 합쳐서 보면 간신히 보임  \n",
    "\n",
    "거기에 yaml파일을 json object로 만들어서 써라 라고만 적혀있고 쓰는 법은 없는데  \n",
    "이건 기존 pipeline 에서 yaml 라이브러리를 쓰면 될거 같아."
   ]
  },
  {
   "cell_type": "code",
   "execution_count": null,
   "id": "alone-nigeria",
   "metadata": {},
   "outputs": [],
   "source": []
  },
  {
   "cell_type": "code",
   "execution_count": 2,
   "id": "romantic-detection",
   "metadata": {},
   "outputs": [],
   "source": [
    "from kubernetes import client as k8s_client\n",
    "\n",
    "configuration = k8s_client.Configuration()\n",
    "#configuration.api_key['authorization'] = 'YOUR_API_KEY' #내 키? 그런게 있나?"
   ]
  },
  {
   "cell_type": "code",
   "execution_count": null,
   "id": "dressed-angle",
   "metadata": {},
   "outputs": [],
   "source": []
  },
  {
   "cell_type": "code",
   "execution_count": 1,
   "id": "noticed-palestinian",
   "metadata": {},
   "outputs": [
    {
     "ename": "NameError",
     "evalue": "name 'k8s_config' is not defined",
     "output_type": "error",
     "traceback": [
      "\u001b[0;31m---------------------------------------------------------------------------\u001b[0m",
      "\u001b[0;31mNameError\u001b[0m                                 Traceback (most recent call last)",
      "\u001b[0;32m<ipython-input-1-e132779a9c3d>\u001b[0m in \u001b[0;36m<module>\u001b[0;34m\u001b[0m\n\u001b[0;32m----> 1\u001b[0;31m \u001b[0mk8s_config\u001b[0m\u001b[0;34m.\u001b[0m\u001b[0mload_incluster_config\u001b[0m\u001b[0;34m(\u001b[0m\u001b[0;34m)\u001b[0m\u001b[0;34m\u001b[0m\u001b[0;34m\u001b[0m\u001b[0m\n\u001b[0m",
      "\u001b[0;31mNameError\u001b[0m: name 'k8s_config' is not defined"
     ]
    }
   ],
   "source": []
  },
  {
   "cell_type": "code",
   "execution_count": null,
   "id": "demanding-export",
   "metadata": {},
   "outputs": [],
   "source": []
  },
  {
   "cell_type": "code",
   "execution_count": null,
   "id": "stopped-glass",
   "metadata": {},
   "outputs": [],
   "source": []
  },
  {
   "cell_type": "code",
   "execution_count": 1,
   "id": "alike-distributor",
   "metadata": {},
   "outputs": [
    {
     "name": "stdout",
     "output_type": "stream",
     "text": [
      "https://10.100.0.1:443\n",
      "k8s://https://kubernetes.default.svc:443\n"
     ]
    }
   ],
   "source": [
    "from kubernetes import client as k8s_client\n",
    "\n",
    "from kubernetes import config\n",
    "config.load_incluster_config()\n",
    "\n",
    "k8s_config = k8s_client.Configuration()\n",
    "#k8s_config.host = \"https://10.100.0.1\"\n",
    "print(k8s_config.host)\n",
    "k8s_config.host = \"k8s://https://kubernetes.default.svc:443\"\n",
    "#\"172.31.12.123:8889\"\n",
    "print(k8s_config.host)\n",
    "k8s_config.verify_ssl = False\n",
    "\n",
    "k8s_api_client = k8s_client.ApiClient(k8s_config)\n",
    "k8s_spark_api_client = k8s_client.CustomObjectsApi(k8s_api_client)\n",
    "#k8s_spark_api_client = k8s_client.CustomObjectsApi()\n",
    "\n",
    "k8s_spark_properties = dict(\n",
    "    group = \"sparkoperator.k8s.io\",\n",
    "    version = \"v1beta2\",\n",
    "    plural = \"sparkapplication\",\n",
    "    namespace = \"kubeflow-user-example-com\",\n",
    "    #serviceaccount = \"my-release-spark\"\n",
    ")\n",
    "\n"
   ]
  },
  {
   "cell_type": "code",
   "execution_count": null,
   "id": "weekly-premises",
   "metadata": {},
   "outputs": [],
   "source": []
  },
  {
   "cell_type": "code",
   "execution_count": 2,
   "id": "disciplinary-christian",
   "metadata": {},
   "outputs": [],
   "source": [
    "#load job yaml to application_config variable\n",
    "import yaml\n",
    "with open(\"spark-job-python.yaml\", \"r\") as stream:\n",
    "    spark_job_manifest = yaml.safe_load(stream)\n",
    "\n",
    "application_config = spark_job_manifest"
   ]
  },
  {
   "cell_type": "code",
   "execution_count": 3,
   "id": "modified-chase",
   "metadata": {
    "tags": []
   },
   "outputs": [
    {
     "ename": "URLSchemeUnknown",
     "evalue": "Not supported URL scheme k8s",
     "output_type": "error",
     "traceback": [
      "\u001b[0;31m---------------------------------------------------------------------------\u001b[0m",
      "\u001b[0;31mURLSchemeUnknown\u001b[0m                          Traceback (most recent call last)",
      "\u001b[0;32m<ipython-input-3-b6f64b89d25f>\u001b[0m in \u001b[0;36m<module>\u001b[0;34m\u001b[0m\n\u001b[0;32m----> 1\u001b[0;31m k8s_spark_api_client.create_namespaced_custom_object(\n\u001b[0m\u001b[1;32m      2\u001b[0m     \u001b[0mbody\u001b[0m\u001b[0;34m=\u001b[0m\u001b[0mapplication_config\u001b[0m\u001b[0;34m,\u001b[0m \u001b[0;34m**\u001b[0m\u001b[0mk8s_spark_properties\u001b[0m\u001b[0;34m\u001b[0m\u001b[0;34m\u001b[0m\u001b[0m\n\u001b[1;32m      3\u001b[0m )\n",
      "\u001b[0;32m/opt/conda/lib/python3.8/site-packages/kubernetes/client/apis/custom_objects_api.py\u001b[0m in \u001b[0;36mcreate_namespaced_custom_object\u001b[0;34m(self, group, version, namespace, plural, body, **kwargs)\u001b[0m\n\u001b[1;32m    176\u001b[0m             \u001b[0;32mreturn\u001b[0m \u001b[0mself\u001b[0m\u001b[0;34m.\u001b[0m\u001b[0mcreate_namespaced_custom_object_with_http_info\u001b[0m\u001b[0;34m(\u001b[0m\u001b[0mgroup\u001b[0m\u001b[0;34m,\u001b[0m \u001b[0mversion\u001b[0m\u001b[0;34m,\u001b[0m \u001b[0mnamespace\u001b[0m\u001b[0;34m,\u001b[0m \u001b[0mplural\u001b[0m\u001b[0;34m,\u001b[0m \u001b[0mbody\u001b[0m\u001b[0;34m,\u001b[0m \u001b[0;34m**\u001b[0m\u001b[0mkwargs\u001b[0m\u001b[0;34m)\u001b[0m\u001b[0;34m\u001b[0m\u001b[0;34m\u001b[0m\u001b[0m\n\u001b[1;32m    177\u001b[0m         \u001b[0;32melse\u001b[0m\u001b[0;34m:\u001b[0m\u001b[0;34m\u001b[0m\u001b[0;34m\u001b[0m\u001b[0m\n\u001b[0;32m--> 178\u001b[0;31m             \u001b[0;34m(\u001b[0m\u001b[0mdata\u001b[0m\u001b[0;34m)\u001b[0m \u001b[0;34m=\u001b[0m \u001b[0mself\u001b[0m\u001b[0;34m.\u001b[0m\u001b[0mcreate_namespaced_custom_object_with_http_info\u001b[0m\u001b[0;34m(\u001b[0m\u001b[0mgroup\u001b[0m\u001b[0;34m,\u001b[0m \u001b[0mversion\u001b[0m\u001b[0;34m,\u001b[0m \u001b[0mnamespace\u001b[0m\u001b[0;34m,\u001b[0m \u001b[0mplural\u001b[0m\u001b[0;34m,\u001b[0m \u001b[0mbody\u001b[0m\u001b[0;34m,\u001b[0m \u001b[0;34m**\u001b[0m\u001b[0mkwargs\u001b[0m\u001b[0;34m)\u001b[0m\u001b[0;34m\u001b[0m\u001b[0;34m\u001b[0m\u001b[0m\n\u001b[0m\u001b[1;32m    179\u001b[0m             \u001b[0;32mreturn\u001b[0m \u001b[0mdata\u001b[0m\u001b[0;34m\u001b[0m\u001b[0;34m\u001b[0m\u001b[0m\n\u001b[1;32m    180\u001b[0m \u001b[0;34m\u001b[0m\u001b[0m\n",
      "\u001b[0;32m/opt/conda/lib/python3.8/site-packages/kubernetes/client/apis/custom_objects_api.py\u001b[0m in \u001b[0;36mcreate_namespaced_custom_object_with_http_info\u001b[0;34m(self, group, version, namespace, plural, body, **kwargs)\u001b[0m\n\u001b[1;32m    262\u001b[0m         \u001b[0mauth_settings\u001b[0m \u001b[0;34m=\u001b[0m \u001b[0;34m[\u001b[0m\u001b[0;34m'BearerToken'\u001b[0m\u001b[0;34m]\u001b[0m\u001b[0;34m\u001b[0m\u001b[0;34m\u001b[0m\u001b[0m\n\u001b[1;32m    263\u001b[0m \u001b[0;34m\u001b[0m\u001b[0m\n\u001b[0;32m--> 264\u001b[0;31m         return self.api_client.call_api('/apis/{group}/{version}/namespaces/{namespace}/{plural}', 'POST',\n\u001b[0m\u001b[1;32m    265\u001b[0m                                         \u001b[0mpath_params\u001b[0m\u001b[0;34m,\u001b[0m\u001b[0;34m\u001b[0m\u001b[0;34m\u001b[0m\u001b[0m\n\u001b[1;32m    266\u001b[0m                                         \u001b[0mquery_params\u001b[0m\u001b[0;34m,\u001b[0m\u001b[0;34m\u001b[0m\u001b[0;34m\u001b[0m\u001b[0m\n",
      "\u001b[0;32m/opt/conda/lib/python3.8/site-packages/kubernetes/client/api_client.py\u001b[0m in \u001b[0;36mcall_api\u001b[0;34m(self, resource_path, method, path_params, query_params, header_params, body, post_params, files, response_type, auth_settings, async_req, _return_http_data_only, collection_formats, _preload_content, _request_timeout)\u001b[0m\n\u001b[1;32m    328\u001b[0m         \"\"\"\n\u001b[1;32m    329\u001b[0m         \u001b[0;32mif\u001b[0m \u001b[0;32mnot\u001b[0m \u001b[0masync_req\u001b[0m\u001b[0;34m:\u001b[0m\u001b[0;34m\u001b[0m\u001b[0;34m\u001b[0m\u001b[0m\n\u001b[0;32m--> 330\u001b[0;31m             return self.__call_api(resource_path, method,\n\u001b[0m\u001b[1;32m    331\u001b[0m                                    \u001b[0mpath_params\u001b[0m\u001b[0;34m,\u001b[0m \u001b[0mquery_params\u001b[0m\u001b[0;34m,\u001b[0m \u001b[0mheader_params\u001b[0m\u001b[0;34m,\u001b[0m\u001b[0;34m\u001b[0m\u001b[0;34m\u001b[0m\u001b[0m\n\u001b[1;32m    332\u001b[0m                                    \u001b[0mbody\u001b[0m\u001b[0;34m,\u001b[0m \u001b[0mpost_params\u001b[0m\u001b[0;34m,\u001b[0m \u001b[0mfiles\u001b[0m\u001b[0;34m,\u001b[0m\u001b[0;34m\u001b[0m\u001b[0;34m\u001b[0m\u001b[0m\n",
      "\u001b[0;32m/opt/conda/lib/python3.8/site-packages/kubernetes/client/api_client.py\u001b[0m in \u001b[0;36m__call_api\u001b[0;34m(self, resource_path, method, path_params, query_params, header_params, body, post_params, files, response_type, auth_settings, _return_http_data_only, collection_formats, _preload_content, _request_timeout)\u001b[0m\n\u001b[1;32m    161\u001b[0m \u001b[0;34m\u001b[0m\u001b[0m\n\u001b[1;32m    162\u001b[0m         \u001b[0;31m# perform request and return response\u001b[0m\u001b[0;34m\u001b[0m\u001b[0;34m\u001b[0m\u001b[0;34m\u001b[0m\u001b[0m\n\u001b[0;32m--> 163\u001b[0;31m         response_data = self.request(method, url,\n\u001b[0m\u001b[1;32m    164\u001b[0m                                      \u001b[0mquery_params\u001b[0m\u001b[0;34m=\u001b[0m\u001b[0mquery_params\u001b[0m\u001b[0;34m,\u001b[0m\u001b[0;34m\u001b[0m\u001b[0;34m\u001b[0m\u001b[0m\n\u001b[1;32m    165\u001b[0m                                      \u001b[0mheaders\u001b[0m\u001b[0;34m=\u001b[0m\u001b[0mheader_params\u001b[0m\u001b[0;34m,\u001b[0m\u001b[0;34m\u001b[0m\u001b[0;34m\u001b[0m\u001b[0m\n",
      "\u001b[0;32m/opt/conda/lib/python3.8/site-packages/kubernetes/client/api_client.py\u001b[0m in \u001b[0;36mrequest\u001b[0;34m(self, method, url, query_params, headers, post_params, body, _preload_content, _request_timeout)\u001b[0m\n\u001b[1;32m    369\u001b[0m                                             body=body)\n\u001b[1;32m    370\u001b[0m         \u001b[0;32melif\u001b[0m \u001b[0mmethod\u001b[0m \u001b[0;34m==\u001b[0m \u001b[0;34m\"POST\"\u001b[0m\u001b[0;34m:\u001b[0m\u001b[0;34m\u001b[0m\u001b[0;34m\u001b[0m\u001b[0m\n\u001b[0;32m--> 371\u001b[0;31m             return self.rest_client.POST(url,\n\u001b[0m\u001b[1;32m    372\u001b[0m                                          \u001b[0mquery_params\u001b[0m\u001b[0;34m=\u001b[0m\u001b[0mquery_params\u001b[0m\u001b[0;34m,\u001b[0m\u001b[0;34m\u001b[0m\u001b[0;34m\u001b[0m\u001b[0m\n\u001b[1;32m    373\u001b[0m                                          \u001b[0mheaders\u001b[0m\u001b[0;34m=\u001b[0m\u001b[0mheaders\u001b[0m\u001b[0;34m,\u001b[0m\u001b[0;34m\u001b[0m\u001b[0;34m\u001b[0m\u001b[0m\n",
      "\u001b[0;32m/opt/conda/lib/python3.8/site-packages/kubernetes/client/rest.py\u001b[0m in \u001b[0;36mPOST\u001b[0;34m(self, url, headers, query_params, post_params, body, _preload_content, _request_timeout)\u001b[0m\n\u001b[1;32m    258\u001b[0m     def POST(self, url, headers=None, query_params=None, post_params=None, body=None, _preload_content=True,\n\u001b[1;32m    259\u001b[0m              _request_timeout=None):\n\u001b[0;32m--> 260\u001b[0;31m         return self.request(\"POST\", url,\n\u001b[0m\u001b[1;32m    261\u001b[0m                             \u001b[0mheaders\u001b[0m\u001b[0;34m=\u001b[0m\u001b[0mheaders\u001b[0m\u001b[0;34m,\u001b[0m\u001b[0;34m\u001b[0m\u001b[0;34m\u001b[0m\u001b[0m\n\u001b[1;32m    262\u001b[0m                             \u001b[0mquery_params\u001b[0m\u001b[0;34m=\u001b[0m\u001b[0mquery_params\u001b[0m\u001b[0;34m,\u001b[0m\u001b[0;34m\u001b[0m\u001b[0;34m\u001b[0m\u001b[0m\n",
      "\u001b[0;32m/opt/conda/lib/python3.8/site-packages/kubernetes/client/rest.py\u001b[0m in \u001b[0;36mrequest\u001b[0;34m(self, method, url, query_params, headers, body, post_params, _preload_content, _request_timeout)\u001b[0m\n\u001b[1;32m    160\u001b[0m                     \u001b[0;32mif\u001b[0m \u001b[0mbody\u001b[0m \u001b[0;32mis\u001b[0m \u001b[0;32mnot\u001b[0m \u001b[0;32mNone\u001b[0m\u001b[0;34m:\u001b[0m\u001b[0;34m\u001b[0m\u001b[0;34m\u001b[0m\u001b[0m\n\u001b[1;32m    161\u001b[0m                         \u001b[0mrequest_body\u001b[0m \u001b[0;34m=\u001b[0m \u001b[0mjson\u001b[0m\u001b[0;34m.\u001b[0m\u001b[0mdumps\u001b[0m\u001b[0;34m(\u001b[0m\u001b[0mbody\u001b[0m\u001b[0;34m)\u001b[0m\u001b[0;34m\u001b[0m\u001b[0;34m\u001b[0m\u001b[0m\n\u001b[0;32m--> 162\u001b[0;31m                     r = self.pool_manager.request(method, url,\n\u001b[0m\u001b[1;32m    163\u001b[0m                                                   \u001b[0mbody\u001b[0m\u001b[0;34m=\u001b[0m\u001b[0mrequest_body\u001b[0m\u001b[0;34m,\u001b[0m\u001b[0;34m\u001b[0m\u001b[0;34m\u001b[0m\u001b[0m\n\u001b[1;32m    164\u001b[0m                                                   \u001b[0mpreload_content\u001b[0m\u001b[0;34m=\u001b[0m\u001b[0m_preload_content\u001b[0m\u001b[0;34m,\u001b[0m\u001b[0;34m\u001b[0m\u001b[0;34m\u001b[0m\u001b[0m\n",
      "\u001b[0;32m/opt/conda/lib/python3.8/site-packages/urllib3/request.py\u001b[0m in \u001b[0;36mrequest\u001b[0;34m(self, method, url, fields, headers, **urlopen_kw)\u001b[0m\n\u001b[1;32m     76\u001b[0m             )\n\u001b[1;32m     77\u001b[0m         \u001b[0;32melse\u001b[0m\u001b[0;34m:\u001b[0m\u001b[0;34m\u001b[0m\u001b[0;34m\u001b[0m\u001b[0m\n\u001b[0;32m---> 78\u001b[0;31m             return self.request_encode_body(\n\u001b[0m\u001b[1;32m     79\u001b[0m                 \u001b[0mmethod\u001b[0m\u001b[0;34m,\u001b[0m \u001b[0murl\u001b[0m\u001b[0;34m,\u001b[0m \u001b[0mfields\u001b[0m\u001b[0;34m=\u001b[0m\u001b[0mfields\u001b[0m\u001b[0;34m,\u001b[0m \u001b[0mheaders\u001b[0m\u001b[0;34m=\u001b[0m\u001b[0mheaders\u001b[0m\u001b[0;34m,\u001b[0m \u001b[0;34m**\u001b[0m\u001b[0murlopen_kw\u001b[0m\u001b[0;34m\u001b[0m\u001b[0;34m\u001b[0m\u001b[0m\n\u001b[1;32m     80\u001b[0m             )\n",
      "\u001b[0;32m/opt/conda/lib/python3.8/site-packages/urllib3/request.py\u001b[0m in \u001b[0;36mrequest_encode_body\u001b[0;34m(self, method, url, fields, headers, encode_multipart, multipart_boundary, **urlopen_kw)\u001b[0m\n\u001b[1;32m    168\u001b[0m         \u001b[0mextra_kw\u001b[0m\u001b[0;34m.\u001b[0m\u001b[0mupdate\u001b[0m\u001b[0;34m(\u001b[0m\u001b[0murlopen_kw\u001b[0m\u001b[0;34m)\u001b[0m\u001b[0;34m\u001b[0m\u001b[0;34m\u001b[0m\u001b[0m\n\u001b[1;32m    169\u001b[0m \u001b[0;34m\u001b[0m\u001b[0m\n\u001b[0;32m--> 170\u001b[0;31m         \u001b[0;32mreturn\u001b[0m \u001b[0mself\u001b[0m\u001b[0;34m.\u001b[0m\u001b[0murlopen\u001b[0m\u001b[0;34m(\u001b[0m\u001b[0mmethod\u001b[0m\u001b[0;34m,\u001b[0m \u001b[0murl\u001b[0m\u001b[0;34m,\u001b[0m \u001b[0;34m**\u001b[0m\u001b[0mextra_kw\u001b[0m\u001b[0;34m)\u001b[0m\u001b[0;34m\u001b[0m\u001b[0;34m\u001b[0m\u001b[0m\n\u001b[0m",
      "\u001b[0;32m/opt/conda/lib/python3.8/site-packages/urllib3/poolmanager.py\u001b[0m in \u001b[0;36murlopen\u001b[0;34m(self, method, url, redirect, **kw)\u001b[0m\n\u001b[1;32m    362\u001b[0m         \u001b[0mself\u001b[0m\u001b[0;34m.\u001b[0m\u001b[0m_validate_proxy_scheme_url_selection\u001b[0m\u001b[0;34m(\u001b[0m\u001b[0mu\u001b[0m\u001b[0;34m.\u001b[0m\u001b[0mscheme\u001b[0m\u001b[0;34m)\u001b[0m\u001b[0;34m\u001b[0m\u001b[0;34m\u001b[0m\u001b[0m\n\u001b[1;32m    363\u001b[0m \u001b[0;34m\u001b[0m\u001b[0m\n\u001b[0;32m--> 364\u001b[0;31m         \u001b[0mconn\u001b[0m \u001b[0;34m=\u001b[0m \u001b[0mself\u001b[0m\u001b[0;34m.\u001b[0m\u001b[0mconnection_from_host\u001b[0m\u001b[0;34m(\u001b[0m\u001b[0mu\u001b[0m\u001b[0;34m.\u001b[0m\u001b[0mhost\u001b[0m\u001b[0;34m,\u001b[0m \u001b[0mport\u001b[0m\u001b[0;34m=\u001b[0m\u001b[0mu\u001b[0m\u001b[0;34m.\u001b[0m\u001b[0mport\u001b[0m\u001b[0;34m,\u001b[0m \u001b[0mscheme\u001b[0m\u001b[0;34m=\u001b[0m\u001b[0mu\u001b[0m\u001b[0;34m.\u001b[0m\u001b[0mscheme\u001b[0m\u001b[0;34m)\u001b[0m\u001b[0;34m\u001b[0m\u001b[0;34m\u001b[0m\u001b[0m\n\u001b[0m\u001b[1;32m    365\u001b[0m \u001b[0;34m\u001b[0m\u001b[0m\n\u001b[1;32m    366\u001b[0m         \u001b[0mkw\u001b[0m\u001b[0;34m[\u001b[0m\u001b[0;34m\"assert_same_host\"\u001b[0m\u001b[0;34m]\u001b[0m \u001b[0;34m=\u001b[0m \u001b[0;32mFalse\u001b[0m\u001b[0;34m\u001b[0m\u001b[0;34m\u001b[0m\u001b[0m\n",
      "\u001b[0;32m/opt/conda/lib/python3.8/site-packages/urllib3/poolmanager.py\u001b[0m in \u001b[0;36mconnection_from_host\u001b[0;34m(self, host, port, scheme, pool_kwargs)\u001b[0m\n\u001b[1;32m    243\u001b[0m         \u001b[0mrequest_context\u001b[0m\u001b[0;34m[\u001b[0m\u001b[0;34m\"host\"\u001b[0m\u001b[0;34m]\u001b[0m \u001b[0;34m=\u001b[0m \u001b[0mhost\u001b[0m\u001b[0;34m\u001b[0m\u001b[0;34m\u001b[0m\u001b[0m\n\u001b[1;32m    244\u001b[0m \u001b[0;34m\u001b[0m\u001b[0m\n\u001b[0;32m--> 245\u001b[0;31m         \u001b[0;32mreturn\u001b[0m \u001b[0mself\u001b[0m\u001b[0;34m.\u001b[0m\u001b[0mconnection_from_context\u001b[0m\u001b[0;34m(\u001b[0m\u001b[0mrequest_context\u001b[0m\u001b[0;34m)\u001b[0m\u001b[0;34m\u001b[0m\u001b[0;34m\u001b[0m\u001b[0m\n\u001b[0m\u001b[1;32m    246\u001b[0m \u001b[0;34m\u001b[0m\u001b[0m\n\u001b[1;32m    247\u001b[0m     \u001b[0;32mdef\u001b[0m \u001b[0mconnection_from_context\u001b[0m\u001b[0;34m(\u001b[0m\u001b[0mself\u001b[0m\u001b[0;34m,\u001b[0m \u001b[0mrequest_context\u001b[0m\u001b[0;34m)\u001b[0m\u001b[0;34m:\u001b[0m\u001b[0;34m\u001b[0m\u001b[0;34m\u001b[0m\u001b[0m\n",
      "\u001b[0;32m/opt/conda/lib/python3.8/site-packages/urllib3/poolmanager.py\u001b[0m in \u001b[0;36mconnection_from_context\u001b[0;34m(self, request_context)\u001b[0m\n\u001b[1;32m    255\u001b[0m         \u001b[0mpool_key_constructor\u001b[0m \u001b[0;34m=\u001b[0m \u001b[0mself\u001b[0m\u001b[0;34m.\u001b[0m\u001b[0mkey_fn_by_scheme\u001b[0m\u001b[0;34m.\u001b[0m\u001b[0mget\u001b[0m\u001b[0;34m(\u001b[0m\u001b[0mscheme\u001b[0m\u001b[0;34m)\u001b[0m\u001b[0;34m\u001b[0m\u001b[0;34m\u001b[0m\u001b[0m\n\u001b[1;32m    256\u001b[0m         \u001b[0;32mif\u001b[0m \u001b[0;32mnot\u001b[0m \u001b[0mpool_key_constructor\u001b[0m\u001b[0;34m:\u001b[0m\u001b[0;34m\u001b[0m\u001b[0;34m\u001b[0m\u001b[0m\n\u001b[0;32m--> 257\u001b[0;31m             \u001b[0;32mraise\u001b[0m \u001b[0mURLSchemeUnknown\u001b[0m\u001b[0;34m(\u001b[0m\u001b[0mscheme\u001b[0m\u001b[0;34m)\u001b[0m\u001b[0;34m\u001b[0m\u001b[0;34m\u001b[0m\u001b[0m\n\u001b[0m\u001b[1;32m    258\u001b[0m         \u001b[0mpool_key\u001b[0m \u001b[0;34m=\u001b[0m \u001b[0mpool_key_constructor\u001b[0m\u001b[0;34m(\u001b[0m\u001b[0mrequest_context\u001b[0m\u001b[0;34m)\u001b[0m\u001b[0;34m\u001b[0m\u001b[0;34m\u001b[0m\u001b[0m\n\u001b[1;32m    259\u001b[0m \u001b[0;34m\u001b[0m\u001b[0m\n",
      "\u001b[0;31mURLSchemeUnknown\u001b[0m: Not supported URL scheme k8s"
     ]
    }
   ],
   "source": [
    "k8s_spark_api_client.create_namespaced_custom_object(\n",
    "    body=application_config, **k8s_spark_properties\n",
    ")"
   ]
  },
  {
   "cell_type": "code",
   "execution_count": null,
   "id": "collectible-england",
   "metadata": {},
   "outputs": [],
   "source": []
  },
  {
   "cell_type": "markdown",
   "id": "hawaiian-sphere",
   "metadata": {},
   "source": [
    "갑자기 현타옴 ㅋㅋㅋㅋ 이거 그냥 resource를 손으로 적으면 해결되는 건데    \n",
    "\n",
    "어?  \n",
    "\n",
    "책 보니까 source yaml 파일인거 json으로 resource 변수에 선언하고 바로 resource op에 넣으면 되는데?  \n",
    "\n",
    "ㅋㅋㅋㅋㅋ 무슨 뻘짓을 한거지?\n"
   ]
  },
  {
   "cell_type": "code",
   "execution_count": null,
   "id": "local-pipeline",
   "metadata": {},
   "outputs": [],
   "source": []
  },
  {
   "cell_type": "code",
   "execution_count": null,
   "id": "married-southeast",
   "metadata": {},
   "outputs": [],
   "source": []
  },
  {
   "cell_type": "code",
   "execution_count": null,
   "id": "disabled-share",
   "metadata": {},
   "outputs": [],
   "source": []
  },
  {
   "cell_type": "markdown",
   "id": "eligible-opportunity",
   "metadata": {},
   "source": [
    "\"status\":\"Failure\",\"message\":\"sparkapplication.sparkoperator.k8s.io is forbidden: User \\\"system:serviceaccount:kubeflow-user-example-com:default-editor\\\" cannot create resource \\\"sparkapplication\\\" in API group \\\"sparkoperator.k8s.io\\\" in the namespace \\\"kubeflow-user-example-com\\\"\"  \n",
    "\n",
    "이 에러와 유사한 예시가 kfserving에 있어서 가져와봄... 도움은 안됨\n",
    "https://stackoverflow.com/questions/72474007/kubeflow-forbidden-user-systemserviceaccountkubeflow-user-example-comdefault"
   ]
  },
  {
   "cell_type": "code",
   "execution_count": null,
   "id": "sharing-corruption",
   "metadata": {},
   "outputs": [],
   "source": []
  },
  {
   "cell_type": "code",
   "execution_count": null,
   "id": "miniature-growth",
   "metadata": {},
   "outputs": [],
   "source": []
  },
  {
   "cell_type": "markdown",
   "id": "intermediate-display",
   "metadata": {},
   "source": [
    "https://github.com/kubernetes-client/python/issues/254\n",
    "\n",
    "api서버가 아니라 localhost에 보내려고 해서 생기는 문제다.\n",
    "\n",
    "\n",
    "\n",
    "ubuntu@ip-172-31-12-123:~$ kubectl config view\n",
    "apiVersion: v1\n",
    "clusters:\n",
    "- cluster:\n",
    "    certificate-authority-data: DATA+OMITTED\n",
    "    server: https://7B8222FBA4B0D6AECE9B8BB3F03A4D19.gr7.us-east-1.eks.amazonaws.com\n",
    "  name: arn:aws:eks:us-east-1:222170749288:cluster/eks-cluster\n",
    "contexts:\n",
    "- context:\n",
    "    cluster: arn:aws:eks:us-east-1:222170749288:cluster/eks-cluster\n",
    "    user: arn:aws:eks:us-east-1:222170749288:cluster/eks-cluster\n",
    "  name: arn:aws:eks:us-east-1:222170749288:cluster/eks-cluster\n",
    "current-context: arn:aws:eks:us-east-1:222170749288:cluster/eks-cluster\n",
    "kind: Config\n",
    "preferences: {}\n",
    "users:\n",
    "- name: arn:aws:eks:us-east-1:222170749288:cluster/eks-cluster\n",
    "  user:\n",
    "    exec:\n",
    "      apiVersion: client.authentication.k8s.io/v1alpha1\n",
    "      args:\n",
    "      - --region\n",
    "      - us-east-1\n",
    "      - eks\n",
    "      - get-token\n",
    "      - --cluster-name\n",
    "      - eks-cluster\n",
    "      command: aws\n",
    "      env: null\n",
    "      interactiveMode: IfAvailable\n",
    "      provideClusterInfo: false\n"
   ]
  },
  {
   "cell_type": "code",
   "execution_count": null,
   "id": "norman-wells",
   "metadata": {},
   "outputs": [],
   "source": []
  },
  {
   "cell_type": "markdown",
   "id": "nonprofit-import",
   "metadata": {},
   "source": [
    "이게 더 맞는 표현인듯  \n",
    "\n",
    "\n",
    "kubectl proxy --port=8888\n",
    "\n",
    " curl http://localhost:8888/api/\n",
    "{\n",
    "  \"kind\": \"APIVersions\",\n",
    "  \"versions\": [\n",
    "    \"v1\"\n",
    "  ],\n",
    "  \"serverAddressByClientCIDRs\": [\n",
    "    {\n",
    "      \"clientCIDR\": \"0.0.0.0/0\",\n",
    "      \"serverAddress\": \"ip-10-0-120-0.ec2.internal:443\"\n",
    "    }\n",
    "  ]\n",
    "}"
   ]
  },
  {
   "cell_type": "code",
   "execution_count": null,
   "id": "split-scenario",
   "metadata": {},
   "outputs": [],
   "source": []
  },
  {
   "cell_type": "markdown",
   "id": "horizontal-momentum",
   "metadata": {},
   "source": [
    "여기엔 이렇게 적혀있음\n",
    "\n",
    "kubectl cluster-info\n",
    "Kubernetes control plane is running at https://7B8222FBA4B0D6AECE9B8BB3F03A4D19.gr7.us-east-1.eks.amazonaws.com\n",
    "CoreDNS is running at https://7B8222FBA4B0D6AECE9B8BB3F03A4D19.gr7.us-east-1.eks.amazonaws.com/api/v1/namespaces/kube-system/services/kube-dns:dns/proxy\n",
    "\n",
    "https://coffeewhale.com/apiserver\n",
    "\n",
    "블로그에서는 control plan 위치를 api server라고 보는 듯"
   ]
  },
  {
   "cell_type": "markdown",
   "id": "virgin-roman",
   "metadata": {},
   "source": [
    "이거 하면 나온다고 함.\n",
    "export KUBECONFIG=/my/path/kubeconfig\n",
    "cat $HOME/.kube/config"
   ]
  },
  {
   "cell_type": "code",
   "execution_count": null,
   "id": "crazy-testament",
   "metadata": {},
   "outputs": [],
   "source": []
  },
  {
   "cell_type": "markdown",
   "id": "gross-tuesday",
   "metadata": {},
   "source": [
    "##api server 주소 제대로 적용된 config 쓰기\n",
    "https://github.com/kubernetes-client/python/issues/254\n",
    "    \n",
    "jupyter랑 그냥 .py랑 번갈아가면서 쓰니까. 서로 다른 에러 로그가 나와서 비교하기 좋음  \n",
    "\n",
    "kubernetes.config.config_exception.ConfigException: Service host/port is not set.  \n",
    "\n",
    ".py는 그냥 config만 안불러지는거 같아서 jupyter에서 찾은 주소를 하드코딩으로 넣어줌\n",
    "\n",
    "그랬더니 다 읽고 멈추는데?\n",
    "=> 보니까 못 불러와서 하루종일 대기하고 있는 듯 => 완료 print가 안됨"
   ]
  },
  {
   "cell_type": "code",
   "execution_count": null,
   "id": "opening-martial",
   "metadata": {},
   "outputs": [],
   "source": []
  },
  {
   "cell_type": "code",
   "execution_count": null,
   "id": "fossil-blake",
   "metadata": {},
   "outputs": [],
   "source": []
  },
  {
   "cell_type": "code",
   "execution_count": null,
   "id": "strong-bride",
   "metadata": {},
   "outputs": [],
   "source": []
  },
  {
   "cell_type": "code",
   "execution_count": null,
   "id": "improving-consistency",
   "metadata": {},
   "outputs": [],
   "source": []
  },
  {
   "cell_type": "code",
   "execution_count": 30,
   "id": "furnished-shock",
   "metadata": {},
   "outputs": [
    {
     "data": {
      "text/plain": [
       "{'apiVersion': 'sparkoperator.k8s.io/v1beta2',\n",
       " 'kind': 'SparkApplication',\n",
       " 'metadata': {'name': 'pyspark-pi', 'namespace': 'kubeflow-user-example-com'},\n",
       " 'spec': {'type': 'Python',\n",
       "  'pythonVersion': '3',\n",
       "  'mode': 'cluster',\n",
       "  'image': 'gcr.io/spark-operator/spark-py:v3.1.1',\n",
       "  'imagePullPolicy': 'Always',\n",
       "  'mainApplicationFile': 'local:///opt/spark/examples/src/main/python/pi.py',\n",
       "  'sparkVersion': '3.1.1',\n",
       "  'restartPolicy': {'type': 'OnFailure',\n",
       "   'onFailureRetries': 3,\n",
       "   'onFailureRetryInterval': 10,\n",
       "   'onSubmissionFailureRetries': 5,\n",
       "   'onSubmissionFailureRetryInterval': 20},\n",
       "  'driver': {'cores': 1,\n",
       "   'coreLimit': '1200m',\n",
       "   'memory': '512m',\n",
       "   'labels': {'version': '3.1.1'},\n",
       "   'serviceAccount': 'my-release-spark'},\n",
       "  'executor': {'cores': 1,\n",
       "   'instances': 1,\n",
       "   'memory': '512m',\n",
       "   'labels': {'version': '3.1.1'}}}}"
      ]
     },
     "execution_count": 30,
     "metadata": {},
     "output_type": "execute_result"
    }
   ],
   "source": [
    "spark_job_manifest"
   ]
  },
  {
   "cell_type": "code",
   "execution_count": null,
   "id": "several-feeling",
   "metadata": {},
   "outputs": [],
   "source": []
  },
  {
   "cell_type": "code",
   "execution_count": 68,
   "id": "increased-heaven",
   "metadata": {},
   "outputs": [
    {
     "name": "stdout",
     "output_type": "stream",
     "text": [
      "{'experiments': [{'created_at': datetime.datetime(2023, 7, 22, 15, 16, 47, tzinfo=tzlocal()),\n",
      "                  'description': None,\n",
      "                  'id': '82029175-a46b-4452-a0be-dc5066258bfa',\n",
      "                  'name': 'test',\n",
      "                  'resource_references': [{'key': {'id': 'kubeflow-user-example-com',\n",
      "                                                   'type': 'NAMESPACE'},\n",
      "                                           'name': None,\n",
      "                                           'relationship': 'OWNER'}],\n",
      "                  'storage_state': 'STORAGESTATE_AVAILABLE'}],\n",
      " 'next_page_token': None,\n",
      " 'total_size': 1}\n"
     ]
    }
   ],
   "source": []
  },
  {
   "cell_type": "code",
   "execution_count": null,
   "id": "eight-employee",
   "metadata": {},
   "outputs": [],
   "source": []
  },
  {
   "cell_type": "code",
   "execution_count": null,
   "id": "consistent-karaoke",
   "metadata": {},
   "outputs": [],
   "source": []
  },
  {
   "cell_type": "code",
   "execution_count": null,
   "id": "horizontal-august",
   "metadata": {},
   "outputs": [],
   "source": []
  },
  {
   "cell_type": "code",
   "execution_count": null,
   "id": "senior-novelty",
   "metadata": {},
   "outputs": [],
   "source": []
  },
  {
   "cell_type": "code",
   "execution_count": null,
   "id": "successful-union",
   "metadata": {},
   "outputs": [],
   "source": []
  },
  {
   "cell_type": "code",
   "execution_count": null,
   "id": "quiet-bobby",
   "metadata": {},
   "outputs": [],
   "source": []
  },
  {
   "cell_type": "code",
   "execution_count": null,
   "id": "exotic-harrison",
   "metadata": {},
   "outputs": [],
   "source": []
  },
  {
   "cell_type": "code",
   "execution_count": null,
   "id": "abstract-integral",
   "metadata": {},
   "outputs": [],
   "source": []
  },
  {
   "cell_type": "code",
   "execution_count": null,
   "id": "directed-location",
   "metadata": {},
   "outputs": [],
   "source": []
  },
  {
   "cell_type": "code",
   "execution_count": null,
   "id": "controlled-style",
   "metadata": {},
   "outputs": [],
   "source": []
  },
  {
   "cell_type": "code",
   "execution_count": null,
   "id": "useful-gauge",
   "metadata": {},
   "outputs": [],
   "source": []
  },
  {
   "cell_type": "code",
   "execution_count": null,
   "id": "meaning-sherman",
   "metadata": {},
   "outputs": [],
   "source": [
    "from kfp import compiler\n",
    "exp = client.create_experiment(name='mdupdate2')\n",
    "print(client.list_experiments())\n",
    "\n",
    "exp = client.get_experiment(experiment_name = \"mdupdate\")\n",
    "\n",
    "compiler.Compiler().compile(recommender_pipeline, \"pipeline.tar.gz\")\n",
    "\n",
    "run = client.run_pipeline(exp.id, \"pipeline1\", \"pipeline.tar.gz\")\n",
    "\n"
   ]
  },
  {
   "cell_type": "code",
   "execution_count": null,
   "id": "endangered-clinton",
   "metadata": {},
   "outputs": [],
   "source": []
  },
  {
   "cell_type": "code",
   "execution_count": null,
   "id": "great-powell",
   "metadata": {},
   "outputs": [],
   "source": [
    "\n",
    "client.create_run_from_pipeline_func(conditional_pipeline, arguments={})\n",
    "\n"
   ]
  },
  {
   "cell_type": "code",
   "execution_count": null,
   "id": "satisfied-ireland",
   "metadata": {},
   "outputs": [],
   "source": []
  },
  {
   "cell_type": "code",
   "execution_count": null,
   "id": "ambient-grill",
   "metadata": {},
   "outputs": [],
   "source": []
  },
  {
   "cell_type": "code",
   "execution_count": null,
   "id": "junior-selection",
   "metadata": {},
   "outputs": [],
   "source": []
  },
  {
   "cell_type": "code",
   "execution_count": null,
   "id": "senior-shopping",
   "metadata": {},
   "outputs": [],
   "source": []
  },
  {
   "cell_type": "code",
   "execution_count": null,
   "id": "mobile-nebraska",
   "metadata": {},
   "outputs": [],
   "source": []
  },
  {
   "cell_type": "code",
   "execution_count": null,
   "id": "designed-power",
   "metadata": {},
   "outputs": [],
   "source": []
  },
  {
   "cell_type": "code",
   "execution_count": null,
   "id": "premium-sapphire",
   "metadata": {},
   "outputs": [],
   "source": []
  },
  {
   "cell_type": "code",
   "execution_count": 1,
   "id": "unlikely-penetration",
   "metadata": {},
   "outputs": [],
   "source": [
    "import kfp\n",
    "import kfp.dsl as dsl"
   ]
  },
  {
   "cell_type": "code",
   "execution_count": 11,
   "id": "increasing-hindu",
   "metadata": {},
   "outputs": [],
   "source": [
    "#load job yaml to application_config variable\n",
    "import yaml\n",
    "with open(\"spark-job-python.yaml\", \"r\") as stream:\n",
    "    spark_job_manifest = yaml.safe_load(stream)\n",
    "\n",
    "@dsl.pipeline(name=\"local_pipeline\", description=\"no_need_to_ask_why\")\n",
    "def local_pipeline():\n",
    "    rop = dsl.ResourceOp(\n",
    "        name=\"foo\",\n",
    "        k8s_resource=spark_job_manifest,#resource,\n",
    "        #action=\"create\",\n",
    "        #success_confition=\"status.applicationState.state == COMPLETED\"\n",
    "    )"
   ]
  },
  {
   "cell_type": "code",
   "execution_count": null,
   "id": "cloudy-forth",
   "metadata": {},
   "outputs": [],
   "source": []
  },
  {
   "cell_type": "code",
   "execution_count": 12,
   "id": "electric-amendment",
   "metadata": {},
   "outputs": [],
   "source": [
    "from istio_auth_with_client import kfp_client"
   ]
  },
  {
   "cell_type": "code",
   "execution_count": 13,
   "id": "agricultural-security",
   "metadata": {},
   "outputs": [
    {
     "data": {
      "text/html": [
       "<a href=\"http://54.172.226.97:8080/pipeline/#/experiments/details/17a593fd-012e-45aa-ad02-7ac37056f4e0\" target=\"_blank\" >Experiment details</a>."
      ],
      "text/plain": [
       "<IPython.core.display.HTML object>"
      ]
     },
     "metadata": {},
     "output_type": "display_data"
    },
    {
     "name": "stdout",
     "output_type": "stream",
     "text": [
      "{'experiments': [{'created_at': datetime.datetime(2023, 7, 22, 15, 16, 47, tzinfo=tzlocal()),\n",
      "                  'description': None,\n",
      "                  'id': '82029175-a46b-4452-a0be-dc5066258bfa',\n",
      "                  'name': 'test',\n",
      "                  'resource_references': [{'key': {'id': 'kubeflow-user-example-com',\n",
      "                                                   'type': 'NAMESPACE'},\n",
      "                                           'name': None,\n",
      "                                           'relationship': 'OWNER'}],\n",
      "                  'storage_state': 'STORAGESTATE_AVAILABLE'},\n",
      "                 {'created_at': datetime.datetime(2023, 7, 22, 19, 5, 53, tzinfo=tzlocal()),\n",
      "                  'description': None,\n",
      "                  'id': '17a593fd-012e-45aa-ad02-7ac37056f4e0',\n",
      "                  'name': 'please',\n",
      "                  'resource_references': [{'key': {'id': 'kubeflow-user-example-com',\n",
      "                                                   'type': 'NAMESPACE'},\n",
      "                                           'name': None,\n",
      "                                           'relationship': 'OWNER'}],\n",
      "                  'storage_state': 'STORAGESTATE_AVAILABLE'}],\n",
      " 'next_page_token': None,\n",
      " 'total_size': 2}\n"
     ]
    }
   ],
   "source": [
    "from kfp import compiler\n",
    "\n",
    "exp = kfp_client.create_experiment(name='please')\n",
    "print(kfp_client.list_experiments())\n",
    "\n",
    "exp = kfp_client.get_experiment(experiment_name=\"please\")\n",
    "\n",
    "compiler.Compiler().compile(local_pipeline, 'please.yaml')"
   ]
  },
  {
   "cell_type": "code",
   "execution_count": null,
   "id": "coordinate-basics",
   "metadata": {},
   "outputs": [],
   "source": []
  },
  {
   "cell_type": "code",
   "execution_count": 15,
   "id": "willing-butter",
   "metadata": {},
   "outputs": [
    {
     "data": {
      "text/html": [
       "<a href=\"http://54.172.226.97:8080/pipeline/#/runs/details/9d3fa836-7f04-4f56-9417-4a417bc47054\" target=\"_blank\" >Run details</a>."
      ],
      "text/plain": [
       "<IPython.core.display.HTML object>"
      ]
     },
     "metadata": {},
     "output_type": "display_data"
    }
   ],
   "source": [
    "run = kfp_client.run_pipeline(exp.id, \"Go-SPARK!\", \"please.yaml\")"
   ]
  },
  {
   "cell_type": "markdown",
   "id": "lyric-venture",
   "metadata": {},
   "source": [
    "This step is in Failed state with this message: Error (exit code 1): no more retries Error from server (Forbidden): error when creating \"/tmp/manifest.yaml\": sparkapplications.sparkoperator.k8s.io is forbidden: User \"system:serviceaccount:kubeflow-user-example-com:default-editor\" cannot create resource \"sparkapplications\" in API group \"sparkoperator.k8s.io\" in the namespace \"kubeflow-user-example-com\""
   ]
  },
  {
   "cell_type": "markdown",
   "id": "nominated-practitioner",
   "metadata": {},
   "source": [
    "이놈의 책은 도움이 되나 싶었더니 바로 통수를 치네?\n",
    "\n",
    "이새끼가 짠 코드는 제대로 돌아가는 꼴을 본적이 없음."
   ]
  },
  {
   "cell_type": "code",
   "execution_count": null,
   "id": "selective-dominican",
   "metadata": {},
   "outputs": [],
   "source": []
  },
  {
   "cell_type": "markdown",
   "id": "decimal-musical",
   "metadata": {},
   "source": [
    "spark operator image가 있네?\n",
    "\n",
    "https://stackoverflow.com/questions/33322103/multiple-froms-what-it-means\n",
    "    "
   ]
  },
  {
   "cell_type": "markdown",
   "id": "unlimited-exhaust",
   "metadata": {},
   "source": [
    "https://github.com/kubeflow/kubeflow/issues/5043\n",
    "    \n",
    "파이프라인 안쓰고 직접 쓸 수 있냐고 물어보네..."
   ]
  },
  {
   "cell_type": "code",
   "execution_count": null,
   "id": "average-concentrate",
   "metadata": {},
   "outputs": [],
   "source": []
  },
  {
   "cell_type": "code",
   "execution_count": null,
   "id": "minute-nicaragua",
   "metadata": {},
   "outputs": [],
   "source": []
  }
 ],
 "metadata": {
  "kernelspec": {
   "display_name": "Python 3 (ipykernel)",
   "language": "python",
   "name": "python3"
  },
  "language_info": {
   "codemirror_mode": {
    "name": "ipython",
    "version": 3
   },
   "file_extension": ".py",
   "mimetype": "text/x-python",
   "name": "python",
   "nbconvert_exporter": "python",
   "pygments_lexer": "ipython3",
   "version": "3.10.11"
  }
 },
 "nbformat": 4,
 "nbformat_minor": 5
}
